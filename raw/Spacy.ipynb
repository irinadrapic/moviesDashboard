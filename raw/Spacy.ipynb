{
 "cells": [
  {
   "cell_type": "code",
   "execution_count": null,
   "metadata": {},
   "outputs": [],
   "source": [
    "# pip install spacy\n",
    "# python -m spacy download en_core_web_sm\n",
    "# note: i had to restart my computer after downloading the language package for it to work"
   ]
  },
  {
   "cell_type": "code",
   "execution_count": 112,
   "metadata": {},
   "outputs": [],
   "source": [
    "import numpy as np\n",
    "import pandas as pd\n",
    "import spacy\n",
    "import pyspark\n",
    "from pyspark.ml.feature import HashingTF, IDF, StopWordsRemover\n",
    "from pyspark.sql import SparkSession"
   ]
  },
  {
   "cell_type": "code",
   "execution_count": 114,
   "metadata": {},
   "outputs": [
    {
     "name": "stdout",
     "output_type": "stream",
     "text": [
      "<class 'pyspark.ml.feature.StopWordsRemover'>\n"
     ]
    }
   ],
   "source": [
    "print(StopWordsRemover)"
   ]
  },
  {
   "cell_type": "code",
   "execution_count": 2,
   "metadata": {},
   "outputs": [],
   "source": [
    "spark = SparkSession.builder.appName('pandasToSparkDF').getOrCreate()"
   ]
  },
  {
   "cell_type": "code",
   "execution_count": 3,
   "metadata": {},
   "outputs": [],
   "source": [
    "file = pd.read_csv(\"joined_data_v1.csv\")"
   ]
  },
  {
   "cell_type": "code",
   "execution_count": 4,
   "metadata": {},
   "outputs": [
    {
     "data": {
      "text/html": [
       "<div>\n",
       "<style scoped>\n",
       "    .dataframe tbody tr th:only-of-type {\n",
       "        vertical-align: middle;\n",
       "    }\n",
       "\n",
       "    .dataframe tbody tr th {\n",
       "        vertical-align: top;\n",
       "    }\n",
       "\n",
       "    .dataframe thead th {\n",
       "        text-align: right;\n",
       "    }\n",
       "</style>\n",
       "<table border=\"1\" class=\"dataframe\">\n",
       "  <thead>\n",
       "    <tr style=\"text-align: right;\">\n",
       "      <th></th>\n",
       "      <th>id</th>\n",
       "      <th>imdb_id</th>\n",
       "      <th>title</th>\n",
       "      <th>release_date</th>\n",
       "      <th>spoken_languages</th>\n",
       "      <th>genres1</th>\n",
       "      <th>genres2</th>\n",
       "      <th>genres3</th>\n",
       "      <th>genres4</th>\n",
       "      <th>genres5</th>\n",
       "      <th>...</th>\n",
       "      <th>director</th>\n",
       "      <th>poster_link</th>\n",
       "      <th>production_company</th>\n",
       "      <th>vote_average</th>\n",
       "      <th>vote_average (%)</th>\n",
       "      <th>Internet_Movie_Database_rating</th>\n",
       "      <th>Rotten_Tomatoes_rating</th>\n",
       "      <th>Metacritic_rating</th>\n",
       "      <th>rating_average</th>\n",
       "      <th>writer</th>\n",
       "    </tr>\n",
       "  </thead>\n",
       "  <tbody>\n",
       "    <tr>\n",
       "      <th>0</th>\n",
       "      <td>339408</td>\n",
       "      <td>tt4196450</td>\n",
       "      <td>The Birth of a Nation</td>\n",
       "      <td>9/9/2016</td>\n",
       "      <td>[{'iso_639_1': 'en', 'name': 'English'}</td>\n",
       "      <td>Drama</td>\n",
       "      <td>NaN</td>\n",
       "      <td>NaN</td>\n",
       "      <td>NaN</td>\n",
       "      <td>NaN</td>\n",
       "      <td>...</td>\n",
       "      <td>Nate Parker</td>\n",
       "      <td>https://m.media-amazon.com/images/M/MV5BMTU5Mj...</td>\n",
       "      <td>Fox Searchlight Pictures</td>\n",
       "      <td>6.4</td>\n",
       "      <td>64%</td>\n",
       "      <td>64%</td>\n",
       "      <td>72%</td>\n",
       "      <td>69%</td>\n",
       "      <td>67%</td>\n",
       "      <td>Nate Parker (screenplay by), Nate Parker (stor...</td>\n",
       "    </tr>\n",
       "    <tr>\n",
       "      <th>1</th>\n",
       "      <td>339408</td>\n",
       "      <td>tt4196450</td>\n",
       "      <td>The Birth of a Nation</td>\n",
       "      <td>9/9/2016</td>\n",
       "      <td>[{'iso_639_1': 'en', 'name': 'English'}</td>\n",
       "      <td>Drama</td>\n",
       "      <td>NaN</td>\n",
       "      <td>NaN</td>\n",
       "      <td>NaN</td>\n",
       "      <td>NaN</td>\n",
       "      <td>...</td>\n",
       "      <td>Nate Parker</td>\n",
       "      <td>https://m.media-amazon.com/images/M/MV5BMTU5Mj...</td>\n",
       "      <td>Fox Searchlight Pictures</td>\n",
       "      <td>6.4</td>\n",
       "      <td>64%</td>\n",
       "      <td>64%</td>\n",
       "      <td>72%</td>\n",
       "      <td>69%</td>\n",
       "      <td>67%</td>\n",
       "      <td>Nate Parker (screenplay by), Nate Parker (stor...</td>\n",
       "    </tr>\n",
       "    <tr>\n",
       "      <th>2</th>\n",
       "      <td>363676</td>\n",
       "      <td>tt3263904</td>\n",
       "      <td>Sully</td>\n",
       "      <td>9/7/2016</td>\n",
       "      <td>[{'iso_639_1': 'en', 'name': 'English'}</td>\n",
       "      <td>Drama</td>\n",
       "      <td>History</td>\n",
       "      <td>NaN</td>\n",
       "      <td>NaN</td>\n",
       "      <td>NaN</td>\n",
       "      <td>...</td>\n",
       "      <td>Clint Eastwood</td>\n",
       "      <td>https://m.media-amazon.com/images/M/MV5BY2NmZD...</td>\n",
       "      <td>Warner Bros.</td>\n",
       "      <td>7.0</td>\n",
       "      <td>70%</td>\n",
       "      <td>75%</td>\n",
       "      <td>86%</td>\n",
       "      <td>74%</td>\n",
       "      <td>76%</td>\n",
       "      <td>Todd Komarnicki, Chesley Sullenberger (based o...</td>\n",
       "    </tr>\n",
       "    <tr>\n",
       "      <th>3</th>\n",
       "      <td>363676</td>\n",
       "      <td>tt3263904</td>\n",
       "      <td>Sully</td>\n",
       "      <td>9/7/2016</td>\n",
       "      <td>[{'iso_639_1': 'en', 'name': 'English'}</td>\n",
       "      <td>Drama</td>\n",
       "      <td>History</td>\n",
       "      <td>NaN</td>\n",
       "      <td>NaN</td>\n",
       "      <td>NaN</td>\n",
       "      <td>...</td>\n",
       "      <td>Clint Eastwood</td>\n",
       "      <td>https://m.media-amazon.com/images/M/MV5BY2NmZD...</td>\n",
       "      <td>Warner Bros.</td>\n",
       "      <td>7.0</td>\n",
       "      <td>70%</td>\n",
       "      <td>75%</td>\n",
       "      <td>86%</td>\n",
       "      <td>74%</td>\n",
       "      <td>76%</td>\n",
       "      <td>Todd Komarnicki, Chesley Sullenberger (based o...</td>\n",
       "    </tr>\n",
       "    <tr>\n",
       "      <th>4</th>\n",
       "      <td>296524</td>\n",
       "      <td>tt1860357</td>\n",
       "      <td>Deepwater Horizon</td>\n",
       "      <td>9/29/2016</td>\n",
       "      <td>[{'iso_639_1': 'en', 'name': 'English'}</td>\n",
       "      <td>Drama</td>\n",
       "      <td>Action</td>\n",
       "      <td>NaN</td>\n",
       "      <td>NaN</td>\n",
       "      <td>NaN</td>\n",
       "      <td>...</td>\n",
       "      <td>Peter Berg</td>\n",
       "      <td>https://m.media-amazon.com/images/M/MV5BOTEzND...</td>\n",
       "      <td>Lionsgate</td>\n",
       "      <td>6.5</td>\n",
       "      <td>65%</td>\n",
       "      <td>71%</td>\n",
       "      <td>83%</td>\n",
       "      <td>68%</td>\n",
       "      <td>72%</td>\n",
       "      <td>Matthew Michael Carnahan (screenplay by), Matt...</td>\n",
       "    </tr>\n",
       "  </tbody>\n",
       "</table>\n",
       "<p>5 rows × 33 columns</p>\n",
       "</div>"
      ],
      "text/plain": [
       "       id    imdb_id                  title release_date  \\\n",
       "0  339408  tt4196450  The Birth of a Nation     9/9/2016   \n",
       "1  339408  tt4196450  The Birth of a Nation     9/9/2016   \n",
       "2  363676  tt3263904                  Sully     9/7/2016   \n",
       "3  363676  tt3263904                  Sully     9/7/2016   \n",
       "4  296524  tt1860357      Deepwater Horizon    9/29/2016   \n",
       "\n",
       "                          spoken_languages genres1   genres2 genres3 genres4  \\\n",
       "0  [{'iso_639_1': 'en', 'name': 'English'}   Drama       NaN     NaN     NaN   \n",
       "1  [{'iso_639_1': 'en', 'name': 'English'}   Drama       NaN     NaN     NaN   \n",
       "2  [{'iso_639_1': 'en', 'name': 'English'}   Drama   History     NaN     NaN   \n",
       "3  [{'iso_639_1': 'en', 'name': 'English'}   Drama   History     NaN     NaN   \n",
       "4  [{'iso_639_1': 'en', 'name': 'English'}   Drama    Action     NaN     NaN   \n",
       "\n",
       "  genres5                        ...                                director  \\\n",
       "0     NaN                        ...                             Nate Parker   \n",
       "1     NaN                        ...                             Nate Parker   \n",
       "2     NaN                        ...                          Clint Eastwood   \n",
       "3     NaN                        ...                          Clint Eastwood   \n",
       "4     NaN                        ...                              Peter Berg   \n",
       "\n",
       "                                         poster_link  \\\n",
       "0  https://m.media-amazon.com/images/M/MV5BMTU5Mj...   \n",
       "1  https://m.media-amazon.com/images/M/MV5BMTU5Mj...   \n",
       "2  https://m.media-amazon.com/images/M/MV5BY2NmZD...   \n",
       "3  https://m.media-amazon.com/images/M/MV5BY2NmZD...   \n",
       "4  https://m.media-amazon.com/images/M/MV5BOTEzND...   \n",
       "\n",
       "         production_company  vote_average  vote_average (%)  \\\n",
       "0  Fox Searchlight Pictures           6.4               64%   \n",
       "1  Fox Searchlight Pictures           6.4               64%   \n",
       "2              Warner Bros.           7.0               70%   \n",
       "3              Warner Bros.           7.0               70%   \n",
       "4                 Lionsgate           6.5               65%   \n",
       "\n",
       "  Internet_Movie_Database_rating Rotten_Tomatoes_rating  Metacritic_rating  \\\n",
       "0                            64%                    72%                69%   \n",
       "1                            64%                    72%                69%   \n",
       "2                            75%                    86%                74%   \n",
       "3                            75%                    86%                74%   \n",
       "4                            71%                    83%                68%   \n",
       "\n",
       "  rating_average                                             writer  \n",
       "0            67%  Nate Parker (screenplay by), Nate Parker (stor...  \n",
       "1            67%  Nate Parker (screenplay by), Nate Parker (stor...  \n",
       "2            76%  Todd Komarnicki, Chesley Sullenberger (based o...  \n",
       "3            76%  Todd Komarnicki, Chesley Sullenberger (based o...  \n",
       "4            72%  Matthew Michael Carnahan (screenplay by), Matt...  \n",
       "\n",
       "[5 rows x 33 columns]"
      ]
     },
     "execution_count": 4,
     "metadata": {},
     "output_type": "execute_result"
    }
   ],
   "source": [
    "file = pd.DataFrame(file)\n",
    "file.head()"
   ]
  },
  {
   "cell_type": "code",
   "execution_count": 5,
   "metadata": {},
   "outputs": [],
   "source": [
    "file.drop_duplicates(keep='first', inplace=True)"
   ]
  },
  {
   "cell_type": "code",
   "execution_count": 6,
   "metadata": {},
   "outputs": [
    {
     "data": {
      "text/html": [
       "<div>\n",
       "<style scoped>\n",
       "    .dataframe tbody tr th:only-of-type {\n",
       "        vertical-align: middle;\n",
       "    }\n",
       "\n",
       "    .dataframe tbody tr th {\n",
       "        vertical-align: top;\n",
       "    }\n",
       "\n",
       "    .dataframe thead th {\n",
       "        text-align: right;\n",
       "    }\n",
       "</style>\n",
       "<table border=\"1\" class=\"dataframe\">\n",
       "  <thead>\n",
       "    <tr style=\"text-align: right;\">\n",
       "      <th></th>\n",
       "      <th>id</th>\n",
       "      <th>imdb_id</th>\n",
       "      <th>title</th>\n",
       "      <th>release_date</th>\n",
       "      <th>spoken_languages</th>\n",
       "      <th>genres1</th>\n",
       "      <th>genres2</th>\n",
       "      <th>genres3</th>\n",
       "      <th>genres4</th>\n",
       "      <th>genres5</th>\n",
       "      <th>...</th>\n",
       "      <th>director</th>\n",
       "      <th>poster_link</th>\n",
       "      <th>production_company</th>\n",
       "      <th>vote_average</th>\n",
       "      <th>vote_average (%)</th>\n",
       "      <th>Internet_Movie_Database_rating</th>\n",
       "      <th>Rotten_Tomatoes_rating</th>\n",
       "      <th>Metacritic_rating</th>\n",
       "      <th>rating_average</th>\n",
       "      <th>writer</th>\n",
       "    </tr>\n",
       "  </thead>\n",
       "  <tbody>\n",
       "    <tr>\n",
       "      <th>0</th>\n",
       "      <td>339408</td>\n",
       "      <td>tt4196450</td>\n",
       "      <td>The Birth of a Nation</td>\n",
       "      <td>9/9/2016</td>\n",
       "      <td>[{'iso_639_1': 'en', 'name': 'English'}</td>\n",
       "      <td>Drama</td>\n",
       "      <td>NaN</td>\n",
       "      <td>NaN</td>\n",
       "      <td>NaN</td>\n",
       "      <td>NaN</td>\n",
       "      <td>...</td>\n",
       "      <td>Nate Parker</td>\n",
       "      <td>https://m.media-amazon.com/images/M/MV5BMTU5Mj...</td>\n",
       "      <td>Fox Searchlight Pictures</td>\n",
       "      <td>6.4</td>\n",
       "      <td>64%</td>\n",
       "      <td>64%</td>\n",
       "      <td>72%</td>\n",
       "      <td>69%</td>\n",
       "      <td>67%</td>\n",
       "      <td>Nate Parker (screenplay by), Nate Parker (stor...</td>\n",
       "    </tr>\n",
       "    <tr>\n",
       "      <th>2</th>\n",
       "      <td>363676</td>\n",
       "      <td>tt3263904</td>\n",
       "      <td>Sully</td>\n",
       "      <td>9/7/2016</td>\n",
       "      <td>[{'iso_639_1': 'en', 'name': 'English'}</td>\n",
       "      <td>Drama</td>\n",
       "      <td>History</td>\n",
       "      <td>NaN</td>\n",
       "      <td>NaN</td>\n",
       "      <td>NaN</td>\n",
       "      <td>...</td>\n",
       "      <td>Clint Eastwood</td>\n",
       "      <td>https://m.media-amazon.com/images/M/MV5BY2NmZD...</td>\n",
       "      <td>Warner Bros.</td>\n",
       "      <td>7.0</td>\n",
       "      <td>70%</td>\n",
       "      <td>75%</td>\n",
       "      <td>86%</td>\n",
       "      <td>74%</td>\n",
       "      <td>76%</td>\n",
       "      <td>Todd Komarnicki, Chesley Sullenberger (based o...</td>\n",
       "    </tr>\n",
       "    <tr>\n",
       "      <th>4</th>\n",
       "      <td>296524</td>\n",
       "      <td>tt1860357</td>\n",
       "      <td>Deepwater Horizon</td>\n",
       "      <td>9/29/2016</td>\n",
       "      <td>[{'iso_639_1': 'en', 'name': 'English'}</td>\n",
       "      <td>Drama</td>\n",
       "      <td>Action</td>\n",
       "      <td>NaN</td>\n",
       "      <td>NaN</td>\n",
       "      <td>NaN</td>\n",
       "      <td>...</td>\n",
       "      <td>Peter Berg</td>\n",
       "      <td>https://m.media-amazon.com/images/M/MV5BOTEzND...</td>\n",
       "      <td>Lionsgate</td>\n",
       "      <td>6.5</td>\n",
       "      <td>65%</td>\n",
       "      <td>71%</td>\n",
       "      <td>83%</td>\n",
       "      <td>68%</td>\n",
       "      <td>72%</td>\n",
       "      <td>Matthew Michael Carnahan (screenplay by), Matt...</td>\n",
       "    </tr>\n",
       "    <tr>\n",
       "      <th>6</th>\n",
       "      <td>283366</td>\n",
       "      <td>tt1935859</td>\n",
       "      <td>Miss Peregrine's Home for Peculiar Children</td>\n",
       "      <td>9/28/2016</td>\n",
       "      <td>[{'iso_639_1': 'en', 'name': 'English'}</td>\n",
       "      <td>Drama</td>\n",
       "      <td>Fantasy</td>\n",
       "      <td>Adventure</td>\n",
       "      <td>NaN</td>\n",
       "      <td>NaN</td>\n",
       "      <td>...</td>\n",
       "      <td>Tim Burton</td>\n",
       "      <td>https://m.media-amazon.com/images/M/MV5BMTU0Nz...</td>\n",
       "      <td>20th Century Fox</td>\n",
       "      <td>6.5</td>\n",
       "      <td>65%</td>\n",
       "      <td>67%</td>\n",
       "      <td>65%</td>\n",
       "      <td>57%</td>\n",
       "      <td>64%</td>\n",
       "      <td>Ransom Riggs (based upon the novel written by)...</td>\n",
       "    </tr>\n",
       "    <tr>\n",
       "      <th>8</th>\n",
       "      <td>284564</td>\n",
       "      <td>tt3835080</td>\n",
       "      <td>31</td>\n",
       "      <td>9/15/2016</td>\n",
       "      <td>[{'iso_639_1': 'de', 'name': 'Deutsch'}, {'iso...</td>\n",
       "      <td>Horror</td>\n",
       "      <td>Thriller</td>\n",
       "      <td>NaN</td>\n",
       "      <td>NaN</td>\n",
       "      <td>NaN</td>\n",
       "      <td>...</td>\n",
       "      <td>Rob Zombie</td>\n",
       "      <td>https://m.media-amazon.com/images/M/MV5BNTE0NT...</td>\n",
       "      <td>Bow and Arrow Entertainment</td>\n",
       "      <td>4.9</td>\n",
       "      <td>49%</td>\n",
       "      <td>51%</td>\n",
       "      <td>49%</td>\n",
       "      <td>35%</td>\n",
       "      <td>46%</td>\n",
       "      <td>Rob Zombie</td>\n",
       "    </tr>\n",
       "  </tbody>\n",
       "</table>\n",
       "<p>5 rows × 33 columns</p>\n",
       "</div>"
      ],
      "text/plain": [
       "       id    imdb_id                                        title  \\\n",
       "0  339408  tt4196450                        The Birth of a Nation   \n",
       "2  363676  tt3263904                                        Sully   \n",
       "4  296524  tt1860357                            Deepwater Horizon   \n",
       "6  283366  tt1935859  Miss Peregrine's Home for Peculiar Children   \n",
       "8  284564  tt3835080                                           31   \n",
       "\n",
       "  release_date                                   spoken_languages  genres1  \\\n",
       "0     9/9/2016            [{'iso_639_1': 'en', 'name': 'English'}    Drama   \n",
       "2     9/7/2016            [{'iso_639_1': 'en', 'name': 'English'}    Drama   \n",
       "4    9/29/2016            [{'iso_639_1': 'en', 'name': 'English'}    Drama   \n",
       "6    9/28/2016            [{'iso_639_1': 'en', 'name': 'English'}    Drama   \n",
       "8    9/15/2016  [{'iso_639_1': 'de', 'name': 'Deutsch'}, {'iso...   Horror   \n",
       "\n",
       "     genres2    genres3 genres4 genres5  \\\n",
       "0        NaN        NaN     NaN     NaN   \n",
       "2    History        NaN     NaN     NaN   \n",
       "4     Action        NaN     NaN     NaN   \n",
       "6    Fantasy  Adventure     NaN     NaN   \n",
       "8   Thriller        NaN     NaN     NaN   \n",
       "\n",
       "                         ...                                director  \\\n",
       "0                        ...                             Nate Parker   \n",
       "2                        ...                          Clint Eastwood   \n",
       "4                        ...                              Peter Berg   \n",
       "6                        ...                              Tim Burton   \n",
       "8                        ...                              Rob Zombie   \n",
       "\n",
       "                                         poster_link  \\\n",
       "0  https://m.media-amazon.com/images/M/MV5BMTU5Mj...   \n",
       "2  https://m.media-amazon.com/images/M/MV5BY2NmZD...   \n",
       "4  https://m.media-amazon.com/images/M/MV5BOTEzND...   \n",
       "6  https://m.media-amazon.com/images/M/MV5BMTU0Nz...   \n",
       "8  https://m.media-amazon.com/images/M/MV5BNTE0NT...   \n",
       "\n",
       "            production_company  vote_average  vote_average (%)  \\\n",
       "0     Fox Searchlight Pictures           6.4               64%   \n",
       "2                 Warner Bros.           7.0               70%   \n",
       "4                    Lionsgate           6.5               65%   \n",
       "6             20th Century Fox           6.5               65%   \n",
       "8  Bow and Arrow Entertainment           4.9               49%   \n",
       "\n",
       "  Internet_Movie_Database_rating Rotten_Tomatoes_rating  Metacritic_rating  \\\n",
       "0                            64%                    72%                69%   \n",
       "2                            75%                    86%                74%   \n",
       "4                            71%                    83%                68%   \n",
       "6                            67%                    65%                57%   \n",
       "8                            51%                    49%                35%   \n",
       "\n",
       "  rating_average                                             writer  \n",
       "0            67%  Nate Parker (screenplay by), Nate Parker (stor...  \n",
       "2            76%  Todd Komarnicki, Chesley Sullenberger (based o...  \n",
       "4            72%  Matthew Michael Carnahan (screenplay by), Matt...  \n",
       "6            64%  Ransom Riggs (based upon the novel written by)...  \n",
       "8            46%                                         Rob Zombie  \n",
       "\n",
       "[5 rows x 33 columns]"
      ]
     },
     "execution_count": 6,
     "metadata": {},
     "output_type": "execute_result"
    }
   ],
   "source": [
    "file.head()"
   ]
  },
  {
   "cell_type": "code",
   "execution_count": 7,
   "metadata": {},
   "outputs": [],
   "source": [
    "# IGNORE THIS\n",
    "#creating a list of the overview descriptions we want to run through spacy\n",
    "\n",
    "# overview_list = file[\"overview\"].tolist()\n",
    "# overview_list"
   ]
  },
  {
   "cell_type": "code",
   "execution_count": 8,
   "metadata": {},
   "outputs": [],
   "source": [
    "# IGNORE THIS\n",
    "# overview1 = overview_list[0]\n",
    "# overview1"
   ]
  },
  {
   "cell_type": "code",
   "execution_count": 9,
   "metadata": {
    "scrolled": true
   },
   "outputs": [],
   "source": [
    "# IGNORE THIS\n",
    "# overview_df = file[[\"overview\"]]\n",
    "# overview_df"
   ]
  },
  {
   "cell_type": "code",
   "execution_count": 10,
   "metadata": {},
   "outputs": [
    {
     "data": {
      "text/html": [
       "<div>\n",
       "<style scoped>\n",
       "    .dataframe tbody tr th:only-of-type {\n",
       "        vertical-align: middle;\n",
       "    }\n",
       "\n",
       "    .dataframe tbody tr th {\n",
       "        vertical-align: top;\n",
       "    }\n",
       "\n",
       "    .dataframe thead th {\n",
       "        text-align: right;\n",
       "    }\n",
       "</style>\n",
       "<table border=\"1\" class=\"dataframe\">\n",
       "  <thead>\n",
       "    <tr style=\"text-align: right;\">\n",
       "      <th></th>\n",
       "      <th>title</th>\n",
       "      <th>overview</th>\n",
       "    </tr>\n",
       "  </thead>\n",
       "  <tbody>\n",
       "    <tr>\n",
       "      <th>0</th>\n",
       "      <td>The Birth of a Nation</td>\n",
       "      <td>Nat Turner, a former slave in America, leads a...</td>\n",
       "    </tr>\n",
       "    <tr>\n",
       "      <th>2</th>\n",
       "      <td>Sully</td>\n",
       "      <td>On 15 January 2009, the world witnessed the 'M...</td>\n",
       "    </tr>\n",
       "    <tr>\n",
       "      <th>4</th>\n",
       "      <td>Deepwater Horizon</td>\n",
       "      <td>A story set on the offshore drilling rig Deepw...</td>\n",
       "    </tr>\n",
       "    <tr>\n",
       "      <th>6</th>\n",
       "      <td>Miss Peregrine's Home for Peculiar Children</td>\n",
       "      <td>A teenager finds himself transported to an isl...</td>\n",
       "    </tr>\n",
       "    <tr>\n",
       "      <th>8</th>\n",
       "      <td>31</td>\n",
       "      <td>ROB ZOMBIE'S  S P O O K  H A U S 31</td>\n",
       "    </tr>\n",
       "  </tbody>\n",
       "</table>\n",
       "</div>"
      ],
      "text/plain": [
       "                                         title  \\\n",
       "0                        The Birth of a Nation   \n",
       "2                                        Sully   \n",
       "4                            Deepwater Horizon   \n",
       "6  Miss Peregrine's Home for Peculiar Children   \n",
       "8                                           31   \n",
       "\n",
       "                                            overview  \n",
       "0  Nat Turner, a former slave in America, leads a...  \n",
       "2  On 15 January 2009, the world witnessed the 'M...  \n",
       "4  A story set on the offshore drilling rig Deepw...  \n",
       "6  A teenager finds himself transported to an isl...  \n",
       "8                ROB ZOMBIE'S  S P O O K  H A U S 31  "
      ]
     },
     "execution_count": 10,
     "metadata": {},
     "output_type": "execute_result"
    }
   ],
   "source": [
    "overview_df2 = file[[\"title\", \"overview\"]].copy()\n",
    "overview_df2.head()"
   ]
  },
  {
   "cell_type": "code",
   "execution_count": 11,
   "metadata": {},
   "outputs": [],
   "source": [
    "from pyspark.ml.feature import Tokenizer\n",
    "from pyspark.sql.functions import col, udf\n",
    "from pyspark.sql.types import IntegerType"
   ]
  },
  {
   "cell_type": "code",
   "execution_count": 13,
   "metadata": {},
   "outputs": [],
   "source": [
    "# IGNORE THIS\n",
    "# from pyspark.sql.types import *\n",
    "# mySchema = StructType([StructField(\"overview\", StringType(), True)])"
   ]
  },
  {
   "cell_type": "code",
   "execution_count": 14,
   "metadata": {
    "scrolled": true
   },
   "outputs": [],
   "source": [
    "# IGNORE THIS\n",
    "# df = spark.createDataFrame(overview_df,schema=mySchema)"
   ]
  },
  {
   "cell_type": "code",
   "execution_count": 15,
   "metadata": {},
   "outputs": [
    {
     "name": "stdout",
     "output_type": "stream",
     "text": [
      "+--------------------+--------------------+\n",
      "|               title|            overview|\n",
      "+--------------------+--------------------+\n",
      "|The Birth of a Na...|Nat Turner, a for...|\n",
      "|               Sully|On 15 January 200...|\n",
      "|   Deepwater Horizon|A story set on th...|\n",
      "|Miss Peregrine's ...|A teenager finds ...|\n",
      "|                  31|ROB ZOMBIE'S  S P...|\n",
      "|             Snowden|CIA employee Edwa...|\n",
      "|         Blair Witch|Students on a cam...|\n",
      "|The Magnificent S...|Seven gun men in ...|\n",
      "|              Morgan|A corporate risk-...|\n",
      "|      The Dark Tower|The last Gunsling...|\n",
      "|          Nine Lives|A stuffy business...|\n",
      "|       Don't Breathe|A group of teens ...|\n",
      "|       Suicide Squad|From DC Comics co...|\n",
      "|Kubo and the Two ...|Kubo mesmerizes t...|\n",
      "|             Ben-Hur|A falsely accused...|\n",
      "|            War Dogs|Based on the true...|\n",
      "|  Hell or High Water|A divorced dad an...|\n",
      "|          Anthropoid|In December 1941,...|\n",
      "|       Pete's Dragon|Pete is a mysteri...|\n",
      "|            Rock Dog|When a radio fall...|\n",
      "+--------------------+--------------------+\n",
      "only showing top 20 rows\n",
      "\n"
     ]
    }
   ],
   "source": [
    "sentenceData = spark.createDataFrame(overview_df2)\n",
    "sentenceData.show() "
   ]
  },
  {
   "cell_type": "code",
   "execution_count": 16,
   "metadata": {},
   "outputs": [
    {
     "data": {
      "text/plain": [
       "Tokenizer_a3fe50f9a80c"
      ]
     },
     "execution_count": 16,
     "metadata": {},
     "output_type": "execute_result"
    }
   ],
   "source": [
    "tokenizer = Tokenizer(inputCol=\"overview\", outputCol=\"words\")\n",
    "tokenizer"
   ]
  },
  {
   "cell_type": "code",
   "execution_count": 17,
   "metadata": {},
   "outputs": [
    {
     "name": "stdout",
     "output_type": "stream",
     "text": [
      "+-------------------------------------------+------------------------------------------------------------------------------------------------------------------------------------------------------------------------------------------------------------------------------------------------------------------------------------------------------------------------------------------------------------------------------------------------------------------------+--------------------------------------------------------------------------------------------------------------------------------------------------------------------------------------------------------------------------------------------------------------------------------------------------------------------------------------------------------------------------------------------------------------------------------------------------------------------------------------------+\n",
      "|title                                      |overview                                                                                                                                                                                                                                                                                                                                                                                                                |words                                                                                                                                                                                                                                                                                                                                                                                                                                                                                       |\n",
      "+-------------------------------------------+------------------------------------------------------------------------------------------------------------------------------------------------------------------------------------------------------------------------------------------------------------------------------------------------------------------------------------------------------------------------------------------------------------------------+--------------------------------------------------------------------------------------------------------------------------------------------------------------------------------------------------------------------------------------------------------------------------------------------------------------------------------------------------------------------------------------------------------------------------------------------------------------------------------------------+\n",
      "|The Birth of a Nation                      |Nat Turner, a former slave in America, leads a liberation movement in 1831 to free African-Americans in Virgina that results in a violent retaliation from whites.                                                                                                                                                                                                                                                      |[nat, turner,, a, former, slave, in, america,, leads, a, liberation, movement, in, 1831, to, free, african-americans, in, virgina, that, results, in, a, violent, retaliation, from, whites.]                                                                                                                                                                                                                                                                                               |\n",
      "|Sully                                      |On 15 January 2009, the world witnessed the 'Miracle on the Hudson' when Captain 'Sully' Sullenberger glided his disabled plane onto the frigid waters of the Hudson River, saving the lives of all 155 aboard. However, even as Sully was being heralded by the public and the media for his unprecedented feat of aviation skill, an investigation was unfolding that threatened to destroy his reputation and career.|[on, 15, january, 2009,, the, world, witnessed, the, 'miracle, on, the, hudson', when, captain, 'sully', sullenberger, glided, his, disabled, plane, onto, the, frigid, waters, of, the, hudson, river,, saving, the, lives, of, all, 155, aboard., however,, even, as, sully, was, being, heralded, by, the, public, and, the, media, for, his, unprecedented, feat, of, aviation, skill,, an, investigation, was, unfolding, that, threatened, to, destroy, his, reputation, and, career.]|\n",
      "|Deepwater Horizon                          |A story set on the offshore drilling rig Deepwater Horizon, which exploded during April 2010 and created the worst oil spill in U.S. history.                                                                                                                                                                                                                                                                           |[a, story, set, on, the, offshore, drilling, rig, deepwater, horizon,, which, exploded, during, april, 2010, and, created, the, worst, oil, spill, in, u.s., history.]                                                                                                                                                                                                                                                                                                                      |\n",
      "|Miss Peregrine's Home for Peculiar Children|A teenager finds himself transported to an island where he must help protect a group of orphans with special powers from creatures intent on destroying them.                                                                                                                                                                                                                                                           |[a, teenager, finds, himself, transported, to, an, island, where, he, must, help, protect, a, group, of, orphans, with, special, powers, from, creatures, intent, on, destroying, them.]                                                                                                                                                                                                                                                                                                    |\n",
      "|31                                         |ROB ZOMBIE'S  S P O O K  H A U S 31                                                                                                                                                                                                                                                                                                                                                                                     |[rob, zombie's, , s, p, o, o, k, , h, a, u, s, 31]                                                                                                                                                                                                                                                                                                                                                                                                                                          |\n",
      "|Snowden                                    |CIA employee Edward Snowden leaks thousands of classified documents to the press.                                                                                                                                                                                                                                                                                                                                       |[cia, employee, edward, snowden, leaks, thousands, of, classified, documents, to, the, press.]                                                                                                                                                                                                                                                                                                                                                                                              |\n",
      "|Blair Witch                                |Students on a camping trip discover something sinister is lurking beyond the trees.                                                                                                                                                                                                                                                                                                                                     |[students, on, a, camping, trip, discover, something, sinister, is, lurking, beyond, the, trees.]                                                                                                                                                                                                                                                                                                                                                                                           |\n",
      "|The Magnificent Seven                      |Seven gun men in the old west gradually come together to help a poor village against savage thieves.                                                                                                                                                                                                                                                                                                                    |[seven, gun, men, in, the, old, west, gradually, come, together, to, help, a, poor, village, against, savage, thieves.]                                                                                                                                                                                                                                                                                                                                                                     |\n",
      "|Morgan                                     |A corporate risk-management consultant must determine whether or not to terminate an artificial being's life that was made in a laboratory environment.                                                                                                                                                                                                                                                                 |[a, corporate, risk-management, consultant, must, determine, whether, or, not, to, terminate, an, artificial, being's, life, that, was, made, in, a, laboratory, environment.]                                                                                                                                                                                                                                                                                                              |\n",
      "|The Dark Tower                             |The last Gunslinger, Roland Deschain, has been locked in an eternal battle with Walter O’Dim, also known as the Man in Black, determined to prevent him from toppling the Dark Tower, which holds the universe together. With the fate of the worlds at stake, good and evil will collide in the ultimate battle as only Roland can defend the Tower from the Man in Black.                                             |[the, last, gunslinger,, roland, deschain,, has, been, locked, in, an, eternal, battle, with, walter, o’dim,, also, known, as, the, man, in, black,, determined, to, prevent, him, from, toppling, the, dark, tower,, which, holds, the, universe, together., with, the, fate, of, the, worlds, at, stake,, good, and, evil, will, collide, in, the, ultimate, battle, as, only, roland, can, defend, the, tower, from, the, man, in, black.]                                               |\n",
      "|Nine Lives                                 |A stuffy businessman finds himself trapped inside the body of his family's cat.                                                                                                                                                                                                                                                                                                                                         |[a, stuffy, businessman, finds, himself, trapped, inside, the, body, of, his, family's, cat.]                                                                                                                                                                                                                                                                                                                                                                                               |\n",
      "|Don't Breathe                              |A group of teens break into a blind man's home thinking they'll get away with the perfect crime. They're wrong.                                                                                                                                                                                                                                                                                                         |[a, group, of, teens, break, into, a, blind, man's, home, thinking, they'll, get, away, with, the, perfect, crime., they're, wrong.]                                                                                                                                                                                                                                                                                                                                                        |\n",
      "|Suicide Squad                              |From DC Comics comes the Suicide Squad, an antihero team of incarcerated supervillains who act as deniable assets for the United States government, undertaking high-risk black ops missions in exchange for commuted prison sentences.                                                                                                                                                                                 |[from, dc, comics, comes, the, suicide, squad,, an, antihero, team, of, incarcerated, supervillains, who, act, as, deniable, assets, for, the, united, states, government,, undertaking, high-risk, black, ops, missions, in, exchange, for, commuted, prison, sentences.]                                                                                                                                                                                                                  |\n",
      "|Kubo and the Two Strings                   |Kubo mesmerizes the people in his village with his magical gift for spinning wild tales with origami. When he accidentally summons an evil spirit seeking vengeance, Kubo is forced to go on a quest to solve the mystery of his fallen samurai father and his mystical weaponry, as well as discover his own magical powers.                                                                                           |[kubo, mesmerizes, the, people, in, his, village, with, his, magical, gift, for, spinning, wild, tales, with, origami., when, he, accidentally, summons, an, evil, spirit, seeking, vengeance,, kubo, is, forced, to, go, on, a, quest, to, solve, the, mystery, of, his, fallen, samurai, father, and, his, mystical, weaponry,, as, well, as, discover, his, own, magical, powers.]                                                                                                       |\n",
      "|Ben-Hur                                    |A falsely accused nobleman survives years of slavery to take vengeance on his best friend who betrayed him.                                                                                                                                                                                                                                                                                                             |[a, falsely, accused, nobleman, survives, years, of, slavery, to, take, vengeance, on, his, best, friend, who, betrayed, him.]                                                                                                                                                                                                                                                                                                                                                              |\n",
      "|War Dogs                                   |Based on the true story of two young men, David Packouz and Efraim Diveroli, who won a $300 million contract from the Pentagon to arm America's allies in Afghanistan.                                                                                                                                                                                                                                                  |[based, on, the, true, story, of, two, young, men,, david, packouz, and, efraim, diveroli,, who, won, a, $300, million, contract, from, the, pentagon, to, arm, america's, allies, in, afghanistan.]                                                                                                                                                                                                                                                                                        |\n",
      "|Hell or High Water                         |A divorced dad and his ex-con brother resort to a desperate scheme in order to save their family's farm in West Texas.                                                                                                                                                                                                                                                                                                  |[a, divorced, dad, and, his, ex-con, brother, resort, to, a, desperate, scheme, in, order, to, save, their, family's, farm, in, west, texas.]                                                                                                                                                                                                                                                                                                                                               |\n",
      "|Anthropoid                                 |In December 1941, Czech soldiers Jozef Gabčík and Jan Kubiš parachute into their occupied homeland to assassinate Nazi officer Reinhard Heydrich.                                                                                                                                                                                                                                                                       |[in, december, 1941,, czech, soldiers, jozef, gabčík, and, jan, kubiš, parachute, into, their, occupied, homeland, to, assassinate, nazi, officer, reinhard, heydrich.]                                                                                                                                                                                                                                                                                                                     |\n",
      "|Pete's Dragon                              |Pete is a mysterious 10-year-old with no family and no home who claims to live in the woods with a giant, green dragon named Elliott. With the help of Natalie, an 11-year-old girl whose father Jack owns the local lumber mill, forest ranger Grace sets out to determine where Pete came from, where he belongs, and the truth about this dragon.                                                                    |[pete, is, a, mysterious, 10-year-old, with, no, family, and, no, home, who, claims, to, live, in, the, woods, with, a, giant,, green, dragon, named, elliott., with, the, help, of, natalie,, an, 11-year-old, girl, whose, father, jack, owns, the, local, lumber, mill,, forest, ranger, grace, sets, out, to, determine, where, pete, came, from,, where, he, belongs,, and, the, truth, about, this, dragon.]                                                                          |\n",
      "|Rock Dog                                   |When a radio falls from the sky into the hands of a wide-eyed Tibetan Mastiff, he leaves home to fulfill his dream of becoming a musician, setting into motion a series of completely unexpected events.                                                                                                                                                                                                                |[when, a, radio, falls, from, the, sky, into, the, hands, of, a, wide-eyed, tibetan, mastiff,, he, leaves, home, to, fulfill, his, dream, of, becoming, a, musician,, setting, into, motion, a, series, of, completely, unexpected, events.]                                                                                                                                                                                                                                                |\n",
      "+-------------------------------------------+------------------------------------------------------------------------------------------------------------------------------------------------------------------------------------------------------------------------------------------------------------------------------------------------------------------------------------------------------------------------------------------------------------------------+--------------------------------------------------------------------------------------------------------------------------------------------------------------------------------------------------------------------------------------------------------------------------------------------------------------------------------------------------------------------------------------------------------------------------------------------------------------------------------------------+\n",
      "only showing top 20 rows\n",
      "\n"
     ]
    }
   ],
   "source": [
    "# Transform and show DataFrame\n",
    "tokenized = tokenizer.transform(sentenceData)\n",
    "tokenized.show(truncate=False)"
   ]
  },
  {
   "cell_type": "code",
   "execution_count": 18,
   "metadata": {
    "scrolled": true
   },
   "outputs": [],
   "source": [
    "# Instantiate Remover\n",
    "remover = StopWordsRemover(inputCol=\"words\", outputCol=\"stopwords\")"
   ]
  },
  {
   "cell_type": "code",
   "execution_count": 19,
   "metadata": {},
   "outputs": [
    {
     "name": "stdout",
     "output_type": "stream",
     "text": [
      "+-------------------------------------------+------------------------------------------------------------------------------------------------------------------------------------------------------------------------------------------------------------------------------------------------------------------------------------------------------------------------------------------------------------------------------------------------------------------------+--------------------------------------------------------------------------------------------------------------------------------------------------------------------------------------------------------------------------------------------------------------------------------------------------------------------------------------------------------------------------------------------------------------------------------------------------------------------------------------------+------------------------------------------------------------------------------------------------------------------------------------------------------------------------------------------------------------------------------------------------------------------------------------------------------------------------------------------------+\n",
      "|title                                      |overview                                                                                                                                                                                                                                                                                                                                                                                                                |words                                                                                                                                                                                                                                                                                                                                                                                                                                                                                       |stopwords                                                                                                                                                                                                                                                                                                                                       |\n",
      "+-------------------------------------------+------------------------------------------------------------------------------------------------------------------------------------------------------------------------------------------------------------------------------------------------------------------------------------------------------------------------------------------------------------------------------------------------------------------------+--------------------------------------------------------------------------------------------------------------------------------------------------------------------------------------------------------------------------------------------------------------------------------------------------------------------------------------------------------------------------------------------------------------------------------------------------------------------------------------------+------------------------------------------------------------------------------------------------------------------------------------------------------------------------------------------------------------------------------------------------------------------------------------------------------------------------------------------------+\n",
      "|The Birth of a Nation                      |Nat Turner, a former slave in America, leads a liberation movement in 1831 to free African-Americans in Virgina that results in a violent retaliation from whites.                                                                                                                                                                                                                                                      |[nat, turner,, a, former, slave, in, america,, leads, a, liberation, movement, in, 1831, to, free, african-americans, in, virgina, that, results, in, a, violent, retaliation, from, whites.]                                                                                                                                                                                                                                                                                               |[nat, turner,, former, slave, america,, leads, liberation, movement, 1831, free, african-americans, virgina, results, violent, retaliation, whites.]                                                                                                                                                                                            |\n",
      "|Sully                                      |On 15 January 2009, the world witnessed the 'Miracle on the Hudson' when Captain 'Sully' Sullenberger glided his disabled plane onto the frigid waters of the Hudson River, saving the lives of all 155 aboard. However, even as Sully was being heralded by the public and the media for his unprecedented feat of aviation skill, an investigation was unfolding that threatened to destroy his reputation and career.|[on, 15, january, 2009,, the, world, witnessed, the, 'miracle, on, the, hudson', when, captain, 'sully', sullenberger, glided, his, disabled, plane, onto, the, frigid, waters, of, the, hudson, river,, saving, the, lives, of, all, 155, aboard., however,, even, as, sully, was, being, heralded, by, the, public, and, the, media, for, his, unprecedented, feat, of, aviation, skill,, an, investigation, was, unfolding, that, threatened, to, destroy, his, reputation, and, career.]|[15, january, 2009,, world, witnessed, 'miracle, hudson', captain, 'sully', sullenberger, glided, disabled, plane, onto, frigid, waters, hudson, river,, saving, lives, 155, aboard., however,, even, sully, heralded, public, media, unprecedented, feat, aviation, skill,, investigation, unfolding, threatened, destroy, reputation, career.]|\n",
      "|Deepwater Horizon                          |A story set on the offshore drilling rig Deepwater Horizon, which exploded during April 2010 and created the worst oil spill in U.S. history.                                                                                                                                                                                                                                                                           |[a, story, set, on, the, offshore, drilling, rig, deepwater, horizon,, which, exploded, during, april, 2010, and, created, the, worst, oil, spill, in, u.s., history.]                                                                                                                                                                                                                                                                                                                      |[story, set, offshore, drilling, rig, deepwater, horizon,, exploded, april, 2010, created, worst, oil, spill, u.s., history.]                                                                                                                                                                                                                   |\n",
      "|Miss Peregrine's Home for Peculiar Children|A teenager finds himself transported to an island where he must help protect a group of orphans with special powers from creatures intent on destroying them.                                                                                                                                                                                                                                                           |[a, teenager, finds, himself, transported, to, an, island, where, he, must, help, protect, a, group, of, orphans, with, special, powers, from, creatures, intent, on, destroying, them.]                                                                                                                                                                                                                                                                                                    |[teenager, finds, transported, island, must, help, protect, group, orphans, special, powers, creatures, intent, destroying, them.]                                                                                                                                                                                                              |\n",
      "|31                                         |ROB ZOMBIE'S  S P O O K  H A U S 31                                                                                                                                                                                                                                                                                                                                                                                     |[rob, zombie's, , s, p, o, o, k, , h, a, u, s, 31]                                                                                                                                                                                                                                                                                                                                                                                                                                          |[rob, zombie's, , p, o, o, k, , h, u, 31]                                                                                                                                                                                                                                                                                                       |\n",
      "|Snowden                                    |CIA employee Edward Snowden leaks thousands of classified documents to the press.                                                                                                                                                                                                                                                                                                                                       |[cia, employee, edward, snowden, leaks, thousands, of, classified, documents, to, the, press.]                                                                                                                                                                                                                                                                                                                                                                                              |[cia, employee, edward, snowden, leaks, thousands, classified, documents, press.]                                                                                                                                                                                                                                                               |\n",
      "|Blair Witch                                |Students on a camping trip discover something sinister is lurking beyond the trees.                                                                                                                                                                                                                                                                                                                                     |[students, on, a, camping, trip, discover, something, sinister, is, lurking, beyond, the, trees.]                                                                                                                                                                                                                                                                                                                                                                                           |[students, camping, trip, discover, something, sinister, lurking, beyond, trees.]                                                                                                                                                                                                                                                               |\n",
      "|The Magnificent Seven                      |Seven gun men in the old west gradually come together to help a poor village against savage thieves.                                                                                                                                                                                                                                                                                                                    |[seven, gun, men, in, the, old, west, gradually, come, together, to, help, a, poor, village, against, savage, thieves.]                                                                                                                                                                                                                                                                                                                                                                     |[seven, gun, men, old, west, gradually, come, together, help, poor, village, savage, thieves.]                                                                                                                                                                                                                                                  |\n",
      "|Morgan                                     |A corporate risk-management consultant must determine whether or not to terminate an artificial being's life that was made in a laboratory environment.                                                                                                                                                                                                                                                                 |[a, corporate, risk-management, consultant, must, determine, whether, or, not, to, terminate, an, artificial, being's, life, that, was, made, in, a, laboratory, environment.]                                                                                                                                                                                                                                                                                                              |[corporate, risk-management, consultant, must, determine, whether, terminate, artificial, being's, life, made, laboratory, environment.]                                                                                                                                                                                                        |\n",
      "|The Dark Tower                             |The last Gunslinger, Roland Deschain, has been locked in an eternal battle with Walter O’Dim, also known as the Man in Black, determined to prevent him from toppling the Dark Tower, which holds the universe together. With the fate of the worlds at stake, good and evil will collide in the ultimate battle as only Roland can defend the Tower from the Man in Black.                                             |[the, last, gunslinger,, roland, deschain,, has, been, locked, in, an, eternal, battle, with, walter, o’dim,, also, known, as, the, man, in, black,, determined, to, prevent, him, from, toppling, the, dark, tower,, which, holds, the, universe, together., with, the, fate, of, the, worlds, at, stake,, good, and, evil, will, collide, in, the, ultimate, battle, as, only, roland, can, defend, the, tower, from, the, man, in, black.]                                               |[last, gunslinger,, roland, deschain,, locked, eternal, battle, walter, o’dim,, also, known, man, black,, determined, prevent, toppling, dark, tower,, holds, universe, together., fate, worlds, stake,, good, evil, collide, ultimate, battle, roland, defend, tower, man, black.]                                                             |\n",
      "|Nine Lives                                 |A stuffy businessman finds himself trapped inside the body of his family's cat.                                                                                                                                                                                                                                                                                                                                         |[a, stuffy, businessman, finds, himself, trapped, inside, the, body, of, his, family's, cat.]                                                                                                                                                                                                                                                                                                                                                                                               |[stuffy, businessman, finds, trapped, inside, body, family's, cat.]                                                                                                                                                                                                                                                                             |\n",
      "|Don't Breathe                              |A group of teens break into a blind man's home thinking they'll get away with the perfect crime. They're wrong.                                                                                                                                                                                                                                                                                                         |[a, group, of, teens, break, into, a, blind, man's, home, thinking, they'll, get, away, with, the, perfect, crime., they're, wrong.]                                                                                                                                                                                                                                                                                                                                                        |[group, teens, break, blind, man's, home, thinking, get, away, perfect, crime., wrong.]                                                                                                                                                                                                                                                         |\n",
      "|Suicide Squad                              |From DC Comics comes the Suicide Squad, an antihero team of incarcerated supervillains who act as deniable assets for the United States government, undertaking high-risk black ops missions in exchange for commuted prison sentences.                                                                                                                                                                                 |[from, dc, comics, comes, the, suicide, squad,, an, antihero, team, of, incarcerated, supervillains, who, act, as, deniable, assets, for, the, united, states, government,, undertaking, high-risk, black, ops, missions, in, exchange, for, commuted, prison, sentences.]                                                                                                                                                                                                                  |[dc, comics, comes, suicide, squad,, antihero, team, incarcerated, supervillains, act, deniable, assets, united, states, government,, undertaking, high-risk, black, ops, missions, exchange, commuted, prison, sentences.]                                                                                                                     |\n",
      "|Kubo and the Two Strings                   |Kubo mesmerizes the people in his village with his magical gift for spinning wild tales with origami. When he accidentally summons an evil spirit seeking vengeance, Kubo is forced to go on a quest to solve the mystery of his fallen samurai father and his mystical weaponry, as well as discover his own magical powers.                                                                                           |[kubo, mesmerizes, the, people, in, his, village, with, his, magical, gift, for, spinning, wild, tales, with, origami., when, he, accidentally, summons, an, evil, spirit, seeking, vengeance,, kubo, is, forced, to, go, on, a, quest, to, solve, the, mystery, of, his, fallen, samurai, father, and, his, mystical, weaponry,, as, well, as, discover, his, own, magical, powers.]                                                                                                       |[kubo, mesmerizes, people, village, magical, gift, spinning, wild, tales, origami., accidentally, summons, evil, spirit, seeking, vengeance,, kubo, forced, go, quest, solve, mystery, fallen, samurai, father, mystical, weaponry,, well, discover, magical, powers.]                                                                          |\n",
      "|Ben-Hur                                    |A falsely accused nobleman survives years of slavery to take vengeance on his best friend who betrayed him.                                                                                                                                                                                                                                                                                                             |[a, falsely, accused, nobleman, survives, years, of, slavery, to, take, vengeance, on, his, best, friend, who, betrayed, him.]                                                                                                                                                                                                                                                                                                                                                              |[falsely, accused, nobleman, survives, years, slavery, take, vengeance, best, friend, betrayed, him.]                                                                                                                                                                                                                                           |\n",
      "|War Dogs                                   |Based on the true story of two young men, David Packouz and Efraim Diveroli, who won a $300 million contract from the Pentagon to arm America's allies in Afghanistan.                                                                                                                                                                                                                                                  |[based, on, the, true, story, of, two, young, men,, david, packouz, and, efraim, diveroli,, who, won, a, $300, million, contract, from, the, pentagon, to, arm, america's, allies, in, afghanistan.]                                                                                                                                                                                                                                                                                        |[based, true, story, two, young, men,, david, packouz, efraim, diveroli,, won, $300, million, contract, pentagon, arm, america's, allies, afghanistan.]                                                                                                                                                                                         |\n",
      "|Hell or High Water                         |A divorced dad and his ex-con brother resort to a desperate scheme in order to save their family's farm in West Texas.                                                                                                                                                                                                                                                                                                  |[a, divorced, dad, and, his, ex-con, brother, resort, to, a, desperate, scheme, in, order, to, save, their, family's, farm, in, west, texas.]                                                                                                                                                                                                                                                                                                                                               |[divorced, dad, ex-con, brother, resort, desperate, scheme, order, save, family's, farm, west, texas.]                                                                                                                                                                                                                                          |\n",
      "|Anthropoid                                 |In December 1941, Czech soldiers Jozef Gabčík and Jan Kubiš parachute into their occupied homeland to assassinate Nazi officer Reinhard Heydrich.                                                                                                                                                                                                                                                                       |[in, december, 1941,, czech, soldiers, jozef, gabčík, and, jan, kubiš, parachute, into, their, occupied, homeland, to, assassinate, nazi, officer, reinhard, heydrich.]                                                                                                                                                                                                                                                                                                                     |[december, 1941,, czech, soldiers, jozef, gabčík, jan, kubiš, parachute, occupied, homeland, assassinate, nazi, officer, reinhard, heydrich.]                                                                                                                                                                                                   |\n",
      "|Pete's Dragon                              |Pete is a mysterious 10-year-old with no family and no home who claims to live in the woods with a giant, green dragon named Elliott. With the help of Natalie, an 11-year-old girl whose father Jack owns the local lumber mill, forest ranger Grace sets out to determine where Pete came from, where he belongs, and the truth about this dragon.                                                                    |[pete, is, a, mysterious, 10-year-old, with, no, family, and, no, home, who, claims, to, live, in, the, woods, with, a, giant,, green, dragon, named, elliott., with, the, help, of, natalie,, an, 11-year-old, girl, whose, father, jack, owns, the, local, lumber, mill,, forest, ranger, grace, sets, out, to, determine, where, pete, came, from,, where, he, belongs,, and, the, truth, about, this, dragon.]                                                                          |[pete, mysterious, 10-year-old, family, home, claims, live, woods, giant,, green, dragon, named, elliott., help, natalie,, 11-year-old, girl, whose, father, jack, owns, local, lumber, mill,, forest, ranger, grace, sets, determine, pete, came, from,, belongs,, truth, dragon.]                                                             |\n",
      "|Rock Dog                                   |When a radio falls from the sky into the hands of a wide-eyed Tibetan Mastiff, he leaves home to fulfill his dream of becoming a musician, setting into motion a series of completely unexpected events.                                                                                                                                                                                                                |[when, a, radio, falls, from, the, sky, into, the, hands, of, a, wide-eyed, tibetan, mastiff,, he, leaves, home, to, fulfill, his, dream, of, becoming, a, musician,, setting, into, motion, a, series, of, completely, unexpected, events.]                                                                                                                                                                                                                                                |[radio, falls, sky, hands, wide-eyed, tibetan, mastiff,, leaves, home, fulfill, dream, becoming, musician,, setting, motion, series, completely, unexpected, events.]                                                                                                                                                                           |\n",
      "+-------------------------------------------+------------------------------------------------------------------------------------------------------------------------------------------------------------------------------------------------------------------------------------------------------------------------------------------------------------------------------------------------------------------------------------------------------------------------+--------------------------------------------------------------------------------------------------------------------------------------------------------------------------------------------------------------------------------------------------------------------------------------------------------------------------------------------------------------------------------------------------------------------------------------------------------------------------------------------+------------------------------------------------------------------------------------------------------------------------------------------------------------------------------------------------------------------------------------------------------------------------------------------------------------------------------------------------+\n",
      "only showing top 20 rows\n",
      "\n"
     ]
    }
   ],
   "source": [
    "# Transform and show data\n",
    "tokenized = remover.transform(tokenized)\n",
    "tokenized.show(truncate=False)"
   ]
  },
  {
   "cell_type": "markdown",
   "metadata": {},
   "source": [
    "# Spacy NLP"
   ]
  },
  {
   "cell_type": "code",
   "execution_count": 119,
   "metadata": {},
   "outputs": [],
   "source": [
    "# Load English tokenizer, tagger, parser, NER and word vectors\n",
    "\n",
    "nlp = spacy.load(\"en_core_web_sm\")"
   ]
  },
  {
   "cell_type": "code",
   "execution_count": 21,
   "metadata": {
    "scrolled": true
   },
   "outputs": [
    {
     "name": "stdout",
     "output_type": "stream",
     "text": [
      "Movie_Title: 'The Birth of a Nation')\n",
      "Nouns: [\"'former', 'slave', 'america\", \"'liberation\", \", 'movement\", \", 'african-americans\", 'virgina', \", 'results\", \"'retaliation\"]\n",
      "Verbs: ['lead']\n",
      "Adverbs: ['nat']\n",
      "Adjectives: ['former', 'free', 'african', 'violent']\n",
      "\n",
      "Movie_Title: 'Sully')\n",
      "Nouns: ['15\\', \\'january\\', \\'2009,\\', \\'world\\', \\'witnessed\\', \"\\'miracle', '\"hudson', \"'captain\", 'sullenberger', \"'plane\", \"'waters\", \"'hudson', 'river\", \"'lives\", \"'reputation\", 'career']\n",
      "Verbs: ['witness', 'glide', 'save', 'herald', 'unfold', 'threaten', 'destroy']\n",
      "Adverbs: ['sully', 'however', 'even', 'sully']\n",
      "Adjectives: ['january', 'disabled', 'frigid', 'public', 'unprecedented']\n",
      "\n",
      "Movie_Title: 'Deepwater Horizon')\n",
      "Nouns: ['story', \", 'drilling\", \", 'rig\", \"'deepwater\", \"'horizon\", \"'spill\"]\n",
      "Verbs: ['explode', 'create']\n",
      "Adverbs: []\n",
      "Adjectives: ['offshore', 'bad']\n",
      "\n",
      "Movie_Title: \"Miss Peregrine's Home for Peculiar Children\")\n",
      "Nouns: ['teenager', \"'island\", \"'must', 'help\", \"'protect\", \"'group\", \"'orphans\", \"'powers\", \"'creatures\", \"'intent\", 'them']\n",
      "Verbs: ['find', 'transport', 'must', 'destroy']\n",
      "Adverbs: []\n",
      "Adjectives: ['special']\n",
      "\n",
      "Movie_Title: '31')\n",
      "Nouns: ['rob', \"'p\", \", 'o\", \", 'o\", \"'k\", \", 'u\"]\n",
      "Verbs: []\n",
      "Adverbs: []\n",
      "Adjectives: []\n",
      "\n",
      "Movie_Title: 'Snowden')\n",
      "Nouns: ['employee']\n",
      "Verbs: ['classify']\n",
      "Adverbs: []\n",
      "Adjectives: ['snowden']\n",
      "\n",
      "Movie_Title: 'Blair Witch')\n",
      "Nouns: ['students', \"'something\", 'trees']\n",
      "Verbs: ['lurk']\n",
      "Adverbs: []\n",
      "Adjectives: []\n",
      "\n",
      "Movie_Title: 'The Magnificent Seven')\n",
      "Nouns: [\", 'gun', 'men\", \"'west\", 'thieves']\n",
      "Verbs: ['come']\n",
      "Adverbs: ['gradually', 'together']\n",
      "Adjectives: ['old', 'poor']\n",
      "\n",
      "Movie_Title: 'Morgan')\n",
      "Nouns: [\"corporate', 'risk-management', 'consultant\", '\", \\'life\\', \\'made\\', \\'laboratory\\', \\'environment']\n",
      "Verbs: ['must', 'be', 'make']\n",
      "Adverbs: []\n",
      "Adjectives: ['corporate', 'artificial']\n",
      "\n",
      "Movie_Title: 'The Dark Tower')\n",
      "Nouns: [\",', 'roland', 'deschain\", \", 'fate\", \"'evil\", \"'battle\", \"'roland\", \"'tower\", 'man']\n",
      "Verbs: ['lock', 'know', 'determine', 'topple', 'hold', 'defend']\n",
      "Adverbs: ['also', 'together']\n",
      "Adjectives: ['last', 'eternal', 'black', 'dark', 'good', 'ultimate', 'black']\n",
      "\n"
     ]
    }
   ],
   "source": [
    "#change length to 193 to get all movies\n",
    "length = 10\n",
    "i = 0\n",
    "\n",
    "#empty dictionary\n",
    "#nested_dict = {}\n",
    "\n",
    "while i < length: \n",
    "    title = str(tokenized.select(\"title\").collect()[0+i])\n",
    "    clean_title = title[10:]\n",
    "    text1 =str(tokenized.select(\"stopwords\").collect()[0+i])\n",
    "    clean_text = text1[16:]\n",
    "    docs=nlp(clean_text)\n",
    "    \n",
    "# populating dictionary attempt 1 (does not work)\n",
    "    # nested_dict[clean_title] = {\"Nouns\":[chunk.text for chunk in docs.noun_chunks], \"Verbs\":[token.lemma_ for token in docs if token.pos_ == \"VERB\"], \"Adverbs\": [token.lemma_ for token in docs if token.pos_ == \"ADV\"], \"Adjectives:\", [token.lemma_ for token in docs if token.pos_ == \"ADJ\"]}\n",
    "\n",
    "# populating dictionary attempt 2 (also does not work)\n",
    "#     nested_dict[clean_title]['Nouns'] = [chunk.text for chunk in docs.noun_chunks]\n",
    "#     nested_dict[clean_title]['Verbs'] = [token.lemma_ for token in docs if token.pos_ == \"VERB\"]\n",
    "#     nested_dict[clean_title]['Adverbs'] = [token.lemma_ for token in docs if token.pos_ == \"ADV\"] \n",
    "#     nested_dict[clean_title]['Adjectives'] = [token.lemma_ for token in docs if token.pos_ == \"ADJ\"]\n",
    "    \n",
    "#    print(nested_dict)\n",
    "\n",
    "    print(\"Movie_Title:\", clean_title)\n",
    "    print(\"Nouns:\", [chunk.text for chunk in docs.noun_chunks])\n",
    "    print(\"Verbs:\", [token.lemma_ for token in docs if token.pos_ == \"VERB\"])\n",
    "    print(\"Adverbs:\", [token.lemma_ for token in docs if token.pos_ == \"ADV\"])\n",
    "    print(\"Adjectives:\", [token.lemma_ for token in docs if token.pos_ == \"ADJ\"])\n",
    "    \n",
    "    print(\"\")\n",
    "    \n",
    "    i += 1"
   ]
  },
  {
   "cell_type": "code",
   "execution_count": 22,
   "metadata": {},
   "outputs": [
    {
     "name": "stdout",
     "output_type": "stream",
     "text": [
      "+--------------------+--------------------+--------------------+--------------------+\n",
      "|               title|            overview|               words|           stopwords|\n",
      "+--------------------+--------------------+--------------------+--------------------+\n",
      "|The Birth of a Na...|Nat Turner, a for...|[nat, turner,, a,...|[nat, turner,, fo...|\n",
      "|               Sully|On 15 January 200...|[on, 15, january,...|[15, january, 200...|\n",
      "|   Deepwater Horizon|A story set on th...|[a, story, set, o...|[story, set, offs...|\n",
      "|Miss Peregrine's ...|A teenager finds ...|[a, teenager, fin...|[teenager, finds,...|\n",
      "|                  31|ROB ZOMBIE'S  S P...|[rob, zombie's, ,...|[rob, zombie's, ,...|\n",
      "|             Snowden|CIA employee Edwa...|[cia, employee, e...|[cia, employee, e...|\n",
      "|         Blair Witch|Students on a cam...|[students, on, a,...|[students, campin...|\n",
      "|The Magnificent S...|Seven gun men in ...|[seven, gun, men,...|[seven, gun, men,...|\n",
      "|              Morgan|A corporate risk-...|[a, corporate, ri...|[corporate, risk-...|\n",
      "|      The Dark Tower|The last Gunsling...|[the, last, gunsl...|[last, gunslinger...|\n",
      "|          Nine Lives|A stuffy business...|[a, stuffy, busin...|[stuffy, business...|\n",
      "|       Don't Breathe|A group of teens ...|[a, group, of, te...|[group, teens, br...|\n",
      "|       Suicide Squad|From DC Comics co...|[from, dc, comics...|[dc, comics, come...|\n",
      "|Kubo and the Two ...|Kubo mesmerizes t...|[kubo, mesmerizes...|[kubo, mesmerizes...|\n",
      "|             Ben-Hur|A falsely accused...|[a, falsely, accu...|[falsely, accused...|\n",
      "|            War Dogs|Based on the true...|[based, on, the, ...|[based, true, sto...|\n",
      "|  Hell or High Water|A divorced dad an...|[a, divorced, dad...|[divorced, dad, e...|\n",
      "|          Anthropoid|In December 1941,...|[in, december, 19...|[december, 1941,,...|\n",
      "|       Pete's Dragon|Pete is a mysteri...|[pete, is, a, mys...|[pete, mysterious...|\n",
      "|            Rock Dog|When a radio fall...|[when, a, radio, ...|[radio, falls, sk...|\n",
      "+--------------------+--------------------+--------------------+--------------------+\n",
      "only showing top 20 rows\n",
      "\n"
     ]
    }
   ],
   "source": [
    "tokenized.show()"
   ]
  },
  {
   "cell_type": "markdown",
   "metadata": {},
   "source": [
    "# Thesaurus API"
   ]
  },
  {
   "cell_type": "code",
   "execution_count": 23,
   "metadata": {},
   "outputs": [],
   "source": [
    "import requests\n",
    "import json\n",
    "api_key = \"bac73abe-335b-4c95-b989-bd87a4b4751b\"\n",
    "# https://www.dictionaryapi.com/api/v3/references/thesaurus/json/umpire?key=your-api-key"
   ]
  },
  {
   "cell_type": "code",
   "execution_count": 24,
   "metadata": {},
   "outputs": [
    {
     "name": "stdout",
     "output_type": "stream",
     "text": [
      "+------------------------------------------------------------------------------------------------------------------------------------------------------------------------------------------------------------------------------------------------------------------------------------------------------------------------------------------------+\n",
      "|stopwords                                                                                                                                                                                                                                                                                                                                       |\n",
      "+------------------------------------------------------------------------------------------------------------------------------------------------------------------------------------------------------------------------------------------------------------------------------------------------------------------------------------------------+\n",
      "|[nat, turner,, former, slave, america,, leads, liberation, movement, 1831, free, african-americans, virgina, results, violent, retaliation, whites.]                                                                                                                                                                                            |\n",
      "|[15, january, 2009,, world, witnessed, 'miracle, hudson', captain, 'sully', sullenberger, glided, disabled, plane, onto, frigid, waters, hudson, river,, saving, lives, 155, aboard., however,, even, sully, heralded, public, media, unprecedented, feat, aviation, skill,, investigation, unfolding, threatened, destroy, reputation, career.]|\n",
      "|[story, set, offshore, drilling, rig, deepwater, horizon,, exploded, april, 2010, created, worst, oil, spill, u.s., history.]                                                                                                                                                                                                                   |\n",
      "|[teenager, finds, transported, island, must, help, protect, group, orphans, special, powers, creatures, intent, destroying, them.]                                                                                                                                                                                                              |\n",
      "|[rob, zombie's, , p, o, o, k, , h, u, 31]                                                                                                                                                                                                                                                                                                       |\n",
      "|[cia, employee, edward, snowden, leaks, thousands, classified, documents, press.]                                                                                                                                                                                                                                                               |\n",
      "|[students, camping, trip, discover, something, sinister, lurking, beyond, trees.]                                                                                                                                                                                                                                                               |\n",
      "|[seven, gun, men, old, west, gradually, come, together, help, poor, village, savage, thieves.]                                                                                                                                                                                                                                                  |\n",
      "|[corporate, risk-management, consultant, must, determine, whether, terminate, artificial, being's, life, made, laboratory, environment.]                                                                                                                                                                                                        |\n",
      "|[last, gunslinger,, roland, deschain,, locked, eternal, battle, walter, o’dim,, also, known, man, black,, determined, prevent, toppling, dark, tower,, holds, universe, together., fate, worlds, stake,, good, evil, collide, ultimate, battle, roland, defend, tower, man, black.]                                                             |\n",
      "|[stuffy, businessman, finds, trapped, inside, body, family's, cat.]                                                                                                                                                                                                                                                                             |\n",
      "|[group, teens, break, blind, man's, home, thinking, get, away, perfect, crime., wrong.]                                                                                                                                                                                                                                                         |\n",
      "|[dc, comics, comes, suicide, squad,, antihero, team, incarcerated, supervillains, act, deniable, assets, united, states, government,, undertaking, high-risk, black, ops, missions, exchange, commuted, prison, sentences.]                                                                                                                     |\n",
      "|[kubo, mesmerizes, people, village, magical, gift, spinning, wild, tales, origami., accidentally, summons, evil, spirit, seeking, vengeance,, kubo, forced, go, quest, solve, mystery, fallen, samurai, father, mystical, weaponry,, well, discover, magical, powers.]                                                                          |\n",
      "|[falsely, accused, nobleman, survives, years, slavery, take, vengeance, best, friend, betrayed, him.]                                                                                                                                                                                                                                           |\n",
      "|[based, true, story, two, young, men,, david, packouz, efraim, diveroli,, won, $300, million, contract, pentagon, arm, america's, allies, afghanistan.]                                                                                                                                                                                         |\n",
      "|[divorced, dad, ex-con, brother, resort, desperate, scheme, order, save, family's, farm, west, texas.]                                                                                                                                                                                                                                          |\n",
      "|[december, 1941,, czech, soldiers, jozef, gabčík, jan, kubiš, parachute, occupied, homeland, assassinate, nazi, officer, reinhard, heydrich.]                                                                                                                                                                                                   |\n",
      "|[pete, mysterious, 10-year-old, family, home, claims, live, woods, giant,, green, dragon, named, elliott., help, natalie,, 11-year-old, girl, whose, father, jack, owns, local, lumber, mill,, forest, ranger, grace, sets, determine, pete, came, from,, belongs,, truth, dragon.]                                                             |\n",
      "|[radio, falls, sky, hands, wide-eyed, tibetan, mastiff,, leaves, home, fulfill, dream, becoming, musician,, setting, motion, series, completely, unexpected, events.]                                                                                                                                                                           |\n",
      "+------------------------------------------------------------------------------------------------------------------------------------------------------------------------------------------------------------------------------------------------------------------------------------------------------------------------------------------------+\n",
      "only showing top 20 rows\n",
      "\n"
     ]
    }
   ],
   "source": [
    "tokenized.select(\"stopwords\").show(truncate=False)"
   ]
  },
  {
   "cell_type": "code",
   "execution_count": 25,
   "metadata": {},
   "outputs": [
    {
     "ename": "AttributeError",
     "evalue": "'DataFrame' object has no attribute 'col'",
     "output_type": "error",
     "traceback": [
      "\u001b[0;31m---------------------------------------------------------------------------\u001b[0m",
      "\u001b[0;31mAttributeError\u001b[0m                            Traceback (most recent call last)",
      "\u001b[0;32m<ipython-input-25-a79118f5abf5>\u001b[0m in \u001b[0;36m<module>\u001b[0;34m\u001b[0m\n\u001b[1;32m      2\u001b[0m \u001b[0;31m# tokenized.select(\"stopwords\").toList\u001b[0m\u001b[0;34m\u001b[0m\u001b[0;34m\u001b[0m\u001b[0;34m\u001b[0m\u001b[0m\n\u001b[1;32m      3\u001b[0m \u001b[0;31m# tokenized.withColumn(\"first_two\", f.array([f.col(\"stopwords\")[0], f.col(\"stopwords\")[1]])).show()\u001b[0m\u001b[0;34m\u001b[0m\u001b[0;34m\u001b[0m\u001b[0;34m\u001b[0m\u001b[0m\n\u001b[0;32m----> 4\u001b[0;31m \u001b[0mtokenized\u001b[0m\u001b[0;34m.\u001b[0m\u001b[0mcol\u001b[0m\u001b[0;34m(\u001b[0m\u001b[0;34m\"stopwords\"\u001b[0m\u001b[0;34m)\u001b[0m\u001b[0;34m[\u001b[0m\u001b[0;36m0\u001b[0m\u001b[0;34m]\u001b[0m\u001b[0;34m\u001b[0m\u001b[0;34m\u001b[0m\u001b[0m\n\u001b[0m",
      "\u001b[0;32m~/anaconda3/lib/python3.7/site-packages/pyspark/sql/dataframe.py\u001b[0m in \u001b[0;36m__getattr__\u001b[0;34m(self, name)\u001b[0m\n\u001b[1;32m   1298\u001b[0m         \u001b[0;32mif\u001b[0m \u001b[0mname\u001b[0m \u001b[0;32mnot\u001b[0m \u001b[0;32min\u001b[0m \u001b[0mself\u001b[0m\u001b[0;34m.\u001b[0m\u001b[0mcolumns\u001b[0m\u001b[0;34m:\u001b[0m\u001b[0;34m\u001b[0m\u001b[0;34m\u001b[0m\u001b[0m\n\u001b[1;32m   1299\u001b[0m             raise AttributeError(\n\u001b[0;32m-> 1300\u001b[0;31m                 \"'%s' object has no attribute '%s'\" % (self.__class__.__name__, name))\n\u001b[0m\u001b[1;32m   1301\u001b[0m         \u001b[0mjc\u001b[0m \u001b[0;34m=\u001b[0m \u001b[0mself\u001b[0m\u001b[0;34m.\u001b[0m\u001b[0m_jdf\u001b[0m\u001b[0;34m.\u001b[0m\u001b[0mapply\u001b[0m\u001b[0;34m(\u001b[0m\u001b[0mname\u001b[0m\u001b[0;34m)\u001b[0m\u001b[0;34m\u001b[0m\u001b[0;34m\u001b[0m\u001b[0m\n\u001b[1;32m   1302\u001b[0m         \u001b[0;32mreturn\u001b[0m \u001b[0mColumn\u001b[0m\u001b[0;34m(\u001b[0m\u001b[0mjc\u001b[0m\u001b[0;34m)\u001b[0m\u001b[0;34m\u001b[0m\u001b[0;34m\u001b[0m\u001b[0m\n",
      "\u001b[0;31mAttributeError\u001b[0m: 'DataFrame' object has no attribute 'col'"
     ]
    }
   ],
   "source": [
    "import pyspark.sql.functions as f\n",
    "# tokenized.select(\"stopwords\").toList\n",
    "# tokenized.withColumn(\"first_two\", f.array([f.col(\"stopwords\")[0], f.col(\"stopwords\")[1]])).show()\n",
    "# tokenized.col(\"stopwords\")[0]"
   ]
  },
  {
   "cell_type": "code",
   "execution_count": 56,
   "metadata": {},
   "outputs": [],
   "source": [
    "\n",
    "# tokenized.select(\"stopwords\").map(r => r.getString(0)).collect.toList\n",
    "# Products_list = tokenized.select(\"stopwords\").tolist()\n",
    "# print (Products_list)\n",
    "data_array =  np.array(tokenized.select(\"stopwords\").collect())\n",
    "data_array = data_array[0:2]  #for testing taking 10 value for API call"
   ]
  },
  {
   "cell_type": "code",
   "execution_count": 57,
   "metadata": {},
   "outputs": [
    {
     "data": {
      "text/plain": [
       "array([[list(['nat', 'turner,', 'former', 'slave', 'america,', 'leads', 'liberation', 'movement', '1831', 'free', 'african-americans', 'virgina', 'results', 'violent', 'retaliation', 'whites.'])],\n",
       "       [list(['15', 'january', '2009,', 'world', 'witnessed', \"'miracle\", \"hudson'\", 'captain', \"'sully'\", 'sullenberger', 'glided', 'disabled', 'plane', 'onto', 'frigid', 'waters', 'hudson', 'river,', 'saving', 'lives', '155', 'aboard.', 'however,', 'even', 'sully', 'heralded', 'public', 'media', 'unprecedented', 'feat', 'aviation', 'skill,', 'investigation', 'unfolding', 'threatened', 'destroy', 'reputation', 'career.'])]],\n",
       "      dtype=object)"
      ]
     },
     "execution_count": 57,
     "metadata": {},
     "output_type": "execute_result"
    }
   ],
   "source": [
    "data_array"
   ]
  },
  {
   "cell_type": "code",
   "execution_count": 71,
   "metadata": {},
   "outputs": [
    {
     "name": "stdout",
     "output_type": "stream",
     "text": [
      "['nat', 'turner,', 'former', 'slave', 'america,', 'leads', 'liberation', 'movement', '1831', 'free', 'african-americans', 'virgina', 'results', 'violent', 'retaliation', 'whites.']\n"
     ]
    }
   ],
   "source": [
    "print(data_array[0][0])"
   ]
  },
  {
   "cell_type": "code",
   "execution_count": 67,
   "metadata": {},
   "outputs": [
    {
     "ename": "SyntaxError",
     "evalue": "unexpected EOF while parsing (<ipython-input-67-8398d3f51769>, line 15)",
     "output_type": "error",
     "traceback": [
      "\u001b[0;36m  File \u001b[0;32m\"<ipython-input-67-8398d3f51769>\"\u001b[0;36m, line \u001b[0;32m15\u001b[0m\n\u001b[0;31m    #                 synonyms.append(data[0][\"meta\"][\"syns\"])\u001b[0m\n\u001b[0m                                                              ^\u001b[0m\n\u001b[0;31mSyntaxError\u001b[0m\u001b[0;31m:\u001b[0m unexpected EOF while parsing\n"
     ]
    }
   ],
   "source": [
    "synonyms = []\n",
    "i=0\n",
    "j=0\n",
    "k=0\n",
    "for i in range(len(data_array)):\n",
    "    for j in range(len(data_array[i])):\n",
    "        for k in range(len(data_array[i][j])):\n",
    "            word = data_array[i][j][k]\n",
    "#             print(word)\n",
    "            if len(word)>2:\n",
    "                target_url = 'https://www.dictionaryapi.com/api/v3/references/thesaurus/json/' + word + '?key=' + api_key\n",
    "                data = requests.get(target_url).json()\n",
    "#                 print(data)\n",
    "            if data:\n",
    "#                 synonyms.append(data[0][\"meta\"][\"syns\"])"
   ]
  },
  {
   "cell_type": "code",
   "execution_count": 48,
   "metadata": {},
   "outputs": [
    {
     "data": {
      "text/plain": [
       "[]"
      ]
     },
     "execution_count": 48,
     "metadata": {},
     "output_type": "execute_result"
    }
   ],
   "source": [
    "synonyms"
   ]
  },
  {
   "cell_type": "code",
   "execution_count": 49,
   "metadata": {},
   "outputs": [
    {
     "data": {
      "text/plain": [
       "['neat',\n",
       " 'bat',\n",
       " 'nap',\n",
       " 'cat',\n",
       " 'nay',\n",
       " 'eat',\n",
       " 'natch',\n",
       " 'fat',\n",
       " 'neath',\n",
       " 'hat',\n",
       " 'nays',\n",
       " 'kat',\n",
       " 'note',\n",
       " 'mat',\n",
       " 'net',\n",
       " 'nab',\n",
       " 'nit',\n",
       " 'nag',\n",
       " 'nut',\n",
       " 'pat']"
      ]
     },
     "execution_count": 49,
     "metadata": {},
     "output_type": "execute_result"
    }
   ],
   "source": [
    "data"
   ]
  },
  {
   "cell_type": "code",
   "execution_count": 72,
   "metadata": {},
   "outputs": [
    {
     "name": "stdout",
     "output_type": "stream",
     "text": [
      "['nat', 'turner,', 'former', 'slave', 'america,', 'leads', 'liberation', 'movement', '1831', 'free', 'african-americans', 'virgina', 'results', 'violent', 'retaliation', 'whites.']\n"
     ]
    }
   ],
   "source": [
    "words = data_array[0][0]\n",
    "print(words)"
   ]
  },
  {
   "cell_type": "code",
   "execution_count": 108,
   "metadata": {},
   "outputs": [
    {
     "ename": "TypeError",
     "evalue": "string indices must be integers",
     "output_type": "error",
     "traceback": [
      "\u001b[0;31m---------------------------------------------------------------------------\u001b[0m",
      "\u001b[0;31mTypeError\u001b[0m                                 Traceback (most recent call last)",
      "\u001b[0;32m<ipython-input-108-756df499451d>\u001b[0m in \u001b[0;36m<module>\u001b[0;34m\u001b[0m\n\u001b[1;32m      3\u001b[0m                 \u001b[0mtarget_url\u001b[0m \u001b[0;34m=\u001b[0m \u001b[0;34m'https://www.dictionaryapi.com/api/v3/references/thesaurus/json/'\u001b[0m \u001b[0;34m+\u001b[0m \u001b[0mword\u001b[0m \u001b[0;34m+\u001b[0m \u001b[0;34m'?key='\u001b[0m \u001b[0;34m+\u001b[0m \u001b[0mapi_key\u001b[0m\u001b[0;34m\u001b[0m\u001b[0;34m\u001b[0m\u001b[0m\n\u001b[1;32m      4\u001b[0m                 \u001b[0mdata\u001b[0m \u001b[0;34m=\u001b[0m \u001b[0mrequests\u001b[0m\u001b[0;34m.\u001b[0m\u001b[0mget\u001b[0m\u001b[0;34m(\u001b[0m\u001b[0mtarget_url\u001b[0m\u001b[0;34m)\u001b[0m\u001b[0;34m.\u001b[0m\u001b[0mjson\u001b[0m\u001b[0;34m(\u001b[0m\u001b[0;34m)\u001b[0m\u001b[0;34m\u001b[0m\u001b[0;34m\u001b[0m\u001b[0m\n\u001b[0;32m----> 5\u001b[0;31m                 \u001b[0mprint\u001b[0m\u001b[0;34m(\u001b[0m\u001b[0mdata\u001b[0m\u001b[0;34m[\u001b[0m\u001b[0;36m0\u001b[0m\u001b[0;34m]\u001b[0m\u001b[0;34m[\u001b[0m\u001b[0;34m\"meta\"\u001b[0m\u001b[0;34m]\u001b[0m\u001b[0;34m[\u001b[0m\u001b[0;34m\"syns\"\u001b[0m\u001b[0;34m]\u001b[0m\u001b[0;34m)\u001b[0m\u001b[0;34m\u001b[0m\u001b[0;34m\u001b[0m\u001b[0m\n\u001b[0m\u001b[1;32m      6\u001b[0m                 \u001b[0mdata\u001b[0m\u001b[0;34m=\u001b[0m\u001b[0;34m\"\"\u001b[0m\u001b[0;34m\u001b[0m\u001b[0;34m\u001b[0m\u001b[0m\n\u001b[1;32m      7\u001b[0m \u001b[0;31m#         if len(data)>0:\u001b[0m\u001b[0;34m\u001b[0m\u001b[0;34m\u001b[0m\u001b[0;34m\u001b[0m\u001b[0m\n",
      "\u001b[0;31mTypeError\u001b[0m: string indices must be integers"
     ]
    }
   ],
   "source": [
    "for word in words:\n",
    "    if len(word)>2:\n",
    "                target_url = 'https://www.dictionaryapi.com/api/v3/references/thesaurus/json/' + word + '?key=' + api_key\n",
    "                data = requests.get(target_url).json()\n",
    "                print(data[0][\"meta\"][\"syns\"])\n",
    "                data=\"\"\n",
    "#         if len(data)>0:\n",
    "#                 synonyms = data[0][\"meta\"][\"syns\"]"
   ]
  },
  {
   "cell_type": "code",
   "execution_count": 109,
   "metadata": {},
   "outputs": [
    {
     "data": {
      "text/plain": [
       "[['erstwhile',\n",
       "  'late',\n",
       "  'old',\n",
       "  'once',\n",
       "  'onetime',\n",
       "  'other',\n",
       "  'past',\n",
       "  'quondam',\n",
       "  'sometime',\n",
       "  'whilom'],\n",
       " ['antecedent',\n",
       "  'anterior',\n",
       "  'foregoing',\n",
       "  'precedent',\n",
       "  'preceding',\n",
       "  'previous',\n",
       "  'prior']]"
      ]
     },
     "execution_count": 109,
     "metadata": {},
     "output_type": "execute_result"
    }
   ],
   "source": [
    "\n",
    "word = 'former'\n",
    "target_url = 'https://www.dictionaryapi.com/api/v3/references/thesaurus/json/' + word + '?key=' + api_key\n",
    "data = requests.get(target_url).json()\n",
    "data[0][\"meta\"][\"syns\"]"
   ]
  },
  {
   "cell_type": "code",
   "execution_count": 107,
   "metadata": {},
   "outputs": [
    {
     "data": {
      "text/plain": [
       "[['erstwhile',\n",
       "  'late',\n",
       "  'old',\n",
       "  'once',\n",
       "  'onetime',\n",
       "  'other',\n",
       "  'past',\n",
       "  'quondam',\n",
       "  'sometime',\n",
       "  'whilom'],\n",
       " ['antecedent',\n",
       "  'anterior',\n",
       "  'foregoing',\n",
       "  'precedent',\n",
       "  'preceding',\n",
       "  'previous',\n",
       "  'prior']]"
      ]
     },
     "execution_count": 107,
     "metadata": {},
     "output_type": "execute_result"
    }
   ],
   "source": [
    "data[0][\"meta\"][\"syns\"]"
   ]
  },
  {
   "cell_type": "code",
   "execution_count": 74,
   "metadata": {},
   "outputs": [],
   "source": [
    "synonyms.append(data[0][\"meta\"][\"syns\"])"
   ]
  },
  {
   "cell_type": "code",
   "execution_count": 81,
   "metadata": {},
   "outputs": [
    {
     "data": {
      "text/plain": [
       "['antecedent',\n",
       " 'anterior',\n",
       " 'foregoing',\n",
       " 'precedent',\n",
       " 'preceding',\n",
       " 'previous',\n",
       " 'prior']"
      ]
     },
     "execution_count": 81,
     "metadata": {},
     "output_type": "execute_result"
    }
   ],
   "source": [
    "synonyms[0][1]"
   ]
  },
  {
   "cell_type": "code",
   "execution_count": 100,
   "metadata": {},
   "outputs": [
    {
     "name": "stdout",
     "output_type": "stream",
     "text": [
      "+--------------------+--------------------+--------------------+--------------------+\n",
      "|               title|            overview|               words|           stopwords|\n",
      "+--------------------+--------------------+--------------------+--------------------+\n",
      "|The Birth of a Na...|Nat Turner, a for...|[nat, turner,, a,...|[nat, turner,, fo...|\n",
      "|               Sully|On 15 January 200...|[on, 15, january,...|[15, january, 200...|\n",
      "|   Deepwater Horizon|A story set on th...|[a, story, set, o...|[story, set, offs...|\n",
      "|Miss Peregrine's ...|A teenager finds ...|[a, teenager, fin...|[teenager, finds,...|\n",
      "|                  31|ROB ZOMBIE'S  S P...|[rob, zombie's, ,...|[rob, zombie's, ,...|\n",
      "|             Snowden|CIA employee Edwa...|[cia, employee, e...|[cia, employee, e...|\n",
      "|         Blair Witch|Students on a cam...|[students, on, a,...|[students, campin...|\n",
      "|The Magnificent S...|Seven gun men in ...|[seven, gun, men,...|[seven, gun, men,...|\n",
      "|              Morgan|A corporate risk-...|[a, corporate, ri...|[corporate, risk-...|\n",
      "|      The Dark Tower|The last Gunsling...|[the, last, gunsl...|[last, gunslinger...|\n",
      "|          Nine Lives|A stuffy business...|[a, stuffy, busin...|[stuffy, business...|\n",
      "|       Don't Breathe|A group of teens ...|[a, group, of, te...|[group, teens, br...|\n",
      "|       Suicide Squad|From DC Comics co...|[from, dc, comics...|[dc, comics, come...|\n",
      "|Kubo and the Two ...|Kubo mesmerizes t...|[kubo, mesmerizes...|[kubo, mesmerizes...|\n",
      "|             Ben-Hur|A falsely accused...|[a, falsely, accu...|[falsely, accused...|\n",
      "|            War Dogs|Based on the true...|[based, on, the, ...|[based, true, sto...|\n",
      "|  Hell or High Water|A divorced dad an...|[a, divorced, dad...|[divorced, dad, e...|\n",
      "|          Anthropoid|In December 1941,...|[in, december, 19...|[december, 1941,,...|\n",
      "|       Pete's Dragon|Pete is a mysteri...|[pete, is, a, mys...|[pete, mysterious...|\n",
      "|            Rock Dog|When a radio fall...|[when, a, radio, ...|[radio, falls, sk...|\n",
      "+--------------------+--------------------+--------------------+--------------------+\n",
      "only showing top 20 rows\n",
      "\n"
     ]
    }
   ],
   "source": [
    "tokenized.show()"
   ]
  },
  {
   "cell_type": "code",
   "execution_count": 115,
   "metadata": {},
   "outputs": [
    {
     "name": "stdout",
     "output_type": "stream",
     "text": [
      "+--------------------+--------------------+--------------------+--------------------+--------------------+\n",
      "|               title|            overview|               words|           stopwords|        hashedValues|\n",
      "+--------------------+--------------------+--------------------+--------------------+--------------------+\n",
      "|The Birth of a Na...|Nat Turner, a for...|[nat, turner,, a,...|[nat, turner,, fo...|(256,[8,30,42,43,...|\n",
      "|               Sully|On 15 January 200...|[on, 15, january,...|[15, january, 200...|(256,[4,8,11,29,4...|\n",
      "|   Deepwater Horizon|A story set on th...|[a, story, set, o...|[story, set, offs...|(256,[0,13,24,27,...|\n",
      "|Miss Peregrine's ...|A teenager finds ...|[a, teenager, fin...|[teenager, finds,...|(256,[9,25,28,31,...|\n",
      "|                  31|ROB ZOMBIE'S  S P...|[rob, zombie's, ,...|[rob, zombie's, ,...|(256,[20,92,96,11...|\n",
      "|             Snowden|CIA employee Edwa...|[cia, employee, e...|[cia, employee, e...|(256,[22,52,61,10...|\n",
      "|         Blair Witch|Students on a cam...|[students, on, a,...|[students, campin...|(256,[26,82,136,1...|\n",
      "|The Magnificent S...|Seven gun men in ...|[seven, gun, men,...|[seven, gun, men,...|(256,[18,23,24,92...|\n",
      "|              Morgan|A corporate risk-...|[a, corporate, ri...|[corporate, risk-...|(256,[31,38,46,70...|\n",
      "|      The Dark Tower|The last Gunsling...|[the, last, gunsl...|[last, gunslinger...|(256,[5,19,24,28,...|\n",
      "|          Nine Lives|A stuffy business...|[a, stuffy, busin...|[stuffy, business...|(256,[46,73,103,1...|\n",
      "|       Don't Breathe|A group of teens ...|[a, group, of, te...|[group, teens, br...|(256,[13,28,55,84...|\n",
      "|       Suicide Squad|From DC Comics co...|[from, dc, comics...|[dc, comics, come...|(256,[2,10,19,25,...|\n",
      "|Kubo and the Two ...|Kubo mesmerizes t...|[kubo, mesmerizes...|[kubo, mesmerizes...|(256,[3,6,9,19,26...|\n",
      "|             Ben-Hur|A falsely accused...|[a, falsely, accu...|[falsely, accused...|(256,[3,10,44,87,...|\n",
      "|            War Dogs|Based on the true...|[based, on, the, ...|[based, true, sto...|(256,[2,6,40,48,8...|\n",
      "|  Hell or High Water|A divorced dad an...|[a, divorced, dad...|[divorced, dad, e...|(256,[72,83,103,1...|\n",
      "|          Anthropoid|In December 1941,...|[in, december, 19...|[december, 1941,,...|(256,[16,21,40,62...|\n",
      "|       Pete's Dragon|Pete is a mysteri...|[pete, is, a, mys...|[pete, mysterious...|(256,[25,29,38,50...|\n",
      "|            Rock Dog|When a radio fall...|[when, a, radio, ...|[radio, falls, sk...|(256,[1,10,19,36,...|\n",
      "+--------------------+--------------------+--------------------+--------------------+--------------------+\n",
      "only showing top 20 rows\n",
      "\n"
     ]
    }
   ],
   "source": [
    "# Run the hashing term frequency\n",
    "hashing = HashingTF(inputCol=\"stopwords\", outputCol=\"hashedValues\", numFeatures=pow(2,8))\n",
    "\n",
    "# Transform into a DF\n",
    "hashed_df = hashing.transform(tokenized)\n",
    "# Display new DataFrame\n",
    "hashed_df.show()"
   ]
  },
  {
   "cell_type": "code",
   "execution_count": 116,
   "metadata": {},
   "outputs": [],
   "source": [
    "# Fit the IDF on the data set \n",
    "idf = IDF(inputCol=\"hashedValues\", outputCol=\"features\")\n",
    "idfModel = idf.fit(hashed_df)\n",
    "rescaledData = idfModel.transform(hashed_df)"
   ]
  },
  {
   "cell_type": "code",
   "execution_count": 117,
   "metadata": {},
   "outputs": [
    {
     "name": "stdout",
     "output_type": "stream",
     "text": [
      "+-------------------------------------------+---------------------------------------------------------------------------------------------------------------------------------------------------------------------------------------------------------------------------------------------------------------------------------------------------------------------------------------------------------------------------------------------------------------------------------------------------------------------------------------------------------------------------------------------------------------------------------------------------------------------------------------------------------------------------------------------------------------------------------------------------------------------------------------------------------+\n",
      "|title                                      |features                                                                                                                                                                                                                                                                                                                                                                                                                                                                                                                                                                                                                                                                                                                                                                                                 |\n",
      "+-------------------------------------------+---------------------------------------------------------------------------------------------------------------------------------------------------------------------------------------------------------------------------------------------------------------------------------------------------------------------------------------------------------------------------------------------------------------------------------------------------------------------------------------------------------------------------------------------------------------------------------------------------------------------------------------------------------------------------------------------------------------------------------------------------------------------------------------------------------+\n",
      "|The Birth of a Nation                      |(256,[8,30,42,43,45,54,57,87,99,117,127,131,158,162,193,235],[2.782951509275328,2.782951509275328,2.009761621041846,2.434644815007112,2.495269436823547,1.8021222562636017,2.272125885509337,1.5301885407799598,2.223335721339905,2.272125885509337,2.3774864011671637,2.6288008294480694,2.1323639431341785,2.9652730660692823,2.272125885509337,2.495269436823547])                                                                                                                                                                                                                                                                                                                                                                                                                                    |\n",
      "|Sully                                      |(256,[4,8,11,29,41,47,50,62,64,67,71,85,101,106,114,118,122,125,138,143,146,150,153,156,170,175,182,186,192,201,208,222,227,229,249],[2.434644815007112,2.782951509275328,2.559807957961118,2.559807957961118,4.869289630014224,2.495269436823547,4.179608657430765,2.8699628862649575,2.8699628862649575,2.6288008294480694,2.272125885509337,2.272125885509337,2.223335721339905,2.8699628862649575,2.559807957961118,2.009761621041846,2.223335721339905,2.559807957961118,2.0898043287153825,2.8699628862649575,2.559807957961118,1.972021293058999,2.495269436823547,2.8699628862649575,2.434644815007112,2.495269436823547,3.0706335817271087,2.323419179896888,2.6288008294480694,2.495269436823547,4.990538873647094,1.7125100975739145,2.434644815007112,1.5301885407799598,1.3760378609527015])|\n",
      "|Deepwater Horizon                          |(256,[0,13,24,27,54,56,100,109,147,149,170,176,184,219,241],[2.434644815007112,2.8699628862649575,2.1323639431341785,3.0706335817271087,1.8021222562636017,2.7029088016017915,2.0898043287153825,2.272125885509337,2.8699628862649575,2.495269436823547,2.434644815007112,4.754972802334327,2.6288008294480694,2.223335721339905,1.8021222562636017])                                                                                                                                                                                                                                                                                                                                                                                                                                                    |\n",
      "|Miss Peregrine's Home for Peculiar Children|(256,[9,25,28,31,46,49,50,58,69,157,214,241,243,252],[2.323419179896888,2.782951509275328,1.7125100975739145,1.972021293058999,1.483668525145067,2.323419179896888,4.179608657430765,2.6288008294480694,2.6288008294480694,2.495269436823547,2.048982334195127,1.8021222562636017,2.176815705705012,2.782951509275328])                                                                                                                                                                                                                                                                                                                                                                                                                                                                                  |\n",
      "|31                                         |(256,[20,92,96,116,138,192,194,214,234],[2.782951509275328,4.544251771018674,4.353631411410024,2.6288008294480694,2.0898043287153825,2.6288008294480694,2.8699628862649575,2.048982334195127,2.176815705705012])                                                                                                                                                                                                                                                                                                                                                                                                                                                                                                                                                                                         |\n",
      "|Snowden                                    |(256,[22,52,61,109,122,127,138,142,215],[2.3774864011671637,2.176815705705012,1.9356536488881242,2.272125885509337,2.223335721339905,2.3774864011671637,2.0898043287153825,2.782951509275328,2.3774864011671637])                                                                                                                                                                                                                                                                                                                                                                                                                                                                                                                                                                                        |\n",
      "|Blair Witch                                |(256,[26,82,136,146,166,195,211,241,246],[2.048982334195127,2.9652730660692823,2.9652730660692823,2.559807957961118,2.272125885509337,2.782951509275328,2.495269436823547,1.8021222562636017,2.323419179896888])                                                                                                                                                                                                                                                                                                                                                                                                                                                                                                                                                                                         |\n",
      "|The Magnificent Seven                      |(256,[18,23,24,92,104,130,179,205,221,231,233,243,244],[2.048982334195127,3.0706335817271087,2.1323639431341785,2.272125885509337,2.272125885509337,2.272125885509337,2.7029088016017915,2.559807957961118,2.495269436823547,2.8699628862649575,2.272125885509337,2.176815705705012,2.323419179896888])                                                                                                                                                                                                                                                                                                                                                                                                                                                                                                  |\n",
      "|Morgan                                     |(256,[31,38,46,70,71,81,115,155,163,169,193,229,240],[1.972021293058999,2.495269436823547,1.483668525145067,2.559807957961118,2.272125885509337,2.176815705705012,2.0898043287153825,2.7029088016017915,2.9652730660692823,2.434644815007112,2.272125885509337,1.5301885407799598,2.782951509275328])                                                                                                                                                                                                                                                                                                                                                                                                                                                                                                    |\n",
      "|The Dark Tower                             |(256,[5,19,24,28,38,53,54,60,65,71,73,86,89,96,97,118,130,133,148,164,174,175,177,185,192,199,200,208,218,228],[2.559807957961118,2.434644815007112,2.1323639431341785,1.7125100975739145,2.495269436823547,2.323419179896888,1.8021222562636017,2.176815705705012,2.434644815007112,2.272125885509337,2.223335721339905,4.646838359793776,2.782951509275328,2.176815705705012,2.3774864011671637,2.009761621041846,2.272125885509337,2.272125885509337,2.559807957961118,2.223335721339905,1.6843392206072183,7.485808310470642,2.559807957961118,2.223335721339905,2.6288008294480694,2.7029088016017915,2.495269436823547,2.495269436823547,2.9652730660692823,4.544251771018674])                                                                                                                    |\n",
      "|Nine Lives                                 |(256,[46,73,103,128,149,177,232],[1.483668525145067,2.223335721339905,4.869289630014224,1.900562329076854,2.495269436823547,2.559807957961118,2.1323639431341785])                                                                                                                                                                                                                                                                                                                                                                                                                                                                                                                                                                                                                                       |\n",
      "|Don't Breathe                              |(256,[13,28,55,84,98,169,173,191,215,221,229,249],[2.8699628862649575,1.7125100975739145,2.434644815007112,1.771350597596848,2.323419179896888,2.434644815007112,2.1323639431341785,1.833870954578182,2.3774864011671637,2.495269436823547,1.5301885407799598,1.3760378609527015])                                                                                                                                                                                                                                                                                                                                                                                                                                                                                                                       |\n",
      "|Suicide Squad                              |(256,[2,10,19,25,38,42,83,94,128,129,133,136,139,147,152,164,166,174,180,190,193,232,249],[2.8699628862649575,2.3774864011671637,2.434644815007112,2.782951509275328,2.495269436823547,2.009761621041846,2.223335721339905,2.782951509275328,1.900562329076854,3.3219480100080148,2.272125885509337,2.9652730660692823,3.944042586117998,2.8699628862649575,2.176815705705012,2.223335721339905,2.272125885509337,1.6843392206072183,2.323419179896888,2.9652730660692823,2.272125885509337,2.1323639431341785,1.3760378609527015])                                                                                                                                                                                                                                                                      |\n",
      "|Kubo and the Two Strings                   |(256,[3,6,9,19,26,45,48,62,74,82,90,110,112,134,150,158,159,164,178,189,211,212,213,216,223,233,242,247,254],[2.7029088016017915,1.972021293058999,4.646838359793776,2.434644815007112,2.048982334195127,2.495269436823547,1.6569402464191036,2.8699628862649575,2.495269436823547,2.9652730660692823,2.0898043287153825,2.782951509275328,2.434644815007112,2.048982334195127,1.972021293058999,2.1323639431341785,2.3774864011671637,2.223335721339905,1.833870954578182,2.434644815007112,2.495269436823547,2.8699628862649575,2.176815705705012,1.833870954578182,2.434644815007112,2.272125885509337,1.900562329076854,6.376833234766984,2.559807957961118])                                                                                                                                        |\n",
      "|Ben-Hur                                    |(256,[3,10,44,87,139,150,158,165,183,233,250],[2.7029088016017915,2.3774864011671637,2.434644815007112,1.5301885407799598,1.972021293058999,1.972021293058999,2.1323639431341785,2.176815705705012,5.930546132138565,2.272125885509337,2.559807957961118])                                                                                                                                                                                                                                                                                                                                                                                                                                                                                                                                               |\n",
      "|War Dogs                                   |(256,[2,6,40,48,84,91,124,125,158,181,191,201,222,233,236,241,242,244],[2.8699628862649575,1.972021293058999,1.6302719993369423,1.6569402464191036,1.771350597596848,2.8699628862649575,2.272125885509337,2.559807957961118,2.1323639431341785,4.754972802334327,1.833870954578182,2.495269436823547,1.7125100975739145,2.272125885509337,2.3774864011671637,1.8021222562636017,1.900562329076854,2.323419179896888])                                                                                                                                                                                                                                                                                                                                                                                    |\n",
      "|Hell or High Water                         |(256,[72,83,103,108,134,158,166,178,187,192,221,224,252],[2.323419179896888,2.223335721339905,2.434644815007112,2.272125885509337,2.048982334195127,2.1323639431341785,2.272125885509337,1.833870954578182,2.1323639431341785,2.6288008294480694,2.495269436823547,3.188416617383492,2.782951509275328])                                                                                                                                                                                                                                                                                                                                                                                                                                                                                                 |\n",
      "|Anthropoid                                 |(256,[16,21,40,62,89,148,153,154,183,189,191,209,216,226,253],[2.495269436823547,2.6288008294480694,1.6302719993369423,2.8699628862649575,2.782951509275328,2.559807957961118,2.495269436823547,2.559807957961118,5.930546132138565,2.434644815007112,1.833870954578182,2.176815705705012,1.833870954578182,2.3774864011671637,2.495269436823547])                                                                                                                                                                                                                                                                                                                                                                                                                                                       |\n",
      "|Pete's Dragon                              |(256,[25,29,38,50,51,52,61,67,81,84,85,87,90,104,120,126,147,149,151,155,161,166,168,176,178,179,200,204,205,213,216,229,243],[2.782951509275328,2.559807957961118,2.495269436823547,2.0898043287153825,2.7029088016017915,2.176815705705012,3.8713072977762484,2.6288008294480694,2.176815705705012,1.771350597596848,2.272125885509337,1.5301885407799598,2.0898043287153825,2.272125885509337,2.9652730660692823,3.0706335817271087,2.8699628862649575,2.495269436823547,2.559807957961118,2.7029088016017915,2.048982334195127,2.272125885509337,2.495269436823547,2.3774864011671637,1.833870954578182,2.7029088016017915,2.495269436823547,2.9652730660692823,5.119615915922236,2.176815705705012,1.833870954578182,1.5301885407799598,2.176815705705012])                                         |\n",
      "|Rock Dog                                   |(256,[1,10,19,36,54,60,66,77,88,99,116,150,187,188,196,209,224,229,234],[2.559807957961118,2.3774864011671637,2.434644815007112,2.9652730660692823,1.8021222562636017,2.176815705705012,2.272125885509337,2.3774864011671637,2.7029088016017915,2.223335721339905,2.6288008294480694,1.972021293058999,2.1323639431341785,1.6569402464191036,2.7029088016017915,2.176815705705012,3.188416617383492,1.5301885407799598,2.176815705705012])                                                                                                                                                                                                                                                                                                                                                               |\n",
      "+-------------------------------------------+---------------------------------------------------------------------------------------------------------------------------------------------------------------------------------------------------------------------------------------------------------------------------------------------------------------------------------------------------------------------------------------------------------------------------------------------------------------------------------------------------------------------------------------------------------------------------------------------------------------------------------------------------------------------------------------------------------------------------------------------------------------------------------------------------------+\n",
      "only showing top 20 rows\n",
      "\n"
     ]
    }
   ],
   "source": [
    "# Display the DataFrame\n",
    "rescaledData.select(\"title\", \"features\").show(truncate=False)"
   ]
  },
  {
   "cell_type": "code",
   "execution_count": null,
   "metadata": {},
   "outputs": [],
   "source": [
    "inputword = \"Star wars\""
   ]
  },
  {
   "cell_type": "code",
   "execution_count": 110,
   "metadata": {},
   "outputs": [],
   "source": [
    "import spacy"
   ]
  },
  {
   "cell_type": "code",
   "execution_count": null,
   "metadata": {},
   "outputs": [],
   "source": [
    "nlp = spacy.load('en_core_web_md')"
   ]
  },
  {
   "cell_type": "code",
   "execution_count": 111,
   "metadata": {},
   "outputs": [
    {
     "ename": "NameError",
     "evalue": "name 'TextMatcher' is not defined",
     "output_type": "error",
     "traceback": [
      "\u001b[0;31m---------------------------------------------------------------------------\u001b[0m",
      "\u001b[0;31mNameError\u001b[0m                                 Traceback (most recent call last)",
      "\u001b[0;32m<ipython-input-111-575f8a203ece>\u001b[0m in \u001b[0;36m<module>\u001b[0;34m\u001b[0m\n\u001b[0;32m----> 1\u001b[0;31m \u001b[0mentity_extractor\u001b[0m \u001b[0;34m=\u001b[0m \u001b[0mTextMatcher\u001b[0m\u001b[0;34m(\u001b[0m\u001b[0;34m)\u001b[0m\u001b[0;31m \u001b[0m\u001b[0;31m\\\u001b[0m\u001b[0;34m\u001b[0m\u001b[0;34m\u001b[0m\u001b[0m\n\u001b[0m\u001b[1;32m      2\u001b[0m     \u001b[0;34m.\u001b[0m\u001b[0msetInputCols\u001b[0m\u001b[0;34m(\u001b[0m\u001b[0;34m[\u001b[0m\u001b[0;34m\"inputCol\"\u001b[0m\u001b[0;34m]\u001b[0m\u001b[0;34m)\u001b[0m\u001b[0;31m\\\u001b[0m\u001b[0;34m\u001b[0m\u001b[0;34m\u001b[0m\u001b[0m\n\u001b[1;32m      3\u001b[0m     \u001b[0;34m.\u001b[0m\u001b[0msetOutputCol\u001b[0m\u001b[0;34m(\u001b[0m\u001b[0;34m\"entity\"\u001b[0m\u001b[0;34m)\u001b[0m\u001b[0;31m\\\u001b[0m\u001b[0;34m\u001b[0m\u001b[0;34m\u001b[0m\u001b[0m\n\u001b[1;32m      4\u001b[0m     \u001b[0;34m.\u001b[0m\u001b[0msetEntities\u001b[0m\u001b[0;34m(\u001b[0m\u001b[0mtokenized\u001b[0m\u001b[0;34m.\u001b[0m\u001b[0mselect\u001b[0m\u001b[0;34m(\u001b[0m\u001b[0;34m\"stopwords\"\u001b[0m\u001b[0;34m)\u001b[0m\u001b[0;34m)\u001b[0m\u001b[0;34m\u001b[0m\u001b[0;34m\u001b[0m\u001b[0m\n",
      "\u001b[0;31mNameError\u001b[0m: name 'TextMatcher' is not defined"
     ]
    }
   ],
   "source": [
    "entity_extractor = TextMatcher() \\\n",
    "    .setInputCols([\"inputCol\"])\\\n",
    "    .setOutputCol(\"entity\")\\\n",
    "    .setEntities(tokenized.select(\"stopwords\"))"
   ]
  },
  {
   "cell_type": "code",
   "execution_count": 122,
   "metadata": {},
   "outputs": [
    {
     "name": "stderr",
     "output_type": "stream",
     "text": [
      "/Users/ericH/anaconda3/lib/python3.7/runpy.py:193: ModelsWarning: [W007] The model you're using has no word vectors loaded, so the result of the Doc.similarity method will be based on the tagger, parser and NER, which may not give useful similarity judgements. This may happen if you're using one of the small models, e.g. `en_core_web_sm`, which don't ship with word vectors and only use context-sensitive tensors. You can always add your own word vectors, or use one of the larger models instead if available.\n",
      "  \"__main__\", mod_spec)\n",
      "/Users/ericH/anaconda3/lib/python3.7/runpy.py:193: ModelsWarning: [W007] The model you're using has no word vectors loaded, so the result of the Doc.similarity method will be based on the tagger, parser and NER, which may not give useful similarity judgements. This may happen if you're using one of the small models, e.g. `en_core_web_sm`, which don't ship with word vectors and only use context-sensitive tensors. You can always add your own word vectors, or use one of the larger models instead if available.\n",
      "  \"__main__\", mod_spec)\n"
     ]
    }
   ],
   "source": [
    "oranges = nlp(u\"apples and oranges\")\n",
    "apples = nlp(u\"You saw me\")\n",
    "apples_oranges = apples.similarity(oranges)\n",
    "oranges_apples = oranges.similarity(apples)\n",
    "assert apples_oranges == oranges_apples"
   ]
  },
  {
   "cell_type": "code",
   "execution_count": null,
   "metadata": {},
   "outputs": [],
   "source": []
  }
 ],
 "metadata": {
  "kernelspec": {
   "display_name": "Python 3",
   "language": "python",
   "name": "python3"
  },
  "language_info": {
   "codemirror_mode": {
    "name": "ipython",
    "version": 3
   },
   "file_extension": ".py",
   "mimetype": "text/x-python",
   "name": "python",
   "nbconvert_exporter": "python",
   "pygments_lexer": "ipython3",
   "version": "3.7.1"
  }
 },
 "nbformat": 4,
 "nbformat_minor": 2
}
