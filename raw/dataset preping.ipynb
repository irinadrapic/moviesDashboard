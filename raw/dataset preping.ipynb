{
 "cells": [
  {
   "cell_type": "code",
   "execution_count": 1,
   "metadata": {},
   "outputs": [],
   "source": [
    "import pandas as pd\n",
    "import os\n",
    "import csv\n",
    "import numpy\n",
    "import json\n",
    "import requests"
   ]
  },
  {
   "cell_type": "markdown",
   "metadata": {},
   "source": [
    "## Clean csv"
   ]
  },
  {
   "cell_type": "code",
   "execution_count": 2,
   "metadata": {},
   "outputs": [],
   "source": [
    "df_1 = pd.read_csv(\"sm_master_moviedata.csv\")"
   ]
  },
  {
   "cell_type": "code",
   "execution_count": 3,
   "metadata": {
    "scrolled": true
   },
   "outputs": [
    {
     "data": {
      "text/plain": [
       "Index(['imdb_id', 'title', 'original_title', 'overview'], dtype='object')"
      ]
     },
     "execution_count": 3,
     "metadata": {},
     "output_type": "execute_result"
    }
   ],
   "source": [
    "df_1.keys()"
   ]
  },
  {
   "cell_type": "code",
   "execution_count": null,
   "metadata": {},
   "outputs": [],
   "source": [
    "df_1=df_1[['imdb_id','title','original_title','overview']]"
   ]
  },
  {
   "cell_type": "code",
   "execution_count": 37,
   "metadata": {},
   "outputs": [
    {
     "data": {
      "text/html": [
       "<div>\n",
       "<style scoped>\n",
       "    .dataframe tbody tr th:only-of-type {\n",
       "        vertical-align: middle;\n",
       "    }\n",
       "\n",
       "    .dataframe tbody tr th {\n",
       "        vertical-align: top;\n",
       "    }\n",
       "\n",
       "    .dataframe thead th {\n",
       "        text-align: right;\n",
       "    }\n",
       "</style>\n",
       "<table border=\"1\" class=\"dataframe\">\n",
       "  <thead>\n",
       "    <tr style=\"text-align: right;\">\n",
       "      <th></th>\n",
       "      <th>imdb_id</th>\n",
       "      <th>title</th>\n",
       "      <th>original_title</th>\n",
       "      <th>overview</th>\n",
       "    </tr>\n",
       "  </thead>\n",
       "  <tbody>\n",
       "    <tr>\n",
       "      <th>0</th>\n",
       "      <td>tt0069049</td>\n",
       "      <td>The Other Side of the Wind</td>\n",
       "      <td>The Other Side of the Wind</td>\n",
       "      <td>Orson Welles' unfinished masterpiece, restored...</td>\n",
       "    </tr>\n",
       "    <tr>\n",
       "      <th>1</th>\n",
       "      <td>tt1502397</td>\n",
       "      <td>Bad Boys for Life</td>\n",
       "      <td>Bad Boys for Life</td>\n",
       "      <td>The continuing adventures of Miami detectives ...</td>\n",
       "    </tr>\n",
       "    <tr>\n",
       "      <th>2</th>\n",
       "      <td>tt3906082</td>\n",
       "      <td>Mary Shelley</td>\n",
       "      <td>Mary Shelley</td>\n",
       "      <td>The love affair between poet Percy Shelley and...</td>\n",
       "    </tr>\n",
       "    <tr>\n",
       "      <th>3</th>\n",
       "      <td>tt5613402</td>\n",
       "      <td>Mobile Homes</td>\n",
       "      <td>Mobile Homes</td>\n",
       "      <td>In forgotten towns along the American border, ...</td>\n",
       "    </tr>\n",
       "    <tr>\n",
       "      <th>4</th>\n",
       "      <td>tt3038708</td>\n",
       "      <td>Iron Sky: The Coming Race</td>\n",
       "      <td>Iron Sky: The Coming Race</td>\n",
       "      <td>Twenty years after the events of Iron Sky, the...</td>\n",
       "    </tr>\n",
       "  </tbody>\n",
       "</table>\n",
       "</div>"
      ],
      "text/plain": [
       "     imdb_id                       title              original_title  \\\n",
       "0  tt0069049  The Other Side of the Wind  The Other Side of the Wind   \n",
       "1  tt1502397           Bad Boys for Life           Bad Boys for Life   \n",
       "2  tt3906082                Mary Shelley                Mary Shelley   \n",
       "3  tt5613402                Mobile Homes                Mobile Homes   \n",
       "4  tt3038708   Iron Sky: The Coming Race   Iron Sky: The Coming Race   \n",
       "\n",
       "                                            overview  \n",
       "0  Orson Welles' unfinished masterpiece, restored...  \n",
       "1  The continuing adventures of Miami detectives ...  \n",
       "2  The love affair between poet Percy Shelley and...  \n",
       "3  In forgotten towns along the American border, ...  \n",
       "4  Twenty years after the events of Iron Sky, the...  "
      ]
     },
     "execution_count": 37,
     "metadata": {},
     "output_type": "execute_result"
    }
   ],
   "source": [
    "df_1.head()"
   ]
  },
  {
   "cell_type": "code",
   "execution_count": null,
   "metadata": {},
   "outputs": [],
   "source": [
    "df_1.dropna(inplace=True)\n",
    "df_1.drop_duplicates(keep='first', inplace=True)"
   ]
  },
  {
   "cell_type": "code",
   "execution_count": 29,
   "metadata": {
    "scrolled": false
   },
   "outputs": [
    {
     "data": {
      "text/plain": [
       "imdb_id           1994\n",
       "title             1994\n",
       "original_title    1994\n",
       "overview          1994\n",
       "dtype: int64"
      ]
     },
     "execution_count": 29,
     "metadata": {},
     "output_type": "execute_result"
    }
   ],
   "source": [
    "df_1.count()"
   ]
  },
  {
   "cell_type": "code",
   "execution_count": 46,
   "metadata": {},
   "outputs": [
    {
     "data": {
      "text/plain": [
       "imdb_id           999\n",
       "title             999\n",
       "original_title    999\n",
       "overview          999\n",
       "dtype: int64"
      ]
     },
     "execution_count": 46,
     "metadata": {},
     "output_type": "execute_result"
    }
   ],
   "source": [
    "dftop1000 = df_1.iloc[900:1899]\n",
    "dftop1000.count()"
   ]
  },
  {
   "cell_type": "code",
   "execution_count": 47,
   "metadata": {},
   "outputs": [
    {
     "data": {
      "text/html": [
       "<div>\n",
       "<style scoped>\n",
       "    .dataframe tbody tr th:only-of-type {\n",
       "        vertical-align: middle;\n",
       "    }\n",
       "\n",
       "    .dataframe tbody tr th {\n",
       "        vertical-align: top;\n",
       "    }\n",
       "\n",
       "    .dataframe thead th {\n",
       "        text-align: right;\n",
       "    }\n",
       "</style>\n",
       "<table border=\"1\" class=\"dataframe\">\n",
       "  <thead>\n",
       "    <tr style=\"text-align: right;\">\n",
       "      <th></th>\n",
       "      <th>imdb_id</th>\n",
       "      <th>title</th>\n",
       "      <th>original_title</th>\n",
       "      <th>overview</th>\n",
       "    </tr>\n",
       "  </thead>\n",
       "  <tbody>\n",
       "    <tr>\n",
       "      <th>900</th>\n",
       "      <td>tt5213534</td>\n",
       "      <td>Supersonic</td>\n",
       "      <td>Supersonic</td>\n",
       "      <td>From award-winning director Mat Whitecross and...</td>\n",
       "    </tr>\n",
       "    <tr>\n",
       "      <th>901</th>\n",
       "      <td>tt6098922</td>\n",
       "      <td>Louis Theroux: Savile</td>\n",
       "      <td>Louis Theroux: Savile</td>\n",
       "      <td>Sixteen years after his documentary When Louis...</td>\n",
       "    </tr>\n",
       "    <tr>\n",
       "      <th>902</th>\n",
       "      <td>tt4682708</td>\n",
       "      <td>We Are the Flesh</td>\n",
       "      <td>Tenemos la carne</td>\n",
       "      <td>After wandering a ruined city for years in sea...</td>\n",
       "    </tr>\n",
       "    <tr>\n",
       "      <th>903</th>\n",
       "      <td>tt5979690</td>\n",
       "      <td>The Crooked Man</td>\n",
       "      <td>The Crooked Man</td>\n",
       "      <td>While at a slumber party, twelve-year-old Oliv...</td>\n",
       "    </tr>\n",
       "    <tr>\n",
       "      <th>904</th>\n",
       "      <td>tt6295304</td>\n",
       "      <td>Sebastian Maniscalco: Why Would You Do That?</td>\n",
       "      <td>Sebastian Maniscalco: Why Would You Do That?</td>\n",
       "      <td>Comedian Sebastian Maniscalco performs his thi...</td>\n",
       "    </tr>\n",
       "  </tbody>\n",
       "</table>\n",
       "</div>"
      ],
      "text/plain": [
       "       imdb_id                                         title  \\\n",
       "900  tt5213534                                    Supersonic   \n",
       "901  tt6098922                         Louis Theroux: Savile   \n",
       "902  tt4682708                              We Are the Flesh   \n",
       "903  tt5979690                               The Crooked Man   \n",
       "904  tt6295304  Sebastian Maniscalco: Why Would You Do That?   \n",
       "\n",
       "                                   original_title  \\\n",
       "900                                    Supersonic   \n",
       "901                         Louis Theroux: Savile   \n",
       "902                              Tenemos la carne   \n",
       "903                               The Crooked Man   \n",
       "904  Sebastian Maniscalco: Why Would You Do That?   \n",
       "\n",
       "                                              overview  \n",
       "900  From award-winning director Mat Whitecross and...  \n",
       "901  Sixteen years after his documentary When Louis...  \n",
       "902  After wandering a ruined city for years in sea...  \n",
       "903  While at a slumber party, twelve-year-old Oliv...  \n",
       "904  Comedian Sebastian Maniscalco performs his thi...  "
      ]
     },
     "execution_count": 47,
     "metadata": {},
     "output_type": "execute_result"
    }
   ],
   "source": [
    "dftop1000.head()"
   ]
  },
  {
   "cell_type": "code",
   "execution_count": 48,
   "metadata": {
    "scrolled": true
   },
   "outputs": [
    {
     "data": {
      "text/plain": [
       "900     tt5213534\n",
       "901     tt6098922\n",
       "902     tt4682708\n",
       "903     tt5979690\n",
       "904     tt6295304\n",
       "905     tt5194226\n",
       "906     tt5505722\n",
       "907     tt5968910\n",
       "908     tt5537614\n",
       "909     tt6146460\n",
       "910     tt3646592\n",
       "911     tt3750238\n",
       "912     tt5900208\n",
       "913     tt5936692\n",
       "914     tt3109072\n",
       "915     tt6044910\n",
       "916     tt2806390\n",
       "917     tt0825283\n",
       "918     tt4645330\n",
       "919     tt4354616\n",
       "920     tt3721936\n",
       "921     tt5974460\n",
       "922     tt4353996\n",
       "923     tt5282006\n",
       "924     tt2461150\n",
       "925     tt5427450\n",
       "926     tt5259496\n",
       "927     tt5918090\n",
       "928     tt4250566\n",
       "929     tt1860357\n",
       "          ...    \n",
       "1869    tt5491920\n",
       "1870    tt2649554\n",
       "1871    tt3652526\n",
       "1872    tt3828058\n",
       "1873    tt5487052\n",
       "1874    tt2652118\n",
       "1875    tt4005402\n",
       "1876    tt5095770\n",
       "1877    tt5358570\n",
       "1878    tt5280626\n",
       "1879    tt5559308\n",
       "1880    tt2233170\n",
       "1881    tt5437138\n",
       "1882    tt2207112\n",
       "1883    tt5134976\n",
       "1884    tt5559726\n",
       "1885    tt4820224\n",
       "1886    tt3543258\n",
       "1887    tt2879552\n",
       "1888    tt4083572\n",
       "1889    tt5013688\n",
       "1890    tt4432980\n",
       "1891    tt4769430\n",
       "1892    tt5455878\n",
       "1893    tt5340362\n",
       "1894    tt4846220\n",
       "1895    tt3515524\n",
       "1896    tt5432188\n",
       "1897    tt5070130\n",
       "1898    tt5140182\n",
       "Name: imdb_id, Length: 999, dtype: object"
      ]
     },
     "execution_count": 48,
     "metadata": {},
     "output_type": "execute_result"
    }
   ],
   "source": [
    "movie_list=dftop1000[\"imdb_id\"]\n",
    "movie_list"
   ]
  },
  {
   "cell_type": "code",
   "execution_count": null,
   "metadata": {},
   "outputs": [],
   "source": [
    "df_1.to_csv(\"sm_master_moviedata.csv\")"
   ]
  },
  {
   "cell_type": "markdown",
   "metadata": {},
   "source": [
    "## API OMDB"
   ]
  },
  {
   "cell_type": "code",
   "execution_count": 49,
   "metadata": {},
   "outputs": [],
   "source": [
    "# from api_key import api_key\n",
    "api_key = '6a57315d'\n",
    "# http://www.omdbapi.com/?apikey=e6bf2ec&i=tt7158814"
   ]
  },
  {
   "cell_type": "code",
   "execution_count": 50,
   "metadata": {},
   "outputs": [],
   "source": [
    "base_url = \"http://www.omdbapi.com/?apikey=\"+api_key+\"&i=\""
   ]
  },
  {
   "cell_type": "code",
   "execution_count": null,
   "metadata": {},
   "outputs": [],
   "source": [
    "test=[movie_list[0],movie_list[1]]\n",
    "test_url=base_url+test[0]"
   ]
  },
  {
   "cell_type": "code",
   "execution_count": null,
   "metadata": {},
   "outputs": [],
   "source": [
    "test_re=requests.get(test_url).json()\n",
    "test_re.keys()"
   ]
  },
  {
   "cell_type": "code",
   "execution_count": null,
   "metadata": {},
   "outputs": [],
   "source": [
    "test_re[\"imdbID\"]\n",
    "# test_re[\"Writer\"]\n",
    "# test_re[\"Actors\"]\n",
    "# test_re[\"Poster\"]\n",
    "# test_re[\"Ratings\"]\n",
    "# test_re[\"BoxOffice\"]\n",
    "# test_re[\"Production\"]"
   ]
  },
  {
   "cell_type": "code",
   "execution_count": null,
   "metadata": {},
   "outputs": [],
   "source": [
    "print(movie_list)"
   ]
  },
  {
   "cell_type": "code",
   "execution_count": 51,
   "metadata": {},
   "outputs": [],
   "source": [
    "scrape_data=[]"
   ]
  },
  {
   "cell_type": "code",
   "execution_count": 52,
   "metadata": {},
   "outputs": [
    {
     "name": "stdout",
     "output_type": "stream",
     "text": [
      "Beginning Data Retrieval     \n",
      "-----------------------------\n",
      "-----------------------------\n",
      "Data Retrieval Complete      \n",
      "-----------------------------\n"
     ]
    }
   ],
   "source": [
    "# List of movie ID data\n",
    "movie_list\n",
    "\n",
    "# Print to logger\n",
    "print(\"Beginning Data Retrieval     \")\n",
    "print(\"-----------------------------\")\n",
    "\n",
    "# Create counters\n",
    "record_count = 1\n",
    "\n",
    "# Loop through all the movies in our list\n",
    "for movie in movie_list:\n",
    "        \n",
    "    # Create endpoint URL with each movie\n",
    "    movie_url = base_url + str(movie)\n",
    "    \n",
    "    # Add 1 to the record count\n",
    "    record_count += 1\n",
    "    \n",
    "#     Run an API request for each of the movies\n",
    "#     try:\n",
    "    # Parse the JSON and retrieve data\n",
    "    movie_result = requests.get(movie_url).json()\n",
    "\n",
    "    # Parse out the necessary information\n",
    "    if movie_result[\"Poster\"] == 'N/A':\n",
    "        pass\n",
    "    else:\n",
    "        movie_imdbid=movie_result[\"imdbID\"]\n",
    "    #         movie_director=movie_result[\"Director\"]\n",
    "    #         movie_writer=movie_result[\"Writer\"]\n",
    "    #         movie_actors=movie_result[\"Actors\"]\n",
    "        movie_posterL=movie_result[\"Poster\"]\n",
    "    #         movie_ratings=movie_result[\"Ratings\"]\n",
    "    #         movie_box=movie_result[\"BoxOffice\"]\n",
    "    #         movie_production=movie_result[\"Production\"]\n",
    "\n",
    "            # Append the movie information into scrape_data list\n",
    "    #         scrape_data.append({\"imdb_id\": movie_imdbid,\n",
    "    #                             \"director\": movie_director,\n",
    "    #                           \"writer\": movie_writer, \n",
    "    #                           \"actors\": movie_actors, \n",
    "    #                           \"poster_link\": movie_posterL,\n",
    "    #                           \"ratings\": movie_ratings,\n",
    "    #                           \"boxoffice\": movie_box,\n",
    "    #                           \"production_company\": movie_production})\n",
    "        scrape_data.append({\"imdb_id\": movie_imdbid,\n",
    "                            \"poster_link\": movie_posterL,\n",
    "                          })\n",
    "\n",
    "\n",
    "    # If an error is experienced, skip the city\n",
    "#     except:\n",
    "#         print(\"Movie not found. Skipping...\")\n",
    "#         pass\n",
    "              \n",
    "# Indicate that Data Loading is complete \n",
    "print(\"-----------------------------\")\n",
    "print(\"Data Retrieval Complete      \")\n",
    "print(\"-----------------------------\")"
   ]
  },
  {
   "cell_type": "code",
   "execution_count": 14,
   "metadata": {},
   "outputs": [
    {
     "data": {
      "text/plain": [
       "73"
      ]
     },
     "execution_count": 14,
     "metadata": {},
     "output_type": "execute_result"
    }
   ],
   "source": [
    "len(scrape_data)"
   ]
  },
  {
   "cell_type": "code",
   "execution_count": 27,
   "metadata": {},
   "outputs": [
    {
     "data": {
      "text/plain": [
       "{'imdb_id': 'tt3906082',\n",
       " 'poster_link': 'https://m.media-amazon.com/images/M/MV5BNzUyM2EzOTEtOTMwMi00NzMwLWEyYTAtZGYxYzMyZDgyNGUyXkEyXkFqcGdeQXVyODY3Nzc0OTk@._V1_SX300.jpg'}"
      ]
     },
     "execution_count": 27,
     "metadata": {},
     "output_type": "execute_result"
    }
   ],
   "source": [
    "scrape_data[1]"
   ]
  },
  {
   "cell_type": "code",
   "execution_count": 53,
   "metadata": {},
   "outputs": [],
   "source": [
    "scrape_df=pd.DataFrame(scrape_data)"
   ]
  },
  {
   "cell_type": "code",
   "execution_count": 54,
   "metadata": {},
   "outputs": [
    {
     "data": {
      "text/html": [
       "<div>\n",
       "<style scoped>\n",
       "    .dataframe tbody tr th:only-of-type {\n",
       "        vertical-align: middle;\n",
       "    }\n",
       "\n",
       "    .dataframe tbody tr th {\n",
       "        vertical-align: top;\n",
       "    }\n",
       "\n",
       "    .dataframe thead th {\n",
       "        text-align: right;\n",
       "    }\n",
       "</style>\n",
       "<table border=\"1\" class=\"dataframe\">\n",
       "  <thead>\n",
       "    <tr style=\"text-align: right;\">\n",
       "      <th></th>\n",
       "      <th>imdb_id</th>\n",
       "      <th>poster_link</th>\n",
       "    </tr>\n",
       "  </thead>\n",
       "  <tbody>\n",
       "    <tr>\n",
       "      <th>0</th>\n",
       "      <td>tt5213534</td>\n",
       "      <td>https://m.media-amazon.com/images/M/MV5BOTMzMD...</td>\n",
       "    </tr>\n",
       "    <tr>\n",
       "      <th>1</th>\n",
       "      <td>tt6098922</td>\n",
       "      <td>https://images-na.ssl-images-amazon.com/images...</td>\n",
       "    </tr>\n",
       "    <tr>\n",
       "      <th>2</th>\n",
       "      <td>tt4682708</td>\n",
       "      <td>https://m.media-amazon.com/images/M/MV5BMTkzOT...</td>\n",
       "    </tr>\n",
       "    <tr>\n",
       "      <th>3</th>\n",
       "      <td>tt5979690</td>\n",
       "      <td>https://m.media-amazon.com/images/M/MV5BMmM0OG...</td>\n",
       "    </tr>\n",
       "    <tr>\n",
       "      <th>4</th>\n",
       "      <td>tt6295304</td>\n",
       "      <td>https://m.media-amazon.com/images/M/MV5BMDY2ND...</td>\n",
       "    </tr>\n",
       "  </tbody>\n",
       "</table>\n",
       "</div>"
      ],
      "text/plain": [
       "     imdb_id                                        poster_link\n",
       "0  tt5213534  https://m.media-amazon.com/images/M/MV5BOTMzMD...\n",
       "1  tt6098922  https://images-na.ssl-images-amazon.com/images...\n",
       "2  tt4682708  https://m.media-amazon.com/images/M/MV5BMTkzOT...\n",
       "3  tt5979690  https://m.media-amazon.com/images/M/MV5BMmM0OG...\n",
       "4  tt6295304  https://m.media-amazon.com/images/M/MV5BMDY2ND..."
      ]
     },
     "execution_count": 54,
     "metadata": {},
     "output_type": "execute_result"
    }
   ],
   "source": [
    "scrape_df.head()"
   ]
  },
  {
   "cell_type": "code",
   "execution_count": 58,
   "metadata": {},
   "outputs": [
    {
     "data": {
      "text/plain": [
       "imdb_id        991\n",
       "poster_link    991\n",
       "dtype: int64"
      ]
     },
     "execution_count": 58,
     "metadata": {},
     "output_type": "execute_result"
    }
   ],
   "source": [
    "scrape_df.count()"
   ]
  },
  {
   "cell_type": "code",
   "execution_count": 60,
   "metadata": {},
   "outputs": [],
   "source": [
    "# scrape_df.to_csv(\"poster_scraped_data.csv\")\n",
    "#Use this code to add to csv file\n",
    "scrape_df.to_csv('poster_scraped_data.csv', mode='a', index = None, header=False)"
   ]
  },
  {
   "cell_type": "code",
   "execution_count": 64,
   "metadata": {},
   "outputs": [],
   "source": [
    "df_1 = pd.read_csv(\"sm_master_moviedata.csv\")\n",
    "df_2 = pd.read_csv(\"poster_scraped_data.csv\")"
   ]
  },
  {
   "cell_type": "code",
   "execution_count": 66,
   "metadata": {},
   "outputs": [
    {
     "data": {
      "text/html": [
       "<div>\n",
       "<style scoped>\n",
       "    .dataframe tbody tr th:only-of-type {\n",
       "        vertical-align: middle;\n",
       "    }\n",
       "\n",
       "    .dataframe tbody tr th {\n",
       "        vertical-align: top;\n",
       "    }\n",
       "\n",
       "    .dataframe thead th {\n",
       "        text-align: right;\n",
       "    }\n",
       "</style>\n",
       "<table border=\"1\" class=\"dataframe\">\n",
       "  <thead>\n",
       "    <tr style=\"text-align: right;\">\n",
       "      <th></th>\n",
       "      <th>imdb_id</th>\n",
       "      <th>poster_link</th>\n",
       "    </tr>\n",
       "  </thead>\n",
       "  <tbody>\n",
       "    <tr>\n",
       "      <th>0</th>\n",
       "      <td>tt0069049</td>\n",
       "      <td>https://m.media-amazon.com/images/M/MV5BNDg5NT...</td>\n",
       "    </tr>\n",
       "    <tr>\n",
       "      <th>1</th>\n",
       "      <td>tt3906082</td>\n",
       "      <td>https://m.media-amazon.com/images/M/MV5BNzUyM2...</td>\n",
       "    </tr>\n",
       "    <tr>\n",
       "      <th>2</th>\n",
       "      <td>tt5613402</td>\n",
       "      <td>https://m.media-amazon.com/images/M/MV5BMTc3OT...</td>\n",
       "    </tr>\n",
       "    <tr>\n",
       "      <th>3</th>\n",
       "      <td>tt3038708</td>\n",
       "      <td>https://m.media-amazon.com/images/M/MV5BYzFmZD...</td>\n",
       "    </tr>\n",
       "    <tr>\n",
       "      <th>4</th>\n",
       "      <td>tt3498786</td>\n",
       "      <td>http://ia.media-imdb.com/images/M/MV5BNmEwNjJm...</td>\n",
       "    </tr>\n",
       "  </tbody>\n",
       "</table>\n",
       "</div>"
      ],
      "text/plain": [
       "     imdb_id                                        poster_link\n",
       "0  tt0069049  https://m.media-amazon.com/images/M/MV5BNDg5NT...\n",
       "1  tt3906082  https://m.media-amazon.com/images/M/MV5BNzUyM2...\n",
       "2  tt5613402  https://m.media-amazon.com/images/M/MV5BMTc3OT...\n",
       "3  tt3038708  https://m.media-amazon.com/images/M/MV5BYzFmZD...\n",
       "4  tt3498786  http://ia.media-imdb.com/images/M/MV5BNmEwNjJm..."
      ]
     },
     "execution_count": 66,
     "metadata": {},
     "output_type": "execute_result"
    }
   ],
   "source": [
    "df_2.head()"
   ]
  },
  {
   "cell_type": "code",
   "execution_count": 67,
   "metadata": {},
   "outputs": [],
   "source": [
    "df_outer = pd.merge(df_1, df_2, on='imdb_id', how='inner')"
   ]
  },
  {
   "cell_type": "code",
   "execution_count": 69,
   "metadata": {},
   "outputs": [
    {
     "data": {
      "text/plain": [
       "imdb_id           1886\n",
       "title             1886\n",
       "original_title    1886\n",
       "overview          1886\n",
       "poster_link       1886\n",
       "dtype: int64"
      ]
     },
     "execution_count": 69,
     "metadata": {},
     "output_type": "execute_result"
    }
   ],
   "source": [
    "df_outer.count()"
   ]
  },
  {
   "cell_type": "code",
   "execution_count": 70,
   "metadata": {},
   "outputs": [],
   "source": [
    "#Use this code for the first time to create the csv file\n",
    "df_outer.to_csv('final_moviedata.csv', index = None, header=True)\n"
   ]
  },
  {
   "cell_type": "code",
   "execution_count": null,
   "metadata": {},
   "outputs": [],
   "source": []
  },
  {
   "cell_type": "markdown",
   "metadata": {},
   "source": [
    "# Creating db"
   ]
  },
  {
   "cell_type": "code",
   "execution_count": null,
   "metadata": {},
   "outputs": [],
   "source": [
    "# Dependencies and boilerplate\n",
    "from sqlalchemy import Column, Float, Integer, String\n",
    "from sqlalchemy.ext.declarative import declarative_base\n",
    "\n",
    "Base = declarative_base()"
   ]
  },
  {
   "cell_type": "code",
   "execution_count": null,
   "metadata": {},
   "outputs": [],
   "source": [
    "# Create movie_metadata and scraped_data classes\n",
    "# ----------------------------------\n",
    "class Movie_Metadata(Base):\n",
    "    __tablename__ = 'movie_metadata'\n",
    "    id = Column(Integer, primary_key=True)\n",
    "    imdb_id = Column(String(255))\n",
    "    title = Column(String(255))\n",
    "    release_date = Column(String(255))\n",
    "    spoken_languages = Column(String(255))\n",
    "    genres = Column(String(255))\n",
    "    runtime = Column(String(255))\n",
    "    production_companies = Column(String(255))\n",
    "    production_countries = Column(String(255))\n",
    "    budget = Column(String(255))\n",
    "    revenue = Column(String(255))\n",
    "    overview = Column(String(255))\n",
    "    tagline = Column(String(255))\n",
    "    vote_average = Column(String(255))\n",
    "    vote_count = Column(String(255))\n",
    "    homepage = Column(String(255))\n",
    "    popularity = Column(String(255))\n",
    "          \n",
    "    "
   ]
  },
  {
   "cell_type": "code",
   "execution_count": null,
   "metadata": {},
   "outputs": [],
   "source": [
    "class Scraped_Data(Base):\n",
    "    __tablename__ = 'scraped_data'\n",
    "    id = Column(Integer, primary_key=True)\n",
    "    imdb_id = Column(String(255))\n",
    "    director = Column(String(255))\n",
    "    writer = Column(String(255))\n",
    "    actors = Column(String(255))\n",
    "    poster_link = Column(String(255))\n",
    "    ratings = Column(String(255))\n",
    "    boxoffice = Column(String(255))\n",
    "    production_company = Column(String(255))\n",
    "    \n"
   ]
  },
  {
   "cell_type": "code",
   "execution_count": null,
   "metadata": {},
   "outputs": [],
   "source": [
    "df_1.dtypes"
   ]
  },
  {
   "cell_type": "code",
   "execution_count": null,
   "metadata": {},
   "outputs": [],
   "source": [
    "df_1.columns"
   ]
  },
  {
   "cell_type": "code",
   "execution_count": null,
   "metadata": {},
   "outputs": [],
   "source": [
    "# Use a Session to test the class\n",
    "### BEGIN SOLUTION\n",
    "from sqlalchemy import create_engine\n",
    "from sqlalchemy.orm import Session\n",
    "\n",
    "engine = create_engine(\"sqlite:///../db/movies_db.sqlite\")\n",
    "Base.metadata.create_all(engine)\n",
    "\n",
    "session = Session(bind=engine)\n",
    "\n",
    "### END SOLUTION\n",
    "\n",
    "# conn = engine.connect()\n",
    "# Base.metadata.create_all(conn) \n",
    "for index, item in df_1.iterrows():\n",
    "    movie = Scraped_Data(imdb_id=item['imdb_id'], title=item['title'],\n",
    "            release_date = item['release_date'],\n",
    "            spoken_languages = item['spoken_languages'],\n",
    "            genres = item['genres'],\n",
    "            runtime = item['runtime'],\n",
    "            production_companies = item['production_companies'],\n",
    "            production_countries = item['production_countries'],\n",
    "            budget = item['budget'],\n",
    "            revenue = item['revenue'],\n",
    "            overview = item['overview'],\n",
    "            tagline = item['tagline'],\n",
    "            vote_average = item['vote_average'],\n",
    "            vote_count = item['vote_count'],\n",
    "            homepage = item['homepage'],\n",
    "            popularity = item['popularity'])\n",
    "    session.add(movie)\n",
    "    session.commit()"
   ]
  },
  {
   "cell_type": "code",
   "execution_count": null,
   "metadata": {},
   "outputs": [],
   "source": [
    "#Make sure all the columns are declared in the class Base\n",
    "scrape_df.columns\n",
    "# scrape_df.dtypes"
   ]
  },
  {
   "cell_type": "code",
   "execution_count": null,
   "metadata": {},
   "outputs": [],
   "source": [
    "#Make sure all the columns are declared in the class Base\n",
    "scrape_df.dtypes"
   ]
  },
  {
   "cell_type": "code",
   "execution_count": null,
   "metadata": {},
   "outputs": [],
   "source": [
    "# movie_metadata = Movie_Metadata(df_1)\n",
    "# scraped_data = Scraped_Data(scrape_df)\n",
    "# df_1.to_sql('movie_metadata', con=engine, if_exists='append', index=False)\n",
    "for index, item in scrape_df.iterrows():\n",
    "    movie = Movie_Metadata(imdb_id=item['imdb_id'], director=item['director'],\n",
    "            writer = item['writer'],\n",
    "            actors = item['actors'],\n",
    "            poster_link = item['poster_link'],\n",
    "            ratings = item['ratings'],\n",
    "            boxoffice = item['boxoffice'],\n",
    "            production_company = item['production_company'])\n",
    "    session.add(movie)\n",
    "    session.commit()"
   ]
  },
  {
   "cell_type": "code",
   "execution_count": null,
   "metadata": {},
   "outputs": [],
   "source": [
    "scrape_df.dtypes\n",
    "\n",
    "\n",
    "# anagramsdf['ID']= anagramsdf['ID'].astype('str')\n",
    "# anagramsdf['anagram_list']= anagramsdf['anagram_list'].astype('str')"
   ]
  },
  {
   "cell_type": "code",
   "execution_count": null,
   "metadata": {},
   "outputs": [],
   "source": [
    "# Somehow it will not insert into sqlite unless we change dtypes to string\n",
    "scrape_df = scrape_df.astype(str)\n",
    "scrape_df.dtypes"
   ]
  },
  {
   "cell_type": "code",
   "execution_count": null,
   "metadata": {},
   "outputs": [],
   "source": [
    "# scrape_df\n",
    "scrape_df.to_sql('scraped_data', con=engine, if_exists='append', index=False)"
   ]
  },
  {
   "cell_type": "code",
   "execution_count": null,
   "metadata": {},
   "outputs": [],
   "source": [
    "# View the data in sqlite\n",
    "engine.execute('select * from movie_metadata').fetchall()"
   ]
  },
  {
   "cell_type": "code",
   "execution_count": null,
   "metadata": {},
   "outputs": [],
   "source": [
    "# View the data in sqlite\n",
    "engine.execute('select * from scraped_data').fetchall()"
   ]
  },
  {
   "cell_type": "code",
   "execution_count": null,
   "metadata": {},
   "outputs": [],
   "source": [
    "# Add and commit the two new scripts\n",
    "### BEGIN SOLUTION\n",
    "# session.add_all(movie_metadata)\n",
    "# session.add_all(scraped_data)\n",
    "# session.commit()\n",
    "### END SOLUTION"
   ]
  }
 ],
 "metadata": {
  "kernelspec": {
   "display_name": "Python 3",
   "language": "python",
   "name": "python3"
  },
  "language_info": {
   "codemirror_mode": {
    "name": "ipython",
    "version": 3
   },
   "file_extension": ".py",
   "mimetype": "text/x-python",
   "name": "python",
   "nbconvert_exporter": "python",
   "pygments_lexer": "ipython3",
   "version": "3.7.1"
  }
 },
 "nbformat": 4,
 "nbformat_minor": 2
}
