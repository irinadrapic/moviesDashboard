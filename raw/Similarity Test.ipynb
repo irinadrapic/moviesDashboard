{
 "cells": [
  {
   "cell_type": "code",
   "execution_count": 1,
   "metadata": {},
   "outputs": [],
   "source": [
    "# for similarity need to download larger english word library with the below in gitbash \n",
    "# python -m spacy download en_core_web_lg"
   ]
  },
  {
   "cell_type": "code",
   "execution_count": 160,
   "metadata": {},
   "outputs": [],
   "source": [
    "import numpy as np\n",
    "import pandas as pd\n",
    "import spacy\n",
    "import pyspark\n",
    "from pyspark.ml.feature import StopWordsRemover\n",
    "from pyspark.sql import SparkSession"
   ]
  },
  {
   "cell_type": "code",
   "execution_count": 161,
   "metadata": {},
   "outputs": [],
   "source": [
    "spark = SparkSession.builder.appName('pandasToSparkDF').getOrCreate()"
   ]
  },
  {
   "cell_type": "code",
   "execution_count": 4,
   "metadata": {},
   "outputs": [],
   "source": [
    "file = pd.read_csv(\"joined_data_v1.csv\")"
   ]
  },
  {
   "cell_type": "code",
   "execution_count": 5,
   "metadata": {},
   "outputs": [
    {
     "data": {
      "text/html": [
       "<div>\n",
       "<style scoped>\n",
       "    .dataframe tbody tr th:only-of-type {\n",
       "        vertical-align: middle;\n",
       "    }\n",
       "\n",
       "    .dataframe tbody tr th {\n",
       "        vertical-align: top;\n",
       "    }\n",
       "\n",
       "    .dataframe thead th {\n",
       "        text-align: right;\n",
       "    }\n",
       "</style>\n",
       "<table border=\"1\" class=\"dataframe\">\n",
       "  <thead>\n",
       "    <tr style=\"text-align: right;\">\n",
       "      <th></th>\n",
       "      <th>id</th>\n",
       "      <th>imdb_id</th>\n",
       "      <th>title</th>\n",
       "      <th>release_date</th>\n",
       "      <th>spoken_languages</th>\n",
       "      <th>genres1</th>\n",
       "      <th>genres2</th>\n",
       "      <th>genres3</th>\n",
       "      <th>genres4</th>\n",
       "      <th>genres5</th>\n",
       "      <th>...</th>\n",
       "      <th>director</th>\n",
       "      <th>poster_link</th>\n",
       "      <th>production_company</th>\n",
       "      <th>vote_average</th>\n",
       "      <th>vote_average (%)</th>\n",
       "      <th>Internet_Movie_Database_rating</th>\n",
       "      <th>Rotten_Tomatoes_rating</th>\n",
       "      <th>Metacritic_rating</th>\n",
       "      <th>rating_average</th>\n",
       "      <th>writer</th>\n",
       "    </tr>\n",
       "  </thead>\n",
       "  <tbody>\n",
       "    <tr>\n",
       "      <th>0</th>\n",
       "      <td>339408</td>\n",
       "      <td>tt4196450</td>\n",
       "      <td>The Birth of a Nation</td>\n",
       "      <td>9/9/2016</td>\n",
       "      <td>[{'iso_639_1': 'en', 'name': 'English'}</td>\n",
       "      <td>Drama</td>\n",
       "      <td>NaN</td>\n",
       "      <td>NaN</td>\n",
       "      <td>NaN</td>\n",
       "      <td>NaN</td>\n",
       "      <td>...</td>\n",
       "      <td>Nate Parker</td>\n",
       "      <td>https://m.media-amazon.com/images/M/MV5BMTU5Mj...</td>\n",
       "      <td>Fox Searchlight Pictures</td>\n",
       "      <td>6.4</td>\n",
       "      <td>64%</td>\n",
       "      <td>64%</td>\n",
       "      <td>72%</td>\n",
       "      <td>69%</td>\n",
       "      <td>67%</td>\n",
       "      <td>Nate Parker (screenplay by), Nate Parker (stor...</td>\n",
       "    </tr>\n",
       "    <tr>\n",
       "      <th>1</th>\n",
       "      <td>339408</td>\n",
       "      <td>tt4196450</td>\n",
       "      <td>The Birth of a Nation</td>\n",
       "      <td>9/9/2016</td>\n",
       "      <td>[{'iso_639_1': 'en', 'name': 'English'}</td>\n",
       "      <td>Drama</td>\n",
       "      <td>NaN</td>\n",
       "      <td>NaN</td>\n",
       "      <td>NaN</td>\n",
       "      <td>NaN</td>\n",
       "      <td>...</td>\n",
       "      <td>Nate Parker</td>\n",
       "      <td>https://m.media-amazon.com/images/M/MV5BMTU5Mj...</td>\n",
       "      <td>Fox Searchlight Pictures</td>\n",
       "      <td>6.4</td>\n",
       "      <td>64%</td>\n",
       "      <td>64%</td>\n",
       "      <td>72%</td>\n",
       "      <td>69%</td>\n",
       "      <td>67%</td>\n",
       "      <td>Nate Parker (screenplay by), Nate Parker (stor...</td>\n",
       "    </tr>\n",
       "    <tr>\n",
       "      <th>2</th>\n",
       "      <td>363676</td>\n",
       "      <td>tt3263904</td>\n",
       "      <td>Sully</td>\n",
       "      <td>9/7/2016</td>\n",
       "      <td>[{'iso_639_1': 'en', 'name': 'English'}</td>\n",
       "      <td>Drama</td>\n",
       "      <td>History</td>\n",
       "      <td>NaN</td>\n",
       "      <td>NaN</td>\n",
       "      <td>NaN</td>\n",
       "      <td>...</td>\n",
       "      <td>Clint Eastwood</td>\n",
       "      <td>https://m.media-amazon.com/images/M/MV5BY2NmZD...</td>\n",
       "      <td>Warner Bros.</td>\n",
       "      <td>7.0</td>\n",
       "      <td>70%</td>\n",
       "      <td>75%</td>\n",
       "      <td>86%</td>\n",
       "      <td>74%</td>\n",
       "      <td>76%</td>\n",
       "      <td>Todd Komarnicki, Chesley Sullenberger (based o...</td>\n",
       "    </tr>\n",
       "    <tr>\n",
       "      <th>3</th>\n",
       "      <td>363676</td>\n",
       "      <td>tt3263904</td>\n",
       "      <td>Sully</td>\n",
       "      <td>9/7/2016</td>\n",
       "      <td>[{'iso_639_1': 'en', 'name': 'English'}</td>\n",
       "      <td>Drama</td>\n",
       "      <td>History</td>\n",
       "      <td>NaN</td>\n",
       "      <td>NaN</td>\n",
       "      <td>NaN</td>\n",
       "      <td>...</td>\n",
       "      <td>Clint Eastwood</td>\n",
       "      <td>https://m.media-amazon.com/images/M/MV5BY2NmZD...</td>\n",
       "      <td>Warner Bros.</td>\n",
       "      <td>7.0</td>\n",
       "      <td>70%</td>\n",
       "      <td>75%</td>\n",
       "      <td>86%</td>\n",
       "      <td>74%</td>\n",
       "      <td>76%</td>\n",
       "      <td>Todd Komarnicki, Chesley Sullenberger (based o...</td>\n",
       "    </tr>\n",
       "    <tr>\n",
       "      <th>4</th>\n",
       "      <td>296524</td>\n",
       "      <td>tt1860357</td>\n",
       "      <td>Deepwater Horizon</td>\n",
       "      <td>9/29/2016</td>\n",
       "      <td>[{'iso_639_1': 'en', 'name': 'English'}</td>\n",
       "      <td>Drama</td>\n",
       "      <td>Action</td>\n",
       "      <td>NaN</td>\n",
       "      <td>NaN</td>\n",
       "      <td>NaN</td>\n",
       "      <td>...</td>\n",
       "      <td>Peter Berg</td>\n",
       "      <td>https://m.media-amazon.com/images/M/MV5BOTEzND...</td>\n",
       "      <td>Lionsgate</td>\n",
       "      <td>6.5</td>\n",
       "      <td>65%</td>\n",
       "      <td>71%</td>\n",
       "      <td>83%</td>\n",
       "      <td>68%</td>\n",
       "      <td>72%</td>\n",
       "      <td>Matthew Michael Carnahan (screenplay by), Matt...</td>\n",
       "    </tr>\n",
       "  </tbody>\n",
       "</table>\n",
       "<p>5 rows × 33 columns</p>\n",
       "</div>"
      ],
      "text/plain": [
       "       id    imdb_id                  title release_date  \\\n",
       "0  339408  tt4196450  The Birth of a Nation     9/9/2016   \n",
       "1  339408  tt4196450  The Birth of a Nation     9/9/2016   \n",
       "2  363676  tt3263904                  Sully     9/7/2016   \n",
       "3  363676  tt3263904                  Sully     9/7/2016   \n",
       "4  296524  tt1860357      Deepwater Horizon    9/29/2016   \n",
       "\n",
       "                          spoken_languages genres1   genres2 genres3 genres4  \\\n",
       "0  [{'iso_639_1': 'en', 'name': 'English'}   Drama       NaN     NaN     NaN   \n",
       "1  [{'iso_639_1': 'en', 'name': 'English'}   Drama       NaN     NaN     NaN   \n",
       "2  [{'iso_639_1': 'en', 'name': 'English'}   Drama   History     NaN     NaN   \n",
       "3  [{'iso_639_1': 'en', 'name': 'English'}   Drama   History     NaN     NaN   \n",
       "4  [{'iso_639_1': 'en', 'name': 'English'}   Drama    Action     NaN     NaN   \n",
       "\n",
       "  genres5                        ...                                director  \\\n",
       "0     NaN                        ...                             Nate Parker   \n",
       "1     NaN                        ...                             Nate Parker   \n",
       "2     NaN                        ...                          Clint Eastwood   \n",
       "3     NaN                        ...                          Clint Eastwood   \n",
       "4     NaN                        ...                              Peter Berg   \n",
       "\n",
       "                                         poster_link  \\\n",
       "0  https://m.media-amazon.com/images/M/MV5BMTU5Mj...   \n",
       "1  https://m.media-amazon.com/images/M/MV5BMTU5Mj...   \n",
       "2  https://m.media-amazon.com/images/M/MV5BY2NmZD...   \n",
       "3  https://m.media-amazon.com/images/M/MV5BY2NmZD...   \n",
       "4  https://m.media-amazon.com/images/M/MV5BOTEzND...   \n",
       "\n",
       "         production_company  vote_average  vote_average (%)  \\\n",
       "0  Fox Searchlight Pictures           6.4               64%   \n",
       "1  Fox Searchlight Pictures           6.4               64%   \n",
       "2              Warner Bros.           7.0               70%   \n",
       "3              Warner Bros.           7.0               70%   \n",
       "4                 Lionsgate           6.5               65%   \n",
       "\n",
       "  Internet_Movie_Database_rating Rotten_Tomatoes_rating  Metacritic_rating  \\\n",
       "0                            64%                    72%                69%   \n",
       "1                            64%                    72%                69%   \n",
       "2                            75%                    86%                74%   \n",
       "3                            75%                    86%                74%   \n",
       "4                            71%                    83%                68%   \n",
       "\n",
       "  rating_average                                             writer  \n",
       "0            67%  Nate Parker (screenplay by), Nate Parker (stor...  \n",
       "1            67%  Nate Parker (screenplay by), Nate Parker (stor...  \n",
       "2            76%  Todd Komarnicki, Chesley Sullenberger (based o...  \n",
       "3            76%  Todd Komarnicki, Chesley Sullenberger (based o...  \n",
       "4            72%  Matthew Michael Carnahan (screenplay by), Matt...  \n",
       "\n",
       "[5 rows x 33 columns]"
      ]
     },
     "execution_count": 5,
     "metadata": {},
     "output_type": "execute_result"
    }
   ],
   "source": [
    "file = pd.DataFrame(file)\n",
    "file.head()"
   ]
  },
  {
   "cell_type": "code",
   "execution_count": 6,
   "metadata": {},
   "outputs": [],
   "source": [
    "file.drop_duplicates(keep='first', inplace=True)"
   ]
  },
  {
   "cell_type": "code",
   "execution_count": 7,
   "metadata": {},
   "outputs": [
    {
     "data": {
      "text/html": [
       "<div>\n",
       "<style scoped>\n",
       "    .dataframe tbody tr th:only-of-type {\n",
       "        vertical-align: middle;\n",
       "    }\n",
       "\n",
       "    .dataframe tbody tr th {\n",
       "        vertical-align: top;\n",
       "    }\n",
       "\n",
       "    .dataframe thead th {\n",
       "        text-align: right;\n",
       "    }\n",
       "</style>\n",
       "<table border=\"1\" class=\"dataframe\">\n",
       "  <thead>\n",
       "    <tr style=\"text-align: right;\">\n",
       "      <th></th>\n",
       "      <th>id</th>\n",
       "      <th>imdb_id</th>\n",
       "      <th>title</th>\n",
       "      <th>release_date</th>\n",
       "      <th>spoken_languages</th>\n",
       "      <th>genres1</th>\n",
       "      <th>genres2</th>\n",
       "      <th>genres3</th>\n",
       "      <th>genres4</th>\n",
       "      <th>genres5</th>\n",
       "      <th>...</th>\n",
       "      <th>director</th>\n",
       "      <th>poster_link</th>\n",
       "      <th>production_company</th>\n",
       "      <th>vote_average</th>\n",
       "      <th>vote_average (%)</th>\n",
       "      <th>Internet_Movie_Database_rating</th>\n",
       "      <th>Rotten_Tomatoes_rating</th>\n",
       "      <th>Metacritic_rating</th>\n",
       "      <th>rating_average</th>\n",
       "      <th>writer</th>\n",
       "    </tr>\n",
       "  </thead>\n",
       "  <tbody>\n",
       "    <tr>\n",
       "      <th>0</th>\n",
       "      <td>339408</td>\n",
       "      <td>tt4196450</td>\n",
       "      <td>The Birth of a Nation</td>\n",
       "      <td>9/9/2016</td>\n",
       "      <td>[{'iso_639_1': 'en', 'name': 'English'}</td>\n",
       "      <td>Drama</td>\n",
       "      <td>NaN</td>\n",
       "      <td>NaN</td>\n",
       "      <td>NaN</td>\n",
       "      <td>NaN</td>\n",
       "      <td>...</td>\n",
       "      <td>Nate Parker</td>\n",
       "      <td>https://m.media-amazon.com/images/M/MV5BMTU5Mj...</td>\n",
       "      <td>Fox Searchlight Pictures</td>\n",
       "      <td>6.4</td>\n",
       "      <td>64%</td>\n",
       "      <td>64%</td>\n",
       "      <td>72%</td>\n",
       "      <td>69%</td>\n",
       "      <td>67%</td>\n",
       "      <td>Nate Parker (screenplay by), Nate Parker (stor...</td>\n",
       "    </tr>\n",
       "    <tr>\n",
       "      <th>2</th>\n",
       "      <td>363676</td>\n",
       "      <td>tt3263904</td>\n",
       "      <td>Sully</td>\n",
       "      <td>9/7/2016</td>\n",
       "      <td>[{'iso_639_1': 'en', 'name': 'English'}</td>\n",
       "      <td>Drama</td>\n",
       "      <td>History</td>\n",
       "      <td>NaN</td>\n",
       "      <td>NaN</td>\n",
       "      <td>NaN</td>\n",
       "      <td>...</td>\n",
       "      <td>Clint Eastwood</td>\n",
       "      <td>https://m.media-amazon.com/images/M/MV5BY2NmZD...</td>\n",
       "      <td>Warner Bros.</td>\n",
       "      <td>7.0</td>\n",
       "      <td>70%</td>\n",
       "      <td>75%</td>\n",
       "      <td>86%</td>\n",
       "      <td>74%</td>\n",
       "      <td>76%</td>\n",
       "      <td>Todd Komarnicki, Chesley Sullenberger (based o...</td>\n",
       "    </tr>\n",
       "    <tr>\n",
       "      <th>4</th>\n",
       "      <td>296524</td>\n",
       "      <td>tt1860357</td>\n",
       "      <td>Deepwater Horizon</td>\n",
       "      <td>9/29/2016</td>\n",
       "      <td>[{'iso_639_1': 'en', 'name': 'English'}</td>\n",
       "      <td>Drama</td>\n",
       "      <td>Action</td>\n",
       "      <td>NaN</td>\n",
       "      <td>NaN</td>\n",
       "      <td>NaN</td>\n",
       "      <td>...</td>\n",
       "      <td>Peter Berg</td>\n",
       "      <td>https://m.media-amazon.com/images/M/MV5BOTEzND...</td>\n",
       "      <td>Lionsgate</td>\n",
       "      <td>6.5</td>\n",
       "      <td>65%</td>\n",
       "      <td>71%</td>\n",
       "      <td>83%</td>\n",
       "      <td>68%</td>\n",
       "      <td>72%</td>\n",
       "      <td>Matthew Michael Carnahan (screenplay by), Matt...</td>\n",
       "    </tr>\n",
       "    <tr>\n",
       "      <th>6</th>\n",
       "      <td>283366</td>\n",
       "      <td>tt1935859</td>\n",
       "      <td>Miss Peregrine's Home for Peculiar Children</td>\n",
       "      <td>9/28/2016</td>\n",
       "      <td>[{'iso_639_1': 'en', 'name': 'English'}</td>\n",
       "      <td>Drama</td>\n",
       "      <td>Fantasy</td>\n",
       "      <td>Adventure</td>\n",
       "      <td>NaN</td>\n",
       "      <td>NaN</td>\n",
       "      <td>...</td>\n",
       "      <td>Tim Burton</td>\n",
       "      <td>https://m.media-amazon.com/images/M/MV5BMTU0Nz...</td>\n",
       "      <td>20th Century Fox</td>\n",
       "      <td>6.5</td>\n",
       "      <td>65%</td>\n",
       "      <td>67%</td>\n",
       "      <td>65%</td>\n",
       "      <td>57%</td>\n",
       "      <td>64%</td>\n",
       "      <td>Ransom Riggs (based upon the novel written by)...</td>\n",
       "    </tr>\n",
       "    <tr>\n",
       "      <th>8</th>\n",
       "      <td>284564</td>\n",
       "      <td>tt3835080</td>\n",
       "      <td>31</td>\n",
       "      <td>9/15/2016</td>\n",
       "      <td>[{'iso_639_1': 'de', 'name': 'Deutsch'}, {'iso...</td>\n",
       "      <td>Horror</td>\n",
       "      <td>Thriller</td>\n",
       "      <td>NaN</td>\n",
       "      <td>NaN</td>\n",
       "      <td>NaN</td>\n",
       "      <td>...</td>\n",
       "      <td>Rob Zombie</td>\n",
       "      <td>https://m.media-amazon.com/images/M/MV5BNTE0NT...</td>\n",
       "      <td>Bow and Arrow Entertainment</td>\n",
       "      <td>4.9</td>\n",
       "      <td>49%</td>\n",
       "      <td>51%</td>\n",
       "      <td>49%</td>\n",
       "      <td>35%</td>\n",
       "      <td>46%</td>\n",
       "      <td>Rob Zombie</td>\n",
       "    </tr>\n",
       "  </tbody>\n",
       "</table>\n",
       "<p>5 rows × 33 columns</p>\n",
       "</div>"
      ],
      "text/plain": [
       "       id    imdb_id                                        title  \\\n",
       "0  339408  tt4196450                        The Birth of a Nation   \n",
       "2  363676  tt3263904                                        Sully   \n",
       "4  296524  tt1860357                            Deepwater Horizon   \n",
       "6  283366  tt1935859  Miss Peregrine's Home for Peculiar Children   \n",
       "8  284564  tt3835080                                           31   \n",
       "\n",
       "  release_date                                   spoken_languages  genres1  \\\n",
       "0     9/9/2016            [{'iso_639_1': 'en', 'name': 'English'}    Drama   \n",
       "2     9/7/2016            [{'iso_639_1': 'en', 'name': 'English'}    Drama   \n",
       "4    9/29/2016            [{'iso_639_1': 'en', 'name': 'English'}    Drama   \n",
       "6    9/28/2016            [{'iso_639_1': 'en', 'name': 'English'}    Drama   \n",
       "8    9/15/2016  [{'iso_639_1': 'de', 'name': 'Deutsch'}, {'iso...   Horror   \n",
       "\n",
       "     genres2    genres3 genres4 genres5  \\\n",
       "0        NaN        NaN     NaN     NaN   \n",
       "2    History        NaN     NaN     NaN   \n",
       "4     Action        NaN     NaN     NaN   \n",
       "6    Fantasy  Adventure     NaN     NaN   \n",
       "8   Thriller        NaN     NaN     NaN   \n",
       "\n",
       "                         ...                                director  \\\n",
       "0                        ...                             Nate Parker   \n",
       "2                        ...                          Clint Eastwood   \n",
       "4                        ...                              Peter Berg   \n",
       "6                        ...                              Tim Burton   \n",
       "8                        ...                              Rob Zombie   \n",
       "\n",
       "                                         poster_link  \\\n",
       "0  https://m.media-amazon.com/images/M/MV5BMTU5Mj...   \n",
       "2  https://m.media-amazon.com/images/M/MV5BY2NmZD...   \n",
       "4  https://m.media-amazon.com/images/M/MV5BOTEzND...   \n",
       "6  https://m.media-amazon.com/images/M/MV5BMTU0Nz...   \n",
       "8  https://m.media-amazon.com/images/M/MV5BNTE0NT...   \n",
       "\n",
       "            production_company  vote_average  vote_average (%)  \\\n",
       "0     Fox Searchlight Pictures           6.4               64%   \n",
       "2                 Warner Bros.           7.0               70%   \n",
       "4                    Lionsgate           6.5               65%   \n",
       "6             20th Century Fox           6.5               65%   \n",
       "8  Bow and Arrow Entertainment           4.9               49%   \n",
       "\n",
       "  Internet_Movie_Database_rating Rotten_Tomatoes_rating  Metacritic_rating  \\\n",
       "0                            64%                    72%                69%   \n",
       "2                            75%                    86%                74%   \n",
       "4                            71%                    83%                68%   \n",
       "6                            67%                    65%                57%   \n",
       "8                            51%                    49%                35%   \n",
       "\n",
       "  rating_average                                             writer  \n",
       "0            67%  Nate Parker (screenplay by), Nate Parker (stor...  \n",
       "2            76%  Todd Komarnicki, Chesley Sullenberger (based o...  \n",
       "4            72%  Matthew Michael Carnahan (screenplay by), Matt...  \n",
       "6            64%  Ransom Riggs (based upon the novel written by)...  \n",
       "8            46%                                         Rob Zombie  \n",
       "\n",
       "[5 rows x 33 columns]"
      ]
     },
     "execution_count": 7,
     "metadata": {},
     "output_type": "execute_result"
    }
   ],
   "source": [
    "file.head()"
   ]
  },
  {
   "cell_type": "code",
   "execution_count": 8,
   "metadata": {},
   "outputs": [
    {
     "data": {
      "text/html": [
       "<div>\n",
       "<style scoped>\n",
       "    .dataframe tbody tr th:only-of-type {\n",
       "        vertical-align: middle;\n",
       "    }\n",
       "\n",
       "    .dataframe tbody tr th {\n",
       "        vertical-align: top;\n",
       "    }\n",
       "\n",
       "    .dataframe thead th {\n",
       "        text-align: right;\n",
       "    }\n",
       "</style>\n",
       "<table border=\"1\" class=\"dataframe\">\n",
       "  <thead>\n",
       "    <tr style=\"text-align: right;\">\n",
       "      <th></th>\n",
       "      <th>title</th>\n",
       "      <th>overview</th>\n",
       "    </tr>\n",
       "  </thead>\n",
       "  <tbody>\n",
       "    <tr>\n",
       "      <th>0</th>\n",
       "      <td>The Birth of a Nation</td>\n",
       "      <td>Nat Turner, a former slave in America, leads a...</td>\n",
       "    </tr>\n",
       "    <tr>\n",
       "      <th>2</th>\n",
       "      <td>Sully</td>\n",
       "      <td>On 15 January 2009, the world witnessed the 'M...</td>\n",
       "    </tr>\n",
       "    <tr>\n",
       "      <th>4</th>\n",
       "      <td>Deepwater Horizon</td>\n",
       "      <td>A story set on the offshore drilling rig Deepw...</td>\n",
       "    </tr>\n",
       "    <tr>\n",
       "      <th>6</th>\n",
       "      <td>Miss Peregrine's Home for Peculiar Children</td>\n",
       "      <td>A teenager finds himself transported to an isl...</td>\n",
       "    </tr>\n",
       "    <tr>\n",
       "      <th>8</th>\n",
       "      <td>31</td>\n",
       "      <td>ROB ZOMBIE'S  S P O O K  H A U S 31</td>\n",
       "    </tr>\n",
       "  </tbody>\n",
       "</table>\n",
       "</div>"
      ],
      "text/plain": [
       "                                         title  \\\n",
       "0                        The Birth of a Nation   \n",
       "2                                        Sully   \n",
       "4                            Deepwater Horizon   \n",
       "6  Miss Peregrine's Home for Peculiar Children   \n",
       "8                                           31   \n",
       "\n",
       "                                            overview  \n",
       "0  Nat Turner, a former slave in America, leads a...  \n",
       "2  On 15 January 2009, the world witnessed the 'M...  \n",
       "4  A story set on the offshore drilling rig Deepw...  \n",
       "6  A teenager finds himself transported to an isl...  \n",
       "8                ROB ZOMBIE'S  S P O O K  H A U S 31  "
      ]
     },
     "execution_count": 8,
     "metadata": {},
     "output_type": "execute_result"
    }
   ],
   "source": [
    "overview_df2 = file[[\"title\", \"overview\"]].copy()\n",
    "overview_df2.head()"
   ]
  },
  {
   "cell_type": "code",
   "execution_count": 9,
   "metadata": {},
   "outputs": [],
   "source": [
    "from pyspark.ml.feature import Tokenizer\n",
    "from pyspark.sql.functions import col, udf\n",
    "from pyspark.sql.types import IntegerType"
   ]
  },
  {
   "cell_type": "code",
   "execution_count": 10,
   "metadata": {},
   "outputs": [
    {
     "name": "stdout",
     "output_type": "stream",
     "text": [
      "+--------------------+--------------------+\n",
      "|               title|            overview|\n",
      "+--------------------+--------------------+\n",
      "|The Birth of a Na...|Nat Turner, a for...|\n",
      "|               Sully|On 15 January 200...|\n",
      "|   Deepwater Horizon|A story set on th...|\n",
      "|Miss Peregrine's ...|A teenager finds ...|\n",
      "|                  31|ROB ZOMBIE'S  S P...|\n",
      "|             Snowden|CIA employee Edwa...|\n",
      "|         Blair Witch|Students on a cam...|\n",
      "|The Magnificent S...|Seven gun men in ...|\n",
      "|              Morgan|A corporate risk-...|\n",
      "|      The Dark Tower|The last Gunsling...|\n",
      "|          Nine Lives|A stuffy business...|\n",
      "|       Don't Breathe|A group of teens ...|\n",
      "|       Suicide Squad|From DC Comics co...|\n",
      "|Kubo and the Two ...|Kubo mesmerizes t...|\n",
      "|             Ben-Hur|A falsely accused...|\n",
      "|            War Dogs|Based on the true...|\n",
      "|  Hell or High Water|A divorced dad an...|\n",
      "|          Anthropoid|In December 1941,...|\n",
      "|       Pete's Dragon|Pete is a mysteri...|\n",
      "|            Rock Dog|When a radio fall...|\n",
      "+--------------------+--------------------+\n",
      "only showing top 20 rows\n",
      "\n"
     ]
    }
   ],
   "source": [
    "sentenceData = spark.createDataFrame(overview_df2)\n",
    "sentenceData.show() "
   ]
  },
  {
   "cell_type": "code",
   "execution_count": 11,
   "metadata": {},
   "outputs": [
    {
     "data": {
      "text/plain": [
       "Tokenizer_b4068e713dfe"
      ]
     },
     "execution_count": 11,
     "metadata": {},
     "output_type": "execute_result"
    }
   ],
   "source": [
    "tokenizer = Tokenizer(inputCol=\"overview\", outputCol=\"words\")\n",
    "tokenizer"
   ]
  },
  {
   "cell_type": "code",
   "execution_count": 12,
   "metadata": {},
   "outputs": [
    {
     "name": "stdout",
     "output_type": "stream",
     "text": [
      "+-------------------------------------------+------------------------------------------------------------------------------------------------------------------------------------------------------------------------------------------------------------------------------------------------------------------------------------------------------------------------------------------------------------------------------------------------------------------------+--------------------------------------------------------------------------------------------------------------------------------------------------------------------------------------------------------------------------------------------------------------------------------------------------------------------------------------------------------------------------------------------------------------------------------------------------------------------------------------------+\n",
      "|title                                      |overview                                                                                                                                                                                                                                                                                                                                                                                                                |words                                                                                                                                                                                                                                                                                                                                                                                                                                                                                       |\n",
      "+-------------------------------------------+------------------------------------------------------------------------------------------------------------------------------------------------------------------------------------------------------------------------------------------------------------------------------------------------------------------------------------------------------------------------------------------------------------------------+--------------------------------------------------------------------------------------------------------------------------------------------------------------------------------------------------------------------------------------------------------------------------------------------------------------------------------------------------------------------------------------------------------------------------------------------------------------------------------------------+\n",
      "|The Birth of a Nation                      |Nat Turner, a former slave in America, leads a liberation movement in 1831 to free African-Americans in Virgina that results in a violent retaliation from whites.                                                                                                                                                                                                                                                      |[nat, turner,, a, former, slave, in, america,, leads, a, liberation, movement, in, 1831, to, free, african-americans, in, virgina, that, results, in, a, violent, retaliation, from, whites.]                                                                                                                                                                                                                                                                                               |\n",
      "|Sully                                      |On 15 January 2009, the world witnessed the 'Miracle on the Hudson' when Captain 'Sully' Sullenberger glided his disabled plane onto the frigid waters of the Hudson River, saving the lives of all 155 aboard. However, even as Sully was being heralded by the public and the media for his unprecedented feat of aviation skill, an investigation was unfolding that threatened to destroy his reputation and career.|[on, 15, january, 2009,, the, world, witnessed, the, 'miracle, on, the, hudson', when, captain, 'sully', sullenberger, glided, his, disabled, plane, onto, the, frigid, waters, of, the, hudson, river,, saving, the, lives, of, all, 155, aboard., however,, even, as, sully, was, being, heralded, by, the, public, and, the, media, for, his, unprecedented, feat, of, aviation, skill,, an, investigation, was, unfolding, that, threatened, to, destroy, his, reputation, and, career.]|\n",
      "|Deepwater Horizon                          |A story set on the offshore drilling rig Deepwater Horizon, which exploded during April 2010 and created the worst oil spill in U.S. history.                                                                                                                                                                                                                                                                           |[a, story, set, on, the, offshore, drilling, rig, deepwater, horizon,, which, exploded, during, april, 2010, and, created, the, worst, oil, spill, in, u.s., history.]                                                                                                                                                                                                                                                                                                                      |\n",
      "|Miss Peregrine's Home for Peculiar Children|A teenager finds himself transported to an island where he must help protect a group of orphans with special powers from creatures intent on destroying them.                                                                                                                                                                                                                                                           |[a, teenager, finds, himself, transported, to, an, island, where, he, must, help, protect, a, group, of, orphans, with, special, powers, from, creatures, intent, on, destroying, them.]                                                                                                                                                                                                                                                                                                    |\n",
      "|31                                         |ROB ZOMBIE'S  S P O O K  H A U S 31                                                                                                                                                                                                                                                                                                                                                                                     |[rob, zombie's, , s, p, o, o, k, , h, a, u, s, 31]                                                                                                                                                                                                                                                                                                                                                                                                                                          |\n",
      "|Snowden                                    |CIA employee Edward Snowden leaks thousands of classified documents to the press.                                                                                                                                                                                                                                                                                                                                       |[cia, employee, edward, snowden, leaks, thousands, of, classified, documents, to, the, press.]                                                                                                                                                                                                                                                                                                                                                                                              |\n",
      "|Blair Witch                                |Students on a camping trip discover something sinister is lurking beyond the trees.                                                                                                                                                                                                                                                                                                                                     |[students, on, a, camping, trip, discover, something, sinister, is, lurking, beyond, the, trees.]                                                                                                                                                                                                                                                                                                                                                                                           |\n",
      "|The Magnificent Seven                      |Seven gun men in the old west gradually come together to help a poor village against savage thieves.                                                                                                                                                                                                                                                                                                                    |[seven, gun, men, in, the, old, west, gradually, come, together, to, help, a, poor, village, against, savage, thieves.]                                                                                                                                                                                                                                                                                                                                                                     |\n",
      "|Morgan                                     |A corporate risk-management consultant must determine whether or not to terminate an artificial being's life that was made in a laboratory environment.                                                                                                                                                                                                                                                                 |[a, corporate, risk-management, consultant, must, determine, whether, or, not, to, terminate, an, artificial, being's, life, that, was, made, in, a, laboratory, environment.]                                                                                                                                                                                                                                                                                                              |\n",
      "|The Dark Tower                             |The last Gunslinger, Roland Deschain, has been locked in an eternal battle with Walter O’Dim, also known as the Man in Black, determined to prevent him from toppling the Dark Tower, which holds the universe together. With the fate of the worlds at stake, good and evil will collide in the ultimate battle as only Roland can defend the Tower from the Man in Black.                                             |[the, last, gunslinger,, roland, deschain,, has, been, locked, in, an, eternal, battle, with, walter, o’dim,, also, known, as, the, man, in, black,, determined, to, prevent, him, from, toppling, the, dark, tower,, which, holds, the, universe, together., with, the, fate, of, the, worlds, at, stake,, good, and, evil, will, collide, in, the, ultimate, battle, as, only, roland, can, defend, the, tower, from, the, man, in, black.]                                               |\n",
      "|Nine Lives                                 |A stuffy businessman finds himself trapped inside the body of his family's cat.                                                                                                                                                                                                                                                                                                                                         |[a, stuffy, businessman, finds, himself, trapped, inside, the, body, of, his, family's, cat.]                                                                                                                                                                                                                                                                                                                                                                                               |\n",
      "|Don't Breathe                              |A group of teens break into a blind man's home thinking they'll get away with the perfect crime. They're wrong.                                                                                                                                                                                                                                                                                                         |[a, group, of, teens, break, into, a, blind, man's, home, thinking, they'll, get, away, with, the, perfect, crime., they're, wrong.]                                                                                                                                                                                                                                                                                                                                                        |\n",
      "|Suicide Squad                              |From DC Comics comes the Suicide Squad, an antihero team of incarcerated supervillains who act as deniable assets for the United States government, undertaking high-risk black ops missions in exchange for commuted prison sentences.                                                                                                                                                                                 |[from, dc, comics, comes, the, suicide, squad,, an, antihero, team, of, incarcerated, supervillains, who, act, as, deniable, assets, for, the, united, states, government,, undertaking, high-risk, black, ops, missions, in, exchange, for, commuted, prison, sentences.]                                                                                                                                                                                                                  |\n",
      "|Kubo and the Two Strings                   |Kubo mesmerizes the people in his village with his magical gift for spinning wild tales with origami. When he accidentally summons an evil spirit seeking vengeance, Kubo is forced to go on a quest to solve the mystery of his fallen samurai father and his mystical weaponry, as well as discover his own magical powers.                                                                                           |[kubo, mesmerizes, the, people, in, his, village, with, his, magical, gift, for, spinning, wild, tales, with, origami., when, he, accidentally, summons, an, evil, spirit, seeking, vengeance,, kubo, is, forced, to, go, on, a, quest, to, solve, the, mystery, of, his, fallen, samurai, father, and, his, mystical, weaponry,, as, well, as, discover, his, own, magical, powers.]                                                                                                       |\n",
      "|Ben-Hur                                    |A falsely accused nobleman survives years of slavery to take vengeance on his best friend who betrayed him.                                                                                                                                                                                                                                                                                                             |[a, falsely, accused, nobleman, survives, years, of, slavery, to, take, vengeance, on, his, best, friend, who, betrayed, him.]                                                                                                                                                                                                                                                                                                                                                              |\n",
      "|War Dogs                                   |Based on the true story of two young men, David Packouz and Efraim Diveroli, who won a $300 million contract from the Pentagon to arm America's allies in Afghanistan.                                                                                                                                                                                                                                                  |[based, on, the, true, story, of, two, young, men,, david, packouz, and, efraim, diveroli,, who, won, a, $300, million, contract, from, the, pentagon, to, arm, america's, allies, in, afghanistan.]                                                                                                                                                                                                                                                                                        |\n",
      "|Hell or High Water                         |A divorced dad and his ex-con brother resort to a desperate scheme in order to save their family's farm in West Texas.                                                                                                                                                                                                                                                                                                  |[a, divorced, dad, and, his, ex-con, brother, resort, to, a, desperate, scheme, in, order, to, save, their, family's, farm, in, west, texas.]                                                                                                                                                                                                                                                                                                                                               |\n",
      "|Anthropoid                                 |In December 1941, Czech soldiers Jozef Gabčík and Jan Kubiš parachute into their occupied homeland to assassinate Nazi officer Reinhard Heydrich.                                                                                                                                                                                                                                                                       |[in, december, 1941,, czech, soldiers, jozef, gabčík, and, jan, kubiš, parachute, into, their, occupied, homeland, to, assassinate, nazi, officer, reinhard, heydrich.]                                                                                                                                                                                                                                                                                                                     |\n",
      "|Pete's Dragon                              |Pete is a mysterious 10-year-old with no family and no home who claims to live in the woods with a giant, green dragon named Elliott. With the help of Natalie, an 11-year-old girl whose father Jack owns the local lumber mill, forest ranger Grace sets out to determine where Pete came from, where he belongs, and the truth about this dragon.                                                                    |[pete, is, a, mysterious, 10-year-old, with, no, family, and, no, home, who, claims, to, live, in, the, woods, with, a, giant,, green, dragon, named, elliott., with, the, help, of, natalie,, an, 11-year-old, girl, whose, father, jack, owns, the, local, lumber, mill,, forest, ranger, grace, sets, out, to, determine, where, pete, came, from,, where, he, belongs,, and, the, truth, about, this, dragon.]                                                                          |\n",
      "|Rock Dog                                   |When a radio falls from the sky into the hands of a wide-eyed Tibetan Mastiff, he leaves home to fulfill his dream of becoming a musician, setting into motion a series of completely unexpected events.                                                                                                                                                                                                                |[when, a, radio, falls, from, the, sky, into, the, hands, of, a, wide-eyed, tibetan, mastiff,, he, leaves, home, to, fulfill, his, dream, of, becoming, a, musician,, setting, into, motion, a, series, of, completely, unexpected, events.]                                                                                                                                                                                                                                                |\n",
      "+-------------------------------------------+------------------------------------------------------------------------------------------------------------------------------------------------------------------------------------------------------------------------------------------------------------------------------------------------------------------------------------------------------------------------------------------------------------------------+--------------------------------------------------------------------------------------------------------------------------------------------------------------------------------------------------------------------------------------------------------------------------------------------------------------------------------------------------------------------------------------------------------------------------------------------------------------------------------------------+\n",
      "only showing top 20 rows\n"
     ]
    },
    {
     "name": "stdout",
     "output_type": "stream",
     "text": [
      "\n"
     ]
    }
   ],
   "source": [
    "# Transform and show DataFrame\n",
    "tokenized = tokenizer.transform(sentenceData)\n",
    "tokenized.show(truncate=False)"
   ]
  },
  {
   "cell_type": "code",
   "execution_count": 13,
   "metadata": {},
   "outputs": [],
   "source": [
    "# Instantiate Remover\n",
    "remover = StopWordsRemover(inputCol=\"words\", outputCol=\"stopwords\")"
   ]
  },
  {
   "cell_type": "code",
   "execution_count": 14,
   "metadata": {},
   "outputs": [
    {
     "name": "stdout",
     "output_type": "stream",
     "text": [
      "+-------------------------------------------+------------------------------------------------------------------------------------------------------------------------------------------------------------------------------------------------------------------------------------------------------------------------------------------------------------------------------------------------------------------------------------------------------------------------+--------------------------------------------------------------------------------------------------------------------------------------------------------------------------------------------------------------------------------------------------------------------------------------------------------------------------------------------------------------------------------------------------------------------------------------------------------------------------------------------+------------------------------------------------------------------------------------------------------------------------------------------------------------------------------------------------------------------------------------------------------------------------------------------------------------------------------------------------+\n",
      "|title                                      |overview                                                                                                                                                                                                                                                                                                                                                                                                                |words                                                                                                                                                                                                                                                                                                                                                                                                                                                                                       |stopwords                                                                                                                                                                                                                                                                                                                                       |\n",
      "+-------------------------------------------+------------------------------------------------------------------------------------------------------------------------------------------------------------------------------------------------------------------------------------------------------------------------------------------------------------------------------------------------------------------------------------------------------------------------+--------------------------------------------------------------------------------------------------------------------------------------------------------------------------------------------------------------------------------------------------------------------------------------------------------------------------------------------------------------------------------------------------------------------------------------------------------------------------------------------+------------------------------------------------------------------------------------------------------------------------------------------------------------------------------------------------------------------------------------------------------------------------------------------------------------------------------------------------+\n",
      "|The Birth of a Nation                      |Nat Turner, a former slave in America, leads a liberation movement in 1831 to free African-Americans in Virgina that results in a violent retaliation from whites.                                                                                                                                                                                                                                                      |[nat, turner,, a, former, slave, in, america,, leads, a, liberation, movement, in, 1831, to, free, african-americans, in, virgina, that, results, in, a, violent, retaliation, from, whites.]                                                                                                                                                                                                                                                                                               |[nat, turner,, former, slave, america,, leads, liberation, movement, 1831, free, african-americans, virgina, results, violent, retaliation, whites.]                                                                                                                                                                                            |\n",
      "|Sully                                      |On 15 January 2009, the world witnessed the 'Miracle on the Hudson' when Captain 'Sully' Sullenberger glided his disabled plane onto the frigid waters of the Hudson River, saving the lives of all 155 aboard. However, even as Sully was being heralded by the public and the media for his unprecedented feat of aviation skill, an investigation was unfolding that threatened to destroy his reputation and career.|[on, 15, january, 2009,, the, world, witnessed, the, 'miracle, on, the, hudson', when, captain, 'sully', sullenberger, glided, his, disabled, plane, onto, the, frigid, waters, of, the, hudson, river,, saving, the, lives, of, all, 155, aboard., however,, even, as, sully, was, being, heralded, by, the, public, and, the, media, for, his, unprecedented, feat, of, aviation, skill,, an, investigation, was, unfolding, that, threatened, to, destroy, his, reputation, and, career.]|[15, january, 2009,, world, witnessed, 'miracle, hudson', captain, 'sully', sullenberger, glided, disabled, plane, onto, frigid, waters, hudson, river,, saving, lives, 155, aboard., however,, even, sully, heralded, public, media, unprecedented, feat, aviation, skill,, investigation, unfolding, threatened, destroy, reputation, career.]|\n",
      "|Deepwater Horizon                          |A story set on the offshore drilling rig Deepwater Horizon, which exploded during April 2010 and created the worst oil spill in U.S. history.                                                                                                                                                                                                                                                                           |[a, story, set, on, the, offshore, drilling, rig, deepwater, horizon,, which, exploded, during, april, 2010, and, created, the, worst, oil, spill, in, u.s., history.]                                                                                                                                                                                                                                                                                                                      |[story, set, offshore, drilling, rig, deepwater, horizon,, exploded, april, 2010, created, worst, oil, spill, u.s., history.]                                                                                                                                                                                                                   |\n",
      "|Miss Peregrine's Home for Peculiar Children|A teenager finds himself transported to an island where he must help protect a group of orphans with special powers from creatures intent on destroying them.                                                                                                                                                                                                                                                           |[a, teenager, finds, himself, transported, to, an, island, where, he, must, help, protect, a, group, of, orphans, with, special, powers, from, creatures, intent, on, destroying, them.]                                                                                                                                                                                                                                                                                                    |[teenager, finds, transported, island, must, help, protect, group, orphans, special, powers, creatures, intent, destroying, them.]                                                                                                                                                                                                              |\n",
      "|31                                         |ROB ZOMBIE'S  S P O O K  H A U S 31                                                                                                                                                                                                                                                                                                                                                                                     |[rob, zombie's, , s, p, o, o, k, , h, a, u, s, 31]                                                                                                                                                                                                                                                                                                                                                                                                                                          |[rob, zombie's, , p, o, o, k, , h, u, 31]                                                                                                                                                                                                                                                                                                       |\n",
      "|Snowden                                    |CIA employee Edward Snowden leaks thousands of classified documents to the press.                                                                                                                                                                                                                                                                                                                                       |[cia, employee, edward, snowden, leaks, thousands, of, classified, documents, to, the, press.]                                                                                                                                                                                                                                                                                                                                                                                              |[cia, employee, edward, snowden, leaks, thousands, classified, documents, press.]                                                                                                                                                                                                                                                               |\n",
      "|Blair Witch                                |Students on a camping trip discover something sinister is lurking beyond the trees.                                                                                                                                                                                                                                                                                                                                     |[students, on, a, camping, trip, discover, something, sinister, is, lurking, beyond, the, trees.]                                                                                                                                                                                                                                                                                                                                                                                           |[students, camping, trip, discover, something, sinister, lurking, beyond, trees.]                                                                                                                                                                                                                                                               |\n",
      "|The Magnificent Seven                      |Seven gun men in the old west gradually come together to help a poor village against savage thieves.                                                                                                                                                                                                                                                                                                                    |[seven, gun, men, in, the, old, west, gradually, come, together, to, help, a, poor, village, against, savage, thieves.]                                                                                                                                                                                                                                                                                                                                                                     |[seven, gun, men, old, west, gradually, come, together, help, poor, village, savage, thieves.]                                                                                                                                                                                                                                                  |\n",
      "|Morgan                                     |A corporate risk-management consultant must determine whether or not to terminate an artificial being's life that was made in a laboratory environment.                                                                                                                                                                                                                                                                 |[a, corporate, risk-management, consultant, must, determine, whether, or, not, to, terminate, an, artificial, being's, life, that, was, made, in, a, laboratory, environment.]                                                                                                                                                                                                                                                                                                              |[corporate, risk-management, consultant, must, determine, whether, terminate, artificial, being's, life, made, laboratory, environment.]                                                                                                                                                                                                        |\n",
      "|The Dark Tower                             |The last Gunslinger, Roland Deschain, has been locked in an eternal battle with Walter O’Dim, also known as the Man in Black, determined to prevent him from toppling the Dark Tower, which holds the universe together. With the fate of the worlds at stake, good and evil will collide in the ultimate battle as only Roland can defend the Tower from the Man in Black.                                             |[the, last, gunslinger,, roland, deschain,, has, been, locked, in, an, eternal, battle, with, walter, o’dim,, also, known, as, the, man, in, black,, determined, to, prevent, him, from, toppling, the, dark, tower,, which, holds, the, universe, together., with, the, fate, of, the, worlds, at, stake,, good, and, evil, will, collide, in, the, ultimate, battle, as, only, roland, can, defend, the, tower, from, the, man, in, black.]                                               |[last, gunslinger,, roland, deschain,, locked, eternal, battle, walter, o’dim,, also, known, man, black,, determined, prevent, toppling, dark, tower,, holds, universe, together., fate, worlds, stake,, good, evil, collide, ultimate, battle, roland, defend, tower, man, black.]                                                             |\n",
      "|Nine Lives                                 |A stuffy businessman finds himself trapped inside the body of his family's cat.                                                                                                                                                                                                                                                                                                                                         |[a, stuffy, businessman, finds, himself, trapped, inside, the, body, of, his, family's, cat.]                                                                                                                                                                                                                                                                                                                                                                                               |[stuffy, businessman, finds, trapped, inside, body, family's, cat.]                                                                                                                                                                                                                                                                             |\n",
      "|Don't Breathe                              |A group of teens break into a blind man's home thinking they'll get away with the perfect crime. They're wrong.                                                                                                                                                                                                                                                                                                         |[a, group, of, teens, break, into, a, blind, man's, home, thinking, they'll, get, away, with, the, perfect, crime., they're, wrong.]                                                                                                                                                                                                                                                                                                                                                        |[group, teens, break, blind, man's, home, thinking, get, away, perfect, crime., wrong.]                                                                                                                                                                                                                                                         |\n",
      "|Suicide Squad                              |From DC Comics comes the Suicide Squad, an antihero team of incarcerated supervillains who act as deniable assets for the United States government, undertaking high-risk black ops missions in exchange for commuted prison sentences.                                                                                                                                                                                 |[from, dc, comics, comes, the, suicide, squad,, an, antihero, team, of, incarcerated, supervillains, who, act, as, deniable, assets, for, the, united, states, government,, undertaking, high-risk, black, ops, missions, in, exchange, for, commuted, prison, sentences.]                                                                                                                                                                                                                  |[dc, comics, comes, suicide, squad,, antihero, team, incarcerated, supervillains, act, deniable, assets, united, states, government,, undertaking, high-risk, black, ops, missions, exchange, commuted, prison, sentences.]                                                                                                                     |\n",
      "|Kubo and the Two Strings                   |Kubo mesmerizes the people in his village with his magical gift for spinning wild tales with origami. When he accidentally summons an evil spirit seeking vengeance, Kubo is forced to go on a quest to solve the mystery of his fallen samurai father and his mystical weaponry, as well as discover his own magical powers.                                                                                           |[kubo, mesmerizes, the, people, in, his, village, with, his, magical, gift, for, spinning, wild, tales, with, origami., when, he, accidentally, summons, an, evil, spirit, seeking, vengeance,, kubo, is, forced, to, go, on, a, quest, to, solve, the, mystery, of, his, fallen, samurai, father, and, his, mystical, weaponry,, as, well, as, discover, his, own, magical, powers.]                                                                                                       |[kubo, mesmerizes, people, village, magical, gift, spinning, wild, tales, origami., accidentally, summons, evil, spirit, seeking, vengeance,, kubo, forced, go, quest, solve, mystery, fallen, samurai, father, mystical, weaponry,, well, discover, magical, powers.]                                                                          |\n",
      "|Ben-Hur                                    |A falsely accused nobleman survives years of slavery to take vengeance on his best friend who betrayed him.                                                                                                                                                                                                                                                                                                             |[a, falsely, accused, nobleman, survives, years, of, slavery, to, take, vengeance, on, his, best, friend, who, betrayed, him.]                                                                                                                                                                                                                                                                                                                                                              |[falsely, accused, nobleman, survives, years, slavery, take, vengeance, best, friend, betrayed, him.]                                                                                                                                                                                                                                           |\n",
      "|War Dogs                                   |Based on the true story of two young men, David Packouz and Efraim Diveroli, who won a $300 million contract from the Pentagon to arm America's allies in Afghanistan.                                                                                                                                                                                                                                                  |[based, on, the, true, story, of, two, young, men,, david, packouz, and, efraim, diveroli,, who, won, a, $300, million, contract, from, the, pentagon, to, arm, america's, allies, in, afghanistan.]                                                                                                                                                                                                                                                                                        |[based, true, story, two, young, men,, david, packouz, efraim, diveroli,, won, $300, million, contract, pentagon, arm, america's, allies, afghanistan.]                                                                                                                                                                                         |\n",
      "|Hell or High Water                         |A divorced dad and his ex-con brother resort to a desperate scheme in order to save their family's farm in West Texas.                                                                                                                                                                                                                                                                                                  |[a, divorced, dad, and, his, ex-con, brother, resort, to, a, desperate, scheme, in, order, to, save, their, family's, farm, in, west, texas.]                                                                                                                                                                                                                                                                                                                                               |[divorced, dad, ex-con, brother, resort, desperate, scheme, order, save, family's, farm, west, texas.]                                                                                                                                                                                                                                          |\n",
      "|Anthropoid                                 |In December 1941, Czech soldiers Jozef Gabčík and Jan Kubiš parachute into their occupied homeland to assassinate Nazi officer Reinhard Heydrich.                                                                                                                                                                                                                                                                       |[in, december, 1941,, czech, soldiers, jozef, gabčík, and, jan, kubiš, parachute, into, their, occupied, homeland, to, assassinate, nazi, officer, reinhard, heydrich.]                                                                                                                                                                                                                                                                                                                     |[december, 1941,, czech, soldiers, jozef, gabčík, jan, kubiš, parachute, occupied, homeland, assassinate, nazi, officer, reinhard, heydrich.]                                                                                                                                                                                                   |\n",
      "|Pete's Dragon                              |Pete is a mysterious 10-year-old with no family and no home who claims to live in the woods with a giant, green dragon named Elliott. With the help of Natalie, an 11-year-old girl whose father Jack owns the local lumber mill, forest ranger Grace sets out to determine where Pete came from, where he belongs, and the truth about this dragon.                                                                    |[pete, is, a, mysterious, 10-year-old, with, no, family, and, no, home, who, claims, to, live, in, the, woods, with, a, giant,, green, dragon, named, elliott., with, the, help, of, natalie,, an, 11-year-old, girl, whose, father, jack, owns, the, local, lumber, mill,, forest, ranger, grace, sets, out, to, determine, where, pete, came, from,, where, he, belongs,, and, the, truth, about, this, dragon.]                                                                          |[pete, mysterious, 10-year-old, family, home, claims, live, woods, giant,, green, dragon, named, elliott., help, natalie,, 11-year-old, girl, whose, father, jack, owns, local, lumber, mill,, forest, ranger, grace, sets, determine, pete, came, from,, belongs,, truth, dragon.]                                                             |\n",
      "|Rock Dog                                   |When a radio falls from the sky into the hands of a wide-eyed Tibetan Mastiff, he leaves home to fulfill his dream of becoming a musician, setting into motion a series of completely unexpected events.                                                                                                                                                                                                                |[when, a, radio, falls, from, the, sky, into, the, hands, of, a, wide-eyed, tibetan, mastiff,, he, leaves, home, to, fulfill, his, dream, of, becoming, a, musician,, setting, into, motion, a, series, of, completely, unexpected, events.]                                                                                                                                                                                                                                                |[radio, falls, sky, hands, wide-eyed, tibetan, mastiff,, leaves, home, fulfill, dream, becoming, musician,, setting, motion, series, completely, unexpected, events.]                                                                                                                                                                           |\n",
      "+-------------------------------------------+------------------------------------------------------------------------------------------------------------------------------------------------------------------------------------------------------------------------------------------------------------------------------------------------------------------------------------------------------------------------------------------------------------------------+--------------------------------------------------------------------------------------------------------------------------------------------------------------------------------------------------------------------------------------------------------------------------------------------------------------------------------------------------------------------------------------------------------------------------------------------------------------------------------------------+------------------------------------------------------------------------------------------------------------------------------------------------------------------------------------------------------------------------------------------------------------------------------------------------------------------------------------------------+\n",
      "only showing top 20 rows\n"
     ]
    },
    {
     "name": "stdout",
     "output_type": "stream",
     "text": [
      "\n"
     ]
    }
   ],
   "source": [
    "# Transform and show data\n",
    "tokenized = remover.transform(tokenized)\n",
    "tokenized.show(truncate=False)"
   ]
  },
  {
   "cell_type": "code",
   "execution_count": 15,
   "metadata": {},
   "outputs": [
    {
     "name": "stdout",
     "output_type": "stream",
     "text": [
      "+--------------------+--------------------+--------------------+--------------------+\n",
      "|               title|            overview|               words|           stopwords|\n",
      "+--------------------+--------------------+--------------------+--------------------+\n",
      "|The Birth of a Na...|Nat Turner, a for...|[nat, turner,, a,...|[nat, turner,, fo...|\n",
      "|               Sully|On 15 January 200...|[on, 15, january,...|[15, january, 200...|\n",
      "|   Deepwater Horizon|A story set on th...|[a, story, set, o...|[story, set, offs...|\n",
      "|Miss Peregrine's ...|A teenager finds ...|[a, teenager, fin...|[teenager, finds,...|\n",
      "|                  31|ROB ZOMBIE'S  S P...|[rob, zombie's, ,...|[rob, zombie's, ,...|\n",
      "|             Snowden|CIA employee Edwa...|[cia, employee, e...|[cia, employee, e...|\n",
      "|         Blair Witch|Students on a cam...|[students, on, a,...|[students, campin...|\n",
      "|The Magnificent S...|Seven gun men in ...|[seven, gun, men,...|[seven, gun, men,...|\n",
      "|              Morgan|A corporate risk-...|[a, corporate, ri...|[corporate, risk-...|\n",
      "|      The Dark Tower|The last Gunsling...|[the, last, gunsl...|[last, gunslinger...|\n",
      "|          Nine Lives|A stuffy business...|[a, stuffy, busin...|[stuffy, business...|\n",
      "|       Don't Breathe|A group of teens ...|[a, group, of, te...|[group, teens, br...|\n",
      "|       Suicide Squad|From DC Comics co...|[from, dc, comics...|[dc, comics, come...|\n",
      "|Kubo and the Two ...|Kubo mesmerizes t...|[kubo, mesmerizes...|[kubo, mesmerizes...|\n",
      "|             Ben-Hur|A falsely accused...|[a, falsely, accu...|[falsely, accused...|\n",
      "|            War Dogs|Based on the true...|[based, on, the, ...|[based, true, sto...|\n",
      "|  Hell or High Water|A divorced dad an...|[a, divorced, dad...|[divorced, dad, e...|\n",
      "|          Anthropoid|In December 1941,...|[in, december, 19...|[december, 1941,,...|\n",
      "|       Pete's Dragon|Pete is a mysteri...|[pete, is, a, mys...|[pete, mysterious...|\n",
      "|            Rock Dog|When a radio fall...|[when, a, radio, ...|[radio, falls, sk...|\n",
      "+--------------------+--------------------+--------------------+--------------------+\n",
      "only showing top 20 rows\n",
      "\n"
     ]
    }
   ],
   "source": [
    "tokenized.show(truncate=True)"
   ]
  },
  {
   "cell_type": "markdown",
   "metadata": {},
   "source": [
    "# Starting Spacy Similarity code"
   ]
  },
  {
   "cell_type": "code",
   "execution_count": 40,
   "metadata": {},
   "outputs": [],
   "source": [
    "# Load English tokenizer, tagger, parser, NER and word vectors\n",
    "#MAKE SURE THIS IS LARGE LIBRARY\n",
    "\n",
    "nlp = spacy.load(\"en_core_web_lg\")\n",
    "import string\n",
    "punctuations = string.punctuation\n"
   ]
  },
  {
   "cell_type": "code",
   "execution_count": 34,
   "metadata": {},
   "outputs": [],
   "source": [
    "overview1 =str(tokenized.select(\"stopwords\").collect()[0])\n",
    "clean_overview1 = overview1[16:]\n",
    "\n",
    "overview2 = str(tokenized.select(\"stopwords\").collect()[1])\n",
    "clean_overview2 = overview2[16:]\n"
   ]
  },
  {
   "cell_type": "code",
   "execution_count": 26,
   "metadata": {},
   "outputs": [
    {
     "data": {
      "text/plain": [
       "\"nat', 'turner,', 'former', 'slave', 'america,', 'leads', 'liberation', 'movement', '1831', 'free', 'african-americans', 'virgina', 'results', 'violent', 'retaliation', 'whites.'])\""
      ]
     },
     "execution_count": 26,
     "metadata": {},
     "output_type": "execute_result"
    }
   ],
   "source": [
    "clean_overview1"
   ]
  },
  {
   "cell_type": "code",
   "execution_count": 35,
   "metadata": {},
   "outputs": [
    {
     "data": {
      "text/plain": [
       "'15\\', \\'january\\', \\'2009,\\', \\'world\\', \\'witnessed\\', \"\\'miracle\", \"hudson\\'\", \\'captain\\', \"\\'sully\\'\", \\'sullenberger\\', \\'glided\\', \\'disabled\\', \\'plane\\', \\'onto\\', \\'frigid\\', \\'waters\\', \\'hudson\\', \\'river,\\', \\'saving\\', \\'lives\\', \\'155\\', \\'aboard.\\', \\'however,\\', \\'even\\', \\'sully\\', \\'heralded\\', \\'public\\', \\'media\\', \\'unprecedented\\', \\'feat\\', \\'aviation\\', \\'skill,\\', \\'investigation\\', \\'unfolding\\', \\'threatened\\', \\'destroy\\', \\'reputation\\', \\'career.\\'])'"
      ]
     },
     "execution_count": 35,
     "metadata": {},
     "output_type": "execute_result"
    }
   ],
   "source": [
    "clean_overview2"
   ]
  },
  {
   "cell_type": "code",
   "execution_count": 139,
   "metadata": {},
   "outputs": [
    {
     "name": "stdout",
     "output_type": "stream",
     "text": [
      "0.984993000906136\n"
     ]
    },
    {
     "data": {
      "text/plain": [
       "(spacy.tokens.doc.Doc, str)"
      ]
     },
     "execution_count": 139,
     "metadata": {},
     "output_type": "execute_result"
    }
   ],
   "source": [
    "docA = nlp(clean_overview1)\n",
    "docB = nlp(clean_overview2)\n",
    "\n",
    "print(docA.similarity(docB))\n",
    "type(docA) , type(clean_overview1)"
   ]
  },
  {
   "cell_type": "code",
   "execution_count": 123,
   "metadata": {},
   "outputs": [
    {
     "name": "stdout",
     "output_type": "stream",
     "text": [
      "15', 'january', '2009,', 'world', 'witnessed', \"'miracle\", \"hudson'\", 'captain', \"'sully'\", 'sullenberger', 'glided', 'disabled', 'plane', 'onto', 'frigid', 'waters', 'hudson', 'river,', 'saving', 'lives', '155', 'aboard.', 'however,', 'even', 'sully', 'heralded', 'public', 'media', 'unprecedented', 'feat', 'aviation', 'skill,', 'investigation', 'unfolding', 'threatened', 'destroy', 'reputation', 'career.'])\n"
     ]
    }
   ],
   "source": [
    "print(docB)"
   ]
  },
  {
   "cell_type": "code",
   "execution_count": 104,
   "metadata": {},
   "outputs": [],
   "source": [
    "overviewC = str(tokenized.select(\"stopwords\").collect()[2])\n",
    "clean_overviewC = overviewC[16:]\n",
    "docC = nlp(clean_overviewC)"
   ]
  },
  {
   "cell_type": "code",
   "execution_count": 106,
   "metadata": {},
   "outputs": [
    {
     "data": {
      "text/plain": [
       "\"story', 'set', 'offshore', 'drilling', 'rig', 'deepwater', 'horizon,', 'exploded', 'april', '2010', 'created', 'worst', 'oil', 'spill', 'u.s.', 'history.'])\""
      ]
     },
     "execution_count": 106,
     "metadata": {},
     "output_type": "execute_result"
    }
   ],
   "source": [
    "clean_overviewC"
   ]
  },
  {
   "cell_type": "code",
   "execution_count": 105,
   "metadata": {},
   "outputs": [
    {
     "name": "stdout",
     "output_type": "stream",
     "text": [
      "0.9805625913523139\n"
     ]
    }
   ],
   "source": [
    "print(docA.similarity(docC))"
   ]
  },
  {
   "cell_type": "code",
   "execution_count": 107,
   "metadata": {},
   "outputs": [
    {
     "name": "stdout",
     "output_type": "stream",
     "text": [
      "0.9873666383211166\n"
     ]
    }
   ],
   "source": [
    "print(docB.similarity(docC))"
   ]
  },
  {
   "cell_type": "markdown",
   "metadata": {},
   "source": [
    "## adding columns for similarities"
   ]
  },
  {
   "cell_type": "code",
   "execution_count": 114,
   "metadata": {},
   "outputs": [],
   "source": [
    "from pyspark.sql.functions import lit"
   ]
  },
  {
   "cell_type": "code",
   "execution_count": 178,
   "metadata": {},
   "outputs": [],
   "source": [
    "ll = []\n",
    "for f in tokenized.collect():\n",
    "\n",
    "    overview_row = str(f.stopwords)\n",
    "    #print(overview_row)\n",
    "    doc_row = nlp(overview_row)\n",
    "\n",
    "    compare = docA.similarity(doc_row)\n",
    "    ll.append(compare)\n",
    "# sample = tokenized.withColumn('similarity', lit(str(ll)))\n",
    "# ll   \n"
   ]
  },
  {
   "cell_type": "code",
   "execution_count": 179,
   "metadata": {},
   "outputs": [
    {
     "data": {
      "text/plain": [
       "[0.9995973840399037,\n",
       " 0.9849470144479944,\n",
       " 0.9805784207416413,\n",
       " 0.9815930097071623,\n",
       " 0.9608167130469573,\n",
       " 0.9767509005577233,\n",
       " 0.9741712529231993,\n",
       " 0.9852484058711272,\n",
       " 0.9723964056257384,\n",
       " 0.9870985405152113,\n",
       " 0.9673086756812984,\n",
       " 0.9805259498839797,\n",
       " 0.9876107808980823,\n",
       " 0.9812733500570661,\n",
       " 0.9814675819225775,\n",
       " 0.9876015748717686,\n",
       " 0.9789823192858077,\n",
       " 0.9833466595878102,\n",
       " 0.9860609180028044,\n",
       " 0.9851739823392089,\n",
       " 0.9850632975579839,\n",
       " 0.9867049451864595,\n",
       " 0.9792555593068961,\n",
       " 0.9727223836143322,\n",
       " 0.9820477463838587,\n",
       " 0.9778408330259459,\n",
       " 0.9850906470458799,\n",
       " 0.9863823968845286,\n",
       " 0.9839772552171261,\n",
       " 0.9840892288397363,\n",
       " 0.9869574413309489,\n",
       " 0.9855907789143409,\n",
       " 0.9801666476245171,\n",
       " 0.985536054537955,\n",
       " 0.9844556054582799,\n",
       " 0.9863013942989776,\n",
       " 0.9822162471977279,\n",
       " 0.9849123078353049,\n",
       " 0.9878330486722571,\n",
       " 0.9910508146761611,\n",
       " 0.9812905813495025,\n",
       " 0.9843608002215642,\n",
       " 0.988188436083859,\n",
       " 0.9840372845234439,\n",
       " 0.9847398108239271,\n",
       " 0.9826507514560081,\n",
       " 0.9842093881976233,\n",
       " 0.984585541277426,\n",
       " 0.9817334191762939,\n",
       " 0.9861167320098977,\n",
       " 0.976060565278705,\n",
       " 0.9831897297322986,\n",
       " 0.9850141103511769,\n",
       " 0.9841263912179459,\n",
       " 0.9831560276454524,\n",
       " 0.9807279603616613,\n",
       " 0.9841325037291022,\n",
       " 0.9846494226042698,\n",
       " 0.9859715258622316,\n",
       " 0.9834017409320452,\n",
       " 0.982465746369273,\n",
       " 0.980410815911505,\n",
       " 0.9870490788210459,\n",
       " 0.9860014332920692,\n",
       " 0.9762163190323453,\n",
       " 0.9785514158443074,\n",
       " 0.9826161256163812,\n",
       " 0.9863230497336384,\n",
       " 0.9856467795564762,\n",
       " 0.9852689505714852,\n",
       " 0.9849507750185296,\n",
       " 0.9834364648742839,\n",
       " 0.9858549897241389,\n",
       " 0.9806764237318651,\n",
       " 0.9861807629674428,\n",
       " 0.9685716746541683,\n",
       " 0.9867254038354945,\n",
       " 0.9841192586106953,\n",
       " 0.9879504070160933,\n",
       " 0.9886407154478829,\n",
       " 0.98739693207341,\n",
       " 0.9822253964480432,\n",
       " 0.9773829407200403,\n",
       " 0.9790733930503386,\n",
       " 0.981470197799216,\n",
       " 0.9757127099361522,\n",
       " 0.9846987666171113,\n",
       " 0.98512109581221,\n",
       " 0.9829429083420483,\n",
       " 0.9811944847472726,\n",
       " 0.9887238074245676,\n",
       " 0.9883876501191121,\n",
       " 0.9771260897201821,\n",
       " 0.9870100266441831,\n",
       " 0.982784382284393,\n",
       " 0.9815199632409471,\n",
       " 0.9856637775206043,\n",
       " 0.9753557080364139,\n",
       " 0.9849179175556693,\n",
       " 0.98079544811161,\n",
       " 0.9822066104160894,\n",
       " 0.9821253169909657,\n",
       " 0.9854398180651811,\n",
       " 0.9835030597559419,\n",
       " 0.9762929145054946,\n",
       " 0.9852534626064237,\n",
       " 0.9864971777762358,\n",
       " 0.9857150444516175,\n",
       " 0.9872397734587608,\n",
       " 0.9848557397777873,\n",
       " 0.9852999550340837,\n",
       " 0.9859972973363251,\n",
       " 0.9773531849174979,\n",
       " 0.979995288102154,\n",
       " 0.9843016352893196,\n",
       " 0.9885709455885651,\n",
       " 0.9809095472046538,\n",
       " 0.9876606078185163,\n",
       " 0.9849066679052332,\n",
       " 0.9864303172986058,\n",
       " 0.98839087548787,\n",
       " 0.9848325864090042,\n",
       " 0.9794759409359193,\n",
       " 0.98770010834257,\n",
       " 0.9839455038296643,\n",
       " 0.9749822758095233,\n",
       " 0.9844674070240749,\n",
       " 0.9783492991099948,\n",
       " 0.9865037704662827,\n",
       " 0.984951186650542,\n",
       " 0.9836035998571594,\n",
       " 0.9828885857226869,\n",
       " 0.9838090263482425,\n",
       " 0.9854921195471429,\n",
       " 0.9866247980571345,\n",
       " 0.9848312614646515,\n",
       " 0.9813509667425839,\n",
       " 0.9835327786637909,\n",
       " 0.9852049355796328,\n",
       " 0.9819300160033833,\n",
       " 0.9855185461129817,\n",
       " 0.986364004152767,\n",
       " 0.9889811409701369,\n",
       " 0.983517715854188,\n",
       " 0.9902795763520695,\n",
       " 0.9863626652885281,\n",
       " 0.9840535149561205,\n",
       " 0.9860245342437146,\n",
       " 0.976644467575116,\n",
       " 0.9845015161848126,\n",
       " 0.9870045045003006,\n",
       " 0.9832626595809731,\n",
       " 0.9800425121231745,\n",
       " 0.9791175629931885,\n",
       " 0.9876688452434481,\n",
       " 0.9733716890398935,\n",
       " 0.9885971285306808,\n",
       " 0.9878056129281396,\n",
       " 0.9877387654549282,\n",
       " 0.977305479367915,\n",
       " 0.9842981254214342,\n",
       " 0.980149936354783,\n",
       " 0.9883305189876951,\n",
       " 0.9831836227847087,\n",
       " 0.9834177982290924,\n",
       " 0.982707155500341,\n",
       " 0.9847370574880376,\n",
       " 0.9818928008520946,\n",
       " 0.9861686104176394,\n",
       " 0.9858727536495532,\n",
       " 0.9887602817736771,\n",
       " 0.9820476518902441,\n",
       " 0.9834176918317067,\n",
       " 0.9837442802244583,\n",
       " 0.9869555676712242,\n",
       " 0.9843965963181086,\n",
       " 0.9801500768453079,\n",
       " 0.9807686243007164,\n",
       " 0.980073435136244,\n",
       " 0.9819424018590263,\n",
       " 0.986829192018594,\n",
       " 0.9815370917229846,\n",
       " 0.9869365225407387,\n",
       " 0.9863864482651092,\n",
       " 0.9820809887312576,\n",
       " 0.9770869064720891,\n",
       " 0.9859464040771315,\n",
       " 0.9845211831823223,\n",
       " 0.9802135121939652,\n",
       " 0.9873113222120002,\n",
       " 0.9856035437936641,\n",
       " 0.9843862792453584,\n",
       " 0.985549637580337]"
      ]
     },
     "execution_count": 179,
     "metadata": {},
     "output_type": "execute_result"
    }
   ],
   "source": [
    "ll"
   ]
  },
  {
   "cell_type": "code",
   "execution_count": 159,
   "metadata": {},
   "outputs": [],
   "source": [
    "# from pyspark.sql import SQLContext"
   ]
  },
  {
   "cell_type": "code",
   "execution_count": 163,
   "metadata": {},
   "outputs": [],
   "source": [
    "from pyspark.sql.functions import monotonically_increasing_id"
   ]
  },
  {
   "cell_type": "code",
   "execution_count": 182,
   "metadata": {},
   "outputs": [
    {
     "ename": "TypeError",
     "evalue": "field value: FloatType can not accept object 0.9995973840399037 in type <class 'numpy.float64'>",
     "output_type": "error",
     "traceback": [
      "\u001b[1;31m---------------------------------------------------------------------------\u001b[0m",
      "\u001b[1;31mTypeError\u001b[0m                                 Traceback (most recent call last)",
      "\u001b[1;32m<ipython-input-182-d21d81810562>\u001b[0m in \u001b[0;36m<module>\u001b[1;34m\u001b[0m\n\u001b[0;32m      1\u001b[0m \u001b[1;32mfrom\u001b[0m \u001b[0mpyspark\u001b[0m\u001b[1;33m.\u001b[0m\u001b[0msql\u001b[0m\u001b[1;33m.\u001b[0m\u001b[0mtypes\u001b[0m \u001b[1;32mimport\u001b[0m \u001b[1;33m*\u001b[0m\u001b[1;33m\u001b[0m\u001b[1;33m\u001b[0m\u001b[0m\n\u001b[0;32m      2\u001b[0m \u001b[0mcSchema\u001b[0m \u001b[1;33m=\u001b[0m \u001b[0mStructType\u001b[0m\u001b[1;33m(\u001b[0m\u001b[1;33m[\u001b[0m\u001b[0mStructField\u001b[0m\u001b[1;33m(\u001b[0m\u001b[1;34m\"Similarity\"\u001b[0m\u001b[1;33m,\u001b[0m \u001b[0mArrayType\u001b[0m\u001b[1;33m(\u001b[0m\u001b[0mFloatType\u001b[0m\u001b[1;33m(\u001b[0m\u001b[1;33m)\u001b[0m\u001b[1;33m)\u001b[0m\u001b[1;33m)\u001b[0m\u001b[1;33m]\u001b[0m\u001b[1;33m)\u001b[0m\u001b[1;33m\u001b[0m\u001b[1;33m\u001b[0m\u001b[0m\n\u001b[1;32m----> 3\u001b[1;33m \u001b[0mb\u001b[0m\u001b[1;33m=\u001b[0m \u001b[0mspark\u001b[0m\u001b[1;33m.\u001b[0m\u001b[0mcreateDataFrame\u001b[0m\u001b[1;33m(\u001b[0m\u001b[0mll\u001b[0m\u001b[1;33m,\u001b[0m \u001b[0mFloatType\u001b[0m\u001b[1;33m(\u001b[0m\u001b[1;33m)\u001b[0m\u001b[1;33m)\u001b[0m\u001b[1;33m.\u001b[0m\u001b[0mtoDF\u001b[0m\u001b[1;33m(\u001b[0m\u001b[1;34m\"x\"\u001b[0m\u001b[1;33m)\u001b[0m\u001b[1;33m\u001b[0m\u001b[1;33m\u001b[0m\u001b[0m\n\u001b[0m\u001b[0;32m      4\u001b[0m \u001b[1;31m#b = spark.createDataFrame(ll, schema = cSchema)\u001b[0m\u001b[1;33m\u001b[0m\u001b[1;33m\u001b[0m\u001b[1;33m\u001b[0m\u001b[0m\n\u001b[0;32m      5\u001b[0m \u001b[1;33m\u001b[0m\u001b[0m\n",
      "\u001b[1;32m~\\Anaconda3\\lib\\site-packages\\pyspark\\sql\\session.py\u001b[0m in \u001b[0;36mcreateDataFrame\u001b[1;34m(self, data, schema, samplingRatio, verifySchema)\u001b[0m\n\u001b[0;32m    746\u001b[0m             \u001b[0mrdd\u001b[0m\u001b[1;33m,\u001b[0m \u001b[0mschema\u001b[0m \u001b[1;33m=\u001b[0m \u001b[0mself\u001b[0m\u001b[1;33m.\u001b[0m\u001b[0m_createFromRDD\u001b[0m\u001b[1;33m(\u001b[0m\u001b[0mdata\u001b[0m\u001b[1;33m.\u001b[0m\u001b[0mmap\u001b[0m\u001b[1;33m(\u001b[0m\u001b[0mprepare\u001b[0m\u001b[1;33m)\u001b[0m\u001b[1;33m,\u001b[0m \u001b[0mschema\u001b[0m\u001b[1;33m,\u001b[0m \u001b[0msamplingRatio\u001b[0m\u001b[1;33m)\u001b[0m\u001b[1;33m\u001b[0m\u001b[1;33m\u001b[0m\u001b[0m\n\u001b[0;32m    747\u001b[0m         \u001b[1;32melse\u001b[0m\u001b[1;33m:\u001b[0m\u001b[1;33m\u001b[0m\u001b[1;33m\u001b[0m\u001b[0m\n\u001b[1;32m--> 748\u001b[1;33m             \u001b[0mrdd\u001b[0m\u001b[1;33m,\u001b[0m \u001b[0mschema\u001b[0m \u001b[1;33m=\u001b[0m \u001b[0mself\u001b[0m\u001b[1;33m.\u001b[0m\u001b[0m_createFromLocal\u001b[0m\u001b[1;33m(\u001b[0m\u001b[0mmap\u001b[0m\u001b[1;33m(\u001b[0m\u001b[0mprepare\u001b[0m\u001b[1;33m,\u001b[0m \u001b[0mdata\u001b[0m\u001b[1;33m)\u001b[0m\u001b[1;33m,\u001b[0m \u001b[0mschema\u001b[0m\u001b[1;33m)\u001b[0m\u001b[1;33m\u001b[0m\u001b[1;33m\u001b[0m\u001b[0m\n\u001b[0m\u001b[0;32m    749\u001b[0m         \u001b[0mjrdd\u001b[0m \u001b[1;33m=\u001b[0m \u001b[0mself\u001b[0m\u001b[1;33m.\u001b[0m\u001b[0m_jvm\u001b[0m\u001b[1;33m.\u001b[0m\u001b[0mSerDeUtil\u001b[0m\u001b[1;33m.\u001b[0m\u001b[0mtoJavaArray\u001b[0m\u001b[1;33m(\u001b[0m\u001b[0mrdd\u001b[0m\u001b[1;33m.\u001b[0m\u001b[0m_to_java_object_rdd\u001b[0m\u001b[1;33m(\u001b[0m\u001b[1;33m)\u001b[0m\u001b[1;33m)\u001b[0m\u001b[1;33m\u001b[0m\u001b[1;33m\u001b[0m\u001b[0m\n\u001b[0;32m    750\u001b[0m         \u001b[0mjdf\u001b[0m \u001b[1;33m=\u001b[0m \u001b[0mself\u001b[0m\u001b[1;33m.\u001b[0m\u001b[0m_jsparkSession\u001b[0m\u001b[1;33m.\u001b[0m\u001b[0mapplySchemaToPythonRDD\u001b[0m\u001b[1;33m(\u001b[0m\u001b[0mjrdd\u001b[0m\u001b[1;33m.\u001b[0m\u001b[0mrdd\u001b[0m\u001b[1;33m(\u001b[0m\u001b[1;33m)\u001b[0m\u001b[1;33m,\u001b[0m \u001b[0mschema\u001b[0m\u001b[1;33m.\u001b[0m\u001b[0mjson\u001b[0m\u001b[1;33m(\u001b[0m\u001b[1;33m)\u001b[0m\u001b[1;33m)\u001b[0m\u001b[1;33m\u001b[0m\u001b[1;33m\u001b[0m\u001b[0m\n",
      "\u001b[1;32m~\\Anaconda3\\lib\\site-packages\\pyspark\\sql\\session.py\u001b[0m in \u001b[0;36m_createFromLocal\u001b[1;34m(self, data, schema)\u001b[0m\n\u001b[0;32m    411\u001b[0m         \u001b[1;31m# make sure data could consumed multiple times\u001b[0m\u001b[1;33m\u001b[0m\u001b[1;33m\u001b[0m\u001b[1;33m\u001b[0m\u001b[0m\n\u001b[0;32m    412\u001b[0m         \u001b[1;32mif\u001b[0m \u001b[1;32mnot\u001b[0m \u001b[0misinstance\u001b[0m\u001b[1;33m(\u001b[0m\u001b[0mdata\u001b[0m\u001b[1;33m,\u001b[0m \u001b[0mlist\u001b[0m\u001b[1;33m)\u001b[0m\u001b[1;33m:\u001b[0m\u001b[1;33m\u001b[0m\u001b[1;33m\u001b[0m\u001b[0m\n\u001b[1;32m--> 413\u001b[1;33m             \u001b[0mdata\u001b[0m \u001b[1;33m=\u001b[0m \u001b[0mlist\u001b[0m\u001b[1;33m(\u001b[0m\u001b[0mdata\u001b[0m\u001b[1;33m)\u001b[0m\u001b[1;33m\u001b[0m\u001b[1;33m\u001b[0m\u001b[0m\n\u001b[0m\u001b[0;32m    414\u001b[0m \u001b[1;33m\u001b[0m\u001b[0m\n\u001b[0;32m    415\u001b[0m         \u001b[1;32mif\u001b[0m \u001b[0mschema\u001b[0m \u001b[1;32mis\u001b[0m \u001b[1;32mNone\u001b[0m \u001b[1;32mor\u001b[0m \u001b[0misinstance\u001b[0m\u001b[1;33m(\u001b[0m\u001b[0mschema\u001b[0m\u001b[1;33m,\u001b[0m \u001b[1;33m(\u001b[0m\u001b[0mlist\u001b[0m\u001b[1;33m,\u001b[0m \u001b[0mtuple\u001b[0m\u001b[1;33m)\u001b[0m\u001b[1;33m)\u001b[0m\u001b[1;33m:\u001b[0m\u001b[1;33m\u001b[0m\u001b[1;33m\u001b[0m\u001b[0m\n",
      "\u001b[1;32m~\\Anaconda3\\lib\\site-packages\\pyspark\\sql\\session.py\u001b[0m in \u001b[0;36mprepare\u001b[1;34m(obj)\u001b[0m\n\u001b[0;32m    738\u001b[0m \u001b[1;33m\u001b[0m\u001b[0m\n\u001b[0;32m    739\u001b[0m             \u001b[1;32mdef\u001b[0m \u001b[0mprepare\u001b[0m\u001b[1;33m(\u001b[0m\u001b[0mobj\u001b[0m\u001b[1;33m)\u001b[0m\u001b[1;33m:\u001b[0m\u001b[1;33m\u001b[0m\u001b[1;33m\u001b[0m\u001b[0m\n\u001b[1;32m--> 740\u001b[1;33m                 \u001b[0mverify_func\u001b[0m\u001b[1;33m(\u001b[0m\u001b[0mobj\u001b[0m\u001b[1;33m)\u001b[0m\u001b[1;33m\u001b[0m\u001b[1;33m\u001b[0m\u001b[0m\n\u001b[0m\u001b[0;32m    741\u001b[0m                 \u001b[1;32mreturn\u001b[0m \u001b[0mobj\u001b[0m\u001b[1;33m,\u001b[0m\u001b[1;33m\u001b[0m\u001b[1;33m\u001b[0m\u001b[0m\n\u001b[0;32m    742\u001b[0m         \u001b[1;32melse\u001b[0m\u001b[1;33m:\u001b[0m\u001b[1;33m\u001b[0m\u001b[1;33m\u001b[0m\u001b[0m\n",
      "\u001b[1;32m~\\Anaconda3\\lib\\site-packages\\pyspark\\sql\\types.py\u001b[0m in \u001b[0;36mverify\u001b[1;34m(obj)\u001b[0m\n\u001b[0;32m   1387\u001b[0m     \u001b[1;32mdef\u001b[0m \u001b[0mverify\u001b[0m\u001b[1;33m(\u001b[0m\u001b[0mobj\u001b[0m\u001b[1;33m)\u001b[0m\u001b[1;33m:\u001b[0m\u001b[1;33m\u001b[0m\u001b[1;33m\u001b[0m\u001b[0m\n\u001b[0;32m   1388\u001b[0m         \u001b[1;32mif\u001b[0m \u001b[1;32mnot\u001b[0m \u001b[0mverify_nullability\u001b[0m\u001b[1;33m(\u001b[0m\u001b[0mobj\u001b[0m\u001b[1;33m)\u001b[0m\u001b[1;33m:\u001b[0m\u001b[1;33m\u001b[0m\u001b[1;33m\u001b[0m\u001b[0m\n\u001b[1;32m-> 1389\u001b[1;33m             \u001b[0mverify_value\u001b[0m\u001b[1;33m(\u001b[0m\u001b[0mobj\u001b[0m\u001b[1;33m)\u001b[0m\u001b[1;33m\u001b[0m\u001b[1;33m\u001b[0m\u001b[0m\n\u001b[0m\u001b[0;32m   1390\u001b[0m \u001b[1;33m\u001b[0m\u001b[0m\n\u001b[0;32m   1391\u001b[0m     \u001b[1;32mreturn\u001b[0m \u001b[0mverify\u001b[0m\u001b[1;33m\u001b[0m\u001b[1;33m\u001b[0m\u001b[0m\n",
      "\u001b[1;32m~\\Anaconda3\\lib\\site-packages\\pyspark\\sql\\types.py\u001b[0m in \u001b[0;36mverify_default\u001b[1;34m(obj)\u001b[0m\n\u001b[0;32m   1381\u001b[0m         \u001b[1;32mdef\u001b[0m \u001b[0mverify_default\u001b[0m\u001b[1;33m(\u001b[0m\u001b[0mobj\u001b[0m\u001b[1;33m)\u001b[0m\u001b[1;33m:\u001b[0m\u001b[1;33m\u001b[0m\u001b[1;33m\u001b[0m\u001b[0m\n\u001b[0;32m   1382\u001b[0m             \u001b[0massert_acceptable_types\u001b[0m\u001b[1;33m(\u001b[0m\u001b[0mobj\u001b[0m\u001b[1;33m)\u001b[0m\u001b[1;33m\u001b[0m\u001b[1;33m\u001b[0m\u001b[0m\n\u001b[1;32m-> 1383\u001b[1;33m             \u001b[0mverify_acceptable_types\u001b[0m\u001b[1;33m(\u001b[0m\u001b[0mobj\u001b[0m\u001b[1;33m)\u001b[0m\u001b[1;33m\u001b[0m\u001b[1;33m\u001b[0m\u001b[0m\n\u001b[0m\u001b[0;32m   1384\u001b[0m \u001b[1;33m\u001b[0m\u001b[0m\n\u001b[0;32m   1385\u001b[0m         \u001b[0mverify_value\u001b[0m \u001b[1;33m=\u001b[0m \u001b[0mverify_default\u001b[0m\u001b[1;33m\u001b[0m\u001b[1;33m\u001b[0m\u001b[0m\n",
      "\u001b[1;32m~\\Anaconda3\\lib\\site-packages\\pyspark\\sql\\types.py\u001b[0m in \u001b[0;36mverify_acceptable_types\u001b[1;34m(obj)\u001b[0m\n\u001b[0;32m   1276\u001b[0m         \u001b[1;32mif\u001b[0m \u001b[0mtype\u001b[0m\u001b[1;33m(\u001b[0m\u001b[0mobj\u001b[0m\u001b[1;33m)\u001b[0m \u001b[1;32mnot\u001b[0m \u001b[1;32min\u001b[0m \u001b[0m_acceptable_types\u001b[0m\u001b[1;33m[\u001b[0m\u001b[0m_type\u001b[0m\u001b[1;33m]\u001b[0m\u001b[1;33m:\u001b[0m\u001b[1;33m\u001b[0m\u001b[1;33m\u001b[0m\u001b[0m\n\u001b[0;32m   1277\u001b[0m             raise TypeError(new_msg(\"%s can not accept object %r in type %s\"\n\u001b[1;32m-> 1278\u001b[1;33m                                     % (dataType, obj, type(obj))))\n\u001b[0m\u001b[0;32m   1279\u001b[0m \u001b[1;33m\u001b[0m\u001b[0m\n\u001b[0;32m   1280\u001b[0m     \u001b[1;32mif\u001b[0m \u001b[0misinstance\u001b[0m\u001b[1;33m(\u001b[0m\u001b[0mdataType\u001b[0m\u001b[1;33m,\u001b[0m \u001b[0mStringType\u001b[0m\u001b[1;33m)\u001b[0m\u001b[1;33m:\u001b[0m\u001b[1;33m\u001b[0m\u001b[1;33m\u001b[0m\u001b[0m\n",
      "\u001b[1;31mTypeError\u001b[0m: field value: FloatType can not accept object 0.9995973840399037 in type <class 'numpy.float64'>"
     ]
    }
   ],
   "source": [
    "from pyspark.sql.types import *\n",
    "cSchema = StructType([StructField(\"Similarity\", ArrayType(FloatType()))])\n",
    "b= spark.createDataFrame(ll, FloatType()).toDF(\"x\")\n",
    "#b = spark.createDataFrame(ll, schema = cSchema)\n",
    "\n",
    "tokenized = tokenized.withColumn(\"row_idx\", monotonically_increasing_id())\n",
    "b = b.withColumn(\"row_idx\", monotonically_increasing_id())\n",
    "\n",
    "final_df = tokenized.join(b, tokenized.row_idx == b.row_idx).\\\n",
    "            drop(\"row_idx\")\n",
    "final_df.show()"
   ]
  },
  {
   "cell_type": "code",
   "execution_count": 152,
   "metadata": {},
   "outputs": [
    {
     "name": "stdout",
     "output_type": "stream",
     "text": [
      "+--------------------+--------------------+--------------------+--------------------+--------------------+\n",
      "|               title|            overview|               words|           stopwords|          similarity|\n",
      "+--------------------+--------------------+--------------------+--------------------+--------------------+\n",
      "|The Birth of a Na...|Nat Turner, a for...|[nat, turner,, a,...|[nat, turner,, fo...|[0.99959738403990...|\n",
      "|               Sully|On 15 January 200...|[on, 15, january,...|[15, january, 200...|[0.99959738403990...|\n",
      "|   Deepwater Horizon|A story set on th...|[a, story, set, o...|[story, set, offs...|[0.99959738403990...|\n",
      "|Miss Peregrine's ...|A teenager finds ...|[a, teenager, fin...|[teenager, finds,...|[0.99959738403990...|\n",
      "|                  31|ROB ZOMBIE'S  S P...|[rob, zombie's, ,...|[rob, zombie's, ,...|[0.99959738403990...|\n",
      "|             Snowden|CIA employee Edwa...|[cia, employee, e...|[cia, employee, e...|[0.99959738403990...|\n",
      "|         Blair Witch|Students on a cam...|[students, on, a,...|[students, campin...|[0.99959738403990...|\n",
      "|The Magnificent S...|Seven gun men in ...|[seven, gun, men,...|[seven, gun, men,...|[0.99959738403990...|\n",
      "|              Morgan|A corporate risk-...|[a, corporate, ri...|[corporate, risk-...|[0.99959738403990...|\n",
      "|      The Dark Tower|The last Gunsling...|[the, last, gunsl...|[last, gunslinger...|[0.99959738403990...|\n",
      "|          Nine Lives|A stuffy business...|[a, stuffy, busin...|[stuffy, business...|[0.99959738403990...|\n",
      "|       Don't Breathe|A group of teens ...|[a, group, of, te...|[group, teens, br...|[0.99959738403990...|\n",
      "|       Suicide Squad|From DC Comics co...|[from, dc, comics...|[dc, comics, come...|[0.99959738403990...|\n",
      "|Kubo and the Two ...|Kubo mesmerizes t...|[kubo, mesmerizes...|[kubo, mesmerizes...|[0.99959738403990...|\n",
      "|             Ben-Hur|A falsely accused...|[a, falsely, accu...|[falsely, accused...|[0.99959738403990...|\n",
      "|            War Dogs|Based on the true...|[based, on, the, ...|[based, true, sto...|[0.99959738403990...|\n",
      "|  Hell or High Water|A divorced dad an...|[a, divorced, dad...|[divorced, dad, e...|[0.99959738403990...|\n",
      "|          Anthropoid|In December 1941,...|[in, december, 19...|[december, 1941,,...|[0.99959738403990...|\n",
      "|       Pete's Dragon|Pete is a mysteri...|[pete, is, a, mys...|[pete, mysterious...|[0.99959738403990...|\n",
      "|            Rock Dog|When a radio fall...|[when, a, radio, ...|[radio, falls, sk...|[0.99959738403990...|\n",
      "+--------------------+--------------------+--------------------+--------------------+--------------------+\n",
      "only showing top 20 rows\n",
      "\n"
     ]
    }
   ],
   "source": [
    "sample.show()"
   ]
  },
  {
   "cell_type": "markdown",
   "metadata": {},
   "source": [
    "## Removed punctuation"
   ]
  },
  {
   "cell_type": "code",
   "execution_count": 133,
   "metadata": {},
   "outputs": [
    {
     "name": "stdout",
     "output_type": "stream",
     "text": [
      "['nat', 'turner', 'former', 'slave', 'america', 'lead', 'liberation', 'movement', '1831', 'free', 'african', 'american', 'virgina', 'result', 'violent', 'retaliation', 'white']\n"
     ]
    }
   ],
   "source": [
    "docI = nlp(clean_overview1)\n",
    "tokenI = [tok.lemma_.lower() for tok in docI]\n",
    "tokenI = [tok for tok in tokenI if tok not in punctuations]\n",
    "# tokenI = ' '.join(tokenI)\n",
    "\n",
    "print(tokenI)"
   ]
  },
  {
   "cell_type": "code",
   "execution_count": 132,
   "metadata": {},
   "outputs": [
    {
     "name": "stdout",
     "output_type": "stream",
     "text": [
      "['15', 'january', '2009', 'world', 'witness', 'miracle', 'hudson', 'captain', 'sully', 'sullenberger', 'glide', 'disabled', 'plane', 'onto', 'frigid', 'water', 'hudson', 'river', 'saving', 'life', '155', 'aboard', 'however', 'even', 'sully', 'herald', 'public', 'medium', 'unprecedented', 'feat', 'aviation', 'skill', 'investigation', 'unfold', 'threaten', 'destroy', 'reputation', 'career']\n"
     ]
    }
   ],
   "source": [
    "docII = nlp(clean_overview2)\n",
    "tokenII = [tok.lemma_.lower().strip() for tok in docII]\n",
    "tokenII = [tok for tok in tokenII if tok not in punctuations]\n",
    "\n",
    "print(tokenII)"
   ]
  },
  {
   "cell_type": "code",
   "execution_count": 134,
   "metadata": {},
   "outputs": [
    {
     "name": "stdout",
     "output_type": "stream",
     "text": [
      "['nat', 'turner,', 'former', 'slave', 'america,', 'leads', 'liberation', 'movement', '1831', 'free', 'african-americans', 'virgina', 'results', 'violent', 'retaliation', 'whites.']\n",
      "['15', 'january', '2009,', 'world', 'witnessed', \"'miracle\", \"hudson'\", 'captain', \"'sully'\", 'sullenberger', 'glided', 'disabled', 'plane', 'onto', 'frigid', 'waters', 'hudson', 'river,', 'saving', 'lives', '155', 'aboard.', 'however,', 'even', 'sully', 'heralded', 'public', 'media', 'unprecedented', 'feat', 'aviation', 'skill,', 'investigation', 'unfolding', 'threatened', 'destroy', 'reputation', 'career.']\n",
      "['story', 'set', 'offshore', 'drilling', 'rig', 'deepwater', 'horizon,', 'exploded', 'april', '2010', 'created', 'worst', 'oil', 'spill', 'u.s.', 'history.']\n",
      "['teenager', 'finds', 'transported', 'island', 'must', 'help', 'protect', 'group', 'orphans', 'special', 'powers', 'creatures', 'intent', 'destroying', 'them.']\n",
      "['rob', \"zombie's\", '', 'p', 'o', 'o', 'k', '', 'h', 'u', '31']\n",
      "['cia', 'employee', 'edward', 'snowden', 'leaks', 'thousands', 'classified', 'documents', 'press.']\n",
      "['students', 'camping', 'trip', 'discover', 'something', 'sinister', 'lurking', 'beyond', 'trees.']\n",
      "['seven', 'gun', 'men', 'old', 'west', 'gradually', 'come', 'together', 'help', 'poor', 'village', 'savage', 'thieves.']\n",
      "['corporate', 'risk-management', 'consultant', 'must', 'determine', 'whether', 'terminate', 'artificial', \"being's\", 'life', 'made', 'laboratory', 'environment.']\n",
      "['last', 'gunslinger,', 'roland', 'deschain,', 'locked', 'eternal', 'battle', 'walter', 'o’dim,', 'also', 'known', 'man', 'black,', 'determined', 'prevent', 'toppling', 'dark', 'tower,', 'holds', 'universe', 'together.', 'fate', 'worlds', 'stake,', 'good', 'evil', 'collide', 'ultimate', 'battle', 'roland', 'defend', 'tower', 'man', 'black.']\n",
      "['stuffy', 'businessman', 'finds', 'trapped', 'inside', 'body', \"family's\", 'cat.']\n",
      "['group', 'teens', 'break', 'blind', \"man's\", 'home', 'thinking', 'get', 'away', 'perfect', 'crime.', 'wrong.']\n",
      "['dc', 'comics', 'comes', 'suicide', 'squad,', 'antihero', 'team', 'incarcerated', 'supervillains', 'act', 'deniable', 'assets', 'united', 'states', 'government,', 'undertaking', 'high-risk', 'black', 'ops', 'missions', 'exchange', 'commuted', 'prison', 'sentences.']\n",
      "['kubo', 'mesmerizes', 'people', 'village', 'magical', 'gift', 'spinning', 'wild', 'tales', 'origami.', 'accidentally', 'summons', 'evil', 'spirit', 'seeking', 'vengeance,', 'kubo', 'forced', 'go', 'quest', 'solve', 'mystery', 'fallen', 'samurai', 'father', 'mystical', 'weaponry,', 'well', 'discover', 'magical', 'powers.']\n",
      "['falsely', 'accused', 'nobleman', 'survives', 'years', 'slavery', 'take', 'vengeance', 'best', 'friend', 'betrayed', 'him.']\n",
      "['based', 'true', 'story', 'two', 'young', 'men,', 'david', 'packouz', 'efraim', 'diveroli,', 'won', '$300', 'million', 'contract', 'pentagon', 'arm', \"america's\", 'allies', 'afghanistan.']\n",
      "['divorced', 'dad', 'ex-con', 'brother', 'resort', 'desperate', 'scheme', 'order', 'save', \"family's\", 'farm', 'west', 'texas.']\n",
      "['december', '1941,', 'czech', 'soldiers', 'jozef', 'gabčík', 'jan', 'kubiš', 'parachute', 'occupied', 'homeland', 'assassinate', 'nazi', 'officer', 'reinhard', 'heydrich.']\n",
      "['pete', 'mysterious', '10-year-old', 'family', 'home', 'claims', 'live', 'woods', 'giant,', 'green', 'dragon', 'named', 'elliott.', 'help', 'natalie,', '11-year-old', 'girl', 'whose', 'father', 'jack', 'owns', 'local', 'lumber', 'mill,', 'forest', 'ranger', 'grace', 'sets', 'determine', 'pete', 'came', 'from,', 'belongs,', 'truth', 'dragon.']\n",
      "['radio', 'falls', 'sky', 'hands', 'wide-eyed', 'tibetan', 'mastiff,', 'leaves', 'home', 'fulfill', 'dream', 'becoming', 'musician,', 'setting', 'motion', 'series', 'completely', 'unexpected', 'events.']\n",
      "['recently', 'deceased,', 'white-sheeted', 'ghost', 'returns', 'suburban', 'home', 'console', 'bereft', 'wife,', 'find', 'spectral', 'state', 'become', 'unstuck', 'time,', 'forced', 'watch', 'passively', 'life', 'knew', 'woman', 'loves', 'slowly', 'slip', 'away.']\n",
      "['mike', 'dave', 'young,', 'adventurous,', 'fun-loving', 'brothers', 'tend', 'get', 'control', 'family', 'gatherings.', 'sister', 'jeanie', 'reveals', 'hawaiian', 'wedding', 'plans,', 'rest', 'stangles', 'insist', 'brothers', 'bring', 'respectable', 'dates.', 'placing', 'ad', 'craigslist,', 'siblings', 'decide', 'pick', 'tatiana', 'alice,', 'two', 'charming', 'seemingly', 'normal', 'women.', 'arrive', 'island,', 'however,', 'mike', 'dave', 'realize', 'companions', 'ready', 'get', 'wild', 'party.']\n",
      "['biographical', 'drama', 'based', 'life', 'fictional', 'haryana', 'based', 'wrestler', '&', 'mixed', 'martial', 'arts', 'specialist', 'sultan', 'ali', 'khan.']\n",
      "['gene,', 'multi-expressional', 'emoji,', 'sets', 'journey', 'become', 'normal', 'emoji.']\n",
      "['three', 'overworked', 'under-appreciated', 'moms', 'pushed', 'beyond', 'limits,', 'ditch', 'conventional', 'responsibilities', 'jolt', 'long', 'overdue', 'freedom,', 'fun,', 'comedic', 'self-indulgence.']\n",
      "['dangerous', 'former', 'operative', 'cia', 'drawn', 'hiding', 'uncover', 'hidden', 'truths', 'past.']\n",
      "['industrious', 'high', 'school', 'senior,', 'vee', 'delmonico,', 'living', 'life', 'sidelines.', 'pressured', 'friends', 'join', 'popular', 'online', 'game', 'nerve,', 'vee', 'decides', 'sign', 'one', 'dare', 'seems', 'like', 'harmless', 'fun.', 'finds', 'caught', 'thrill', 'adrenaline-fueled', 'competition', 'partnered', 'mysterious', 'stranger,', 'game', 'begins', 'take', 'sinister', 'turn', 'increasingly', 'dangerous', 'acts,', 'leading', 'high', 'stakes', 'finale', 'determine', 'entire', 'future.']\n",
      "['batman', 'hunts', 'escaped', 'joker,', 'clown', 'prince', 'crime', 'attacks', 'gordon', 'family', 'prove', 'diabolical', 'point', 'mirroring', 'fall', 'madness.', 'based', 'graphic', 'novel', 'alan', 'moore', 'brian', 'bolland.']\n",
      "['martial', 'law', 'declared', 'mysterious', 'viral', 'outbreak', 'pushes', 'korea', 'state', 'emergency.', 'express', 'train', 'busan,', 'city', 'successfully', 'fended', 'viral', 'outbreak,', 'must', 'fight', 'survival…']\n",
      "['father', 'living', 'forests', 'pacific', 'northwest', 'six', 'young', 'kids', 'tries', 'assimilate', 'back', 'society.']\n",
      "['miraculous', 'evacuation', 'allied', 'soldiers', 'belgium,', 'britain,', 'canada', 'france,', 'cut', 'surrounded', 'german', 'army', 'beaches', 'harbor', 'dunkirk,', 'france,', 'may', '26th', 'june', '4th', '1940,', 'battle', 'france', 'world', 'war', 'ii.']\n",
      "['following', 'ghost', 'invasion', 'manhattan,', 'paranormal', 'enthusiasts', 'erin', 'gilbert', 'abby', 'yates,', 'nuclear', 'engineer', 'jillian', 'holtzmann,', 'subway', 'worker', 'patty', 'tolan', 'band', 'together', 'stop', 'otherworldly', 'threat.']\n",
      "['u.s', 'customs', 'official', 'uncovers', 'massive', 'money', 'laundering', 'scheme', 'involving', 'pablo', 'escobar.']\n",
      "['caesar', 'apes', 'forced', 'deadly', 'conflict', 'army', 'humans', 'led', 'ruthless', 'colonel.', 'apes', 'suffer', 'unimaginable', 'losses,', 'caesar', 'wrestles', 'darker', 'instincts', 'begins', 'mythic', 'quest', 'avenge', 'kind.', 'journey', 'finally', 'brings', 'face', 'face,', 'caesar', 'colonel', 'pitted', 'epic', 'battle', 'determine', 'fate', 'species', 'future', 'planet.']\n",
      "['sausage', 'party,', 'first', 'r-rated', 'cg', 'animated', 'movie,', 'one', 'sausage', 'leading', 'group', 'supermarket', 'products', 'quest', 'discover', 'truth', 'existence', 'really', 'happens', 'become', 'chosen', 'leave', 'grocery', 'store.']\n",
      "['aspiring', 'model', 'jesse', 'moves', 'los', 'angeles,', 'youth', 'vitality', 'devoured', 'group', 'beauty-obsessed', 'women', 'take', 'means', 'necessary', 'get', 'has.']\n",
      "['though', 'safely', 'entombed', 'crypt', 'deep', 'beneath', 'unforgiving', 'desert,', 'ancient', 'queen', 'whose', 'destiny', 'unjustly', 'taken', 'awakened', 'current', 'day,', 'bringing', 'malevolence', 'grown', 'millennia,', 'terrors', 'defy', 'human', 'comprehension.']\n",
      "['tarzan,', 'acclimated', 'life', 'london,', 'called', 'back', 'former', 'home', 'jungle', 'investigate', 'activities', 'mining', 'encampment.']\n"
     ]
    },
    {
     "name": "stdout",
     "output_type": "stream",
     "text": [
      "['two', 'years', 'choosing', 'kill', 'man', 'killed', 'son,', 'former', 'police', 'sergeant', 'leo', 'barnes', 'become', 'head', 'security', 'senator', 'charlene', 'roan,', 'front', 'runner', 'next', 'presidential', 'election', 'due', 'vow', 'eliminate', 'purge.', 'night', 'final', 'purge,', 'betrayal', 'within', 'government', 'forces', 'barnes', 'roan', 'onto', 'street', 'must', 'fight', 'survive', 'night.']\n",
      "['1863,', 'mississippi', 'farmer', 'newt', 'knight', 'serves', 'medic', 'confederate', 'army.', 'opposed', 'slavery,', 'knight', 'rather', 'help', 'wounded', 'fight', 'union.', 'nephew', 'dies', 'battle,', 'newt', 'returns', 'home', 'jones', 'county', 'safeguard', 'family', 'soon', 'branded', 'outlaw', 'deserter.', 'forced', 'flee,', 'finds', 'refuge', 'group', 'runaway', 'slaves', 'hiding', 'swamps.', 'forging', 'alliance', 'slaves', 'farmers,', 'knight', 'leads', 'rebellion', 'forever', 'change', 'history.']\n",
      "['injured', 'surfer', 'stranded', 'buoy', 'needs', 'get', 'back', 'shore,', 'great', 'white', 'shark', 'stalking', 'might', 'ideas.']\n",
      "['alone', 'tiny', 'deserted', 'island,', 'hank', 'given', 'hope', 'ever', 'making', 'home', 'again.', 'one', 'day', 'everything', 'changes', 'dead', 'body', 'washes', 'ashore,', 'soon', 'realizes', 'may', 'last', 'opportunity', 'escape', 'certain', 'death.', 'armed', 'new', '“friend”', 'unusual', 'bag', 'tricks,', 'duo', 'go', 'epic', 'adventure', 'bring', 'hank', 'back', 'woman', 'dreams.']\n",
      "['civil', 'war,', 'southern', 'girls’', 'boarding', 'school,', 'young', 'women', 'take', 'injured', 'enemy', 'soldier.', 'provide', 'refuge', 'tend', 'wounds,', 'house', 'taken', 'sexual', 'tension', 'dangerous', 'rivalries,', 'taboos', 'broken', 'unexpected', 'turn', 'events.']\n",
      "['set', 'events', 'continental', 'drift,', \"scrat's\", 'epic', 'pursuit', 'elusive', 'acorn', 'catapults', 'outside', 'earth,', 'accidentally', 'sets', 'series', 'cosmic', 'events', 'transform', 'threaten', 'planet.', 'save', 'peril,', 'manny,', 'sid,', 'diego,', 'rest', 'herd', 'leave', 'home', 'embark', 'quest', 'full', 'thrills', 'spills,', 'highs', 'lows,', 'laughter', 'adventure', 'traveling', 'exotic', 'new', 'lands', 'encountering', 'host', 'colorful', 'new', 'characters.']\n",
      "['always', 'knew', 'coming', 'back.', 'using', 'recovered', 'alien', 'technology,', 'nations', 'earth', 'collaborated', 'immense', 'defense', 'program', 'protect', 'planet.', 'nothing', 'prepare', 'us', 'aliens’', 'advanced', 'unprecedented', 'force.', 'ingenuity', 'brave', 'men', 'women', 'bring', 'world', 'back', 'brink', 'extinction.']\n",
      "['autobots', 'decepticons', 'war,', 'humans', 'sidelines.', 'optimus', 'prime', 'gone.', 'key', 'saving', 'future', 'lies', 'buried', 'secrets', 'past,', 'hidden', 'history', 'transformers', 'earth.']\n",
      "['one', 'year', 'outwitting', 'fbi', 'winning', 'public’s', 'adulation', 'mind-bending', 'spectacles,', 'four', 'horsemen', 'resurface', 'find', 'face', 'face', 'new', 'enemy', 'enlists', 'pull', 'dangerous', 'heist', 'yet.']\n",
      "['small', 'town', 'girl', 'caught', 'dead-end', 'jobs.', 'high-profile,', 'successful', 'man', 'becomes', 'wheelchair', 'bound', 'following', 'accident.', 'man', 'decides', 'life', 'worth', 'living', 'girl', 'hired', 'six', 'months', 'new', 'caretaker.', 'worlds', 'apart', 'trapped', 'together', 'circumstance,', 'two', 'get', 'rocky', 'start.', 'girl', 'becomes', 'determined', 'prove', 'man', 'life', 'worth', 'living', 'embark', 'series', 'adventures', 'together,', 'finds', 'world', 'changing', 'ways', 'neither', 'begin', 'imagine.']\n",
      "['quiet', 'life', 'terrier', 'named', 'max', 'upended', 'owner', 'takes', 'duke,', 'stray', 'max', 'instantly', 'dislikes.']\n",
      "['naomi', 'watts', 'stars', 'susan,', 'single', 'mother', 'two,', 'working', 'waitress', 'small', 'town.', 'son,', 'henry,', '11-year-old', 'genius', 'manages', 'family', 'finances', 'acts', 'emotional', 'support', 'mother', 'younger', 'brother.', 'henry', 'discovers', 'girl', 'next', 'door', 'terrible', 'secret,', 'implores', 'susan', 'take', 'matters', 'hands', 'imaginative', 'emotional', 'drama.']\n",
      "['dory', 'reunited', 'friends', 'nemo', 'marlin', 'search', 'answers', 'past.', 'remember?', 'parents?', 'learn', 'speak', 'whale?']\n",
      "['blindsided', 'new', 'generation', 'blazing-fast', 'racers,', 'legendary', 'lightning', 'mcqueen', 'suddenly', 'pushed', 'sport', 'loves.', 'get', 'back', 'game,', 'need', 'help', 'eager', 'young', 'race', 'technician', 'plan', 'win,', 'inspiration', 'late', 'fabulous', 'hudson', 'hornet,', 'unexpected', 'turns.', 'proving', '#95', 'yet', 'test', 'heart', 'champion', 'piston', 'cup', 'racing’s', 'biggest', 'stage!']\n",
      "['gru', 'wife', 'lucy', 'must', 'stop', 'former', \"'80s\", 'child', 'star', 'balthazar', 'bratt', 'achieving', 'world', 'domination.']\n",
      "['five', 'best', 'friends', 'college', 'reunite', '10', 'years', 'later', 'wild', 'bachelorette', 'weekend', 'miami.', 'hard', 'partying', 'takes', 'hilariously', 'dark', 'turn', 'accidentally', 'kill', 'male', 'stripper.', 'amidst', 'craziness', 'trying', 'cover', 'up,', 'ultimately', 'brought', 'closer', 'together', 'matters', 'most.']\n",
      "['two', 'sisters', 'mexican', 'vacation', 'trapped', 'shark', 'observation', 'cage', 'bottom', 'ocean,', 'oxygen', 'running', 'low', 'great', 'whites', 'circling', 'nearby,', 'less', 'hour', 'air', 'left', 'figure', 'get', 'surface.']\n",
      "['reunites', 'old', 'pal', 'facebook,', 'mild-mannered', 'accountant', 'lured', 'world', 'international', 'espionage.']\n",
      "['bfg', 'ordinary', 'bone-crunching', 'giant.', 'far', 'nice', 'jumbly.', 'lucky', 'sophie', 'is.', 'carried', 'middle', 'night', 'bloodbottler,', 'giants—rather', 'bfg—she', 'soon', 'become', 'breakfast.', 'sophie', 'hears', 'giants', 'flush-bunking', 'england', 'swollomp', 'nice', 'little', 'chiddlers,', 'decides', 'must', 'stop', 'all.', 'bfg', 'going', 'help', 'her!']\n",
      "['supervillain', 'shredder', 'escapes', 'custody,', 'joins', 'forces', 'mad', 'scientist', 'baxter', 'stockman', 'two', 'dimwitted', 'henchmen,', 'bebop', 'rocksteady,', 'unleash', 'diabolical', 'plan', 'take', 'world.', 'turtles', 'prepare', 'take', 'shredder', 'new', 'crew,', 'find', 'facing', 'even', 'greater', 'evil', 'similar', 'intentions:', 'notorious', 'krang.']\n",
      "['bound', 'remote', 'planet', 'far', 'side', 'galaxy,', 'crew', 'colony', 'ship', \"'covenant'\", 'discovers', 'thought', 'uncharted', 'paradise,', 'actually', 'dark,', 'dangerous', 'world', '–', 'sole', 'inhabitant', \"'synthetic',\", 'david,', 'survivor', 'doomed', 'prometheus', 'expedition.']\n",
      "['story', 'florence', 'foster', 'jenkins,', 'new', 'york', 'heiress,', 'dreamed', 'becoming', 'opera', 'singer,', 'despite', 'terrible', 'singing', 'voice.']\n",
      "['sorority', 'moves', 'next', 'door', 'home', 'mac', 'kelly', 'radner', 'young', 'child.', \"radner's\", 'enlist', 'former', 'nemeses', 'fraternity', 'help', 'battle', 'raucous', 'sisters.']\n",
      "['amazon', 'princess', 'comes', 'world', 'man', 'become', 'greatest', 'female', 'superheroes.']\n",
      "['jane', 'austen’s', 'novella,', 'beautiful', 'cunning', 'lady', 'susan', 'vernon', 'visits', 'estate', 'in-laws', 'wait', 'colorful', 'rumors', 'dalliances', 'find', 'husbands', 'daughter.', 'two', 'young', 'men,', 'handsome', 'reginald', 'decourcy', 'wealthy', 'sir', 'james', 'martin,', 'severely', 'complicate', 'plans.']\n",
      "['peaceful', 'realm', 'azeroth', 'stands', 'brink', 'war', 'civilization', 'faces', 'fearsome', 'race', 'invaders:', 'orc', 'warriors', 'fleeing', 'dying', 'home', 'colonize', 'another.', 'portal', 'opens', 'connect', 'two', 'worlds,', 'one', 'army', 'faces', 'destruction', 'faces', 'extinction.', 'opposing', 'sides,', 'two', 'heroes', 'set', 'collision', 'course', 'decide', 'fate', 'family,', 'people,', 'home.']\n",
      "['sequel', 'tim', \"burton's\", '\"alice', 'wonderland\",', 'alice', 'kingsleigh', 'returns', 'underland', 'faces', 'new', 'adventure', 'saving', 'mad', 'hatter.']\n",
      "['re-emergence', \"world's\", 'first', 'mutant,', 'world-destroyer', 'apocalypse,', 'x-men', 'must', 'unite', 'defeat', 'extinction', 'level', 'plan.']\n",
      "['private', 'eye', 'investigates', 'apparent', 'suicide', 'fading', 'porn', 'star', '1970s', 'los', 'angeles', 'uncovers', 'conspiracy.']\n"
     ]
    },
    {
     "name": "stdout",
     "output_type": "stream",
     "text": [
      "['lorraine', 'ed', 'warren', 'travel', 'north', 'london', 'help', 'single', 'mother', 'raising', 'four', 'children', 'alone', 'house', 'plagued', 'malicious', 'spirits.']\n",
      "['devoted', 'lifeguard', 'mitch', 'buchannon', 'butts', 'heads', 'brash', 'new', 'recruit.', 'together,', 'uncover', 'local', 'criminal', 'plot', 'threatens', 'future', 'bay.']\n",
      "['island', 'populated', 'entirely', 'happy,', 'flightless', 'birds', 'almost', 'entirely.', 'paradise,', 'red,', 'bird', 'temper', 'problem,', 'speedy', 'chuck,', 'volatile', 'bomb', 'always', 'outsiders.', 'island', 'visited', 'mysterious', 'green', 'piggies,', 'it’s', 'unlikely', 'outcasts', 'figure', 'pigs', 'to.']\n",
      "['story', 'young', 'man', 'arrives', 'hollywood', '1930s', 'hoping', 'work', 'film', 'industry,', 'falls', 'love,', 'finds', 'swept', 'vibrant', 'café', 'society', 'defined', 'spirit', 'age.']\n",
      "['titan', 'industry', 'sent', 'prison', 'caught', 'insider', 'trading.', 'emerges', 'ready', 'rebrand', \"america's\", 'latest', 'sweetheart,', 'everyone', 'screwed', 'quick', 'forgive', 'forget.']\n",
      "['two', 'evil', 'sisters', 'prepare', 'conquer', 'land,', 'two', 'renegades—eric', 'huntsman,', 'aided', 'snow', 'white', 'defeating', 'ravenna', 'snowwhite', 'huntsman,', 'forbidden', 'lover,', 'sara—set', 'stop', 'them.']\n",
      "['emotionally', 'desperate', 'investment', 'banker', 'finds', 'hope', 'woman', 'meets', 'chicago.']\n",
      "['nick', 'barrow', 'stay', 'alive', '21', 'days,', 'die', 'happy.', 'everyone', 'nick', 'knows', 'wants', 'dead;', 'mob', 'bosses,', 'contract', 'killers,', 'dirty', 'cops.', 'performing', 'last', 'act', 'desperate', 'man,', 'nick', 'takes', 'million', 'dollar', 'insurance', 'policy', 'himself,', 'payable', 'estranged', 'daughter.', 'problem?', 'policy', 'take', 'effect', '21', 'days.', 'nick', 'knows', 'lucky', 'alive', 'twenty-one', 'hours.']\n",
      "['intersecting', 'stories', 'different', 'moms', 'collide', \"mother's\", 'day.']\n",
      "['child', 'arthur’s', 'father', 'murdered,', 'vortigern,', 'arthur’s', 'uncle,', 'seizes', 'crown.', 'robbed', 'birthright', 'idea', 'truly', 'is,', 'arthur', 'comes', 'hard', 'way', 'back', 'alleys', 'city.', 'pulls', 'sword', 'excalibur', 'stone,', 'life', 'turned', 'upside', 'forced', 'acknowledge', 'true', 'legacy...', 'whether', 'likes', 'not.']\n",
      "['young', 'tech', 'worker', 'takes', 'job', 'greedy', 'internet', 'corporation,', 'quickly', 'rises', \"company's\", 'ranks,', 'soon', 'finds', 'perilous', 'situation', 'concerning', 'privacy,', 'surveillance', 'freedom.', 'comes', 'learn', 'decisions', 'actions', 'effect', 'whatsoever.']\n",
      "['following', 'events', 'age', 'ultron,', 'collective', 'governments', 'world', 'pass', 'act', 'designed', 'regulate', 'superhuman', 'activity.', 'polarizes', 'opinion', 'amongst', 'avengers,', 'causing', 'two', 'factions', 'side', 'iron', 'man', 'captain', 'america,', 'causes', 'epic', 'battle', 'former', 'allies.']\n",
      "['alan', 'clay,', 'struggling', 'american', 'businessman,', 'travels', 'saudi', 'arabia', 'sell', 'new', 'technology', 'king,', 'challenged', 'endless', 'middle', 'eastern', 'bureaucracy,', 'perpetually', 'absent', 'monarch,', 'suspicious', 'growth', 'back.']\n",
      "['michael', 'mason', 'american', 'pickpocket', 'living', 'paris', 'finds', 'hunted', 'cia', 'steals', 'bag', 'contains', 'wallet.', 'sean', 'briar,', 'field', 'agent', 'case,', 'soon', 'realises', 'michael', 'pawn', 'much', 'bigger', 'game', 'also', 'best', 'asset', 'uncover', 'large-scale', 'conspiracy.']\n",
      "['20', 'years', 'three', 'teenagers', 'disappeared', 'wake', 'mysterious', 'lights', 'appearing', 'phoenix,', 'arizona,', 'unseen', 'footage', 'night', 'discovered,', 'chronicling', 'final', 'hours', 'fateful', 'expedition.']\n",
      "['friends', 'hatch', 'plot', 'retrieve', 'stolen', 'cat', 'posing', 'drug', 'dealers', 'street', 'gang.']\n",
      "['guardians', 'must', 'fight', 'keep', 'newfound', 'family', 'together', 'unravel', 'mysteries', 'peter', \"quill's\", 'true', 'parentage.']\n",
      "['young', 'punk', 'rock', 'band', 'find', 'trapped', 'secluded', 'venue', 'stumbling', 'upon', 'horrific', 'act', 'violence.']\n",
      "['story', 'fan', 'whose', 'world', 'completely', 'revolves', 'around', 'movie', 'star', 'adores.']\n",
      "['ratchet', 'clank', 'tells', 'story', 'two', 'unlikely', 'heroes', 'struggle', 'stop', 'vile', 'alien', 'named', 'chairman', 'drek', 'destroying', 'every', 'planet', 'solana', 'galaxy.', 'two', 'stumble', 'upon', 'dangerous', 'weapon', 'capable', 'destroying', 'entire', 'planets,', 'must', 'join', 'forces', 'team', 'colorful', 'heroes', 'called', 'galactic', 'rangers', 'order', 'save', 'galaxy.', 'along', 'way', 'learn', 'heroism,', 'friendship,', 'importance', 'discovering', \"one's\", 'identity.']\n",
      "['mysterious', 'woman', 'seduces', 'dom', 'world', 'crime', 'betrayal', 'closest', 'him,', 'crew', 'face', 'trials', 'test', 'never', 'before.']\n",
      "['beatrice', 'prior', 'tobias', 'eaton', 'venture', 'world', 'outside', 'fence', 'taken', 'protective', 'custody', 'mysterious', 'agency', 'known', 'bureau', 'genetic', 'welfare.']\n",
      "['explore', 'mysterious', 'dangerous', 'home', 'king', 'apes', 'team', 'explorers', 'ventures', 'deep', 'inside', 'treacherous,', 'primordial', 'island.']\n",
      "['2002,', 'cable', 'news', 'producer', 'kim', 'barker', '(tina', 'fey)', 'decides', 'shake', 'routine', 'taking', 'daring', 'new', 'assignment', 'kabul,', 'afghanistan.', 'dislodged', 'comfortable', 'american', 'lifestyle,', 'barker', 'finds', 'middle', 'out-of-control', 'war', 'zone.', 'luckily,', 'meets', 'tanya', 'vanderpoel', '(margot', 'robbie),', 'fellow', 'journalist', 'takes', 'shellshocked', 'reporter', 'wing.', 'amid', 'militants,', 'warlords', 'nighttime', 'partying,', 'barker', 'discovers', 'key', 'becoming', 'successful', 'correspondent.']\n",
      "['account', 'keepers', 'warsaw', 'zoo,', 'jan', 'antonina', 'zabinski,', 'helped', 'save', 'hundreds', 'people', 'animals', 'nazi', 'invasion.']\n",
      "['comedy', 'follows', 'group', 'friends', 'navigate', 'way', 'freedoms', 'responsibilities', 'unsupervised', 'adulthood.']\n",
      "['suffering', 'family', 'tragedy,', 'mack', 'phillips', 'spirals', 'deep', 'depression', 'causing', 'question', 'innermost', 'beliefs.', 'facing', 'crisis', 'faith,', 'receives', 'mysterious', 'letter', 'urging', 'abandoned', 'shack', 'deep', 'oregon', 'wilderness.', 'despite', 'doubts,', 'mack', 'journeys', 'shack', 'encounters', 'enigmatic', 'trio', 'strangers', 'led', 'woman', 'named', 'papa.', 'meeting,', 'mack', 'finds', 'important', 'truths', 'transform', 'understanding', 'tragedy', 'change', 'life', 'forever.']\n",
      "['near', 'future,', 'major', 'first', 'kind:', 'human', 'saved', 'terrible', 'crash,', 'cyber-enhanced', 'perfect', 'soldier', 'devoted', 'stopping', \"world's\", 'dangerous', 'criminals.']\n",
      "['story', 'new', \"baby's\", 'arrival', 'impacts', 'family,', 'told', 'point', 'view', 'delightfully', 'unreliable', 'narrator,', 'wildly', 'imaginative', '7', 'year', 'old', 'named', 'tim.']\n",
      "[\"saban's\", 'power', 'rangers', 'follows', 'five', 'ordinary', 'teens', 'must', 'become', 'something', 'extraordinary', 'learn', 'small', 'town', 'angel', 'grove', '—', 'world', '—', 'verge', 'obliterated', 'alien', 'threat.', 'chosen', 'destiny,', 'heroes', 'quickly', 'discover', 'ones', 'save', 'planet.', 'so,', 'overcome', 'real-life', 'issues', 'it’s', 'late,', 'band', 'together', 'power', 'rangers.']\n",
      "['adventures', 'two', 'california', 'highway', 'patrol', 'motorcycle', 'officers', 'make', 'rounds', 'freeways', 'los', 'angeles.']\n",
      "['fearing', 'actions', 'god-like', 'super', 'hero', 'left', 'unchecked,', 'gotham', 'city’s', 'formidable,', 'forceful', 'vigilante', 'takes', 'metropolis’s', 'revered,', 'modern-day', 'savior,', 'world', 'wrestles', 'sort', 'hero', 'really', 'needs.', 'batman', 'superman', 'war', 'one', 'another,', 'new', 'threat', 'quickly', 'arises,', 'putting', 'mankind', 'greater', 'danger', 'it’s', 'ever', 'known', 'before.']\n",
      "['six-member', 'crew', 'international', 'space', 'station', 'tasked', 'studying', 'sample', 'mars', 'may', 'first', 'proof', 'extra-terrestrial', 'life,', 'proves', 'intelligent', 'ever', 'expected.']\n"
     ]
    },
    {
     "name": "stdout",
     "output_type": "stream",
     "text": [
      "['samantha', 'kingston', 'everything.', 'then,', 'everything', 'changes.', 'one', 'fateful', 'night,', 'wakes', 'future', 'all.', 'trapped', 'reliving', 'day', 'over,', 'begins', 'question', 'perfect', 'life', 'really', 'was.']\n",
      "['london', 'prime', \"minister's\", 'funeral,', 'mike', 'banning', 'discovers', 'plot', 'assassinate', 'attending', 'world', 'leaders.']\n",
      "['modern', 'love', 'story', 'set', 'austin,', 'texas', 'music', 'scene,', 'two', 'entangled', 'couples', '—', 'struggling', 'songwriters', 'faye', 'bv,', 'music', 'mogul', 'cook', 'waitress', 'ensnares', '—', 'chase', 'success', 'rock', '‘n’', 'roll', 'landscape', 'seduction', 'betrayal.']\n",
      "['faith', 'based', 'movie.', 'young', 'girl', 'suffering', 'rare', 'digestive', 'disorder', 'finds', 'miraculously', 'cured', 'surviving', 'terrible', 'accident.', 'based', 'book', \"'three\", 'miracles', \"heaven'\", 'christy', 'beam.']\n",
      "['live-action', 'adaptation', \"disney's\", 'version', 'classic', \"'beauty\", \"beast'\", 'tale', 'cursed', 'prince', 'beautiful', 'young', 'woman', 'helps', 'break', 'spell.']\n",
      "['wannabe', 'private', 'investigator', 'wins', 'green', 'card', 'lottery', 'moves', 'america', 'pursue', 'dream', 'find', 'embroiled', 'conspiracy', 'start', 'next', 'world', 'war.']\n",
      "['car', 'accident,', 'michelle', 'awakens', 'find', 'mysterious', 'bunker', 'two', 'men', 'named', 'howard', 'emmett.', 'howard', 'offers', 'pair', 'crutches', 'help', 'remain', 'mobile', 'leg', 'injury', 'sustained', 'car', 'crash', 'tells', '\"get', 'good', 'those\"', 'leaving', 'bunker.', 'given', 'information', 'alien', 'attack', 'outside', 'world', 'poisoned.', 'however,', 'howard', \"emmett's\", 'intentions', 'soon', 'become', 'questionable', 'michelle', 'faced', 'question:', 'better', 'there?']\n",
      "['deadpool', 'tells', 'origin', 'story', 'former', 'special', 'forces', 'operative', 'turned', 'mercenary', 'wade', 'wilson,', 'subjected', 'rogue', 'experiment', 'leaves', 'accelerated', 'healing', 'powers,', 'adopts', 'alter', 'ego', 'deadpool.', 'armed', 'new', 'abilities', 'dark,', 'twisted', 'sense', 'humor,', 'deadpool', 'hunts', 'man', 'nearly', 'destroyed', 'life.']\n",
      "['john', 'wick', 'forced', 'retirement', 'former', 'associate', 'looking', 'seize', 'control', 'shadowy', 'international', 'assassins’', 'guild.', 'bound', 'blood', 'oath', 'aid', 'him,', 'wick', 'travels', 'rome', 'battle', 'world’s', 'dangerous', 'killers.']\n",
      "['irreverent', 'spirit', 'fun', 'made', '“the', 'lego', 'movie”', 'worldwide', 'phenomenon,', 'self-described', 'leading', 'man', 'ensemble—lego', 'batman—stars', 'big-screen', 'adventure.', 'big', 'changes', 'brewing', 'gotham,', 'wants', 'save', 'city', 'joker’s', 'hostile', 'takeover,', 'batman', 'may', 'drop', 'lone', 'vigilante', 'thing,', 'try', 'work', 'others', 'maybe,', 'maybe,', 'learn', 'lighten', 'up.']\n",
      "['wounded', 'christian', 'grey', 'tries', 'entice', 'cautious', 'ana', 'steele', 'back', 'life,', 'demands', 'new', 'arrangement', 'give', 'another', 'chance.', 'two', 'begin', 'build', 'trust', 'find', 'stability,', 'shadowy', 'figures', 'christian’s', 'past', 'start', 'circle', 'couple,', 'determined', 'destroy', 'hopes', 'future', 'together.']\n",
      "['playboy', 'business', 'tycoon,', 'liu', 'xuan,', 'purchases', 'green', 'gulf,', 'wildlife', 'reserve,', 'sea', 'reclamation', 'project,', 'uses', 'sonar', 'technology', 'get', 'rid', 'sea', 'life', 'area.', 'unknown', 'him,', 'green', 'gulf', 'home', 'merpeople,', 'sonar', 'caused', 'many', 'succumb', 'illness', 'die.', \"xuan's\", 'business', 'ventures', 'area', 'threatened', 'crosses', 'paths', 'mermaid,', 'shan,', 'sent', 'avenge', 'people.']\n",
      "['derek', 'hansel', 'modelling', 'opposing', 'company', 'attempts', 'take', 'business.']\n",
      "['tells', 'comedic', 'tale', 'eddie', 'mannix,', 'fixer', 'worked', 'hollywood', 'studios', '1950s.', 'story', 'finds', 'work', 'star', 'mysteriously', 'disappears', 'middle', 'filming.']\n",
      "['singer', 'songwriter', 'hank', 'williams', 'rises', 'fame', '1940s,', 'alcohol', 'abuse', 'infidelity', 'take', 'toll', 'career', 'marriage', 'fellow', 'musician', 'audrey', 'mae', 'williams.']\n",
      "['zombie', 'outbreak', 'fallen', 'upon', 'land', 'reimagining', 'jane', 'austen’s', 'classic', 'tale', 'tangled', 'relationships', 'lovers', 'different', 'social', 'classes', '19th', 'century', 'england.', 'feisty', 'heroine', 'elizabeth', 'bennet', '(lily', 'james)', 'master', 'martial', 'arts', 'weaponry', 'handsome', 'mr.', 'darcy', '(sam', 'riley)', 'fierce', 'zombie', 'killer,', 'yet', 'epitome', 'upper', 'class', 'prejudice.', 'zombie', 'outbreak', 'intensifies,', 'must', 'swallow', 'pride', 'join', 'forces', 'blood-soaked', 'battlefield', 'order', 'conquer', 'undead', 'all.']\n",
      "['travis', 'gabby', 'first', 'meet', 'neighbors', 'small', 'coastal', 'town', 'wind', 'relationship', 'tested', \"life's\", 'defining', 'events.']\n",
      "['tiny', 'exotic', 'island,', 'tuesday,', 'outgoing', 'parrot', 'lives', 'quirky', 'animal', 'friends', 'paradise.', 'however,', 'tuesday', 'stop', 'dreaming', 'discovering', 'world.', 'violent', 'storm,', 'tuesday', 'friends', 'wake', 'find', 'strange', 'creature', 'beach:', 'robinson', 'crusoe.', 'tuesday', 'immediately', 'views', 'crusoe', 'ticket', 'island', 'explore', 'new', 'lands.', 'likewise,', 'crusoe', 'soon', 'realizes', 'key', 'surviving', 'island', 'help', 'tuesday', 'animals.', 'always', 'easy', 'first,', 'animals', 'speak', '\"human.\"', 'slowly', 'surely,', 'start', 'living', 'together', 'harmony,', 'one', 'day,', 'comfortable', 'life', 'overturned', 'two', 'savage', 'cats,', 'wish', 'take', 'control', 'island.', 'battle', 'ensues', 'cats', 'group', 'friends', 'crusoe', 'animals', 'soon', 'discover', 'true', 'power', 'friendship', 'odds', '(even', 'savage', 'cats).']\n",
      "['biju', 'honest', 'policeman', 'fights', 'injustice', 'head-on.', 'pursuit', 'keep', 'things', 'control', 'clean,', 'encounters', 'series', 'events', 'cases', 'test', 'authority,', 'honesty', 'integrity.', 'week', 'wedding,', 'ensues', 'heartfelt', 'story', 'cop', 'sans', 'cinematic', 'hype.']\n",
      "['near', 'future,', 'weary', 'logan', 'cares', 'ailing', 'professor', 'x', 'hideout', 'mexican', 'border.', \"logan's\", 'attempts', 'hide', 'world', 'legacy', 'upended', 'young', 'mutant', 'arrives,', 'pursued', 'dark', 'forces.']\n",
      "['inspired', 'true', 'events,', 'eddie', 'eagle', 'feel-good', 'story', 'michael', '\"eddie\"', 'edwards', '(taron', 'egerton),', 'unlikely', 'courageous', 'british', 'ski-jumper', 'never', 'stopped', 'believing', '-', 'even', 'entire', 'nation', 'counting', 'out.', 'help', 'rebellious', 'charismatic', 'coach', '(played', 'hugh', 'jackman),', 'eddie', 'takes', 'establishment', 'wins', 'hearts', 'sports', 'fans', 'around', 'world', 'making', 'improbable', 'historic', 'showing', '1988', 'calgary', 'winter', 'olympics.']\n",
      "['chris', 'girlfriend', 'rose', 'go', 'upstate', 'visit', 'parents', 'weekend.', 'first,', 'chris', 'reads', \"family's\", 'overly', 'accommodating', 'behavior', 'nervous', 'attempts', 'deal', \"daughter's\", 'interracial', 'relationship,', 'weekend', 'progresses,', 'series', 'increasingly', 'disturbing', 'discoveries', 'lead', 'truth', 'never', 'imagined.']\n",
      "['gang', 'criminals', 'corrupt', 'cops', 'plan', 'murder', 'police', 'officer', 'order', 'pull', 'biggest', 'heist', 'yet', 'across', 'town.']\n",
      "['new', 'england', '1630s:', 'william', 'katherine', 'lead', 'devout', 'christian', 'life', 'five', 'children,', 'homesteading', 'edge', 'impassable', 'wilderness.', 'newborn', 'son', 'vanishes', 'crops', 'fail,', 'family', 'turns', 'one', 'another.', 'beyond', 'worst', 'fears,', 'supernatural', 'evil', 'lurks', 'nearby', 'wood.']\n",
      "['neerja', 'portrayal', 'life', 'courageous', 'neerja', 'bhanot,', 'sacrificed', 'life', 'protecting', 'lives', '359', 'passengers', 'pan', 'flight', '73', '1986.', 'flight', 'hijacked', 'terrorist', 'organization.']\n",
      "['father', 'son', 'go', 'run', 'dad', 'learns', 'child', 'possesses', 'special', 'powers.']\n",
      "['young', \"woman's\", 'desperate', 'search', 'abducted', 'boyfriend', 'draws', 'infamous', 'colonia', 'dignidad,', 'sect', 'nobody', 'ever', 'escaped', 'from.']\n"
     ]
    },
    {
     "name": "stdout",
     "output_type": "stream",
     "text": [
      "['ambitious', 'young', 'executive', 'sent', 'retrieve', \"company's\", 'ceo', 'idyllic', 'mysterious', '\"wellness', 'center\"', 'remote', 'location', 'swiss', 'alps', 'soon', 'suspects', \"spa's\", 'miraculous', 'treatments', 'seem.']\n",
      "['determined', 'prove', 'herself,', 'officer', 'judy', 'hopps,', 'first', 'bunny', \"zootopia's\", 'police', 'force,', 'jumps', 'chance', 'crack', 'first', 'case', '-', 'even', 'means', 'partnering', 'scam-artist', 'fox', 'nick', 'wilde', 'solve', 'mystery.']\n",
      "['julia', 'becomes', 'worried', 'boyfriend,', 'holt', 'explores', 'dark', 'urban', 'legend', 'mysterious', 'videotape', 'said', 'kill', 'watcher', 'seven', 'days', 'viewing.', 'sacrifices', 'save', 'boyfriend', 'makes', 'horrifying', 'discovery:', '\"movie', 'within', 'movie\"', 'one', 'ever', 'seen', 'before.']\n",
      "['retreating', 'life', 'tragedy,', 'man', 'questions', 'universe', 'writing', 'love,', 'time', 'death.', 'receiving', 'unexpected', 'answers,', 'begins', 'see', 'things', 'interlock', 'even', 'loss', 'reveal', 'moments', 'meaning', 'beauty.']\n",
      "['story', 'set', 'prohibition', 'era', 'centered', 'around', 'group', 'individuals', 'dealings', 'world', 'organized', 'crime.']\n",
      "['two', 'jesuit', 'priests', 'travel', 'seventeenth', 'century', 'japan', 'has,', 'tokugawa', 'shogunate,', 'banned', 'catholicism', 'almost', 'foreign', 'contact.']\n",
      "['kenny', 'wells,', 'modern-day', 'prospector,', 'hustler,', 'dreamer,', 'desperate', 'lucky', 'break.', 'left', 'options,', 'wells', 'teams', 'equally', 'luckless', 'geologist', 'execute', 'grandiose,', 'last-ditch', 'effort:', 'find', 'gold', 'deep', 'uncharted', 'jungle', 'indonesia.']\n",
      "['unlocked', 'genetic', 'memories', 'allow', 'relive', 'adventures', 'ancestor', '15th', 'century', 'spain,', 'callum', 'lynch', 'discovers', 'descendant', 'secret', \"'assassins'\", 'society.', 'gaining', 'incredible', 'knowledge', 'skills,', 'poised', 'take', 'oppressive', 'knights', 'templar', 'present', 'day.']\n",
      "['looking', 'way', 'get', 'away', 'life', 'town', 'born', 'into,', 'tripp,', 'high', 'school', 'senior,', 'builds', 'monster', 'truck', 'bits', 'pieces', 'scrapped', 'cars.', 'accident', 'nearby', 'oil-drilling', 'site', 'displaces', 'strange', 'subterranean', 'creature', 'taste', 'talent', 'speed,', 'tripp', 'may', 'found', 'key', 'getting', 'town', 'unlikely', 'friend.']\n",
      "['spacecraft', 'traveling', 'distant', 'colony', 'planet', 'transporting', 'thousands', 'people', 'malfunction', 'sleep', 'chambers.', 'result,', 'two', 'passengers', 'awakened', '90', 'years', 'early.']\n",
      "['account', 'days', 'first', 'lady,', 'jacqueline', 'kennedy,', 'immediate', 'aftermath', 'john', 'f.', \"kennedy's\", 'assassination', '1963.']\n",
      "['european', 'mercenaries', 'searching', 'black', 'powder', 'become', 'embroiled', 'defense', 'great', 'wall', 'china', 'horde', 'monstrous', 'creatures.']\n",
      "['rogue', 'band', 'resistance', 'fighters', 'unite', 'mission', 'steal', 'death', 'star', 'plans', 'bring', 'new', 'hope', 'galaxy.']\n",
      "['set', '1879', 'paris.', 'orphan', 'girl', 'dreams', 'becoming', 'ballerina', 'flees', 'rural', 'brittany', 'paris,', 'passes', 'someone', 'else', 'accedes', 'position', 'pupil', 'grand', 'opera', 'house.']\n",
      "['account', 'boston', 'police', 'commissioner', 'ed', \"davis's\", 'actions', 'events', 'leading', '2013', 'boston', 'marathon', 'bombing', 'aftermath,', 'includes', 'city-wide', 'manhunt', 'find', 'terrorists', 'behind', 'it.']\n",
      "['untold', 'story', 'katherine', 'g.', 'johnson,', 'dorothy', 'vaughan', 'mary', 'jackson', '–', 'brilliant', 'african-american', 'women', 'working', 'nasa', 'serving', 'brains', 'behind', 'one', 'greatest', 'operations', 'history', '–', 'launch', 'astronaut', 'john', 'glenn', 'orbit.', 'visionary', 'trio', 'crossed', 'gender', 'race', 'lines', 'inspire', 'generations', 'dream', 'big.']\n",
      "['inspirational', 'story', 'world', 'champion', 'boxer', 'vinny', 'pazienza,', 'near', 'fatal', 'car', 'crash,', 'left', 'knowing', 'ever', 'walk', 'again,', 'made', 'one', 'sports', 'incredible', 'comebacks.']\n",
      "['story', 'richard', 'mildred', 'loving,', 'interracial', 'couple,', 'whose', 'challenge', 'anti-miscegenation', 'arrest', 'marriage', 'virginia', 'led', 'legal', 'battle', 'end', 'us', 'supreme', 'court.']\n",
      "['susan', 'morrow', 'receives', 'book', 'manuscript', 'ex-husband', '–', 'man', 'left', '20', 'years', 'earlier', '–', 'asking', 'opinion', 'writing.', 'reads,', 'drawn', 'fictional', 'life', 'tony', 'hastings,', 'mathematics', 'professor', 'whose', 'family', 'vacation', 'turns', 'violent.']\n",
      "['mia,', 'aspiring', 'actress,', 'serves', 'lattes', 'movie', 'stars', 'auditions', 'sebastian,', 'jazz', 'musician,', 'scrapes', 'playing', 'cocktail', 'party', 'gigs', 'dingy', 'bars,', 'success', 'mounts', 'faced', 'decisions', 'begin', 'fray', 'fragile', 'fabric', 'love', 'affair,', 'dreams', 'worked', 'hard', 'maintain', 'threaten', 'rip', 'apart.']\n",
      "['vampire', 'death', 'dealer', 'selene', 'fends', 'brutal', 'attacks', 'lycan', 'clan', 'vampire', 'faction', 'betrayed', 'her.', 'allies,', 'david', 'father', 'thomas,', 'must', 'stop', 'eternal', 'war', 'lycans', 'vampires,', 'even', 'means', 'make', 'ultimate', 'sacrifice.']\n",
      "['ambitious', 'lobbyist', 'faces', 'powerful', 'gun', 'lobby', 'attempt', 'pass', 'gun', 'control', 'legislation.']\n",
      "['uptight', 'ceo', 'sister', 'threatens', 'shut', 'branch,', 'branch', 'manager', 'throws', 'epic', 'christmas', 'party', 'order', 'land', 'big', 'client', 'save', 'day,', 'party', 'gets', 'way', 'hand.']\n",
      "['true', 'story', 'ray', 'kroc,', 'salesman', 'illinois,', 'met', 'mac', 'dick', 'mcdonald,', 'running', 'burger', 'operation', '1950s', 'southern', 'california.', 'kroc', 'impressed', 'brothers’', 'speedy', 'system', 'making', 'food', 'saw', 'franchise', 'potential.', 'maneuvered', 'position', 'able', 'pull', 'company', 'brothers', 'create', 'billion-dollar', 'empire.']\n",
      "['five-year-old', 'indian', 'boy', 'gets', 'lost', 'streets', 'calcutta,', 'thousands', 'kilometers', 'home.', 'survives', 'many', 'challenges', 'adopted', 'couple', 'australia;', '25', 'years', 'later,', 'sets', 'find', 'lost', 'family.']\n",
      "['ancient', 'polynesia,', 'terrible', 'curse', 'incurred', 'maui', 'reaches', 'impetuous', \"chieftain's\", \"daughter's\", 'island,', 'answers', \"ocean's\", 'call', 'seek', 'demigod', 'set', 'things', 'right.']\n",
      "['koala', 'named', 'buster', 'recruits', 'best', 'friend', 'help', 'drum', 'business', 'theater', 'hosting', 'singing', 'competition.']\n",
      "['fueled', 'cheap', 'whiskey,', 'greed', 'hatred,', 'willie', 'soke', 'teams', 'angry', 'little', 'sidekick,', 'marcus,', 'knock', 'chicago', 'charity', 'christmas', 'eve.', 'along', 'ride', 'chubby', 'cheery', 'thurman', 'merman,', '250-pound', 'ray', 'sunshine', 'brings', \"willie's\", 'sliver', 'humanity.', 'issues', 'arise', 'pair', 'joined', \"willie's\", 'horror', 'story', 'mother,', 'raises', 'bar', \"gang's\", 'ambitions,', 'somehow', 'lowering', 'standards', 'criminal', 'behavior.']\n",
      "['two', 'high', 'school', 'girls', 'best', 'friends', 'one', 'dates', \"other's\", 'older', 'brother,', 'totally', \"sister's\", 'nemesis.']\n",
      "['1942,', 'intelligence', 'officer', 'north', 'africa', 'encounters', 'female', 'french', 'resistance', 'fighter', 'deadly', 'mission', 'behind', 'enemy', 'lines.', 'reunite', 'london,', 'relationship', 'tested', 'pressures', 'war.']\n",
      "['1926,', 'newt', 'scamander', 'arrives', 'magical', 'congress', 'united', 'states', 'america', 'magically', 'expanded', 'briefcase,', 'houses', 'number', 'dangerous', 'creatures', 'habitats.', 'creatures', 'escape', 'briefcase,', 'sends', 'american', 'wizarding', 'authorities', 'newt,', 'threatens', 'strain', 'even', 'state', 'magical', 'non-magical', 'relations.']\n",
      "['though', 'kevin', 'evidenced', '23', 'personalities', 'trusted', 'psychiatrist,', 'dr.', 'fletcher,', 'remains', 'one', 'still', 'submerged', 'set', 'materialize', 'dominate', 'others.', 'compelled', 'abduct', 'three', 'teenage', 'girls', 'led', 'willful,', 'observant', 'casey,', 'kevin', 'reaches', 'war', 'survival', 'among', 'contained', 'within', '—', 'well', 'everyone', 'around', '—', 'walls', 'compartments', 'shatter', 'apart.']\n",
      "['dysfunctional', 'family', 'gathers', 'together', 'first', 'christmas', 'since', 'mom', 'died.']\n"
     ]
    },
    {
     "name": "stdout",
     "output_type": "stream",
     "text": [
      "['taking', 'place', 'alien', 'crafts', 'land', 'around', 'world,', 'expert', 'linguist', 'recruited', 'military', 'determine', 'whether', 'come', 'peace', 'threat.']\n",
      "['boy', 'imagines', 'monster', 'helps', 'deal', 'difficult', 'life', 'see', 'world', 'different', 'way.']\n",
      "['wwii', 'american', 'army', 'medic', 'desmond', 't.', 'doss,', 'served', 'battle', 'okinawa,', 'refuses', 'kill', 'people', 'becomes', 'first', 'conscientious', 'objector', 'american', 'history', 'receive', 'congressional', 'medal', 'honor.']\n",
      "['rachel', 'watson,', 'devastated', 'recent', 'divorce,', 'spends', 'daily', 'commute', 'fantasizing', 'seemingly', 'perfect', 'couple', 'live', 'house', 'train', 'passes', 'every', 'day,', 'one', 'morning', 'sees', 'something', 'shocking', 'happen', 'becomes', 'entangled', 'mystery', 'unfolds.']\n",
      "['career', 'destroyed,', 'brilliant', 'arrogant', 'surgeon', 'gets', 'new', 'lease', 'life', 'sorcerer', 'takes', 'wing', 'trains', 'defend', 'world', 'evil.']\n",
      "['tender,', 'heartbreaking', 'story', 'young', 'man’s', 'struggle', 'find', 'himself,', 'told', 'across', 'three', 'defining', 'chapters', 'life', 'experiences', 'ecstasy,', 'pain,', 'beauty', 'falling', 'love,', 'grappling', 'sexuality.']\n",
      "['based', 'inspiring', 'powerful', 'true', 'story', 'journal', 'entries', 'rachel', 'joy', 'scott-', 'first', 'student', 'killed', 'columbine', 'high', 'school', 'shooting', '1999.']\n",
      "['ordinary', 'suburban', 'couple', 'finds', 'it’s', 'easy', 'keeping', 'joneses', '–', 'impossibly', 'gorgeous', 'ultra-sophisticated', 'new', 'neighbors', '–', 'especially', 'discover', 'mr.', 'mrs.', '“jones”', 'covert', 'operatives.']\n",
      "['1965', 'los', 'angeles,', 'widowed', 'mother', 'two', 'daughters', 'add', 'new', 'stunt', 'bolster', 'séance', 'scam', 'business', 'unwittingly', 'invite', 'authentic', 'evil', 'home.', 'youngest', 'daughter', 'overtaken', 'merciless', 'spirit,', 'small', 'family', 'confronts', 'unthinkable', 'fears', 'save', 'send', 'possessor', 'back', 'side.']\n",
      "['jack', 'reacher', 'must', 'uncover', 'truth', 'behind', 'major', 'government', 'conspiracy', 'order', 'clear', 'name.', 'run', 'fugitive', 'law,', 'reacher', 'uncovers', 'potential', 'secret', 'past', 'change', 'life', 'forever.']\n",
      "['dawn', '20th', 'century,', 'british', 'explorer', 'percy', 'fawcett', 'journeys', 'amazon,', 'discovers', 'evidence', 'previously', 'unknown,', 'advanced', 'civilization', 'may', 'inhabited', 'region.', 'despite', 'ridiculed', 'scientific', 'establishment,', 'views', 'indigenous', 'populations', 'savages,', 'determined', 'fawcett,', 'supported', 'devoted', 'wife,', 'son,', 'aide-de-camp,', 'returns', 'beloved', 'jungle', 'attempt', 'prove', 'case.']\n",
      "['math', 'savant', 'uncooks', 'books', 'new', 'client,', 'treasury', 'department', 'closes', 'activities', 'body', 'count', 'starts', 'rise.']\n",
      "['waking', 'hospital', 'amnesia,', 'professor', 'robert', 'langdon', 'doctor', 'must', 'race', 'time', 'foil', 'deadly', 'global', 'plot.']\n",
      "['mother’s', 'death,', 'zucchini', 'befriended', 'kind', 'police', 'officer,', 'raymond,', 'accompanies', 'new', 'foster', 'home', 'filled', 'orphans', 'age.', 'there,', 'help', 'newfound', 'friends,', 'zucchini', 'eventually', 'learns', 'trust', 'love', 'searches', 'new', 'family', 'own.']\n",
      "['set', 'aokigahara', 'forest,', 'real-life', 'place', 'japan', 'people', 'go', 'end', 'lives.', 'backdrop,', 'young', 'american', 'woman', 'comes', 'search', 'twin', 'sister,', 'mysteriously', 'disappeared.']\n",
      "['enjoying', 'college', 'life', 'popular', 'student,', 'laura', 'shares', 'everything', '', '800', 'friends', 'facebook.', 'one', 'day,', 'accepting', 'friend', 'request', '', 'social', 'outcast', 'named', 'marina,', 'laura’s', 'life', 'cursed...']\n",
      "['inexperienced', 'college', 'student', 'meets', 'wealthy', 'businessman', 'whose', 'sexual', 'practices', 'put', 'strain', 'relationship.']\n",
      "['young', 'man', 'raised', 'scientists', 'mars', 'returns', 'earth', 'find', 'father.']\n",
      "['coast', 'guard', 'makes', 'daring', 'rescue', 'attempt', 'coast', 'cape', 'cod', 'pair', 'oil', 'tankers', 'destroyed', 'blizzard', '1952.']\n",
      "['continuing', '\"legendary', 'adventures', 'awesomeness\",', 'po', 'must', 'face', 'two', 'hugely', 'epic,', 'different', 'threats:', 'one', 'supernatural', 'little', 'closer', 'home.']\n",
      "['2004,', 'hope', 'ann', 'greggory', 'became', 'american', 'hero', 'winning', 'bronze', 'medal', \"women's\", 'gymnastics', 'team.', 'today,', 'still', 'living', 'small', 'hometown,', 'washed-up', 'embittered.', 'stuck', 'past,', 'hope', 'must', 'reassess', 'life', 'promising', 'young', 'gymnast', 'threatens', 'local', 'celebrity', 'status.']\n",
      "['nanny,', 'working', 'family', 'whose', 'son', 'passed', 'away,', 'finds', 'put', 'charge', 'caring', 'lifelike', 'doll', 'couple', 'treat', 'real', 'child.']\n",
      "['new', 'york', 'city', 'full', 'lonely', 'hearts', 'seeking', 'right', 'match,', 'alice,', 'robin,', 'lucy,', 'meg,', 'tom', 'david', 'common', 'need', 'learn', 'single', 'world', 'filled', 'ever-evolving', 'definitions', 'love.']\n",
      "['jason', 'kelly', 'one', 'week', 'away', 'marrying', \"boss's\", 'uber-controlling', 'daughter,', 'putting', 'fast', 'track', 'partnership', 'law', 'firm.', 'however,', 'straight-laced', 'jason', 'tricked', 'driving', 'foul-mouthed', 'grandfather,', 'dick,', 'daytona', 'spring', 'break,', 'pending', 'nuptials', 'suddenly', 'jeopardy.', 'riotous', 'frat', 'parties,', 'bar', 'fights,', 'epic', 'night', 'karaoke,', 'dick', 'quest', 'live', 'life', 'fullest', 'bring', 'jason', 'along', 'ride.']\n",
      "['eloise,', 'relieved', 'maid', 'honor', 'duties', 'unceremoniously', 'dumped', 'best', 'man', 'via', 'text,', 'decides', 'attend', 'wedding', 'anyway', '–', 'find', 'seated', 'five', 'fellow-unwanted', 'guests', 'dreaded', 'table', '19.']\n",
      "['dog', 'goes', 'quest', 'discover', 'purpose', 'life', 'course', 'several', 'lifetimes', 'multiple', 'owners.']\n",
      "['stereoscopic', '3d', 'animated', 'family', 'film', '\"norm\"', 'tells', 'story', 'titular', 'polar', 'bear', 'three', 'arctic', 'lemming', 'buddies,', 'forced', 'world', 'icy', 'home', 'begins', 'melting', 'breaking', 'apart.', 'landing', 'new', 'york,', 'norm', 'begins', 'life', 'anew', 'performing', 'corporate', 'mascot,', 'discover', 'new', 'employers', 'directly', 'responsible', 'destruction', 'polar', 'home.']\n",
      "['16-year-old', 'cassie', 'sullivan', 'tries', 'survive', 'world', 'devastated', 'waves', 'alien', 'invasion', 'already', 'decimated', 'population', 'knocked', 'mankind', 'back', 'stone', 'age.']\n",
      "['wedding', 'day', 'approaches,', 'ben', 'heads', 'miami', 'soon-to-be', 'brother-in-law', 'james', 'bring', 'drug', 'dealer', 'supplying', 'dealers', 'atlanta', 'product.']\n",
      "['extreme', 'athlete', 'turned', 'government', 'operative', 'xander', 'cage', 'comes', 'self-imposed', 'exile,', 'thought', 'long', 'dead,', 'set', 'collision', 'course', 'deadly', 'alpha', 'warrior', 'xiang', 'team', 'race', 'recover', 'sinister', 'seemingly', 'unstoppable', 'weapon', 'known', \"pandora's\", 'box.', 'recruiting', 'all-new', 'group', 'thrill-seeking', 'cohorts,', 'xander', 'finds', 'enmeshed', 'deadly', 'conspiracy', 'points', 'collusion', 'highest', 'levels', 'world', 'governments.']\n",
      "['american', 'ambassador', 'killed', 'attack', 'u.s.', 'compound', 'libya', 'security', 'team', 'struggles', 'make', 'sense', 'chaos.']\n",
      "['three', 'college', 'students', 'move', 'old', 'house', 'campus,', 'unwittingly', 'unleash', 'supernatural', 'entity', 'known', 'bye', 'bye', 'man,', 'comes', 'prey', 'upon', 'discover', 'name.', 'friends', 'must', 'try', 'save', 'other,', 'keeping', 'bye', 'bye', \"man's\", 'existence', 'secret', 'save', 'others', 'deadly', 'fate.']\n",
      "['undercover', 'las', 'vegas', 'police', 'officer', 'vincent', 'downs', 'caught', 'high', 'stakes', 'web', 'corrupt', 'cops', 'mob-controlled', 'casino', 'underground.', 'heist', 'goes', 'wrong,', 'crew', 'homicidal', 'gangsters', 'kidnaps', 'downs’', 'teenage', 'son.', 'one', 'sleepless', 'night', 'rescue', 'son,', 'evade', 'internal', 'affairs', 'investigation', 'bring', 'kidnappers', 'justice.']\n"
     ]
    }
   ],
   "source": [
    "for f in tokenized.collect():\n",
    "    doc_r=''\n",
    "    overview_r = str(f.stopwords)\n",
    "    print(overview_r)\n",
    "    doc_r = nlp(overview_r)\n",
    "    comp = docI.similarity(doc_r)\n",
    "    samp = tokenized.withColumn('similarity', lit(str(compare)))"
   ]
  },
  {
   "cell_type": "code",
   "execution_count": 148,
   "metadata": {},
   "outputs": [
    {
     "name": "stdout",
     "output_type": "stream",
     "text": [
      "+--------------------+--------------------+--------------------+--------------------+-----------------+\n",
      "|               title|            overview|               words|           stopwords|       similarity|\n",
      "+--------------------+--------------------+--------------------+--------------------+-----------------+\n",
      "|The Birth of a Na...|Nat Turner, a for...|[nat, turner,, a,...|[nat, turner,, fo...|0.985549637580337|\n",
      "|               Sully|On 15 January 200...|[on, 15, january,...|[15, january, 200...|0.985549637580337|\n",
      "|   Deepwater Horizon|A story set on th...|[a, story, set, o...|[story, set, offs...|0.985549637580337|\n",
      "|Miss Peregrine's ...|A teenager finds ...|[a, teenager, fin...|[teenager, finds,...|0.985549637580337|\n",
      "|                  31|ROB ZOMBIE'S  S P...|[rob, zombie's, ,...|[rob, zombie's, ,...|0.985549637580337|\n",
      "|             Snowden|CIA employee Edwa...|[cia, employee, e...|[cia, employee, e...|0.985549637580337|\n",
      "|         Blair Witch|Students on a cam...|[students, on, a,...|[students, campin...|0.985549637580337|\n",
      "|The Magnificent S...|Seven gun men in ...|[seven, gun, men,...|[seven, gun, men,...|0.985549637580337|\n",
      "|              Morgan|A corporate risk-...|[a, corporate, ri...|[corporate, risk-...|0.985549637580337|\n",
      "|      The Dark Tower|The last Gunsling...|[the, last, gunsl...|[last, gunslinger...|0.985549637580337|\n",
      "|          Nine Lives|A stuffy business...|[a, stuffy, busin...|[stuffy, business...|0.985549637580337|\n",
      "|       Don't Breathe|A group of teens ...|[a, group, of, te...|[group, teens, br...|0.985549637580337|\n",
      "|       Suicide Squad|From DC Comics co...|[from, dc, comics...|[dc, comics, come...|0.985549637580337|\n",
      "|Kubo and the Two ...|Kubo mesmerizes t...|[kubo, mesmerizes...|[kubo, mesmerizes...|0.985549637580337|\n",
      "|             Ben-Hur|A falsely accused...|[a, falsely, accu...|[falsely, accused...|0.985549637580337|\n",
      "|            War Dogs|Based on the true...|[based, on, the, ...|[based, true, sto...|0.985549637580337|\n",
      "|  Hell or High Water|A divorced dad an...|[a, divorced, dad...|[divorced, dad, e...|0.985549637580337|\n",
      "|          Anthropoid|In December 1941,...|[in, december, 19...|[december, 1941,,...|0.985549637580337|\n",
      "|       Pete's Dragon|Pete is a mysteri...|[pete, is, a, mys...|[pete, mysterious...|0.985549637580337|\n",
      "|            Rock Dog|When a radio fall...|[when, a, radio, ...|[radio, falls, sk...|0.985549637580337|\n",
      "+--------------------+--------------------+--------------------+--------------------+-----------------+\n",
      "only showing top 20 rows\n",
      "\n"
     ]
    }
   ],
   "source": [
    "samp.show()"
   ]
  },
  {
   "cell_type": "code",
   "execution_count": 103,
   "metadata": {},
   "outputs": [
    {
     "data": {
      "text/plain": [
       "0.984993000906136"
      ]
     },
     "execution_count": 103,
     "metadata": {},
     "output_type": "execute_result"
    }
   ],
   "source": [
    "sim = docI.similarity(docII)\n",
    "sim"
   ]
  },
  {
   "cell_type": "code",
   "execution_count": 72,
   "metadata": {},
   "outputs": [
    {
     "ename": "AttributeError",
     "evalue": "'str' object has no attribute 'similarity'",
     "output_type": "error",
     "traceback": [
      "\u001b[1;31m---------------------------------------------------------------------------\u001b[0m",
      "\u001b[1;31mAttributeError\u001b[0m                            Traceback (most recent call last)",
      "\u001b[1;32m<ipython-input-72-65e19a0711ae>\u001b[0m in \u001b[0;36m<module>\u001b[1;34m\u001b[0m\n\u001b[1;32m----> 1\u001b[1;33m \u001b[0msim1\u001b[0m \u001b[1;33m=\u001b[0m \u001b[0moverview1\u001b[0m\u001b[1;33m.\u001b[0m\u001b[0msimilarity\u001b[0m\u001b[1;33m(\u001b[0m\u001b[0moverview2\u001b[0m\u001b[1;33m)\u001b[0m\u001b[1;33m\u001b[0m\u001b[1;33m\u001b[0m\u001b[0m\n\u001b[0m\u001b[0;32m      2\u001b[0m \u001b[0msim1\u001b[0m\u001b[1;33m\u001b[0m\u001b[1;33m\u001b[0m\u001b[0m\n",
      "\u001b[1;31mAttributeError\u001b[0m: 'str' object has no attribute 'similarity'"
     ]
    }
   ],
   "source": [
    "sim1 = overview1.similarity(overview2)\n",
    "sim1"
   ]
  },
  {
   "cell_type": "code",
   "execution_count": 98,
   "metadata": {},
   "outputs": [
    {
     "ename": "TypeError",
     "evalue": "'in <string>' requires string as left operand, not spacy.tokens.token.Token",
     "output_type": "error",
     "traceback": [
      "\u001b[1;31m---------------------------------------------------------------------------\u001b[0m",
      "\u001b[1;31mTypeError\u001b[0m                                 Traceback (most recent call last)",
      "\u001b[1;32m<ipython-input-98-f396167500b3>\u001b[0m in \u001b[0;36m<module>\u001b[1;34m\u001b[0m\n\u001b[0;32m      2\u001b[0m \u001b[0mdocx\u001b[0m \u001b[1;33m=\u001b[0m \u001b[0mnlp\u001b[0m\u001b[1;33m(\u001b[0m\u001b[0mclean_overview1\u001b[0m\u001b[1;33m,\u001b[0m \u001b[0mdisable\u001b[0m\u001b[1;33m=\u001b[0m\u001b[1;33m[\u001b[0m\u001b[1;34m'parser'\u001b[0m\u001b[1;33m]\u001b[0m\u001b[1;33m)\u001b[0m\u001b[1;33m\u001b[0m\u001b[1;33m\u001b[0m\u001b[0m\n\u001b[0;32m      3\u001b[0m \u001b[1;33m\u001b[0m\u001b[0m\n\u001b[1;32m----> 4\u001b[1;33m \u001b[0mtokensx\u001b[0m \u001b[1;33m=\u001b[0m \u001b[1;33m[\u001b[0m\u001b[0mtok\u001b[0m\u001b[1;33m.\u001b[0m\u001b[0mlemma_\u001b[0m \u001b[1;32mfor\u001b[0m \u001b[0mtok\u001b[0m \u001b[1;32min\u001b[0m \u001b[0mdocx\u001b[0m \u001b[1;32mif\u001b[0m \u001b[0mtok\u001b[0m \u001b[1;32mnot\u001b[0m \u001b[1;32min\u001b[0m \u001b[0mpunctuations\u001b[0m\u001b[1;33m]\u001b[0m\u001b[1;33m\u001b[0m\u001b[1;33m\u001b[0m\u001b[0m\n\u001b[0m\u001b[0;32m      5\u001b[0m \u001b[0mtokensx\u001b[0m \u001b[1;33m=\u001b[0m \u001b[1;34m' '\u001b[0m\u001b[1;33m.\u001b[0m\u001b[0mjoin\u001b[0m\u001b[1;33m(\u001b[0m\u001b[0mtokensx\u001b[0m\u001b[1;33m)\u001b[0m\u001b[1;33m\u001b[0m\u001b[1;33m\u001b[0m\u001b[0m\n\u001b[0;32m      6\u001b[0m \u001b[0mtext_compareX\u001b[0m\u001b[1;33m.\u001b[0m\u001b[0mappend\u001b[0m\u001b[1;33m(\u001b[0m\u001b[0mtokensx\u001b[0m\u001b[1;33m)\u001b[0m\u001b[1;33m\u001b[0m\u001b[1;33m\u001b[0m\u001b[0m\n",
      "\u001b[1;32m<ipython-input-98-f396167500b3>\u001b[0m in \u001b[0;36m<listcomp>\u001b[1;34m(.0)\u001b[0m\n\u001b[0;32m      2\u001b[0m \u001b[0mdocx\u001b[0m \u001b[1;33m=\u001b[0m \u001b[0mnlp\u001b[0m\u001b[1;33m(\u001b[0m\u001b[0mclean_overview1\u001b[0m\u001b[1;33m,\u001b[0m \u001b[0mdisable\u001b[0m\u001b[1;33m=\u001b[0m\u001b[1;33m[\u001b[0m\u001b[1;34m'parser'\u001b[0m\u001b[1;33m]\u001b[0m\u001b[1;33m)\u001b[0m\u001b[1;33m\u001b[0m\u001b[1;33m\u001b[0m\u001b[0m\n\u001b[0;32m      3\u001b[0m \u001b[1;33m\u001b[0m\u001b[0m\n\u001b[1;32m----> 4\u001b[1;33m \u001b[0mtokensx\u001b[0m \u001b[1;33m=\u001b[0m \u001b[1;33m[\u001b[0m\u001b[0mtok\u001b[0m\u001b[1;33m.\u001b[0m\u001b[0mlemma_\u001b[0m \u001b[1;32mfor\u001b[0m \u001b[0mtok\u001b[0m \u001b[1;32min\u001b[0m \u001b[0mdocx\u001b[0m \u001b[1;32mif\u001b[0m \u001b[0mtok\u001b[0m \u001b[1;32mnot\u001b[0m \u001b[1;32min\u001b[0m \u001b[0mpunctuations\u001b[0m\u001b[1;33m]\u001b[0m\u001b[1;33m\u001b[0m\u001b[1;33m\u001b[0m\u001b[0m\n\u001b[0m\u001b[0;32m      5\u001b[0m \u001b[0mtokensx\u001b[0m \u001b[1;33m=\u001b[0m \u001b[1;34m' '\u001b[0m\u001b[1;33m.\u001b[0m\u001b[0mjoin\u001b[0m\u001b[1;33m(\u001b[0m\u001b[0mtokensx\u001b[0m\u001b[1;33m)\u001b[0m\u001b[1;33m\u001b[0m\u001b[1;33m\u001b[0m\u001b[0m\n\u001b[0;32m      6\u001b[0m \u001b[0mtext_compareX\u001b[0m\u001b[1;33m.\u001b[0m\u001b[0mappend\u001b[0m\u001b[1;33m(\u001b[0m\u001b[0mtokensx\u001b[0m\u001b[1;33m)\u001b[0m\u001b[1;33m\u001b[0m\u001b[1;33m\u001b[0m\u001b[0m\n",
      "\u001b[1;31mTypeError\u001b[0m: 'in <string>' requires string as left operand, not spacy.tokens.token.Token"
     ]
    }
   ],
   "source": [
    "text_compareX = []\n",
    "docx = nlp(clean_overview1, disable=['parser'])\n",
    "\n",
    "tokensx = [tok.lemma_ for tok in docx if tok not in punctuations]\n",
    "tokensx = ' '.join(tokensx)\n",
    "text_compareX.append(tokensx)\n",
    "\n",
    "text_compareX"
   ]
  },
  {
   "cell_type": "code",
   "execution_count": 93,
   "metadata": {},
   "outputs": [
    {
     "data": {
      "text/plain": [
       "['nat turner former slave america lead liberation movement 1831 free african american virgina result violent retaliation white']"
      ]
     },
     "execution_count": 93,
     "metadata": {},
     "output_type": "execute_result"
    }
   ],
   "source": [
    "text_compare1 = []\n",
    "doc1 = nlp(clean_overview1, disable=['parser'])\n",
    "\n",
    "tokens1 = [tok.lemma_.lower().strip() for tok in doc1]\n",
    "tokens1 = [tok for tok in tokens1 if tok not in punctuations]\n",
    "tokens1 = ' '.join(tokens1)\n",
    "text_compare1.append(tokens1)\n",
    "\n",
    "text_compare1"
   ]
  },
  {
   "cell_type": "code",
   "execution_count": 99,
   "metadata": {},
   "outputs": [
    {
     "ename": "AttributeError",
     "evalue": "'str' object has no attribute 'similarity'",
     "output_type": "error",
     "traceback": [
      "\u001b[1;31m---------------------------------------------------------------------------\u001b[0m",
      "\u001b[1;31mAttributeError\u001b[0m                            Traceback (most recent call last)",
      "\u001b[1;32m<ipython-input-99-99e09bca6625>\u001b[0m in \u001b[0;36m<module>\u001b[1;34m\u001b[0m\n\u001b[1;32m----> 1\u001b[1;33m \u001b[0msimil\u001b[0m \u001b[1;33m=\u001b[0m \u001b[0mtokens1\u001b[0m\u001b[1;33m.\u001b[0m\u001b[0msimilarity\u001b[0m\u001b[1;33m(\u001b[0m\u001b[0mtokens2\u001b[0m\u001b[1;33m)\u001b[0m\u001b[1;33m\u001b[0m\u001b[1;33m\u001b[0m\u001b[0m\n\u001b[0m\u001b[0;32m      2\u001b[0m \u001b[0msimil\u001b[0m\u001b[1;33m\u001b[0m\u001b[1;33m\u001b[0m\u001b[0m\n",
      "\u001b[1;31mAttributeError\u001b[0m: 'str' object has no attribute 'similarity'"
     ]
    }
   ],
   "source": [
    "simil = tokens1.similarity(tokens2)\n",
    "simil"
   ]
  },
  {
   "cell_type": "code",
   "execution_count": 94,
   "metadata": {},
   "outputs": [
    {
     "data": {
      "text/plain": [
       "['15 january 2009 world witness miracle hudson captain sully sullenberger glide disabled plane onto frigid water hudson river saving life 155 aboard however even sully herald public medium unprecedented feat aviation skill investigation unfold threaten destroy reputation career']"
      ]
     },
     "execution_count": 94,
     "metadata": {},
     "output_type": "execute_result"
    }
   ],
   "source": [
    "text_compare2 = []\n",
    "doc2 = nlp(clean_overview2, disable=['parser'])\n",
    "\n",
    "tokens2 = [tok.lemma_.lower().strip() for tok in doc2]\n",
    "tokens2 = [tok for tok in tokens2 if tok not in punctuations]\n",
    "tokens2 = ' '.join(tokens2)\n",
    "text_compare2.append(tokens2)\n",
    "\n",
    "text_compare2"
   ]
  },
  {
   "cell_type": "code",
   "execution_count": 95,
   "metadata": {},
   "outputs": [
    {
     "ename": "AttributeError",
     "evalue": "'list' object has no attribute 'similarity'",
     "output_type": "error",
     "traceback": [
      "\u001b[1;31m---------------------------------------------------------------------------\u001b[0m",
      "\u001b[1;31mAttributeError\u001b[0m                            Traceback (most recent call last)",
      "\u001b[1;32m<ipython-input-95-3141612d0e0e>\u001b[0m in \u001b[0;36m<module>\u001b[1;34m\u001b[0m\n\u001b[1;32m----> 1\u001b[1;33m \u001b[0mcomp\u001b[0m \u001b[1;33m=\u001b[0m \u001b[0mtext_compare1\u001b[0m\u001b[1;33m.\u001b[0m\u001b[0msimilarity\u001b[0m\u001b[1;33m(\u001b[0m\u001b[0mtext_compare2\u001b[0m\u001b[1;33m)\u001b[0m\u001b[1;33m\u001b[0m\u001b[1;33m\u001b[0m\u001b[0m\n\u001b[0m\u001b[0;32m      2\u001b[0m \u001b[0mcomp\u001b[0m\u001b[1;33m\u001b[0m\u001b[1;33m\u001b[0m\u001b[0m\n",
      "\u001b[1;31mAttributeError\u001b[0m: 'list' object has no attribute 'similarity'"
     ]
    }
   ],
   "source": [
    "comp = text_compare1.similarity(text_compare2)\n",
    "comp"
   ]
  },
  {
   "cell_type": "code",
   "execution_count": 55,
   "metadata": {},
   "outputs": [
    {
     "ename": "NameError",
     "evalue": "name 't' is not defined",
     "output_type": "error",
     "traceback": [
      "\u001b[1;31m---------------------------------------------------------------------------\u001b[0m",
      "\u001b[1;31mNameError\u001b[0m                                 Traceback (most recent call last)",
      "\u001b[1;32m<ipython-input-55-79565cf62dc9>\u001b[0m in \u001b[0;36m<module>\u001b[1;34m\u001b[0m\n\u001b[0;32m      3\u001b[0m \u001b[1;33m\u001b[0m\u001b[0m\n\u001b[0;32m      4\u001b[0m \u001b[1;32mwhile\u001b[0m \u001b[0mi\u001b[0m \u001b[1;33m<\u001b[0m \u001b[0mlength\u001b[0m\u001b[1;33m:\u001b[0m\u001b[1;33m\u001b[0m\u001b[1;33m\u001b[0m\u001b[0m\n\u001b[1;32m----> 5\u001b[1;33m     \u001b[1;32mfor\u001b[0m \u001b[0mt\u001b[0m\u001b[1;33m[\u001b[0m\u001b[1;36m0\u001b[0m\u001b[1;33m+\u001b[0m\u001b[0mi\u001b[0m\u001b[1;33m]\u001b[0m \u001b[1;32min\u001b[0m \u001b[0mtext_compare\u001b[0m\u001b[1;33m:\u001b[0m\u001b[1;33m\u001b[0m\u001b[1;33m\u001b[0m\u001b[0m\n\u001b[0m\u001b[0;32m      6\u001b[0m         \u001b[1;32mfor\u001b[0m \u001b[0mt\u001b[0m\u001b[1;33m[\u001b[0m\u001b[1;36m1\u001b[0m\u001b[1;33m+\u001b[0m\u001b[0mi\u001b[0m\u001b[1;33m]\u001b[0m \u001b[1;32min\u001b[0m \u001b[0mtext_compare\u001b[0m\u001b[1;33m:\u001b[0m\u001b[1;33m\u001b[0m\u001b[1;33m\u001b[0m\u001b[0m\n\u001b[0;32m      7\u001b[0m             \u001b[0mprint\u001b[0m\u001b[1;33m(\u001b[0m\u001b[0mt\u001b[0m\u001b[1;33m[\u001b[0m\u001b[1;36m0\u001b[0m\u001b[1;33m+\u001b[0m\u001b[0mi\u001b[0m\u001b[1;33m]\u001b[0m\u001b[1;33m.\u001b[0m\u001b[0mtext\u001b[0m\u001b[1;33m,\u001b[0m \u001b[0mt\u001b[0m\u001b[1;33m[\u001b[0m\u001b[1;36m1\u001b[0m\u001b[1;33m+\u001b[0m\u001b[0mi\u001b[0m\u001b[1;33m]\u001b[0m\u001b[1;33m.\u001b[0m\u001b[0mtext\u001b[0m\u001b[1;33m,\u001b[0m \u001b[0mt\u001b[0m\u001b[1;33m[\u001b[0m\u001b[1;36m0\u001b[0m\u001b[1;33m+\u001b[0m\u001b[0mi\u001b[0m\u001b[1;33m]\u001b[0m\u001b[1;33m.\u001b[0m\u001b[0msimilarity\u001b[0m\u001b[1;33m(\u001b[0m\u001b[0mt\u001b[0m\u001b[1;33m[\u001b[0m\u001b[1;36m1\u001b[0m\u001b[1;33m+\u001b[0m\u001b[0mi\u001b[0m\u001b[1;33m]\u001b[0m\u001b[1;33m)\u001b[0m\u001b[1;33m)\u001b[0m\u001b[1;33m\u001b[0m\u001b[1;33m\u001b[0m\u001b[0m\n",
      "\u001b[1;31mNameError\u001b[0m: name 't' is not defined"
     ]
    }
   ],
   "source": [
    "length = len(text_compare)\n",
    "i = 0\n",
    "\n",
    "while i < length: \n",
    "    for t[0+i] in text_compare:\n",
    "        for t[1+i] in text_compare:\n",
    "            print(t[0+i].text, t[1+i].text, t[0+i].similarity(t[1+i]))\n",
    "    "
   ]
  },
  {
   "cell_type": "code",
   "execution_count": 59,
   "metadata": {},
   "outputs": [
    {
     "ename": "AttributeError",
     "evalue": "'str' object has no attribute 'similarity'",
     "output_type": "error",
     "traceback": [
      "\u001b[1;31m---------------------------------------------------------------------------\u001b[0m",
      "\u001b[1;31mAttributeError\u001b[0m                            Traceback (most recent call last)",
      "\u001b[1;32m<ipython-input-59-0a2d120fa771>\u001b[0m in \u001b[0;36m<module>\u001b[1;34m\u001b[0m\n\u001b[0;32m      1\u001b[0m \u001b[1;32mfor\u001b[0m \u001b[0mtoken\u001b[0m \u001b[1;32min\u001b[0m \u001b[0mtokens1\u001b[0m\u001b[1;33m:\u001b[0m\u001b[1;33m\u001b[0m\u001b[1;33m\u001b[0m\u001b[0m\n\u001b[0;32m      2\u001b[0m     \u001b[1;32mfor\u001b[0m \u001b[0mtoken\u001b[0m \u001b[1;32min\u001b[0m \u001b[0mtokens2\u001b[0m\u001b[1;33m:\u001b[0m\u001b[1;33m\u001b[0m\u001b[1;33m\u001b[0m\u001b[0m\n\u001b[1;32m----> 3\u001b[1;33m         \u001b[0mprint\u001b[0m\u001b[1;33m(\u001b[0m\u001b[0mtokens1\u001b[0m\u001b[1;33m,\u001b[0m \u001b[0mtokens2\u001b[0m\u001b[1;33m,\u001b[0m \u001b[0mtokens1\u001b[0m\u001b[1;33m.\u001b[0m\u001b[0msimilarity\u001b[0m\u001b[1;33m(\u001b[0m\u001b[0mtokens2\u001b[0m\u001b[1;33m)\u001b[0m\u001b[1;33m)\u001b[0m\u001b[1;33m\u001b[0m\u001b[1;33m\u001b[0m\u001b[0m\n\u001b[0m",
      "\u001b[1;31mAttributeError\u001b[0m: 'str' object has no attribute 'similarity'"
     ]
    }
   ],
   "source": [
    "for token in tokens1:\n",
    "    for token in tokens2:\n",
    "        print(tokens1, tokens2, tokens1.similarity(tokens2))"
   ]
  },
  {
   "cell_type": "code",
   "execution_count": null,
   "metadata": {},
   "outputs": [],
   "source": []
  }
 ],
 "metadata": {
  "kernelspec": {
   "display_name": "Python 3",
   "language": "python",
   "name": "python3"
  },
  "language_info": {
   "codemirror_mode": {
    "name": "ipython",
    "version": 3
   },
   "file_extension": ".py",
   "mimetype": "text/x-python",
   "name": "python",
   "nbconvert_exporter": "python",
   "pygments_lexer": "ipython3",
   "version": "3.7.1"
  }
 },
 "nbformat": 4,
 "nbformat_minor": 2
}
