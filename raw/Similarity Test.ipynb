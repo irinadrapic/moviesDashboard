{
 "cells": [
  {
   "cell_type": "code",
   "execution_count": 1,
   "metadata": {},
   "outputs": [],
   "source": [
    "# for similarity need to download larger english word library with the below in gitbash \n",
    "# python -m spacy download en_core_web_lg"
   ]
  },
  {
   "cell_type": "code",
   "execution_count": 2,
   "metadata": {},
   "outputs": [],
   "source": [
    "import numpy as np\n",
    "import pandas as pd\n",
    "import spacy\n",
    "import pyspark\n",
    "from pyspark.ml.feature import StopWordsRemover\n",
    "from pyspark.sql import SparkSession"
   ]
  },
  {
   "cell_type": "code",
   "execution_count": 3,
   "metadata": {},
   "outputs": [],
   "source": [
    "spark = SparkSession.builder.appName('pandasToSparkDF').getOrCreate()"
   ]
  },
  {
   "cell_type": "code",
   "execution_count": 4,
   "metadata": {},
   "outputs": [],
   "source": [
    "file = pd.read_csv(\"joined_data_v1.csv\")"
   ]
  },
  {
   "cell_type": "code",
   "execution_count": 5,
   "metadata": {},
   "outputs": [
    {
     "data": {
      "text/html": [
       "<div>\n",
       "<style scoped>\n",
       "    .dataframe tbody tr th:only-of-type {\n",
       "        vertical-align: middle;\n",
       "    }\n",
       "\n",
       "    .dataframe tbody tr th {\n",
       "        vertical-align: top;\n",
       "    }\n",
       "\n",
       "    .dataframe thead th {\n",
       "        text-align: right;\n",
       "    }\n",
       "</style>\n",
       "<table border=\"1\" class=\"dataframe\">\n",
       "  <thead>\n",
       "    <tr style=\"text-align: right;\">\n",
       "      <th></th>\n",
       "      <th>id</th>\n",
       "      <th>imdb_id</th>\n",
       "      <th>title</th>\n",
       "      <th>release_date</th>\n",
       "      <th>spoken_languages</th>\n",
       "      <th>genres1</th>\n",
       "      <th>genres2</th>\n",
       "      <th>genres3</th>\n",
       "      <th>genres4</th>\n",
       "      <th>genres5</th>\n",
       "      <th>...</th>\n",
       "      <th>director</th>\n",
       "      <th>poster_link</th>\n",
       "      <th>production_company</th>\n",
       "      <th>vote_average</th>\n",
       "      <th>vote_average (%)</th>\n",
       "      <th>Internet_Movie_Database_rating</th>\n",
       "      <th>Rotten_Tomatoes_rating</th>\n",
       "      <th>Metacritic_rating</th>\n",
       "      <th>rating_average</th>\n",
       "      <th>writer</th>\n",
       "    </tr>\n",
       "  </thead>\n",
       "  <tbody>\n",
       "    <tr>\n",
       "      <th>0</th>\n",
       "      <td>339408</td>\n",
       "      <td>tt4196450</td>\n",
       "      <td>The Birth of a Nation</td>\n",
       "      <td>9/9/2016</td>\n",
       "      <td>[{'iso_639_1': 'en', 'name': 'English'}</td>\n",
       "      <td>Drama</td>\n",
       "      <td>NaN</td>\n",
       "      <td>NaN</td>\n",
       "      <td>NaN</td>\n",
       "      <td>NaN</td>\n",
       "      <td>...</td>\n",
       "      <td>Nate Parker</td>\n",
       "      <td>https://m.media-amazon.com/images/M/MV5BMTU5Mj...</td>\n",
       "      <td>Fox Searchlight Pictures</td>\n",
       "      <td>6.4</td>\n",
       "      <td>64%</td>\n",
       "      <td>64%</td>\n",
       "      <td>72%</td>\n",
       "      <td>69%</td>\n",
       "      <td>67%</td>\n",
       "      <td>Nate Parker (screenplay by), Nate Parker (stor...</td>\n",
       "    </tr>\n",
       "    <tr>\n",
       "      <th>1</th>\n",
       "      <td>339408</td>\n",
       "      <td>tt4196450</td>\n",
       "      <td>The Birth of a Nation</td>\n",
       "      <td>9/9/2016</td>\n",
       "      <td>[{'iso_639_1': 'en', 'name': 'English'}</td>\n",
       "      <td>Drama</td>\n",
       "      <td>NaN</td>\n",
       "      <td>NaN</td>\n",
       "      <td>NaN</td>\n",
       "      <td>NaN</td>\n",
       "      <td>...</td>\n",
       "      <td>Nate Parker</td>\n",
       "      <td>https://m.media-amazon.com/images/M/MV5BMTU5Mj...</td>\n",
       "      <td>Fox Searchlight Pictures</td>\n",
       "      <td>6.4</td>\n",
       "      <td>64%</td>\n",
       "      <td>64%</td>\n",
       "      <td>72%</td>\n",
       "      <td>69%</td>\n",
       "      <td>67%</td>\n",
       "      <td>Nate Parker (screenplay by), Nate Parker (stor...</td>\n",
       "    </tr>\n",
       "    <tr>\n",
       "      <th>2</th>\n",
       "      <td>363676</td>\n",
       "      <td>tt3263904</td>\n",
       "      <td>Sully</td>\n",
       "      <td>9/7/2016</td>\n",
       "      <td>[{'iso_639_1': 'en', 'name': 'English'}</td>\n",
       "      <td>Drama</td>\n",
       "      <td>History</td>\n",
       "      <td>NaN</td>\n",
       "      <td>NaN</td>\n",
       "      <td>NaN</td>\n",
       "      <td>...</td>\n",
       "      <td>Clint Eastwood</td>\n",
       "      <td>https://m.media-amazon.com/images/M/MV5BY2NmZD...</td>\n",
       "      <td>Warner Bros.</td>\n",
       "      <td>7.0</td>\n",
       "      <td>70%</td>\n",
       "      <td>75%</td>\n",
       "      <td>86%</td>\n",
       "      <td>74%</td>\n",
       "      <td>76%</td>\n",
       "      <td>Todd Komarnicki, Chesley Sullenberger (based o...</td>\n",
       "    </tr>\n",
       "    <tr>\n",
       "      <th>3</th>\n",
       "      <td>363676</td>\n",
       "      <td>tt3263904</td>\n",
       "      <td>Sully</td>\n",
       "      <td>9/7/2016</td>\n",
       "      <td>[{'iso_639_1': 'en', 'name': 'English'}</td>\n",
       "      <td>Drama</td>\n",
       "      <td>History</td>\n",
       "      <td>NaN</td>\n",
       "      <td>NaN</td>\n",
       "      <td>NaN</td>\n",
       "      <td>...</td>\n",
       "      <td>Clint Eastwood</td>\n",
       "      <td>https://m.media-amazon.com/images/M/MV5BY2NmZD...</td>\n",
       "      <td>Warner Bros.</td>\n",
       "      <td>7.0</td>\n",
       "      <td>70%</td>\n",
       "      <td>75%</td>\n",
       "      <td>86%</td>\n",
       "      <td>74%</td>\n",
       "      <td>76%</td>\n",
       "      <td>Todd Komarnicki, Chesley Sullenberger (based o...</td>\n",
       "    </tr>\n",
       "    <tr>\n",
       "      <th>4</th>\n",
       "      <td>296524</td>\n",
       "      <td>tt1860357</td>\n",
       "      <td>Deepwater Horizon</td>\n",
       "      <td>9/29/2016</td>\n",
       "      <td>[{'iso_639_1': 'en', 'name': 'English'}</td>\n",
       "      <td>Drama</td>\n",
       "      <td>Action</td>\n",
       "      <td>NaN</td>\n",
       "      <td>NaN</td>\n",
       "      <td>NaN</td>\n",
       "      <td>...</td>\n",
       "      <td>Peter Berg</td>\n",
       "      <td>https://m.media-amazon.com/images/M/MV5BOTEzND...</td>\n",
       "      <td>Lionsgate</td>\n",
       "      <td>6.5</td>\n",
       "      <td>65%</td>\n",
       "      <td>71%</td>\n",
       "      <td>83%</td>\n",
       "      <td>68%</td>\n",
       "      <td>72%</td>\n",
       "      <td>Matthew Michael Carnahan (screenplay by), Matt...</td>\n",
       "    </tr>\n",
       "  </tbody>\n",
       "</table>\n",
       "<p>5 rows × 33 columns</p>\n",
       "</div>"
      ],
      "text/plain": [
       "       id    imdb_id                  title release_date  \\\n",
       "0  339408  tt4196450  The Birth of a Nation     9/9/2016   \n",
       "1  339408  tt4196450  The Birth of a Nation     9/9/2016   \n",
       "2  363676  tt3263904                  Sully     9/7/2016   \n",
       "3  363676  tt3263904                  Sully     9/7/2016   \n",
       "4  296524  tt1860357      Deepwater Horizon    9/29/2016   \n",
       "\n",
       "                          spoken_languages genres1   genres2 genres3 genres4  \\\n",
       "0  [{'iso_639_1': 'en', 'name': 'English'}   Drama       NaN     NaN     NaN   \n",
       "1  [{'iso_639_1': 'en', 'name': 'English'}   Drama       NaN     NaN     NaN   \n",
       "2  [{'iso_639_1': 'en', 'name': 'English'}   Drama   History     NaN     NaN   \n",
       "3  [{'iso_639_1': 'en', 'name': 'English'}   Drama   History     NaN     NaN   \n",
       "4  [{'iso_639_1': 'en', 'name': 'English'}   Drama    Action     NaN     NaN   \n",
       "\n",
       "  genres5                        ...                                director  \\\n",
       "0     NaN                        ...                             Nate Parker   \n",
       "1     NaN                        ...                             Nate Parker   \n",
       "2     NaN                        ...                          Clint Eastwood   \n",
       "3     NaN                        ...                          Clint Eastwood   \n",
       "4     NaN                        ...                              Peter Berg   \n",
       "\n",
       "                                         poster_link  \\\n",
       "0  https://m.media-amazon.com/images/M/MV5BMTU5Mj...   \n",
       "1  https://m.media-amazon.com/images/M/MV5BMTU5Mj...   \n",
       "2  https://m.media-amazon.com/images/M/MV5BY2NmZD...   \n",
       "3  https://m.media-amazon.com/images/M/MV5BY2NmZD...   \n",
       "4  https://m.media-amazon.com/images/M/MV5BOTEzND...   \n",
       "\n",
       "         production_company  vote_average  vote_average (%)  \\\n",
       "0  Fox Searchlight Pictures           6.4               64%   \n",
       "1  Fox Searchlight Pictures           6.4               64%   \n",
       "2              Warner Bros.           7.0               70%   \n",
       "3              Warner Bros.           7.0               70%   \n",
       "4                 Lionsgate           6.5               65%   \n",
       "\n",
       "  Internet_Movie_Database_rating Rotten_Tomatoes_rating  Metacritic_rating  \\\n",
       "0                            64%                    72%                69%   \n",
       "1                            64%                    72%                69%   \n",
       "2                            75%                    86%                74%   \n",
       "3                            75%                    86%                74%   \n",
       "4                            71%                    83%                68%   \n",
       "\n",
       "  rating_average                                             writer  \n",
       "0            67%  Nate Parker (screenplay by), Nate Parker (stor...  \n",
       "1            67%  Nate Parker (screenplay by), Nate Parker (stor...  \n",
       "2            76%  Todd Komarnicki, Chesley Sullenberger (based o...  \n",
       "3            76%  Todd Komarnicki, Chesley Sullenberger (based o...  \n",
       "4            72%  Matthew Michael Carnahan (screenplay by), Matt...  \n",
       "\n",
       "[5 rows x 33 columns]"
      ]
     },
     "execution_count": 5,
     "metadata": {},
     "output_type": "execute_result"
    }
   ],
   "source": [
    "file = pd.DataFrame(file)\n",
    "file.head()"
   ]
  },
  {
   "cell_type": "code",
   "execution_count": 6,
   "metadata": {},
   "outputs": [],
   "source": [
    "file.drop_duplicates(keep='first', inplace=True)"
   ]
  },
  {
   "cell_type": "code",
   "execution_count": 7,
   "metadata": {},
   "outputs": [
    {
     "data": {
      "text/html": [
       "<div>\n",
       "<style scoped>\n",
       "    .dataframe tbody tr th:only-of-type {\n",
       "        vertical-align: middle;\n",
       "    }\n",
       "\n",
       "    .dataframe tbody tr th {\n",
       "        vertical-align: top;\n",
       "    }\n",
       "\n",
       "    .dataframe thead th {\n",
       "        text-align: right;\n",
       "    }\n",
       "</style>\n",
       "<table border=\"1\" class=\"dataframe\">\n",
       "  <thead>\n",
       "    <tr style=\"text-align: right;\">\n",
       "      <th></th>\n",
       "      <th>id</th>\n",
       "      <th>imdb_id</th>\n",
       "      <th>title</th>\n",
       "      <th>release_date</th>\n",
       "      <th>spoken_languages</th>\n",
       "      <th>genres1</th>\n",
       "      <th>genres2</th>\n",
       "      <th>genres3</th>\n",
       "      <th>genres4</th>\n",
       "      <th>genres5</th>\n",
       "      <th>...</th>\n",
       "      <th>director</th>\n",
       "      <th>poster_link</th>\n",
       "      <th>production_company</th>\n",
       "      <th>vote_average</th>\n",
       "      <th>vote_average (%)</th>\n",
       "      <th>Internet_Movie_Database_rating</th>\n",
       "      <th>Rotten_Tomatoes_rating</th>\n",
       "      <th>Metacritic_rating</th>\n",
       "      <th>rating_average</th>\n",
       "      <th>writer</th>\n",
       "    </tr>\n",
       "  </thead>\n",
       "  <tbody>\n",
       "    <tr>\n",
       "      <th>0</th>\n",
       "      <td>339408</td>\n",
       "      <td>tt4196450</td>\n",
       "      <td>The Birth of a Nation</td>\n",
       "      <td>9/9/2016</td>\n",
       "      <td>[{'iso_639_1': 'en', 'name': 'English'}</td>\n",
       "      <td>Drama</td>\n",
       "      <td>NaN</td>\n",
       "      <td>NaN</td>\n",
       "      <td>NaN</td>\n",
       "      <td>NaN</td>\n",
       "      <td>...</td>\n",
       "      <td>Nate Parker</td>\n",
       "      <td>https://m.media-amazon.com/images/M/MV5BMTU5Mj...</td>\n",
       "      <td>Fox Searchlight Pictures</td>\n",
       "      <td>6.4</td>\n",
       "      <td>64%</td>\n",
       "      <td>64%</td>\n",
       "      <td>72%</td>\n",
       "      <td>69%</td>\n",
       "      <td>67%</td>\n",
       "      <td>Nate Parker (screenplay by), Nate Parker (stor...</td>\n",
       "    </tr>\n",
       "    <tr>\n",
       "      <th>2</th>\n",
       "      <td>363676</td>\n",
       "      <td>tt3263904</td>\n",
       "      <td>Sully</td>\n",
       "      <td>9/7/2016</td>\n",
       "      <td>[{'iso_639_1': 'en', 'name': 'English'}</td>\n",
       "      <td>Drama</td>\n",
       "      <td>History</td>\n",
       "      <td>NaN</td>\n",
       "      <td>NaN</td>\n",
       "      <td>NaN</td>\n",
       "      <td>...</td>\n",
       "      <td>Clint Eastwood</td>\n",
       "      <td>https://m.media-amazon.com/images/M/MV5BY2NmZD...</td>\n",
       "      <td>Warner Bros.</td>\n",
       "      <td>7.0</td>\n",
       "      <td>70%</td>\n",
       "      <td>75%</td>\n",
       "      <td>86%</td>\n",
       "      <td>74%</td>\n",
       "      <td>76%</td>\n",
       "      <td>Todd Komarnicki, Chesley Sullenberger (based o...</td>\n",
       "    </tr>\n",
       "    <tr>\n",
       "      <th>4</th>\n",
       "      <td>296524</td>\n",
       "      <td>tt1860357</td>\n",
       "      <td>Deepwater Horizon</td>\n",
       "      <td>9/29/2016</td>\n",
       "      <td>[{'iso_639_1': 'en', 'name': 'English'}</td>\n",
       "      <td>Drama</td>\n",
       "      <td>Action</td>\n",
       "      <td>NaN</td>\n",
       "      <td>NaN</td>\n",
       "      <td>NaN</td>\n",
       "      <td>...</td>\n",
       "      <td>Peter Berg</td>\n",
       "      <td>https://m.media-amazon.com/images/M/MV5BOTEzND...</td>\n",
       "      <td>Lionsgate</td>\n",
       "      <td>6.5</td>\n",
       "      <td>65%</td>\n",
       "      <td>71%</td>\n",
       "      <td>83%</td>\n",
       "      <td>68%</td>\n",
       "      <td>72%</td>\n",
       "      <td>Matthew Michael Carnahan (screenplay by), Matt...</td>\n",
       "    </tr>\n",
       "    <tr>\n",
       "      <th>6</th>\n",
       "      <td>283366</td>\n",
       "      <td>tt1935859</td>\n",
       "      <td>Miss Peregrine's Home for Peculiar Children</td>\n",
       "      <td>9/28/2016</td>\n",
       "      <td>[{'iso_639_1': 'en', 'name': 'English'}</td>\n",
       "      <td>Drama</td>\n",
       "      <td>Fantasy</td>\n",
       "      <td>Adventure</td>\n",
       "      <td>NaN</td>\n",
       "      <td>NaN</td>\n",
       "      <td>...</td>\n",
       "      <td>Tim Burton</td>\n",
       "      <td>https://m.media-amazon.com/images/M/MV5BMTU0Nz...</td>\n",
       "      <td>20th Century Fox</td>\n",
       "      <td>6.5</td>\n",
       "      <td>65%</td>\n",
       "      <td>67%</td>\n",
       "      <td>65%</td>\n",
       "      <td>57%</td>\n",
       "      <td>64%</td>\n",
       "      <td>Ransom Riggs (based upon the novel written by)...</td>\n",
       "    </tr>\n",
       "    <tr>\n",
       "      <th>8</th>\n",
       "      <td>284564</td>\n",
       "      <td>tt3835080</td>\n",
       "      <td>31</td>\n",
       "      <td>9/15/2016</td>\n",
       "      <td>[{'iso_639_1': 'de', 'name': 'Deutsch'}, {'iso...</td>\n",
       "      <td>Horror</td>\n",
       "      <td>Thriller</td>\n",
       "      <td>NaN</td>\n",
       "      <td>NaN</td>\n",
       "      <td>NaN</td>\n",
       "      <td>...</td>\n",
       "      <td>Rob Zombie</td>\n",
       "      <td>https://m.media-amazon.com/images/M/MV5BNTE0NT...</td>\n",
       "      <td>Bow and Arrow Entertainment</td>\n",
       "      <td>4.9</td>\n",
       "      <td>49%</td>\n",
       "      <td>51%</td>\n",
       "      <td>49%</td>\n",
       "      <td>35%</td>\n",
       "      <td>46%</td>\n",
       "      <td>Rob Zombie</td>\n",
       "    </tr>\n",
       "  </tbody>\n",
       "</table>\n",
       "<p>5 rows × 33 columns</p>\n",
       "</div>"
      ],
      "text/plain": [
       "       id    imdb_id                                        title  \\\n",
       "0  339408  tt4196450                        The Birth of a Nation   \n",
       "2  363676  tt3263904                                        Sully   \n",
       "4  296524  tt1860357                            Deepwater Horizon   \n",
       "6  283366  tt1935859  Miss Peregrine's Home for Peculiar Children   \n",
       "8  284564  tt3835080                                           31   \n",
       "\n",
       "  release_date                                   spoken_languages  genres1  \\\n",
       "0     9/9/2016            [{'iso_639_1': 'en', 'name': 'English'}    Drama   \n",
       "2     9/7/2016            [{'iso_639_1': 'en', 'name': 'English'}    Drama   \n",
       "4    9/29/2016            [{'iso_639_1': 'en', 'name': 'English'}    Drama   \n",
       "6    9/28/2016            [{'iso_639_1': 'en', 'name': 'English'}    Drama   \n",
       "8    9/15/2016  [{'iso_639_1': 'de', 'name': 'Deutsch'}, {'iso...   Horror   \n",
       "\n",
       "     genres2    genres3 genres4 genres5  \\\n",
       "0        NaN        NaN     NaN     NaN   \n",
       "2    History        NaN     NaN     NaN   \n",
       "4     Action        NaN     NaN     NaN   \n",
       "6    Fantasy  Adventure     NaN     NaN   \n",
       "8   Thriller        NaN     NaN     NaN   \n",
       "\n",
       "                         ...                                director  \\\n",
       "0                        ...                             Nate Parker   \n",
       "2                        ...                          Clint Eastwood   \n",
       "4                        ...                              Peter Berg   \n",
       "6                        ...                              Tim Burton   \n",
       "8                        ...                              Rob Zombie   \n",
       "\n",
       "                                         poster_link  \\\n",
       "0  https://m.media-amazon.com/images/M/MV5BMTU5Mj...   \n",
       "2  https://m.media-amazon.com/images/M/MV5BY2NmZD...   \n",
       "4  https://m.media-amazon.com/images/M/MV5BOTEzND...   \n",
       "6  https://m.media-amazon.com/images/M/MV5BMTU0Nz...   \n",
       "8  https://m.media-amazon.com/images/M/MV5BNTE0NT...   \n",
       "\n",
       "            production_company  vote_average  vote_average (%)  \\\n",
       "0     Fox Searchlight Pictures           6.4               64%   \n",
       "2                 Warner Bros.           7.0               70%   \n",
       "4                    Lionsgate           6.5               65%   \n",
       "6             20th Century Fox           6.5               65%   \n",
       "8  Bow and Arrow Entertainment           4.9               49%   \n",
       "\n",
       "  Internet_Movie_Database_rating Rotten_Tomatoes_rating  Metacritic_rating  \\\n",
       "0                            64%                    72%                69%   \n",
       "2                            75%                    86%                74%   \n",
       "4                            71%                    83%                68%   \n",
       "6                            67%                    65%                57%   \n",
       "8                            51%                    49%                35%   \n",
       "\n",
       "  rating_average                                             writer  \n",
       "0            67%  Nate Parker (screenplay by), Nate Parker (stor...  \n",
       "2            76%  Todd Komarnicki, Chesley Sullenberger (based o...  \n",
       "4            72%  Matthew Michael Carnahan (screenplay by), Matt...  \n",
       "6            64%  Ransom Riggs (based upon the novel written by)...  \n",
       "8            46%                                         Rob Zombie  \n",
       "\n",
       "[5 rows x 33 columns]"
      ]
     },
     "execution_count": 7,
     "metadata": {},
     "output_type": "execute_result"
    }
   ],
   "source": [
    "file.head()"
   ]
  },
  {
   "cell_type": "code",
   "execution_count": 8,
   "metadata": {},
   "outputs": [
    {
     "data": {
      "text/html": [
       "<div>\n",
       "<style scoped>\n",
       "    .dataframe tbody tr th:only-of-type {\n",
       "        vertical-align: middle;\n",
       "    }\n",
       "\n",
       "    .dataframe tbody tr th {\n",
       "        vertical-align: top;\n",
       "    }\n",
       "\n",
       "    .dataframe thead th {\n",
       "        text-align: right;\n",
       "    }\n",
       "</style>\n",
       "<table border=\"1\" class=\"dataframe\">\n",
       "  <thead>\n",
       "    <tr style=\"text-align: right;\">\n",
       "      <th></th>\n",
       "      <th>title</th>\n",
       "      <th>overview</th>\n",
       "    </tr>\n",
       "  </thead>\n",
       "  <tbody>\n",
       "    <tr>\n",
       "      <th>0</th>\n",
       "      <td>The Birth of a Nation</td>\n",
       "      <td>Nat Turner, a former slave in America, leads a...</td>\n",
       "    </tr>\n",
       "    <tr>\n",
       "      <th>2</th>\n",
       "      <td>Sully</td>\n",
       "      <td>On 15 January 2009, the world witnessed the 'M...</td>\n",
       "    </tr>\n",
       "    <tr>\n",
       "      <th>4</th>\n",
       "      <td>Deepwater Horizon</td>\n",
       "      <td>A story set on the offshore drilling rig Deepw...</td>\n",
       "    </tr>\n",
       "    <tr>\n",
       "      <th>6</th>\n",
       "      <td>Miss Peregrine's Home for Peculiar Children</td>\n",
       "      <td>A teenager finds himself transported to an isl...</td>\n",
       "    </tr>\n",
       "    <tr>\n",
       "      <th>8</th>\n",
       "      <td>31</td>\n",
       "      <td>ROB ZOMBIE'S  S P O O K  H A U S 31</td>\n",
       "    </tr>\n",
       "  </tbody>\n",
       "</table>\n",
       "</div>"
      ],
      "text/plain": [
       "                                         title  \\\n",
       "0                        The Birth of a Nation   \n",
       "2                                        Sully   \n",
       "4                            Deepwater Horizon   \n",
       "6  Miss Peregrine's Home for Peculiar Children   \n",
       "8                                           31   \n",
       "\n",
       "                                            overview  \n",
       "0  Nat Turner, a former slave in America, leads a...  \n",
       "2  On 15 January 2009, the world witnessed the 'M...  \n",
       "4  A story set on the offshore drilling rig Deepw...  \n",
       "6  A teenager finds himself transported to an isl...  \n",
       "8                ROB ZOMBIE'S  S P O O K  H A U S 31  "
      ]
     },
     "execution_count": 8,
     "metadata": {},
     "output_type": "execute_result"
    }
   ],
   "source": [
    "overview_df2 = file[[\"title\", \"overview\"]].copy()\n",
    "overview_df2.head()"
   ]
  },
  {
   "cell_type": "code",
   "execution_count": 9,
   "metadata": {},
   "outputs": [],
   "source": [
    "from pyspark.ml.feature import Tokenizer\n",
    "from pyspark.sql.functions import col, udf\n",
    "from pyspark.sql.types import IntegerType"
   ]
  },
  {
   "cell_type": "code",
   "execution_count": 10,
   "metadata": {},
   "outputs": [
    {
     "name": "stdout",
     "output_type": "stream",
     "text": [
      "+--------------------+--------------------+\n",
      "|               title|            overview|\n",
      "+--------------------+--------------------+\n",
      "|The Birth of a Na...|Nat Turner, a for...|\n",
      "|               Sully|On 15 January 200...|\n",
      "|   Deepwater Horizon|A story set on th...|\n",
      "|Miss Peregrine's ...|A teenager finds ...|\n",
      "|                  31|ROB ZOMBIE'S  S P...|\n",
      "|             Snowden|CIA employee Edwa...|\n",
      "|         Blair Witch|Students on a cam...|\n",
      "|The Magnificent S...|Seven gun men in ...|\n",
      "|              Morgan|A corporate risk-...|\n",
      "|      The Dark Tower|The last Gunsling...|\n",
      "|          Nine Lives|A stuffy business...|\n",
      "|       Don't Breathe|A group of teens ...|\n",
      "|       Suicide Squad|From DC Comics co...|\n",
      "|Kubo and the Two ...|Kubo mesmerizes t...|\n",
      "|             Ben-Hur|A falsely accused...|\n",
      "|            War Dogs|Based on the true...|\n",
      "|  Hell or High Water|A divorced dad an...|\n",
      "|          Anthropoid|In December 1941,...|\n",
      "|       Pete's Dragon|Pete is a mysteri...|\n",
      "|            Rock Dog|When a radio fall...|\n",
      "+--------------------+--------------------+\n",
      "only showing top 20 rows\n",
      "\n"
     ]
    }
   ],
   "source": [
    "sentenceData = spark.createDataFrame(overview_df2)\n",
    "sentenceData.show() "
   ]
  },
  {
   "cell_type": "code",
   "execution_count": 11,
   "metadata": {},
   "outputs": [
    {
     "data": {
      "text/plain": [
       "Tokenizer_3948f8fd01f3"
      ]
     },
     "execution_count": 11,
     "metadata": {},
     "output_type": "execute_result"
    }
   ],
   "source": [
    "tokenizer = Tokenizer(inputCol=\"overview\", outputCol=\"words\")\n",
    "tokenizer"
   ]
  },
  {
   "cell_type": "code",
   "execution_count": 12,
   "metadata": {},
   "outputs": [
    {
     "name": "stdout",
     "output_type": "stream",
     "text": [
      "+-------------------------------------------+------------------------------------------------------------------------------------------------------------------------------------------------------------------------------------------------------------------------------------------------------------------------------------------------------------------------------------------------------------------------------------------------------------------------+--------------------------------------------------------------------------------------------------------------------------------------------------------------------------------------------------------------------------------------------------------------------------------------------------------------------------------------------------------------------------------------------------------------------------------------------------------------------------------------------+\n",
      "|title                                      |overview                                                                                                                                                                                                                                                                                                                                                                                                                |words                                                                                                                                                                                                                                                                                                                                                                                                                                                                                       |\n",
      "+-------------------------------------------+------------------------------------------------------------------------------------------------------------------------------------------------------------------------------------------------------------------------------------------------------------------------------------------------------------------------------------------------------------------------------------------------------------------------+--------------------------------------------------------------------------------------------------------------------------------------------------------------------------------------------------------------------------------------------------------------------------------------------------------------------------------------------------------------------------------------------------------------------------------------------------------------------------------------------+\n",
      "|The Birth of a Nation                      |Nat Turner, a former slave in America, leads a liberation movement in 1831 to free African-Americans in Virgina that results in a violent retaliation from whites.                                                                                                                                                                                                                                                      |[nat, turner,, a, former, slave, in, america,, leads, a, liberation, movement, in, 1831, to, free, african-americans, in, virgina, that, results, in, a, violent, retaliation, from, whites.]                                                                                                                                                                                                                                                                                               |\n",
      "|Sully                                      |On 15 January 2009, the world witnessed the 'Miracle on the Hudson' when Captain 'Sully' Sullenberger glided his disabled plane onto the frigid waters of the Hudson River, saving the lives of all 155 aboard. However, even as Sully was being heralded by the public and the media for his unprecedented feat of aviation skill, an investigation was unfolding that threatened to destroy his reputation and career.|[on, 15, january, 2009,, the, world, witnessed, the, 'miracle, on, the, hudson', when, captain, 'sully', sullenberger, glided, his, disabled, plane, onto, the, frigid, waters, of, the, hudson, river,, saving, the, lives, of, all, 155, aboard., however,, even, as, sully, was, being, heralded, by, the, public, and, the, media, for, his, unprecedented, feat, of, aviation, skill,, an, investigation, was, unfolding, that, threatened, to, destroy, his, reputation, and, career.]|\n",
      "|Deepwater Horizon                          |A story set on the offshore drilling rig Deepwater Horizon, which exploded during April 2010 and created the worst oil spill in U.S. history.                                                                                                                                                                                                                                                                           |[a, story, set, on, the, offshore, drilling, rig, deepwater, horizon,, which, exploded, during, april, 2010, and, created, the, worst, oil, spill, in, u.s., history.]                                                                                                                                                                                                                                                                                                                      |\n",
      "|Miss Peregrine's Home for Peculiar Children|A teenager finds himself transported to an island where he must help protect a group of orphans with special powers from creatures intent on destroying them.                                                                                                                                                                                                                                                           |[a, teenager, finds, himself, transported, to, an, island, where, he, must, help, protect, a, group, of, orphans, with, special, powers, from, creatures, intent, on, destroying, them.]                                                                                                                                                                                                                                                                                                    |\n",
      "|31                                         |ROB ZOMBIE'S  S P O O K  H A U S 31                                                                                                                                                                                                                                                                                                                                                                                     |[rob, zombie's, , s, p, o, o, k, , h, a, u, s, 31]                                                                                                                                                                                                                                                                                                                                                                                                                                          |\n",
      "|Snowden                                    |CIA employee Edward Snowden leaks thousands of classified documents to the press.                                                                                                                                                                                                                                                                                                                                       |[cia, employee, edward, snowden, leaks, thousands, of, classified, documents, to, the, press.]                                                                                                                                                                                                                                                                                                                                                                                              |\n",
      "|Blair Witch                                |Students on a camping trip discover something sinister is lurking beyond the trees.                                                                                                                                                                                                                                                                                                                                     |[students, on, a, camping, trip, discover, something, sinister, is, lurking, beyond, the, trees.]                                                                                                                                                                                                                                                                                                                                                                                           |\n",
      "|The Magnificent Seven                      |Seven gun men in the old west gradually come together to help a poor village against savage thieves.                                                                                                                                                                                                                                                                                                                    |[seven, gun, men, in, the, old, west, gradually, come, together, to, help, a, poor, village, against, savage, thieves.]                                                                                                                                                                                                                                                                                                                                                                     |\n",
      "|Morgan                                     |A corporate risk-management consultant must determine whether or not to terminate an artificial being's life that was made in a laboratory environment.                                                                                                                                                                                                                                                                 |[a, corporate, risk-management, consultant, must, determine, whether, or, not, to, terminate, an, artificial, being's, life, that, was, made, in, a, laboratory, environment.]                                                                                                                                                                                                                                                                                                              |\n",
      "|The Dark Tower                             |The last Gunslinger, Roland Deschain, has been locked in an eternal battle with Walter O’Dim, also known as the Man in Black, determined to prevent him from toppling the Dark Tower, which holds the universe together. With the fate of the worlds at stake, good and evil will collide in the ultimate battle as only Roland can defend the Tower from the Man in Black.                                             |[the, last, gunslinger,, roland, deschain,, has, been, locked, in, an, eternal, battle, with, walter, o’dim,, also, known, as, the, man, in, black,, determined, to, prevent, him, from, toppling, the, dark, tower,, which, holds, the, universe, together., with, the, fate, of, the, worlds, at, stake,, good, and, evil, will, collide, in, the, ultimate, battle, as, only, roland, can, defend, the, tower, from, the, man, in, black.]                                               |\n",
      "|Nine Lives                                 |A stuffy businessman finds himself trapped inside the body of his family's cat.                                                                                                                                                                                                                                                                                                                                         |[a, stuffy, businessman, finds, himself, trapped, inside, the, body, of, his, family's, cat.]                                                                                                                                                                                                                                                                                                                                                                                               |\n",
      "|Don't Breathe                              |A group of teens break into a blind man's home thinking they'll get away with the perfect crime. They're wrong.                                                                                                                                                                                                                                                                                                         |[a, group, of, teens, break, into, a, blind, man's, home, thinking, they'll, get, away, with, the, perfect, crime., they're, wrong.]                                                                                                                                                                                                                                                                                                                                                        |\n",
      "|Suicide Squad                              |From DC Comics comes the Suicide Squad, an antihero team of incarcerated supervillains who act as deniable assets for the United States government, undertaking high-risk black ops missions in exchange for commuted prison sentences.                                                                                                                                                                                 |[from, dc, comics, comes, the, suicide, squad,, an, antihero, team, of, incarcerated, supervillains, who, act, as, deniable, assets, for, the, united, states, government,, undertaking, high-risk, black, ops, missions, in, exchange, for, commuted, prison, sentences.]                                                                                                                                                                                                                  |\n",
      "|Kubo and the Two Strings                   |Kubo mesmerizes the people in his village with his magical gift for spinning wild tales with origami. When he accidentally summons an evil spirit seeking vengeance, Kubo is forced to go on a quest to solve the mystery of his fallen samurai father and his mystical weaponry, as well as discover his own magical powers.                                                                                           |[kubo, mesmerizes, the, people, in, his, village, with, his, magical, gift, for, spinning, wild, tales, with, origami., when, he, accidentally, summons, an, evil, spirit, seeking, vengeance,, kubo, is, forced, to, go, on, a, quest, to, solve, the, mystery, of, his, fallen, samurai, father, and, his, mystical, weaponry,, as, well, as, discover, his, own, magical, powers.]                                                                                                       |\n",
      "|Ben-Hur                                    |A falsely accused nobleman survives years of slavery to take vengeance on his best friend who betrayed him.                                                                                                                                                                                                                                                                                                             |[a, falsely, accused, nobleman, survives, years, of, slavery, to, take, vengeance, on, his, best, friend, who, betrayed, him.]                                                                                                                                                                                                                                                                                                                                                              |\n",
      "|War Dogs                                   |Based on the true story of two young men, David Packouz and Efraim Diveroli, who won a $300 million contract from the Pentagon to arm America's allies in Afghanistan.                                                                                                                                                                                                                                                  |[based, on, the, true, story, of, two, young, men,, david, packouz, and, efraim, diveroli,, who, won, a, $300, million, contract, from, the, pentagon, to, arm, america's, allies, in, afghanistan.]                                                                                                                                                                                                                                                                                        |\n",
      "|Hell or High Water                         |A divorced dad and his ex-con brother resort to a desperate scheme in order to save their family's farm in West Texas.                                                                                                                                                                                                                                                                                                  |[a, divorced, dad, and, his, ex-con, brother, resort, to, a, desperate, scheme, in, order, to, save, their, family's, farm, in, west, texas.]                                                                                                                                                                                                                                                                                                                                               |\n",
      "|Anthropoid                                 |In December 1941, Czech soldiers Jozef Gabčík and Jan Kubiš parachute into their occupied homeland to assassinate Nazi officer Reinhard Heydrich.                                                                                                                                                                                                                                                                       |[in, december, 1941,, czech, soldiers, jozef, gabčík, and, jan, kubiš, parachute, into, their, occupied, homeland, to, assassinate, nazi, officer, reinhard, heydrich.]                                                                                                                                                                                                                                                                                                                     |\n",
      "|Pete's Dragon                              |Pete is a mysterious 10-year-old with no family and no home who claims to live in the woods with a giant, green dragon named Elliott. With the help of Natalie, an 11-year-old girl whose father Jack owns the local lumber mill, forest ranger Grace sets out to determine where Pete came from, where he belongs, and the truth about this dragon.                                                                    |[pete, is, a, mysterious, 10-year-old, with, no, family, and, no, home, who, claims, to, live, in, the, woods, with, a, giant,, green, dragon, named, elliott., with, the, help, of, natalie,, an, 11-year-old, girl, whose, father, jack, owns, the, local, lumber, mill,, forest, ranger, grace, sets, out, to, determine, where, pete, came, from,, where, he, belongs,, and, the, truth, about, this, dragon.]                                                                          |\n",
      "|Rock Dog                                   |When a radio falls from the sky into the hands of a wide-eyed Tibetan Mastiff, he leaves home to fulfill his dream of becoming a musician, setting into motion a series of completely unexpected events.                                                                                                                                                                                                                |[when, a, radio, falls, from, the, sky, into, the, hands, of, a, wide-eyed, tibetan, mastiff,, he, leaves, home, to, fulfill, his, dream, of, becoming, a, musician,, setting, into, motion, a, series, of, completely, unexpected, events.]                                                                                                                                                                                                                                                |\n",
      "+-------------------------------------------+------------------------------------------------------------------------------------------------------------------------------------------------------------------------------------------------------------------------------------------------------------------------------------------------------------------------------------------------------------------------------------------------------------------------+--------------------------------------------------------------------------------------------------------------------------------------------------------------------------------------------------------------------------------------------------------------------------------------------------------------------------------------------------------------------------------------------------------------------------------------------------------------------------------------------+\n",
      "only showing top 20 rows\n",
      "\n"
     ]
    }
   ],
   "source": [
    "# Transform and show DataFrame\n",
    "tokenized = tokenizer.transform(sentenceData)\n",
    "tokenized.show(truncate=False)"
   ]
  },
  {
   "cell_type": "code",
   "execution_count": 13,
   "metadata": {},
   "outputs": [],
   "source": [
    "# Instantiate Remover\n",
    "remover = StopWordsRemover(inputCol=\"words\", outputCol=\"stopwords\")"
   ]
  },
  {
   "cell_type": "code",
   "execution_count": 14,
   "metadata": {},
   "outputs": [
    {
     "name": "stdout",
     "output_type": "stream",
     "text": [
      "+-------------------------------------------+------------------------------------------------------------------------------------------------------------------------------------------------------------------------------------------------------------------------------------------------------------------------------------------------------------------------------------------------------------------------------------------------------------------------+--------------------------------------------------------------------------------------------------------------------------------------------------------------------------------------------------------------------------------------------------------------------------------------------------------------------------------------------------------------------------------------------------------------------------------------------------------------------------------------------+------------------------------------------------------------------------------------------------------------------------------------------------------------------------------------------------------------------------------------------------------------------------------------------------------------------------------------------------+\n",
      "|title                                      |overview                                                                                                                                                                                                                                                                                                                                                                                                                |words                                                                                                                                                                                                                                                                                                                                                                                                                                                                                       |stopwords                                                                                                                                                                                                                                                                                                                                       |\n",
      "+-------------------------------------------+------------------------------------------------------------------------------------------------------------------------------------------------------------------------------------------------------------------------------------------------------------------------------------------------------------------------------------------------------------------------------------------------------------------------+--------------------------------------------------------------------------------------------------------------------------------------------------------------------------------------------------------------------------------------------------------------------------------------------------------------------------------------------------------------------------------------------------------------------------------------------------------------------------------------------+------------------------------------------------------------------------------------------------------------------------------------------------------------------------------------------------------------------------------------------------------------------------------------------------------------------------------------------------+\n",
      "|The Birth of a Nation                      |Nat Turner, a former slave in America, leads a liberation movement in 1831 to free African-Americans in Virgina that results in a violent retaliation from whites.                                                                                                                                                                                                                                                      |[nat, turner,, a, former, slave, in, america,, leads, a, liberation, movement, in, 1831, to, free, african-americans, in, virgina, that, results, in, a, violent, retaliation, from, whites.]                                                                                                                                                                                                                                                                                               |[nat, turner,, former, slave, america,, leads, liberation, movement, 1831, free, african-americans, virgina, results, violent, retaliation, whites.]                                                                                                                                                                                            |\n",
      "|Sully                                      |On 15 January 2009, the world witnessed the 'Miracle on the Hudson' when Captain 'Sully' Sullenberger glided his disabled plane onto the frigid waters of the Hudson River, saving the lives of all 155 aboard. However, even as Sully was being heralded by the public and the media for his unprecedented feat of aviation skill, an investigation was unfolding that threatened to destroy his reputation and career.|[on, 15, january, 2009,, the, world, witnessed, the, 'miracle, on, the, hudson', when, captain, 'sully', sullenberger, glided, his, disabled, plane, onto, the, frigid, waters, of, the, hudson, river,, saving, the, lives, of, all, 155, aboard., however,, even, as, sully, was, being, heralded, by, the, public, and, the, media, for, his, unprecedented, feat, of, aviation, skill,, an, investigation, was, unfolding, that, threatened, to, destroy, his, reputation, and, career.]|[15, january, 2009,, world, witnessed, 'miracle, hudson', captain, 'sully', sullenberger, glided, disabled, plane, onto, frigid, waters, hudson, river,, saving, lives, 155, aboard., however,, even, sully, heralded, public, media, unprecedented, feat, aviation, skill,, investigation, unfolding, threatened, destroy, reputation, career.]|\n",
      "|Deepwater Horizon                          |A story set on the offshore drilling rig Deepwater Horizon, which exploded during April 2010 and created the worst oil spill in U.S. history.                                                                                                                                                                                                                                                                           |[a, story, set, on, the, offshore, drilling, rig, deepwater, horizon,, which, exploded, during, april, 2010, and, created, the, worst, oil, spill, in, u.s., history.]                                                                                                                                                                                                                                                                                                                      |[story, set, offshore, drilling, rig, deepwater, horizon,, exploded, april, 2010, created, worst, oil, spill, u.s., history.]                                                                                                                                                                                                                   |\n",
      "|Miss Peregrine's Home for Peculiar Children|A teenager finds himself transported to an island where he must help protect a group of orphans with special powers from creatures intent on destroying them.                                                                                                                                                                                                                                                           |[a, teenager, finds, himself, transported, to, an, island, where, he, must, help, protect, a, group, of, orphans, with, special, powers, from, creatures, intent, on, destroying, them.]                                                                                                                                                                                                                                                                                                    |[teenager, finds, transported, island, must, help, protect, group, orphans, special, powers, creatures, intent, destroying, them.]                                                                                                                                                                                                              |\n",
      "|31                                         |ROB ZOMBIE'S  S P O O K  H A U S 31                                                                                                                                                                                                                                                                                                                                                                                     |[rob, zombie's, , s, p, o, o, k, , h, a, u, s, 31]                                                                                                                                                                                                                                                                                                                                                                                                                                          |[rob, zombie's, , p, o, o, k, , h, u, 31]                                                                                                                                                                                                                                                                                                       |\n",
      "|Snowden                                    |CIA employee Edward Snowden leaks thousands of classified documents to the press.                                                                                                                                                                                                                                                                                                                                       |[cia, employee, edward, snowden, leaks, thousands, of, classified, documents, to, the, press.]                                                                                                                                                                                                                                                                                                                                                                                              |[cia, employee, edward, snowden, leaks, thousands, classified, documents, press.]                                                                                                                                                                                                                                                               |\n",
      "|Blair Witch                                |Students on a camping trip discover something sinister is lurking beyond the trees.                                                                                                                                                                                                                                                                                                                                     |[students, on, a, camping, trip, discover, something, sinister, is, lurking, beyond, the, trees.]                                                                                                                                                                                                                                                                                                                                                                                           |[students, camping, trip, discover, something, sinister, lurking, beyond, trees.]                                                                                                                                                                                                                                                               |\n",
      "|The Magnificent Seven                      |Seven gun men in the old west gradually come together to help a poor village against savage thieves.                                                                                                                                                                                                                                                                                                                    |[seven, gun, men, in, the, old, west, gradually, come, together, to, help, a, poor, village, against, savage, thieves.]                                                                                                                                                                                                                                                                                                                                                                     |[seven, gun, men, old, west, gradually, come, together, help, poor, village, savage, thieves.]                                                                                                                                                                                                                                                  |\n",
      "|Morgan                                     |A corporate risk-management consultant must determine whether or not to terminate an artificial being's life that was made in a laboratory environment.                                                                                                                                                                                                                                                                 |[a, corporate, risk-management, consultant, must, determine, whether, or, not, to, terminate, an, artificial, being's, life, that, was, made, in, a, laboratory, environment.]                                                                                                                                                                                                                                                                                                              |[corporate, risk-management, consultant, must, determine, whether, terminate, artificial, being's, life, made, laboratory, environment.]                                                                                                                                                                                                        |\n",
      "|The Dark Tower                             |The last Gunslinger, Roland Deschain, has been locked in an eternal battle with Walter O’Dim, also known as the Man in Black, determined to prevent him from toppling the Dark Tower, which holds the universe together. With the fate of the worlds at stake, good and evil will collide in the ultimate battle as only Roland can defend the Tower from the Man in Black.                                             |[the, last, gunslinger,, roland, deschain,, has, been, locked, in, an, eternal, battle, with, walter, o’dim,, also, known, as, the, man, in, black,, determined, to, prevent, him, from, toppling, the, dark, tower,, which, holds, the, universe, together., with, the, fate, of, the, worlds, at, stake,, good, and, evil, will, collide, in, the, ultimate, battle, as, only, roland, can, defend, the, tower, from, the, man, in, black.]                                               |[last, gunslinger,, roland, deschain,, locked, eternal, battle, walter, o’dim,, also, known, man, black,, determined, prevent, toppling, dark, tower,, holds, universe, together., fate, worlds, stake,, good, evil, collide, ultimate, battle, roland, defend, tower, man, black.]                                                             |\n",
      "|Nine Lives                                 |A stuffy businessman finds himself trapped inside the body of his family's cat.                                                                                                                                                                                                                                                                                                                                         |[a, stuffy, businessman, finds, himself, trapped, inside, the, body, of, his, family's, cat.]                                                                                                                                                                                                                                                                                                                                                                                               |[stuffy, businessman, finds, trapped, inside, body, family's, cat.]                                                                                                                                                                                                                                                                             |\n",
      "|Don't Breathe                              |A group of teens break into a blind man's home thinking they'll get away with the perfect crime. They're wrong.                                                                                                                                                                                                                                                                                                         |[a, group, of, teens, break, into, a, blind, man's, home, thinking, they'll, get, away, with, the, perfect, crime., they're, wrong.]                                                                                                                                                                                                                                                                                                                                                        |[group, teens, break, blind, man's, home, thinking, get, away, perfect, crime., wrong.]                                                                                                                                                                                                                                                         |\n",
      "|Suicide Squad                              |From DC Comics comes the Suicide Squad, an antihero team of incarcerated supervillains who act as deniable assets for the United States government, undertaking high-risk black ops missions in exchange for commuted prison sentences.                                                                                                                                                                                 |[from, dc, comics, comes, the, suicide, squad,, an, antihero, team, of, incarcerated, supervillains, who, act, as, deniable, assets, for, the, united, states, government,, undertaking, high-risk, black, ops, missions, in, exchange, for, commuted, prison, sentences.]                                                                                                                                                                                                                  |[dc, comics, comes, suicide, squad,, antihero, team, incarcerated, supervillains, act, deniable, assets, united, states, government,, undertaking, high-risk, black, ops, missions, exchange, commuted, prison, sentences.]                                                                                                                     |\n",
      "|Kubo and the Two Strings                   |Kubo mesmerizes the people in his village with his magical gift for spinning wild tales with origami. When he accidentally summons an evil spirit seeking vengeance, Kubo is forced to go on a quest to solve the mystery of his fallen samurai father and his mystical weaponry, as well as discover his own magical powers.                                                                                           |[kubo, mesmerizes, the, people, in, his, village, with, his, magical, gift, for, spinning, wild, tales, with, origami., when, he, accidentally, summons, an, evil, spirit, seeking, vengeance,, kubo, is, forced, to, go, on, a, quest, to, solve, the, mystery, of, his, fallen, samurai, father, and, his, mystical, weaponry,, as, well, as, discover, his, own, magical, powers.]                                                                                                       |[kubo, mesmerizes, people, village, magical, gift, spinning, wild, tales, origami., accidentally, summons, evil, spirit, seeking, vengeance,, kubo, forced, go, quest, solve, mystery, fallen, samurai, father, mystical, weaponry,, well, discover, magical, powers.]                                                                          |\n",
      "|Ben-Hur                                    |A falsely accused nobleman survives years of slavery to take vengeance on his best friend who betrayed him.                                                                                                                                                                                                                                                                                                             |[a, falsely, accused, nobleman, survives, years, of, slavery, to, take, vengeance, on, his, best, friend, who, betrayed, him.]                                                                                                                                                                                                                                                                                                                                                              |[falsely, accused, nobleman, survives, years, slavery, take, vengeance, best, friend, betrayed, him.]                                                                                                                                                                                                                                           |\n",
      "|War Dogs                                   |Based on the true story of two young men, David Packouz and Efraim Diveroli, who won a $300 million contract from the Pentagon to arm America's allies in Afghanistan.                                                                                                                                                                                                                                                  |[based, on, the, true, story, of, two, young, men,, david, packouz, and, efraim, diveroli,, who, won, a, $300, million, contract, from, the, pentagon, to, arm, america's, allies, in, afghanistan.]                                                                                                                                                                                                                                                                                        |[based, true, story, two, young, men,, david, packouz, efraim, diveroli,, won, $300, million, contract, pentagon, arm, america's, allies, afghanistan.]                                                                                                                                                                                         |\n",
      "|Hell or High Water                         |A divorced dad and his ex-con brother resort to a desperate scheme in order to save their family's farm in West Texas.                                                                                                                                                                                                                                                                                                  |[a, divorced, dad, and, his, ex-con, brother, resort, to, a, desperate, scheme, in, order, to, save, their, family's, farm, in, west, texas.]                                                                                                                                                                                                                                                                                                                                               |[divorced, dad, ex-con, brother, resort, desperate, scheme, order, save, family's, farm, west, texas.]                                                                                                                                                                                                                                          |\n",
      "|Anthropoid                                 |In December 1941, Czech soldiers Jozef Gabčík and Jan Kubiš parachute into their occupied homeland to assassinate Nazi officer Reinhard Heydrich.                                                                                                                                                                                                                                                                       |[in, december, 1941,, czech, soldiers, jozef, gabčík, and, jan, kubiš, parachute, into, their, occupied, homeland, to, assassinate, nazi, officer, reinhard, heydrich.]                                                                                                                                                                                                                                                                                                                     |[december, 1941,, czech, soldiers, jozef, gabčík, jan, kubiš, parachute, occupied, homeland, assassinate, nazi, officer, reinhard, heydrich.]                                                                                                                                                                                                   |\n",
      "|Pete's Dragon                              |Pete is a mysterious 10-year-old with no family and no home who claims to live in the woods with a giant, green dragon named Elliott. With the help of Natalie, an 11-year-old girl whose father Jack owns the local lumber mill, forest ranger Grace sets out to determine where Pete came from, where he belongs, and the truth about this dragon.                                                                    |[pete, is, a, mysterious, 10-year-old, with, no, family, and, no, home, who, claims, to, live, in, the, woods, with, a, giant,, green, dragon, named, elliott., with, the, help, of, natalie,, an, 11-year-old, girl, whose, father, jack, owns, the, local, lumber, mill,, forest, ranger, grace, sets, out, to, determine, where, pete, came, from,, where, he, belongs,, and, the, truth, about, this, dragon.]                                                                          |[pete, mysterious, 10-year-old, family, home, claims, live, woods, giant,, green, dragon, named, elliott., help, natalie,, 11-year-old, girl, whose, father, jack, owns, local, lumber, mill,, forest, ranger, grace, sets, determine, pete, came, from,, belongs,, truth, dragon.]                                                             |\n",
      "|Rock Dog                                   |When a radio falls from the sky into the hands of a wide-eyed Tibetan Mastiff, he leaves home to fulfill his dream of becoming a musician, setting into motion a series of completely unexpected events.                                                                                                                                                                                                                |[when, a, radio, falls, from, the, sky, into, the, hands, of, a, wide-eyed, tibetan, mastiff,, he, leaves, home, to, fulfill, his, dream, of, becoming, a, musician,, setting, into, motion, a, series, of, completely, unexpected, events.]                                                                                                                                                                                                                                                |[radio, falls, sky, hands, wide-eyed, tibetan, mastiff,, leaves, home, fulfill, dream, becoming, musician,, setting, motion, series, completely, unexpected, events.]                                                                                                                                                                           |\n",
      "+-------------------------------------------+------------------------------------------------------------------------------------------------------------------------------------------------------------------------------------------------------------------------------------------------------------------------------------------------------------------------------------------------------------------------------------------------------------------------+--------------------------------------------------------------------------------------------------------------------------------------------------------------------------------------------------------------------------------------------------------------------------------------------------------------------------------------------------------------------------------------------------------------------------------------------------------------------------------------------+------------------------------------------------------------------------------------------------------------------------------------------------------------------------------------------------------------------------------------------------------------------------------------------------------------------------------------------------+\n",
      "only showing top 20 rows\n",
      "\n"
     ]
    }
   ],
   "source": [
    "# Transform and show data\n",
    "tokenized = remover.transform(tokenized)\n",
    "tokenized.show(truncate=False)"
   ]
  },
  {
   "cell_type": "code",
   "execution_count": 15,
   "metadata": {},
   "outputs": [
    {
     "name": "stdout",
     "output_type": "stream",
     "text": [
      "+--------------------+--------------------+--------------------+--------------------+\n",
      "|               title|            overview|               words|           stopwords|\n",
      "+--------------------+--------------------+--------------------+--------------------+\n",
      "|The Birth of a Na...|Nat Turner, a for...|[nat, turner,, a,...|[nat, turner,, fo...|\n",
      "|               Sully|On 15 January 200...|[on, 15, january,...|[15, january, 200...|\n",
      "|   Deepwater Horizon|A story set on th...|[a, story, set, o...|[story, set, offs...|\n",
      "|Miss Peregrine's ...|A teenager finds ...|[a, teenager, fin...|[teenager, finds,...|\n",
      "|                  31|ROB ZOMBIE'S  S P...|[rob, zombie's, ,...|[rob, zombie's, ,...|\n",
      "|             Snowden|CIA employee Edwa...|[cia, employee, e...|[cia, employee, e...|\n",
      "|         Blair Witch|Students on a cam...|[students, on, a,...|[students, campin...|\n",
      "|The Magnificent S...|Seven gun men in ...|[seven, gun, men,...|[seven, gun, men,...|\n",
      "|              Morgan|A corporate risk-...|[a, corporate, ri...|[corporate, risk-...|\n",
      "|      The Dark Tower|The last Gunsling...|[the, last, gunsl...|[last, gunslinger...|\n",
      "|          Nine Lives|A stuffy business...|[a, stuffy, busin...|[stuffy, business...|\n",
      "|       Don't Breathe|A group of teens ...|[a, group, of, te...|[group, teens, br...|\n",
      "|       Suicide Squad|From DC Comics co...|[from, dc, comics...|[dc, comics, come...|\n",
      "|Kubo and the Two ...|Kubo mesmerizes t...|[kubo, mesmerizes...|[kubo, mesmerizes...|\n",
      "|             Ben-Hur|A falsely accused...|[a, falsely, accu...|[falsely, accused...|\n",
      "|            War Dogs|Based on the true...|[based, on, the, ...|[based, true, sto...|\n",
      "|  Hell or High Water|A divorced dad an...|[a, divorced, dad...|[divorced, dad, e...|\n",
      "|          Anthropoid|In December 1941,...|[in, december, 19...|[december, 1941,,...|\n",
      "|       Pete's Dragon|Pete is a mysteri...|[pete, is, a, mys...|[pete, mysterious...|\n",
      "|            Rock Dog|When a radio fall...|[when, a, radio, ...|[radio, falls, sk...|\n",
      "+--------------------+--------------------+--------------------+--------------------+\n",
      "only showing top 20 rows\n",
      "\n"
     ]
    }
   ],
   "source": [
    "tokenized.show(truncate=True)"
   ]
  },
  {
   "cell_type": "markdown",
   "metadata": {},
   "source": [
    "# Starting Spacy Similarity code"
   ]
  },
  {
   "cell_type": "code",
   "execution_count": 16,
   "metadata": {},
   "outputs": [],
   "source": [
    "# Load English tokenizer, tagger, parser, NER and word vectors\n",
    "#MAKE SURE THIS IS LARGE LIBRARY\n",
    "\n",
    "nlp = spacy.load(\"en_core_web_lg\")\n",
    "import string\n",
    "punctuations = string.punctuation\n"
   ]
  },
  {
   "cell_type": "code",
   "execution_count": 17,
   "metadata": {},
   "outputs": [],
   "source": [
    "overview1 =str(tokenized.select(\"stopwords\").collect()[0])\n",
    "clean_overview1 = overview1[16:]\n",
    "\n",
    "overview2 = str(tokenized.select(\"stopwords\").collect()[1])\n",
    "clean_overview2 = overview2[16:]\n"
   ]
  },
  {
   "cell_type": "code",
   "execution_count": 18,
   "metadata": {},
   "outputs": [
    {
     "data": {
      "text/plain": [
       "\"nat', 'turner,', 'former', 'slave', 'america,', 'leads', 'liberation', 'movement', '1831', 'free', 'african-americans', 'virgina', 'results', 'violent', 'retaliation', 'whites.'])\""
      ]
     },
     "execution_count": 18,
     "metadata": {},
     "output_type": "execute_result"
    }
   ],
   "source": [
    "clean_overview1"
   ]
  },
  {
   "cell_type": "code",
   "execution_count": 19,
   "metadata": {},
   "outputs": [
    {
     "data": {
      "text/plain": [
       "'15\\', \\'january\\', \\'2009,\\', \\'world\\', \\'witnessed\\', \"\\'miracle\", \"hudson\\'\", \\'captain\\', \"\\'sully\\'\", \\'sullenberger\\', \\'glided\\', \\'disabled\\', \\'plane\\', \\'onto\\', \\'frigid\\', \\'waters\\', \\'hudson\\', \\'river,\\', \\'saving\\', \\'lives\\', \\'155\\', \\'aboard.\\', \\'however,\\', \\'even\\', \\'sully\\', \\'heralded\\', \\'public\\', \\'media\\', \\'unprecedented\\', \\'feat\\', \\'aviation\\', \\'skill,\\', \\'investigation\\', \\'unfolding\\', \\'threatened\\', \\'destroy\\', \\'reputation\\', \\'career.\\'])'"
      ]
     },
     "execution_count": 19,
     "metadata": {},
     "output_type": "execute_result"
    }
   ],
   "source": [
    "clean_overview2"
   ]
  },
  {
   "cell_type": "code",
   "execution_count": 20,
   "metadata": {},
   "outputs": [
    {
     "name": "stdout",
     "output_type": "stream",
     "text": [
      "0.984993000906136\n"
     ]
    },
    {
     "data": {
      "text/plain": [
       "(spacy.tokens.doc.Doc, str)"
      ]
     },
     "execution_count": 20,
     "metadata": {},
     "output_type": "execute_result"
    }
   ],
   "source": [
    "docA = nlp(clean_overview1)\n",
    "docB = nlp(clean_overview2)\n",
    "\n",
    "print(docA.similarity(docB))\n",
    "type(docA) , type(clean_overview1)"
   ]
  },
  {
   "cell_type": "code",
   "execution_count": 21,
   "metadata": {},
   "outputs": [
    {
     "name": "stdout",
     "output_type": "stream",
     "text": [
      "15', 'january', '2009,', 'world', 'witnessed', \"'miracle\", \"hudson'\", 'captain', \"'sully'\", 'sullenberger', 'glided', 'disabled', 'plane', 'onto', 'frigid', 'waters', 'hudson', 'river,', 'saving', 'lives', '155', 'aboard.', 'however,', 'even', 'sully', 'heralded', 'public', 'media', 'unprecedented', 'feat', 'aviation', 'skill,', 'investigation', 'unfolding', 'threatened', 'destroy', 'reputation', 'career.'])\n"
     ]
    }
   ],
   "source": [
    "print(docB)"
   ]
  },
  {
   "cell_type": "code",
   "execution_count": 22,
   "metadata": {},
   "outputs": [],
   "source": [
    "overviewC = str(tokenized.select(\"stopwords\").collect()[2])\n",
    "clean_overviewC = overviewC[16:]\n",
    "docC = nlp(clean_overviewC)"
   ]
  },
  {
   "cell_type": "code",
   "execution_count": 23,
   "metadata": {},
   "outputs": [
    {
     "data": {
      "text/plain": [
       "\"story', 'set', 'offshore', 'drilling', 'rig', 'deepwater', 'horizon,', 'exploded', 'april', '2010', 'created', 'worst', 'oil', 'spill', 'u.s.', 'history.'])\""
      ]
     },
     "execution_count": 23,
     "metadata": {},
     "output_type": "execute_result"
    }
   ],
   "source": [
    "clean_overviewC"
   ]
  },
  {
   "cell_type": "code",
   "execution_count": 24,
   "metadata": {},
   "outputs": [
    {
     "name": "stdout",
     "output_type": "stream",
     "text": [
      "0.9805625913523139\n"
     ]
    }
   ],
   "source": [
    "print(docA.similarity(docC))"
   ]
  },
  {
   "cell_type": "code",
   "execution_count": 25,
   "metadata": {},
   "outputs": [
    {
     "name": "stdout",
     "output_type": "stream",
     "text": [
      "0.9873667102432259\n"
     ]
    }
   ],
   "source": [
    "print(docB.similarity(docC))"
   ]
  },
  {
   "cell_type": "markdown",
   "metadata": {},
   "source": [
    "## adding columns for similarities"
   ]
  },
  {
   "cell_type": "code",
   "execution_count": 26,
   "metadata": {},
   "outputs": [],
   "source": [
    "from pyspark.sql.functions import lit"
   ]
  },
  {
   "cell_type": "code",
   "execution_count": 38,
   "metadata": {},
   "outputs": [],
   "source": [
    "ll = []\n",
    "for f in tokenized.collect():\n",
    "   \n",
    "    overview_row = str(f.stopwords)\n",
    "    #print(overview_row)\n",
    "    doc_row = nlp(overview_row)\n",
    "\n",
    "    compare = docA.similarity(doc_row)\n",
    "    ll.append({'Title': f.title, 'Similarity': compare })\n",
    "# sample = tokenized.withColumn('similarity', lit(str(ll)))\n",
    "# ll   \n"
   ]
  },
  {
   "cell_type": "code",
   "execution_count": 39,
   "metadata": {},
   "outputs": [
    {
     "data": {
      "text/plain": [
       "[{'Title': 'The Birth of a Nation', 'Similarity': 0.9995973840399037},\n",
       " {'Title': 'Sully', 'Similarity': 0.9849470144479944},\n",
       " {'Title': 'Deepwater Horizon', 'Similarity': 0.9805782738804641},\n",
       " {'Title': \"Miss Peregrine's Home for Peculiar Children\",\n",
       "  'Similarity': 0.9815931520061407},\n",
       " {'Title': '31', 'Similarity': 0.9608165636588171},\n",
       " {'Title': 'Snowden', 'Similarity': 0.9767509005577233},\n",
       " {'Title': 'Blair Witch', 'Similarity': 0.9741712529231993},\n",
       " {'Title': 'The Magnificent Seven', 'Similarity': 0.9852484058711272},\n",
       " {'Title': 'Morgan', 'Similarity': 0.9723964056257384},\n",
       " {'Title': 'The Dark Tower', 'Similarity': 0.9870985405152113},\n",
       " {'Title': 'Nine Lives', 'Similarity': 0.9673087506469586},\n",
       " {'Title': \"Don't Breathe\", 'Similarity': 0.9805259498839797},\n",
       " {'Title': 'Suicide Squad', 'Similarity': 0.9876107808980823},\n",
       " {'Title': 'Kubo and the Two Strings', 'Similarity': 0.9812733500570661},\n",
       " {'Title': 'Ben-Hur', 'Similarity': 0.9814676541153275},\n",
       " {'Title': 'War Dogs', 'Similarity': 0.9876017246736067},\n",
       " {'Title': 'Hell or High Water', 'Similarity': 0.978982467839405},\n",
       " {'Title': 'Anthropoid', 'Similarity': 0.9833466595878102},\n",
       " {'Title': \"Pete's Dragon\", 'Similarity': 0.9860609180028044},\n",
       " {'Title': 'Rock Dog', 'Similarity': 0.9851739823392089},\n",
       " {'Title': 'A Ghost Story', 'Similarity': 0.9850633701641911},\n",
       " {'Title': 'Mike and Dave Need Wedding Dates',\n",
       "  'Similarity': 0.986705018049553},\n",
       " {'Title': 'Sultan', 'Similarity': 0.9792555593068961},\n",
       " {'Title': 'The Emoji Movie', 'Similarity': 0.9727223836143322},\n",
       " {'Title': 'Bad Moms', 'Similarity': 0.9820477463838587},\n",
       " {'Title': 'Jason Bourne', 'Similarity': 0.9778409055884172},\n",
       " {'Title': 'Nerve', 'Similarity': 0.9850906470458799},\n",
       " {'Title': 'Batman: The Killing Joke', 'Similarity': 0.9863823968845286},\n",
       " {'Title': 'Train to Busan', 'Similarity': 0.9839773286500236},\n",
       " {'Title': 'Captain Fantastic', 'Similarity': 0.9840891573377533},\n",
       " {'Title': 'Dunkirk', 'Similarity': 0.9869574413309489},\n",
       " {'Title': 'Ghostbusters', 'Similarity': 0.985590854728847},\n",
       " {'Title': 'The Infiltrator', 'Similarity': 0.9801666476245171},\n",
       " {'Title': 'War for the Planet of the Apes', 'Similarity': 0.985536054537955},\n",
       " {'Title': 'Sausage Party', 'Similarity': 0.9844556054582799},\n",
       " {'Title': 'The Neon Demon', 'Similarity': 0.9863013942989776},\n",
       " {'Title': 'The Mummy', 'Similarity': 0.9822163940407299},\n",
       " {'Title': 'The Legend of Tarzan', 'Similarity': 0.9849123813030314},\n",
       " {'Title': 'The Purge: Election Year', 'Similarity': 0.9878330486722571},\n",
       " {'Title': 'Free State of Jones', 'Similarity': 0.9910508146761611},\n",
       " {'Title': 'The Shallows', 'Similarity': 0.9812905813495025},\n",
       " {'Title': 'Swiss Army Man', 'Similarity': 0.9843607289820928},\n",
       " {'Title': 'The Beguiled', 'Similarity': 0.988188436083859},\n",
       " {'Title': 'Ice Age: Collision Course', 'Similarity': 0.9840372845234439},\n",
       " {'Title': 'Independence Day: Resurgence', 'Similarity': 0.9847398820411839},\n",
       " {'Title': 'Transformers: The Last Knight', 'Similarity': 0.9826507514560081},\n",
       " {'Title': 'Now You See Me 2', 'Similarity': 0.9842094624933165},\n",
       " {'Title': 'Me Before You', 'Similarity': 0.984585541277426},\n",
       " {'Title': 'The Secret Life of Pets', 'Similarity': 0.9817332720407209},\n",
       " {'Title': 'The Book of Henry', 'Similarity': 0.9861165864519835},\n",
       " {'Title': 'Finding Dory', 'Similarity': 0.9760604913298152},\n",
       " {'Title': 'Cars 3', 'Similarity': 0.9831897297322986},\n",
       " {'Title': 'Despicable Me 3', 'Similarity': 0.9850141851632767},\n",
       " {'Title': 'Rough Night', 'Similarity': 0.9841264629279516},\n",
       " {'Title': '47 Meters Down', 'Similarity': 0.9831560996009711},\n",
       " {'Title': 'Central Intelligence', 'Similarity': 0.9807281125738055},\n",
       " {'Title': 'The BFG', 'Similarity': 0.9841325037291022},\n",
       " {'Title': 'Teenage Mutant Ninja Turtles: Out of the Shadows',\n",
       "  'Similarity': 0.9846495722836401},\n",
       " {'Title': 'Alien: Covenant', 'Similarity': 0.9859714529370858},\n",
       " {'Title': 'Florence Foster Jenkins', 'Similarity': 0.9834016676597025},\n",
       " {'Title': 'Neighbors 2: Sorority Rising', 'Similarity': 0.9824656708758672},\n",
       " {'Title': 'Wonder Woman', 'Similarity': 0.980410815911505},\n",
       " {'Title': 'Love & Friendship', 'Similarity': 0.9870491533505332},\n",
       " {'Title': 'Warcraft', 'Similarity': 0.9860014332920692},\n",
       " {'Title': 'Alice Through the Looking Glass',\n",
       "  'Similarity': 0.9762163190323453},\n",
       " {'Title': 'X-Men: Apocalypse', 'Similarity': 0.9785514158443074},\n",
       " {'Title': 'The Nice Guys', 'Similarity': 0.9826161256163812},\n",
       " {'Title': 'The Conjuring 2', 'Similarity': 0.9863230497336384},\n",
       " {'Title': 'Baywatch', 'Similarity': 0.9856467795564762},\n",
       " {'Title': 'The Angry Birds Movie', 'Similarity': 0.9852689505714852},\n",
       " {'Title': 'Café Society', 'Similarity': 0.9849507750185296},\n",
       " {'Title': 'The Boss', 'Similarity': 0.9834364648742839},\n",
       " {'Title': \"The Huntsman: Winter's War\", 'Similarity': 0.9858549897241389},\n",
       " {'Title': 'Demolition', 'Similarity': 0.9806763514564281},\n",
       " {'Title': 'Term Life', 'Similarity': 0.9861807629674428},\n",
       " {'Title': \"Mother's Day\", 'Similarity': 0.9685716746541683},\n",
       " {'Title': 'King Arthur: Legend of the Sword',\n",
       "  'Similarity': 0.9867254771451406},\n",
       " {'Title': 'The Circle', 'Similarity': 0.9841193310343224},\n",
       " {'Title': 'Captain America: Civil War', 'Similarity': 0.9879504070160933},\n",
       " {'Title': 'A Hologram for the King', 'Similarity': 0.9886406414310648},\n",
       " {'Title': 'Bastille Day', 'Similarity': 0.98739693207341},\n",
       " {'Title': 'Phoenix Forgotten', 'Similarity': 0.9822253964480432},\n",
       " {'Title': 'Keanu', 'Similarity': 0.9773828692741382},\n",
       " {'Title': 'Guardians of the Galaxy Vol. 2', 'Similarity': 0.9790734673886213},\n",
       " {'Title': 'Green Room', 'Similarity': 0.9814702693375361},\n",
       " {'Title': 'Fan', 'Similarity': 0.9757127099361522},\n",
       " {'Title': 'Ratchet & Clank', 'Similarity': 0.9846988393121967},\n",
       " {'Title': 'The Fate of the Furious', 'Similarity': 0.98512109581221},\n",
       " {'Title': 'Allegiant', 'Similarity': 0.9829429083420483},\n",
       " {'Title': 'Kong: Skull Island', 'Similarity': 0.9811945570021062},\n",
       " {'Title': 'Whiskey Tango Foxtrot', 'Similarity': 0.9887238074245676},\n",
       " {'Title': \"The Zookeeper's Wife\", 'Similarity': 0.9883875004528218},\n",
       " {'Title': 'Everybody Wants Some!!', 'Similarity': 0.9771261622146217},\n",
       " {'Title': 'The Shack', 'Similarity': 0.9870100266441831},\n",
       " {'Title': 'Ghost in the Shell', 'Similarity': 0.982784382284393},\n",
       " {'Title': 'The Boss Baby', 'Similarity': 0.9815199632409471},\n",
       " {'Title': 'Power Rangers', 'Similarity': 0.9856637775206043},\n",
       " {'Title': 'CHiPS', 'Similarity': 0.9753556348436894},\n",
       " {'Title': 'Batman v Superman: Dawn of Justice',\n",
       "  'Similarity': 0.9849179175556693},\n",
       " {'Title': 'Life', 'Similarity': 0.98079544811161},\n",
       " {'Title': 'Before I Fall', 'Similarity': 0.9822066104160894},\n",
       " {'Title': 'London Has Fallen', 'Similarity': 0.9821253169909657},\n",
       " {'Title': 'Song to Song', 'Similarity': 0.9854398180651811},\n",
       " {'Title': 'Miracles from Heaven', 'Similarity': 0.9835031325525978},\n",
       " {'Title': 'Beauty and the Beast', 'Similarity': 0.976292840622109},\n",
       " {'Title': 'Jimmy Vestvood: Amerikan Hero', 'Similarity': 0.9852535339178989},\n",
       " {'Title': '10 Cloverfield Lane', 'Similarity': 0.9864971050621225},\n",
       " {'Title': 'Deadpool', 'Similarity': 0.9857149715198785},\n",
       " {'Title': 'John Wick: Chapter 2', 'Similarity': 0.9872398463327144},\n",
       " {'Title': 'The Lego Batman Movie', 'Similarity': 0.9848558140532403},\n",
       " {'Title': 'Fifty Shades Darker', 'Similarity': 0.9852999550340837},\n",
       " {'Title': 'The Mermaid', 'Similarity': 0.9859972973363251},\n",
       " {'Title': 'Zoolander 2', 'Similarity': 0.9773531849174979},\n",
       " {'Title': 'Hail, Caesar!', 'Similarity': 0.979995288102154},\n",
       " {'Title': 'I Saw the Light', 'Similarity': 0.9843016352893196},\n",
       " {'Title': 'Pride and Prejudice and Zombies',\n",
       "  'Similarity': 0.9885709455885651},\n",
       " {'Title': 'The Choice', 'Similarity': 0.9809095472046538},\n",
       " {'Title': 'Robinson Crusoe', 'Similarity': 0.9876606078185163},\n",
       " {'Title': 'Action Hero Biju', 'Similarity': 0.9849065946251064},\n",
       " {'Title': 'Logan', 'Similarity': 0.9864303918315944},\n",
       " {'Title': 'Eddie the Eagle', 'Similarity': 0.9883909494908477},\n",
       " {'Title': 'Get Out', 'Similarity': 0.9848325864090042},\n",
       " {'Title': 'Triple 9', 'Similarity': 0.9794759409359193},\n",
       " {'Title': 'The Witch', 'Similarity': 0.987699961356016},\n",
       " {'Title': 'Neerja', 'Similarity': 0.9839455038296643},\n",
       " {'Title': 'Midnight Special', 'Similarity': 0.9749822055450172},\n",
       " {'Title': 'Colonia', 'Similarity': 0.9844675565995039},\n",
       " {'Title': 'A Cure for Wellness', 'Similarity': 0.9783492991099948},\n",
       " {'Title': 'Zootopia', 'Similarity': 0.9865037704662827},\n",
       " {'Title': 'Rings', 'Similarity': 0.984951186650542},\n",
       " {'Title': 'Collateral Beauty', 'Similarity': 0.9836035998571594},\n",
       " {'Title': 'Live by Night', 'Similarity': 0.9828885857226869},\n",
       " {'Title': 'Silence', 'Similarity': 0.9838090263482425},\n",
       " {'Title': 'Gold', 'Similarity': 0.9854921195471429},\n",
       " {'Title': \"Assassin's Creed\", 'Similarity': 0.9866247980571345},\n",
       " {'Title': 'Monster Trucks', 'Similarity': 0.9848312614646515},\n",
       " {'Title': 'Passengers', 'Similarity': 0.9813509667425839},\n",
       " {'Title': 'Jackie', 'Similarity': 0.9835327786637909},\n",
       " {'Title': 'The Great Wall', 'Similarity': 0.9852049355796328},\n",
       " {'Title': 'Rogue One: A Star Wars Story', 'Similarity': 0.9819300160033833},\n",
       " {'Title': 'Ballerina', 'Similarity': 0.9855185461129817},\n",
       " {'Title': 'Patriots Day', 'Similarity': 0.986364004152767},\n",
       " {'Title': 'Hidden Figures', 'Similarity': 0.9889811409701369},\n",
       " {'Title': 'Bleed for This', 'Similarity': 0.983517715854188},\n",
       " {'Title': 'Loving', 'Similarity': 0.9902796496753273},\n",
       " {'Title': 'Nocturnal Animals', 'Similarity': 0.9863626652885281},\n",
       " {'Title': 'La La Land', 'Similarity': 0.9840535149561205},\n",
       " {'Title': 'Underworld: Blood Wars', 'Similarity': 0.9860245342437146},\n",
       " {'Title': 'Miss Sloane', 'Similarity': 0.976644467575116},\n",
       " {'Title': 'Office Christmas Party', 'Similarity': 0.9845016588781242},\n",
       " {'Title': 'The Founder', 'Similarity': 0.9870046523272107},\n",
       " {'Title': 'Lion', 'Similarity': 0.9832626595809731},\n",
       " {'Title': 'Moana', 'Similarity': 0.9800424347090272},\n",
       " {'Title': 'Sing', 'Similarity': 0.9791174906723279},\n",
       " {'Title': 'Bad Santa 2', 'Similarity': 0.9876689205451539},\n",
       " {'Title': 'The Edge of Seventeen', 'Similarity': 0.9733716890398935},\n",
       " {'Title': 'Allied', 'Similarity': 0.9885971285306808},\n",
       " {'Title': 'Fantastic Beasts and Where to Find Them',\n",
       "  'Similarity': 0.9878056129281396},\n",
       " {'Title': 'Split', 'Similarity': 0.9877388387017412},\n",
       " {'Title': 'Almost Christmas', 'Similarity': 0.977305479367915},\n",
       " {'Title': 'Arrival', 'Similarity': 0.9842981254214342},\n",
       " {'Title': 'A Monster Calls', 'Similarity': 0.9801498655845315},\n",
       " {'Title': 'Hacksaw Ridge', 'Similarity': 0.9883305929520073},\n",
       " {'Title': 'The Girl on the Train', 'Similarity': 0.9831836951337619},\n",
       " {'Title': 'Doctor Strange', 'Similarity': 0.9834177982290924},\n",
       " {'Title': 'Moonlight', 'Similarity': 0.9827072271721607},\n",
       " {'Title': \"I'm Not Ashamed\", 'Similarity': 0.9847370574880376},\n",
       " {'Title': 'Keeping Up with the Joneses', 'Similarity': 0.9818928008520946},\n",
       " {'Title': 'Ouija: Origin of Evil', 'Similarity': 0.9861686104176394},\n",
       " {'Title': 'Jack Reacher: Never Go Back', 'Similarity': 0.9858727536495532},\n",
       " {'Title': 'The Lost City of Z', 'Similarity': 0.9887602817736771},\n",
       " {'Title': 'The Accountant', 'Similarity': 0.982047724665792},\n",
       " {'Title': 'Inferno', 'Similarity': 0.9834176918317067},\n",
       " {'Title': 'My Life as a Zucchini', 'Similarity': 0.9837443525475885},\n",
       " {'Title': 'The Forest', 'Similarity': 0.9869556404703433},\n",
       " {'Title': 'Friend Request', 'Similarity': 0.9843965963181086},\n",
       " {'Title': 'Fifty Shades of Black', 'Similarity': 0.9801499342594826},\n",
       " {'Title': 'The Space Between Us', 'Similarity': 0.9807686243007164},\n",
       " {'Title': 'The Finest Hours', 'Similarity': 0.980073435136244},\n",
       " {'Title': 'Kung Fu Panda 3', 'Similarity': 0.9819422573260135},\n",
       " {'Title': 'The Bronze', 'Similarity': 0.9868291184453865},\n",
       " {'Title': 'The Boy', 'Similarity': 0.981537020924638},\n",
       " {'Title': 'How to Be Single', 'Similarity': 0.9869364495445053},\n",
       " {'Title': 'Dirty Grandpa', 'Similarity': 0.9863864482651092},\n",
       " {'Title': 'Table 19', 'Similarity': 0.9820809887312576},\n",
       " {'Title': \"A Dog's Purpose\", 'Similarity': 0.9770868344526045},\n",
       " {'Title': 'Norm of the North', 'Similarity': 0.9859464040771315},\n",
       " {'Title': 'The 5th Wave', 'Similarity': 0.984521109285326},\n",
       " {'Title': 'Ride Along 2', 'Similarity': 0.9802135121939652},\n",
       " {'Title': 'xXx: Return of Xander Cage', 'Similarity': 0.9873112479140079},\n",
       " {'Title': '13 Hours: The Secret Soldiers of Benghazi',\n",
       "  'Similarity': 0.9856034707055215},\n",
       " {'Title': 'The Bye Bye Man', 'Similarity': 0.9843862078742048},\n",
       " {'Title': 'Sleepless', 'Similarity': 0.985549637580337}]"
      ]
     },
     "execution_count": 39,
     "metadata": {},
     "output_type": "execute_result"
    }
   ],
   "source": [
    "ll"
   ]
  },
  {
   "cell_type": "code",
   "execution_count": 40,
   "metadata": {},
   "outputs": [],
   "source": [
    "df_simi = pd.DataFrame(ll)"
   ]
  },
  {
   "cell_type": "code",
   "execution_count": 41,
   "metadata": {},
   "outputs": [
    {
     "data": {
      "text/html": [
       "<div>\n",
       "<style scoped>\n",
       "    .dataframe tbody tr th:only-of-type {\n",
       "        vertical-align: middle;\n",
       "    }\n",
       "\n",
       "    .dataframe tbody tr th {\n",
       "        vertical-align: top;\n",
       "    }\n",
       "\n",
       "    .dataframe thead th {\n",
       "        text-align: right;\n",
       "    }\n",
       "</style>\n",
       "<table border=\"1\" class=\"dataframe\">\n",
       "  <thead>\n",
       "    <tr style=\"text-align: right;\">\n",
       "      <th></th>\n",
       "      <th>Similarity</th>\n",
       "      <th>Title</th>\n",
       "    </tr>\n",
       "  </thead>\n",
       "  <tbody>\n",
       "    <tr>\n",
       "      <th>0</th>\n",
       "      <td>0.999597</td>\n",
       "      <td>The Birth of a Nation</td>\n",
       "    </tr>\n",
       "    <tr>\n",
       "      <th>1</th>\n",
       "      <td>0.984947</td>\n",
       "      <td>Sully</td>\n",
       "    </tr>\n",
       "    <tr>\n",
       "      <th>2</th>\n",
       "      <td>0.980578</td>\n",
       "      <td>Deepwater Horizon</td>\n",
       "    </tr>\n",
       "    <tr>\n",
       "      <th>3</th>\n",
       "      <td>0.981593</td>\n",
       "      <td>Miss Peregrine's Home for Peculiar Children</td>\n",
       "    </tr>\n",
       "    <tr>\n",
       "      <th>4</th>\n",
       "      <td>0.960817</td>\n",
       "      <td>31</td>\n",
       "    </tr>\n",
       "  </tbody>\n",
       "</table>\n",
       "</div>"
      ],
      "text/plain": [
       "   Similarity                                        Title\n",
       "0    0.999597                        The Birth of a Nation\n",
       "1    0.984947                                        Sully\n",
       "2    0.980578                            Deepwater Horizon\n",
       "3    0.981593  Miss Peregrine's Home for Peculiar Children\n",
       "4    0.960817                                           31"
      ]
     },
     "execution_count": 41,
     "metadata": {},
     "output_type": "execute_result"
    }
   ],
   "source": [
    "# from pyspark.sql import SQLContext\n",
    "df_simi.head()"
   ]
  },
  {
   "cell_type": "code",
   "execution_count": 43,
   "metadata": {},
   "outputs": [
    {
     "data": {
      "text/html": [
       "<div>\n",
       "<style scoped>\n",
       "    .dataframe tbody tr th:only-of-type {\n",
       "        vertical-align: middle;\n",
       "    }\n",
       "\n",
       "    .dataframe tbody tr th {\n",
       "        vertical-align: top;\n",
       "    }\n",
       "\n",
       "    .dataframe thead th {\n",
       "        text-align: right;\n",
       "    }\n",
       "</style>\n",
       "<table border=\"1\" class=\"dataframe\">\n",
       "  <thead>\n",
       "    <tr style=\"text-align: right;\">\n",
       "      <th></th>\n",
       "      <th>Similarity</th>\n",
       "      <th>Title</th>\n",
       "    </tr>\n",
       "  </thead>\n",
       "  <tbody>\n",
       "    <tr>\n",
       "      <th>0</th>\n",
       "      <td>0.999597</td>\n",
       "      <td>The Birth of a Nation</td>\n",
       "    </tr>\n",
       "    <tr>\n",
       "      <th>39</th>\n",
       "      <td>0.991051</td>\n",
       "      <td>Free State of Jones</td>\n",
       "    </tr>\n",
       "    <tr>\n",
       "      <th>144</th>\n",
       "      <td>0.990280</td>\n",
       "      <td>Loving</td>\n",
       "    </tr>\n",
       "    <tr>\n",
       "      <th>142</th>\n",
       "      <td>0.988981</td>\n",
       "      <td>Hidden Figures</td>\n",
       "    </tr>\n",
       "    <tr>\n",
       "      <th>170</th>\n",
       "      <td>0.988760</td>\n",
       "      <td>The Lost City of Z</td>\n",
       "    </tr>\n",
       "    <tr>\n",
       "      <th>90</th>\n",
       "      <td>0.988724</td>\n",
       "      <td>Whiskey Tango Foxtrot</td>\n",
       "    </tr>\n",
       "    <tr>\n",
       "      <th>79</th>\n",
       "      <td>0.988641</td>\n",
       "      <td>A Hologram for the King</td>\n",
       "    </tr>\n",
       "    <tr>\n",
       "      <th>156</th>\n",
       "      <td>0.988597</td>\n",
       "      <td>Allied</td>\n",
       "    </tr>\n",
       "    <tr>\n",
       "      <th>115</th>\n",
       "      <td>0.988571</td>\n",
       "      <td>Pride and Prejudice and Zombies</td>\n",
       "    </tr>\n",
       "    <tr>\n",
       "      <th>120</th>\n",
       "      <td>0.988391</td>\n",
       "      <td>Eddie the Eagle</td>\n",
       "    </tr>\n",
       "  </tbody>\n",
       "</table>\n",
       "</div>"
      ],
      "text/plain": [
       "     Similarity                            Title\n",
       "0      0.999597            The Birth of a Nation\n",
       "39     0.991051              Free State of Jones\n",
       "144    0.990280                           Loving\n",
       "142    0.988981                   Hidden Figures\n",
       "170    0.988760               The Lost City of Z\n",
       "90     0.988724            Whiskey Tango Foxtrot\n",
       "79     0.988641          A Hologram for the King\n",
       "156    0.988597                           Allied\n",
       "115    0.988571  Pride and Prejudice and Zombies\n",
       "120    0.988391                  Eddie the Eagle"
      ]
     },
     "execution_count": 43,
     "metadata": {},
     "output_type": "execute_result"
    }
   ],
   "source": [
    "df_simi.sort_values(by=['Similarity'], inplace=True, ascending=False)\n",
    "df_simi.head(10)"
   ]
  },
  {
   "cell_type": "code",
   "execution_count": null,
   "metadata": {},
   "outputs": [],
   "source": [
    "from pyspark.sql.functions import monotonically_increasing_id"
   ]
  },
  {
   "cell_type": "code",
   "execution_count": null,
   "metadata": {},
   "outputs": [],
   "source": [
    "from pyspark.sql.types import *\n",
    "cSchema = StructType([StructField(\"Similarity\", ArrayType(FloatType()))])\n",
    "b= spark.createDataFrame(ll, FloatType()).toDF(\"x\")\n",
    "#b = spark.createDataFrame(ll, schema = cSchema)\n",
    "\n",
    "tokenized = tokenized.withColumn(\"row_idx\", monotonically_increasing_id())\n",
    "b = b.withColumn(\"row_idx\", monotonically_increasing_id())\n",
    "\n",
    "final_df = tokenized.join(b, tokenized.row_idx == b.row_idx).\\\n",
    "            drop(\"row_idx\")\n",
    "final_df.show()"
   ]
  },
  {
   "cell_type": "code",
   "execution_count": null,
   "metadata": {},
   "outputs": [],
   "source": [
    "sample.show()"
   ]
  },
  {
   "cell_type": "markdown",
   "metadata": {},
   "source": [
    "## Removed punctuation"
   ]
  },
  {
   "cell_type": "code",
   "execution_count": null,
   "metadata": {},
   "outputs": [],
   "source": [
    "docI = nlp(clean_overview1)\n",
    "tokenI = [tok.lemma_.lower() for tok in docI]\n",
    "tokenI = [tok for tok in tokenI if tok not in punctuations]\n",
    "# tokenI = ' '.join(tokenI)\n",
    "\n",
    "print(tokenI)"
   ]
  },
  {
   "cell_type": "code",
   "execution_count": null,
   "metadata": {},
   "outputs": [],
   "source": [
    "docII = nlp(clean_overview2)\n",
    "tokenII = [tok.lemma_.lower().strip() for tok in docII]\n",
    "tokenII = [tok for tok in tokenII if tok not in punctuations]\n",
    "\n",
    "print(tokenII)"
   ]
  },
  {
   "cell_type": "code",
   "execution_count": null,
   "metadata": {},
   "outputs": [],
   "source": [
    "for f in tokenized.collect():\n",
    "    doc_r=''\n",
    "    overview_r = str(f.stopwords)\n",
    "    print(overview_r)\n",
    "    doc_r = nlp(overview_r)\n",
    "    comp = docI.similarity(doc_r)\n",
    "    samp = tokenized.withColumn('similarity', lit(str(compare)))"
   ]
  },
  {
   "cell_type": "code",
   "execution_count": null,
   "metadata": {},
   "outputs": [],
   "source": [
    "samp.show()"
   ]
  },
  {
   "cell_type": "code",
   "execution_count": null,
   "metadata": {},
   "outputs": [],
   "source": [
    "sim = docI.similarity(docII)\n",
    "sim"
   ]
  },
  {
   "cell_type": "code",
   "execution_count": null,
   "metadata": {},
   "outputs": [],
   "source": [
    "sim1 = overview1.similarity(overview2)\n",
    "sim1"
   ]
  },
  {
   "cell_type": "code",
   "execution_count": null,
   "metadata": {},
   "outputs": [],
   "source": [
    "text_compareX = []\n",
    "docx = nlp(clean_overview1, disable=['parser'])\n",
    "\n",
    "tokensx = [tok.lemma_ for tok in docx if tok not in punctuations]\n",
    "tokensx = ' '.join(tokensx)\n",
    "text_compareX.append(tokensx)\n",
    "\n",
    "text_compareX"
   ]
  },
  {
   "cell_type": "code",
   "execution_count": null,
   "metadata": {},
   "outputs": [],
   "source": [
    "text_compare1 = []\n",
    "doc1 = nlp(clean_overview1, disable=['parser'])\n",
    "\n",
    "tokens1 = [tok.lemma_.lower().strip() for tok in doc1]\n",
    "tokens1 = [tok for tok in tokens1 if tok not in punctuations]\n",
    "tokens1 = ' '.join(tokens1)\n",
    "text_compare1.append(tokens1)\n",
    "\n",
    "text_compare1"
   ]
  },
  {
   "cell_type": "code",
   "execution_count": null,
   "metadata": {},
   "outputs": [],
   "source": [
    "simil = tokens1.similarity(tokens2)\n",
    "simil"
   ]
  },
  {
   "cell_type": "code",
   "execution_count": null,
   "metadata": {},
   "outputs": [],
   "source": [
    "text_compare2 = []\n",
    "doc2 = nlp(clean_overview2, disable=['parser'])\n",
    "\n",
    "tokens2 = [tok.lemma_.lower().strip() for tok in doc2]\n",
    "tokens2 = [tok for tok in tokens2 if tok not in punctuations]\n",
    "tokens2 = ' '.join(tokens2)\n",
    "text_compare2.append(tokens2)\n",
    "\n",
    "text_compare2"
   ]
  },
  {
   "cell_type": "code",
   "execution_count": null,
   "metadata": {},
   "outputs": [],
   "source": [
    "comp = text_compare1.similarity(text_compare2)\n",
    "comp"
   ]
  },
  {
   "cell_type": "code",
   "execution_count": null,
   "metadata": {},
   "outputs": [],
   "source": [
    "length = len(text_compare)\n",
    "i = 0\n",
    "\n",
    "while i < length: \n",
    "    for t[0+i] in text_compare:\n",
    "        for t[1+i] in text_compare:\n",
    "            print(t[0+i].text, t[1+i].text, t[0+i].similarity(t[1+i]))\n",
    "    "
   ]
  },
  {
   "cell_type": "code",
   "execution_count": null,
   "metadata": {},
   "outputs": [],
   "source": [
    "for token in tokens1:\n",
    "    for token in tokens2:\n",
    "        print(tokens1, tokens2, tokens1.similarity(tokens2))"
   ]
  },
  {
   "cell_type": "code",
   "execution_count": null,
   "metadata": {},
   "outputs": [],
   "source": []
  }
 ],
 "metadata": {
  "kernelspec": {
   "display_name": "Python 3",
   "language": "python",
   "name": "python3"
  },
  "language_info": {
   "codemirror_mode": {
    "name": "ipython",
    "version": 3
   },
   "file_extension": ".py",
   "mimetype": "text/x-python",
   "name": "python",
   "nbconvert_exporter": "python",
   "pygments_lexer": "ipython3",
   "version": "3.7.1"
  }
 },
 "nbformat": 4,
 "nbformat_minor": 2
}
