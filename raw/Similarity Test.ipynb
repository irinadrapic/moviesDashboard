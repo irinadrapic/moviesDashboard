{
 "cells": [
  {
   "cell_type": "code",
   "execution_count": null,
   "metadata": {},
   "outputs": [],
   "source": [
    "# for similarity need to download larger english word library with the below in gitbash \n",
    "# python -m spacy download en_core_web_lg"
   ]
  },
  {
   "cell_type": "code",
   "execution_count": 1,
   "metadata": {},
   "outputs": [],
   "source": [
    "import numpy as np\n",
    "import pandas as pd\n",
    "import spacy\n",
    "import pyspark\n",
    "from pyspark.ml.feature import StopWordsRemover\n",
    "from pyspark.sql import SparkSession"
   ]
  },
  {
   "cell_type": "code",
   "execution_count": 2,
   "metadata": {},
   "outputs": [],
   "source": [
    "spark = SparkSession.builder.appName('pandasToSparkDF').getOrCreate()"
   ]
  },
  {
   "cell_type": "code",
   "execution_count": 3,
   "metadata": {},
   "outputs": [],
   "source": [
    "file = pd.read_csv(\"master_split_100.csv\")"
   ]
  },
  {
   "cell_type": "code",
   "execution_count": 4,
   "metadata": {},
   "outputs": [
    {
     "data": {
      "text/html": [
       "<div>\n",
       "<style scoped>\n",
       "    .dataframe tbody tr th:only-of-type {\n",
       "        vertical-align: middle;\n",
       "    }\n",
       "\n",
       "    .dataframe tbody tr th {\n",
       "        vertical-align: top;\n",
       "    }\n",
       "\n",
       "    .dataframe thead th {\n",
       "        text-align: right;\n",
       "    }\n",
       "</style>\n",
       "<table border=\"1\" class=\"dataframe\">\n",
       "  <thead>\n",
       "    <tr style=\"text-align: right;\">\n",
       "      <th></th>\n",
       "      <th>Poster</th>\n",
       "      <th>imdb_id</th>\n",
       "      <th>adult</th>\n",
       "      <th>belongs_to_collection</th>\n",
       "      <th>budget</th>\n",
       "      <th>genres</th>\n",
       "      <th>homepage</th>\n",
       "      <th>id</th>\n",
       "      <th>original_language</th>\n",
       "      <th>original_title</th>\n",
       "      <th>...</th>\n",
       "      <th>release_date</th>\n",
       "      <th>revenue</th>\n",
       "      <th>runtime</th>\n",
       "      <th>spoken_languages</th>\n",
       "      <th>status</th>\n",
       "      <th>tagline</th>\n",
       "      <th>title</th>\n",
       "      <th>video</th>\n",
       "      <th>vote_average</th>\n",
       "      <th>vote_count</th>\n",
       "    </tr>\n",
       "  </thead>\n",
       "  <tbody>\n",
       "    <tr>\n",
       "      <th>0</th>\n",
       "      <td>https://images-na.ssl-images-amazon.com/images...</td>\n",
       "      <td>tt6029122</td>\n",
       "      <td>False</td>\n",
       "      <td>NaN</td>\n",
       "      <td>0</td>\n",
       "      <td>[{'id': 27, 'name': 'Horror'}]</td>\n",
       "      <td>https://www.facebook.com/Siccin3/</td>\n",
       "      <td>414827</td>\n",
       "      <td>tr</td>\n",
       "      <td>Siccin 3: C√ºrm√º Ask</td>\n",
       "      <td>...</td>\n",
       "      <td>2016-09-02</td>\n",
       "      <td>0</td>\n",
       "      <td>87.0</td>\n",
       "      <td>[{'iso_639_1': 'tr', 'name': 'T√ºrk√ße'}]</td>\n",
       "      <td>Released</td>\n",
       "      <td>NaN</td>\n",
       "      <td>Siccin 3: C√ºrm√º Ask</td>\n",
       "      <td>False</td>\n",
       "      <td>10.0</td>\n",
       "      <td>2</td>\n",
       "    </tr>\n",
       "    <tr>\n",
       "      <th>1</th>\n",
       "      <td>NaN</td>\n",
       "      <td>tt6032170</td>\n",
       "      <td>False</td>\n",
       "      <td>NaN</td>\n",
       "      <td>0</td>\n",
       "      <td>[{'id': 99, 'name': 'Documentary'}]</td>\n",
       "      <td>http://www.americananarchistmovie.com/</td>\n",
       "      <td>413049</td>\n",
       "      <td>en</td>\n",
       "      <td>American Anarchist</td>\n",
       "      <td>...</td>\n",
       "      <td>2016-09-02</td>\n",
       "      <td>0</td>\n",
       "      <td>80.0</td>\n",
       "      <td>[{'iso_639_1': 'en', 'name': 'English'}]</td>\n",
       "      <td>Released</td>\n",
       "      <td>NaN</td>\n",
       "      <td>American Anarchist</td>\n",
       "      <td>False</td>\n",
       "      <td>6.7</td>\n",
       "      <td>7</td>\n",
       "    </tr>\n",
       "    <tr>\n",
       "      <th>2</th>\n",
       "      <td>https://images-na.ssl-images-amazon.com/images...</td>\n",
       "      <td>tt3903852</td>\n",
       "      <td>False</td>\n",
       "      <td>NaN</td>\n",
       "      <td>4000000</td>\n",
       "      <td>[{'id': 28, 'name': 'Action'}]</td>\n",
       "      <td>NaN</td>\n",
       "      <td>403232</td>\n",
       "      <td>en</td>\n",
       "      <td>Vigilante Diaries</td>\n",
       "      <td>...</td>\n",
       "      <td>2016-09-01</td>\n",
       "      <td>0</td>\n",
       "      <td>107.0</td>\n",
       "      <td>[{'iso_639_1': 'fr', 'name': 'Fran√ßais'}, {'i...</td>\n",
       "      <td>Released</td>\n",
       "      <td>Crime Never Stops. Neither Do They.</td>\n",
       "      <td>Vigilante Diaries</td>\n",
       "      <td>False</td>\n",
       "      <td>4.7</td>\n",
       "      <td>27</td>\n",
       "    </tr>\n",
       "    <tr>\n",
       "      <th>3</th>\n",
       "      <td>https://images-na.ssl-images-amazon.com/images...</td>\n",
       "      <td>tt3991412</td>\n",
       "      <td>False</td>\n",
       "      <td>NaN</td>\n",
       "      <td>0</td>\n",
       "      <td>[{'id': 14, 'name': 'Fantasy'}, {'id': 53, 'na...</td>\n",
       "      <td>http://www.louis-drax-movie.com/</td>\n",
       "      <td>294795</td>\n",
       "      <td>en</td>\n",
       "      <td>The 9th Life of Louis Drax</td>\n",
       "      <td>...</td>\n",
       "      <td>2016-09-01</td>\n",
       "      <td>0</td>\n",
       "      <td>108.0</td>\n",
       "      <td>[{'iso_639_1': 'en', 'name': 'English'}]</td>\n",
       "      <td>Released</td>\n",
       "      <td>A mystery beyond reality.</td>\n",
       "      <td>The 9th Life of Louis Drax</td>\n",
       "      <td>False</td>\n",
       "      <td>6.5</td>\n",
       "      <td>128</td>\n",
       "    </tr>\n",
       "    <tr>\n",
       "      <th>4</th>\n",
       "      <td>NaN</td>\n",
       "      <td>tt4102722</td>\n",
       "      <td>False</td>\n",
       "      <td>NaN</td>\n",
       "      <td>0</td>\n",
       "      <td>[{'id': 35, 'name': 'Comedy'}, {'id': 27, 'nam...</td>\n",
       "      <td>https://www.facebook.com/TNWMovie</td>\n",
       "      <td>398798</td>\n",
       "      <td>en</td>\n",
       "      <td>The Night Watchmen</td>\n",
       "      <td>...</td>\n",
       "      <td>2016-09-01</td>\n",
       "      <td>0</td>\n",
       "      <td>90.0</td>\n",
       "      <td>[]</td>\n",
       "      <td>Released</td>\n",
       "      <td>Some men were born heroes... It wasn't these g...</td>\n",
       "      <td>The Night Watchmen</td>\n",
       "      <td>False</td>\n",
       "      <td>4.4</td>\n",
       "      <td>19</td>\n",
       "    </tr>\n",
       "  </tbody>\n",
       "</table>\n",
       "<p>5 rows × 25 columns</p>\n",
       "</div>"
      ],
      "text/plain": [
       "                                              Poster    imdb_id  adult  \\\n",
       "0  https://images-na.ssl-images-amazon.com/images...  tt6029122  False   \n",
       "1                                                NaN  tt6032170  False   \n",
       "2  https://images-na.ssl-images-amazon.com/images...  tt3903852  False   \n",
       "3  https://images-na.ssl-images-amazon.com/images...  tt3991412  False   \n",
       "4                                                NaN  tt4102722  False   \n",
       "\n",
       "  belongs_to_collection   budget  \\\n",
       "0                   NaN        0   \n",
       "1                   NaN        0   \n",
       "2                   NaN  4000000   \n",
       "3                   NaN        0   \n",
       "4                   NaN        0   \n",
       "\n",
       "                                              genres  \\\n",
       "0                     [{'id': 27, 'name': 'Horror'}]   \n",
       "1                [{'id': 99, 'name': 'Documentary'}]   \n",
       "2                     [{'id': 28, 'name': 'Action'}]   \n",
       "3  [{'id': 14, 'name': 'Fantasy'}, {'id': 53, 'na...   \n",
       "4  [{'id': 35, 'name': 'Comedy'}, {'id': 27, 'nam...   \n",
       "\n",
       "                                 homepage      id original_language  \\\n",
       "0       https://www.facebook.com/Siccin3/  414827                tr   \n",
       "1  http://www.americananarchistmovie.com/  413049                en   \n",
       "2                                     NaN  403232                en   \n",
       "3        http://www.louis-drax-movie.com/  294795                en   \n",
       "4       https://www.facebook.com/TNWMovie  398798                en   \n",
       "\n",
       "               original_title    ...     release_date  revenue runtime  \\\n",
       "0       Siccin 3: C√ºrm√º Ask    ...       2016-09-02        0    87.0   \n",
       "1          American Anarchist    ...       2016-09-02        0    80.0   \n",
       "2           Vigilante Diaries    ...       2016-09-01        0   107.0   \n",
       "3  The 9th Life of Louis Drax    ...       2016-09-01        0   108.0   \n",
       "4          The Night Watchmen    ...       2016-09-01        0    90.0   \n",
       "\n",
       "                                    spoken_languages    status  \\\n",
       "0          [{'iso_639_1': 'tr', 'name': 'T√ºrk√ße'}]  Released   \n",
       "1           [{'iso_639_1': 'en', 'name': 'English'}]  Released   \n",
       "2  [{'iso_639_1': 'fr', 'name': 'Fran√ßais'}, {'i...  Released   \n",
       "3           [{'iso_639_1': 'en', 'name': 'English'}]  Released   \n",
       "4                                                 []  Released   \n",
       "\n",
       "                                             tagline  \\\n",
       "0                                                NaN   \n",
       "1                                                NaN   \n",
       "2                Crime Never Stops. Neither Do They.   \n",
       "3                          A mystery beyond reality.   \n",
       "4  Some men were born heroes... It wasn't these g...   \n",
       "\n",
       "                        title  video vote_average vote_count  \n",
       "0       Siccin 3: C√ºrm√º Ask  False         10.0          2  \n",
       "1          American Anarchist  False          6.7          7  \n",
       "2           Vigilante Diaries  False          4.7         27  \n",
       "3  The 9th Life of Louis Drax  False          6.5        128  \n",
       "4          The Night Watchmen  False          4.4         19  \n",
       "\n",
       "[5 rows x 25 columns]"
      ]
     },
     "execution_count": 4,
     "metadata": {},
     "output_type": "execute_result"
    }
   ],
   "source": [
    "file = pd.DataFrame(file)\n",
    "file.head()"
   ]
  },
  {
   "cell_type": "code",
   "execution_count": 5,
   "metadata": {},
   "outputs": [
    {
     "data": {
      "text/plain": [
       "Poster                   4724\n",
       "imdb_id                  6001\n",
       "adult                    6001\n",
       "belongs_to_collection     451\n",
       "budget                   6001\n",
       "genres                   6001\n",
       "homepage                 2005\n",
       "id                       6001\n",
       "original_language        5998\n",
       "original_title           6001\n",
       "overview                 5852\n",
       "popularity               6001\n",
       "poster_path              5964\n",
       "production_companies     6001\n",
       "production_countries     6001\n",
       "release_date             6001\n",
       "revenue                  6001\n",
       "runtime                  5947\n",
       "spoken_languages         6001\n",
       "status                   6001\n",
       "tagline                  2493\n",
       "title                    6001\n",
       "video                    6001\n",
       "vote_average             6001\n",
       "vote_count               6001\n",
       "dtype: int64"
      ]
     },
     "execution_count": 5,
     "metadata": {},
     "output_type": "execute_result"
    }
   ],
   "source": [
    "file.count()"
   ]
  },
  {
   "cell_type": "code",
   "execution_count": 6,
   "metadata": {},
   "outputs": [],
   "source": [
    "file.drop_duplicates(keep='first', inplace=True)\n"
   ]
  },
  {
   "cell_type": "code",
   "execution_count": 7,
   "metadata": {},
   "outputs": [
    {
     "data": {
      "text/plain": [
       "Poster                   4723\n",
       "imdb_id                  5999\n",
       "adult                    5999\n",
       "belongs_to_collection     451\n",
       "budget                   5999\n",
       "genres                   5999\n",
       "homepage                 2005\n",
       "id                       5999\n",
       "original_language        5996\n",
       "original_title           5999\n",
       "overview                 5850\n",
       "popularity               5999\n",
       "poster_path              5962\n",
       "production_companies     5999\n",
       "production_countries     5999\n",
       "release_date             5999\n",
       "revenue                  5999\n",
       "runtime                  5945\n",
       "spoken_languages         5999\n",
       "status                   5999\n",
       "tagline                  2493\n",
       "title                    5999\n",
       "video                    5999\n",
       "vote_average             5999\n",
       "vote_count               5999\n",
       "dtype: int64"
      ]
     },
     "execution_count": 7,
     "metadata": {},
     "output_type": "execute_result"
    }
   ],
   "source": [
    "file.count()"
   ]
  },
  {
   "cell_type": "code",
   "execution_count": 8,
   "metadata": {},
   "outputs": [
    {
     "data": {
      "text/plain": [
       "imdb_id     5850\n",
       "title       5850\n",
       "overview    5850\n",
       "dtype: int64"
      ]
     },
     "execution_count": 8,
     "metadata": {},
     "output_type": "execute_result"
    }
   ],
   "source": [
    "overview_df2 = file[[\"imdb_id\",\"title\", \"overview\"]].copy()\n",
    "overview_df2.dropna(inplace=True)\n",
    "overview_df2.count()"
   ]
  },
  {
   "cell_type": "code",
   "execution_count": 9,
   "metadata": {},
   "outputs": [
    {
     "data": {
      "text/plain": [
       "imdb_id     False\n",
       "title       False\n",
       "overview    False\n",
       "dtype: bool"
      ]
     },
     "execution_count": 9,
     "metadata": {},
     "output_type": "execute_result"
    }
   ],
   "source": [
    "overview_df2.isna().any()"
   ]
  },
  {
   "cell_type": "code",
   "execution_count": 10,
   "metadata": {},
   "outputs": [],
   "source": [
    "from pyspark.ml.feature import Tokenizer\n",
    "from pyspark.sql.functions import col, udf\n",
    "from pyspark.sql.types import IntegerType"
   ]
  },
  {
   "cell_type": "code",
   "execution_count": 11,
   "metadata": {},
   "outputs": [
    {
     "name": "stdout",
     "output_type": "stream",
     "text": [
      "+---------+--------------------+--------------------+\n",
      "|  imdb_id|               title|            overview|\n",
      "+---------+--------------------+--------------------+\n",
      "|tt6029122|Siccin 3: C√ºrm√º...|After a terrible ...|\n",
      "|tt6032170|  American Anarchist|The story of one ...|\n",
      "|tt3903852|   Vigilante Diaries|The Vigilante Dia...|\n",
      "|tt3991412|The 9th Life of L...|A psychologist wh...|\n",
      "|tt4102722|  The Night Watchmen|Three inept night...|\n",
      "|tt4424228|              Mahana|It is the 1960s. ...|\n",
      "|tt4520364|              Morgan|A corporate risk-...|\n",
      "|tt4650738|Much Ado About No...|After a night of ...|\n",
      "|tt5221584|            Aquarius|Clara, a 65-year-...|\n",
      "|tt5722234|       Chasing Great|Chasing Great is ...|\n",
      "|tt6001712|       Teli and Toli|This down-to-eart...|\n",
      "|tt6798722|Ashley Madison: S...|This film details...|\n",
      "|tt4551314|             Odd Job|An unemployed fac...|\n",
      "|tt4730986|             Divines|In a ghetto where...|\n",
      "|tt4795546|           Nocturama|The new film by B...|\n",
      "|tt4895668|        Saint George|In 2011 Portugal ...|\n",
      "|tt5896146|Batman Unlimited:...|Mr. Freeze turns ...|\n",
      "|tt6020172|         Third Guest|Sci-fi end of the...|\n",
      "|tt2923088|The Windmill Mass...|Jennifer, an Aust...|\n",
      "|tt6016776|           Team Thor|Discover what Tho...|\n",
      "+---------+--------------------+--------------------+\n",
      "only showing top 20 rows\n",
      "\n"
     ]
    }
   ],
   "source": [
    "sentenceData = spark.createDataFrame(overview_df2.astype(str))\n",
    "sentenceData.show() "
   ]
  },
  {
   "cell_type": "code",
   "execution_count": 12,
   "metadata": {},
   "outputs": [
    {
     "data": {
      "text/plain": [
       "Tokenizer_b9f958511dc3"
      ]
     },
     "execution_count": 12,
     "metadata": {},
     "output_type": "execute_result"
    }
   ],
   "source": [
    "tokenizer = Tokenizer(inputCol=\"overview\", outputCol=\"words\")\n",
    "tokenizer"
   ]
  },
  {
   "cell_type": "code",
   "execution_count": 13,
   "metadata": {},
   "outputs": [
    {
     "name": "stdout",
     "output_type": "stream",
     "text": [
      "+---------+-------------------------------------------+----------------------------------------------------------------------------------------------------------------------------------------------------------------------------------------------------------------------------------------------------------------------------------------------------------------------------------------------------------------------------------------------------------------------------------------------------------------------------------------------------------------------------------------------------------------------------------------------------------------------------------------------------------------------------------------------------------------------------------------------------------------------------------------------------------------------------------------------------------------------------------------------------------------------------------------------------------------------------------------------------------------+----------------------------------------------------------------------------------------------------------------------------------------------------------------------------------------------------------------------------------------------------------------------------------------------------------------------------------------------------------------------------------------------------------------------------------------------------------------------------------------------------------------------------------------------------------------------------------------------------------------------------------------------------------------------------------------------------------------------------------------------------------------------------------------------------------------------------------------------------------------------------------------------------------------------------------------------------------------------------------------------------------------------------------------------------------------------------------------------------------------------------------------------------------------------+\n",
      "|imdb_id  |title                                      |overview                                                                                                                                                                                                                                                                                                                                                                                                                                                                                                                                                                                                                                                                                                                                                                                                                                                                                                                                                                                                        |words                                                                                                                                                                                                                                                                                                                                                                                                                                                                                                                                                                                                                                                                                                                                                                                                                                                                                                                                                                                                                                                                                                                                                                 |\n",
      "+---------+-------------------------------------------+----------------------------------------------------------------------------------------------------------------------------------------------------------------------------------------------------------------------------------------------------------------------------------------------------------------------------------------------------------------------------------------------------------------------------------------------------------------------------------------------------------------------------------------------------------------------------------------------------------------------------------------------------------------------------------------------------------------------------------------------------------------------------------------------------------------------------------------------------------------------------------------------------------------------------------------------------------------------------------------------------------------+----------------------------------------------------------------------------------------------------------------------------------------------------------------------------------------------------------------------------------------------------------------------------------------------------------------------------------------------------------------------------------------------------------------------------------------------------------------------------------------------------------------------------------------------------------------------------------------------------------------------------------------------------------------------------------------------------------------------------------------------------------------------------------------------------------------------------------------------------------------------------------------------------------------------------------------------------------------------------------------------------------------------------------------------------------------------------------------------------------------------------------------------------------------------+\n",
      "|tt6029122|Siccin 3: C√ºrm√º Ask                      |After a terrible car accident, Sedat will do anything to save a childhood friend ‚Äì even if it means dealing with demons and ghosts.                                                                                                                                                                                                                                                                                                                                                                                                                                                                                                                                                                                                                                                                                                                                                                                                                                                                           |[after, a, terrible, car, accident,, sedat, will, do, anything, to, save, a, childhood, friend, ‚äì, even, if, it, means, dealing, with, demons, and, ghosts.]                                                                                                                                                                                                                                                                                                                                                                                                                                                                                                                                                                                                                                                                                                                                                                                                                                                                                                                                                                                                        |\n",
      "|tt6032170|American Anarchist                         |The story of one of the most infamous books ever written, \"The Anarchist Cookbook,\" and the role it's played in the life of its author, now 65, who wrote it at 19 in the midst of the counterculture upheaval of the late '60s and early '70s.                                                                                                                                                                                                                                                                                                                                                                                                                                                                                                                                                                                                                                                                                                                                                                 |[the, story, of, one, of, the, most, infamous, books, ever, written,, \"the, anarchist, cookbook,\", and, the, role, it's, played, in, the, life, of, its, author,, now, 65,, who, wrote, it, at, 19, in, the, midst, of, the, counterculture, upheaval, of, the, late, '60s, and, early, '70s.]                                                                                                                                                                                                                                                                                                                                                                                                                                                                                                                                                                                                                                                                                                                                                                                                                                                                        |\n",
      "|tt3903852|Vigilante Diaries                          |The Vigilante Diaries is a high octane action-adventure film featuring 90's movie heroes, explosive action, and international espionage. The film revolves around a team of black-ops agents turned crime-fighters, led by a brooding anti-hero, known only as \"The Vigilante.\" These jam-packed missions of rescue and revenge take us from the mega-mansions and underbelly of Los Angeles to far away places like Iraq, Armenia, Russia, and The United Kingdom to introduce us to a cast of colorful, dangerous, and hilarious characters. From Beverly Hills filmmaker Mike Hanover, to a trio of Asian femme fatales, to ruthless Armenian mobsters, and at the top, a pair of deep cover super spies hell bent on throwing the world into chaos.                                                                                                                                                                                                                                                         |[the, vigilante, diaries, is, a, high, octane, action-adventure, film, featuring, 90's, movie, heroes,, explosive, action,, and, international, espionage., the, film, revolves, around, a, team, of, black-ops, agents, turned, crime-fighters,, led, by, a, brooding, anti-hero,, known, only, as, \"the, vigilante.\", these, jam-packed, missions, of, rescue, and, revenge, take, us, from, the, mega-mansions, and, underbelly, of, los, angeles, to, far, away, places, like, iraq,, armenia,, russia,, and, the, united, kingdom, to, introduce, us, to, a, cast, of, colorful,, dangerous,, and, hilarious, characters., from, beverly, hills, filmmaker, mike, hanover,, to, a, trio, of, asian, femme, fatales,, to, ruthless, armenian, mobsters,, and, at, the, top,, a, pair, of, deep, cover, super, spies, hell, bent, on, throwing, the, world, into, chaos.]                                                                                                                                                                                                                                                                                          |\n",
      "|tt3991412|The 9th Life of Louis Drax                 |A psychologist who begins working with a young boy who has suffered a near-fatal fall finds himself drawn into a mystery that tests the boundaries of fantasy and reality.                                                                                                                                                                                                                                                                                                                                                                                                                                                                                                                                                                                                                                                                                                                                                                                                                                      |[a, psychologist, who, begins, working, with, a, young, boy, who, has, suffered, a, near-fatal, fall, finds, himself, drawn, into, a, mystery, that, tests, the, boundaries, of, fantasy, and, reality.]                                                                                                                                                                                                                                                                                                                                                                                                                                                                                                                                                                                                                                                                                                                                                                                                                                                                                                                                                              |\n",
      "|tt4102722|The Night Watchmen                         |Three inept night watchmen, aided by a young rookie and a fearless tabloid journalist, fight an epic battle to save their lives. A mistaken warehouse delivery unleashes a horde of hungry vampires, and these unlikely heroes must not only save themselves but also stop the scourge that threatens to take over the city of Baltimore.                                                                                                                                                                                                                                                                                                                                                                                                                                                                                                                                                                                                                                                                       |[three, inept, night, watchmen,, aided, by, a, young, rookie, and, a, fearless, tabloid, journalist,, fight, an, epic, battle, to, save, their, lives., a, mistaken, warehouse, delivery, unleashes, a, horde, of, hungry, vampires,, and, these, unlikely, heroes, must, not, only, save, themselves, but, also, stop, the, scourge, that, threatens, to, take, over, the, city, of, baltimore.]                                                                                                                                                                                                                                                                                                                                                                                                                                                                                                                                                                                                                                                                                                                                                                     |\n",
      "|tt4424228|Mahana                                     |It is the 1960s. Two Maori families, the Mahanas and the Poatas, make a living shearing sheep on the east coast of New Zealand. The two clans, who are bitter enemies, face each other as rivals at the annual sheep shearing competitions. Simeon is a 14-year-old scion of the Mahana clan. A courageous schoolboy, he rebels against his authoritarian grandfather Tamihana and his traditional ways of thinking and begins to unravel the reasons for the long-standing feud between the two families. Before long, the hierarchies and established structures of the community are in disarray because Tamihana, who is as stubborn as he is proud, is not prepared to acquiesce and pursue new paths.                                                                                                                                                                                                                                                                                                     |[it, is, the, 1960s., two, maori, families,, the, mahanas, and, the, poatas,, make, a, living, shearing, sheep, on, the, east, coast, of, new, zealand., the, two, clans,, who, are, bitter, enemies,, face, each, other, as, rivals, at, the, annual, sheep, shearing, competitions., simeon, is, a, 14-year-old, scion, of, the, mahana, clan., a, courageous, schoolboy,, he, rebels, against, his, authoritarian, grandfather, tamihana, and, his, traditional, ways, of, thinking, and, begins, to, unravel, the, reasons, for, the, long-standing, feud, between, the, two, families., before, long,, the, hierarchies, and, established, structures, of, the, community, are, in, disarray, because, tamihana,, who, is, as, stubborn, as, he, is, proud,, is, not, prepared, to, acquiesce, and, pursue, new, paths.]                                                                                                                                                                                                                                                                                                                                         |\n",
      "|tt4520364|Morgan                                     |A corporate risk-management consultant must determine whether or not to terminate an artificial being's life that was made in a laboratory environment.                                                                                                                                                                                                                                                                                                                                                                                                                                                                                                                                                                                                                                                                                                                                                                                                                                                         |[a, corporate, risk-management, consultant, must, determine, whether, or, not, to, terminate, an, artificial, being's, life, that, was, made, in, a, laboratory, environment.]                                                                                                                                                                                                                                                                                                                                                                                                                                                                                                                                                                                                                                                                                                                                                                                                                                                                                                                                                                                        |\n",
      "|tt4650738|Much Ado About Nothing                     |After a night of partying, Vicente is involved in a hit-and-run that kills a man. Vicente claims his innocence, but he was drunk and high. A tangled web of lies buries the truth, making a social scandal disappear ‚Äî exonerating the real culprit, the son of a powerful politician.                                                                                                                                                                                                                                                                                                                                                                                                                                                                                                                                                                                                                                                                                                                        |[after, a, night, of, partying,, vicente, is, involved, in, a, hit-and-run, that, kills, a, man., vicente, claims, his, innocence,, but, he, was, drunk, and, high., a, tangled, web, of, lies, buries, the, truth,, making, a, social, scandal, disappear, ‚äî, exonerating, the, real, culprit,, the, son, of, a, powerful, politician.]                                                                                                                                                                                                                                                                                                                                                                                                                                                                                                                                                                                                                                                                                                                                                                                                                            |\n",
      "|tt5221584|Aquarius                                   |Clara, a 65-year-old widow and retired music critic, was born into a wealthy and traditional family in Recife, Brazil. She is the last resident of the Aquarius, an original two-story building, built in the 1940s, in the upper-class, seaside Boa Viagem Avenue. All the neighboring apartments have already been acquired by a company which has other plans for that plot.                                                                                                                                                                                                                                                                                                                                                                                                                                                                                                                                                                                                                                 |[clara,, a, 65-year-old, widow, and, retired, music, critic,, was, born, into, a, wealthy, and, traditional, family, in, recife,, brazil., she, is, the, last, resident, of, the, aquarius,, an, original, two-story, building,, built, in, the, 1940s,, in, the, upper-class,, seaside, boa, viagem, avenue., all, the, neighboring, apartments, have, already, been, acquired, by, a, company, which, has, other, plans, for, that, plot.]                                                                                                                                                                                                                                                                                                                                                                                                                                                                                                                                                                                                                                                                                                                          |\n",
      "|tt5722234|Chasing Great                              |Chasing Great is an insightful portrayal that weaves Richie McCaw's life story into his final season as an All Black, revealing the determination and mental toughness of an international sporting legend who still sees himself as an 'ordinary guy' from small town New Zealand.                                                                                                                                                                                                                                                                                                                                                                                                                                                                                                                                                                                                                                                                                                                             |[chasing, great, is, an, insightful, portrayal, that, weaves, richie, mccaw's, life, story, into, his, final, season, as, an, all, black,, revealing, the, determination, and, mental, toughness, of, an, international, sporting, legend, who, still, sees, himself, as, an, 'ordinary, guy', from, small, town, new, zealand.]                                                                                                                                                                                                                                                                                                                                                                                                                                                                                                                                                                                                                                                                                                                                                                                                                                      |\n",
      "|tt6001712|Teli and Toli                              |This down-to-earth story that takes place in the mountains of North Caucasus, between two adjacent villages ‚Äì Ossetian Toli and Georgian Teli ‚Äì tells us about simple and na√Øve people that governments try to divide today by an official state border. These people wish to live in peace and harmony, in spite of ethnic differences, as their ancestors lived for hundreds of years. They are accustomed to solve all the conflicts peacefully, following Caucasian customs ‚Äì around a great table, with wine and songs‚Ä¶                                                                                                                                                                                                                                                                                                                                                                                                                                                                           |[this, down-to-earth, story, that, takes, place, in, the, mountains, of, north, caucasus,, between, two, adjacent, villages, ‚äì, ossetian, toli, and, georgian, teli, ‚äì, tells, us, about, simple, and, na√øve, people, that, governments, try, to, divide, today, by, an, official, state, border., these, people, wish, to, live, in, peace, and, harmony,, in, spite, of, ethnic, differences,, as, their, ancestors, lived, for, hundreds, of, years., they, are, accustomed, to, solve, all, the, conflicts, peacefully,, following, caucasian, customs, ‚äì, around, a, great, table,, with, wine, and, songs‚ä¶]                                                                                                                                                                                                                                                                                                                                                                                                                                                                                                                                            |\n",
      "|tt6798722|Ashley Madison: Sex, Lies and Cyber Attacks|This film details the hacking of the Ashley Madison \"extramarital affairs\" website and the fallout from the public release of its users' emails.                                                                                                                                                                                                                                                                                                                                                                                                                                                                                                                                                                                                                                                                                                                                                                                                                                                                |[this, film, details, the, hacking, of, the, ashley, madison, \"extramarital, affairs\", website, and, the, fallout, from, the, public, release, of, its, users', emails.]                                                                                                                                                                                                                                                                                                                                                                                                                                                                                                                                                                                                                                                                                                                                                                                                                                                                                                                                                                                              |\n",
      "|tt4551314|Odd Job                                    |An unemployed factory worker takes a job as a hit man to make ends meet.                                                                                                                                                                                                                                                                                                                                                                                                                                                                                                                                                                                                                                                                                                                                                                                                                                                                                                                                        |[an, unemployed, factory, worker, takes, a, job, as, a, hit, man, to, make, ends, meet.]                                                                                                                                                                                                                                                                                                                                                                                                                                                                                                                                                                                                                                                                                                                                                                                                                                                                                                                                                                                                                                                                              |\n",
      "|tt4730986|Divines                                    |In a ghetto where religion and drug trafficking rub shoulders, Dounia has a lust for power and success. Supported by Maimouna, her best friend, she decides to follow in the footsteps of Rebecca, a respected dealer. But her encounter with Djigui, a young, disturbingly sensual dancer, throws her off course.                                                                                                                                                                                                                                                                                                                                                                                                                                                                                                                                                                                                                                                                                              |[in, a, ghetto, where, religion, and, drug, trafficking, rub, shoulders,, dounia, has, a, lust, for, power, and, success., supported, by, maimouna,, her, best, friend,, she, decides, to, follow, in, the, footsteps, of, rebecca,, a, respected, dealer., but, her, encounter, with, djigui,, a, young,, disturbingly, sensual, dancer,, throws, her, off, course.]                                                                                                                                                                                                                                                                                                                                                                                                                                                                                                                                                                                                                                                                                                                                                                                                 |\n",
      "|tt4795546|Nocturama                                  |The new film by Bertrand Bonello (SAINT LAURENT, HOUSE OF PLEASURES) is a terrorism thriller like no other, recalling Robert Bresson‚Äôs THE DEVIL, PROBABLY as much as it does George A. Romero‚Äôs DAWN OF THE DEAD. We first follow a group of tense, shifty adolescents as they prowl the streets and subways of Paris, learning through carefully delineated sequences that they‚Äôre already well underway with a bombing plot. And then it becomes something familiar, yet altogether different, as these subversives tuck away inside a shopping mall and lose themselves in consumer culture ‚Äî clothes, televisions, toys, and a stirring soundtrack that includes Blondie, Chief Keef, Shirley Bassey, Bonello‚Äôs menacing electronic score, and Willow Smith. Will they survive the unseen, encroaching authorities? Or, as the walls close in, will they even survive each other? NOCTURAMA forgoes easy answers, making way for one of the 21st century‚Äôs most stunning cinematic experiences.|[the, new, film, by, bertrand, bonello, (saint, laurent,, house, of, pleasures), is, a, terrorism, thriller, like, no, other,, recalling, robert, bresson‚äôs, the, devil,, probably, as, much, as, it, does, george, a., romero‚äôs, dawn, of, the, dead., we, first, follow, a, group, of, tense,, shifty, adolescents, as, they, prowl, the, streets, and, subways, of, paris,, learning, through, carefully, delineated, sequences, that, they‚äôre, already, well, underway, with, a, bombing, plot., and, then, it, becomes, something, familiar,, yet, altogether, different,, as, these, subversives, tuck, away, inside, a, shopping, mall, and, lose, themselves, in, consumer, culture, ‚äî, clothes,, televisions,, toys,, and, a, stirring, soundtrack, that, includes, blondie,, chief, keef,, shirley, bassey,, bonello‚äôs, menacing, electronic, score,, and, willow, smith., will, they, survive, the, unseen,, encroaching, authorities?, or,, as, the, walls, close, in,, will, they, even, survive, each, other?, nocturama, forgoes, easy, answers,, making, way, for, one, of, the, 21st, century‚äôs, most, stunning, cinematic, experiences.]|\n",
      "|tt4895668|Saint George                               |In 2011 Portugal began the so-called \"year of the Troika\" (EU, IMF and ECB budget cuts and economic restructuring), with the level of debt among the Portuguese people reaching staggering amounts and a growing number of families and companies unable to repay their installment loans. Jorge is an unemployed boxer on the verge of losing his son and his wife, who has decided to return to Brazil. As a means of paying off his debt and persuading his wife to remain in Portugal, Jorge accepts a job with a debt-collection agency, which will drag him into a world of violence and crime.                                                                                                                                                                                                                                                                                                                                                                                                           |[in, 2011, portugal, began, the, so-called, \"year, of, the, troika\", (eu,, imf, and, ecb, budget, cuts, and, economic, restructuring),, with, the, level, of, debt, among, the, portuguese, people, reaching, staggering, amounts, and, a, growing, number, of, families, and, companies, unable, to, repay, their, installment, loans., jorge, is, an, unemployed, boxer, on, the, verge, of, losing, his, son, and, his, wife,, who, has, decided, to, return, to, brazil., as, a, means, of, paying, off, his, debt, and, persuading, his, wife, to, remain, in, portugal,, jorge, accepts, a, job, with, a, debt-collection, agency,, which, will, drag, him, into, a, world, of, violence, and, crime.]                                                                                                                                                                                                                                                                                                                                                                                                                                                          |\n",
      "|tt5896146|Batman Unlimited: Mechs vs. Mutants        |Mr. Freeze turns Killer Croc and Bane into super-sized monsters, and they bash their way through downtown Gotham until the Caped Crusader and his team of heroes join the fight in their giant robot mechs.                                                                                                                                                                                                                                                                                                                                                                                                                                                                                                                                                                                                                                                                                                                                                                                                     |[mr., freeze, turns, killer, croc, and, bane, into, super-sized, monsters,, and, they, bash, their, way, through, downtown, gotham, until, the, caped, crusader, and, his, team, of, heroes, join, the, fight, in, their, giant, robot, mechs.]                                                                                                                                                                                                                                                                                                                                                                                                                                                                                                                                                                                                                                                                                                                                                                                                                                                                                                                       |\n",
      "|tt6020172|Third Guest                                |Sci-fi end of the world drama                                                                                                                                                                                                                                                                                                                                                                                                                                                                                                                                                                                                                                                                                                                                                                                                                                                                                                                                                                                   |[sci-fi, end, of, the, world, drama]                                                                                                                                                                                                                                                                                                                                                                                                                                                                                                                                                                                                                                                                                                                                                                                                                                                                                                                                                                                                                                                                                                                                  |\n",
      "|tt2923088|The Windmill Massacre                      |Jennifer, an Australian girl on the run from her past, turns up in Amsterdam and, in a desperate attempt to blend in, joins a coach-load of tourists on a tour of Holland's old windmills. When the bus breaks down in the middle of nowhere, she and the other tourists are forced to seek shelter in a disused shed beside a sinister windmill where a devil-worshiping miller once ground the bones of locals instead of grain. As members of the group start to disappear, Jennifer learns that they all have something in common ‚Äì a shared secret that seems to mark them all for doom.                                                                                                                                                                                                                                                                                                                                                                                                                 |[jennifer,, an, australian, girl, on, the, run, from, her, past,, turns, up, in, amsterdam, and,, in, a, desperate, attempt, to, blend, in,, joins, a, coach-load, of, tourists, on, a, tour, of, holland's, old, windmills., when, the, bus, breaks, down, in, the, middle, of, nowhere,, she, and, the, other, tourists, are, forced, to, seek, shelter, in, a, disused, shed, beside, a, sinister, windmill, where, a, devil-worshiping, miller, once, ground, the, bones, of, locals, instead, of, grain., as, members, of, the, group, start, to, disappear,, jennifer, learns, that, they, all, have, something, in, common, ‚äì, a, shared, secret, that, seems, to, mark, them, all, for, doom.]                                                                                                                                                                                                                                                                                                                                                                                                                                                              |\n",
      "|tt6016776|Team Thor                                  |Discover what Thor was up to during the events of Captain America: Civil War.                                                                                                                                                                                                                                                                                                                                                                                                                                                                                                                                                                                                                                                                                                                                                                                                                                                                                                                                   |[discover, what, thor, was, up, to, during, the, events, of, captain, america:, civil, war.]                                                                                                                                                                                                                                                                                                                                                                                                                                                                                                                                                                                                                                                                                                                                                                                                                                                                                                                                                                                                                                                                          |\n",
      "+---------+-------------------------------------------+----------------------------------------------------------------------------------------------------------------------------------------------------------------------------------------------------------------------------------------------------------------------------------------------------------------------------------------------------------------------------------------------------------------------------------------------------------------------------------------------------------------------------------------------------------------------------------------------------------------------------------------------------------------------------------------------------------------------------------------------------------------------------------------------------------------------------------------------------------------------------------------------------------------------------------------------------------------------------------------------------------------+----------------------------------------------------------------------------------------------------------------------------------------------------------------------------------------------------------------------------------------------------------------------------------------------------------------------------------------------------------------------------------------------------------------------------------------------------------------------------------------------------------------------------------------------------------------------------------------------------------------------------------------------------------------------------------------------------------------------------------------------------------------------------------------------------------------------------------------------------------------------------------------------------------------------------------------------------------------------------------------------------------------------------------------------------------------------------------------------------------------------------------------------------------------------+\n",
      "only showing top 20 rows\n",
      "\n"
     ]
    }
   ],
   "source": [
    "# Transform and show DataFrame\n",
    "tokenized = tokenizer.transform(sentenceData)\n",
    "tokenized_2 = tokenizer.transform(sentenceData)\n",
    "tokenized.show(truncate=False)"
   ]
  },
  {
   "cell_type": "code",
   "execution_count": 14,
   "metadata": {},
   "outputs": [],
   "source": [
    "# Instantiate Remover\n",
    "remover = StopWordsRemover(inputCol=\"words\", outputCol=\"nostopwords\")"
   ]
  },
  {
   "cell_type": "code",
   "execution_count": 15,
   "metadata": {},
   "outputs": [
    {
     "name": "stdout",
     "output_type": "stream",
     "text": [
      "+---------+--------------------+--------------------+--------------------+--------------------+\n",
      "|  imdb_id|               title|            overview|               words|         nostopwords|\n",
      "+---------+--------------------+--------------------+--------------------+--------------------+\n",
      "|tt6029122|Siccin 3: C√ºrm√º...|After a terrible ...|[after, a, terrib...|[terrible, car, a...|\n",
      "|tt6032170|  American Anarchist|The story of one ...|[the, story, of, ...|[story, one, infa...|\n",
      "|tt3903852|   Vigilante Diaries|The Vigilante Dia...|[the, vigilante, ...|[vigilante, diari...|\n",
      "|tt3991412|The 9th Life of L...|A psychologist wh...|[a, psychologist,...|[psychologist, be...|\n",
      "|tt4102722|  The Night Watchmen|Three inept night...|[three, inept, ni...|[three, inept, ni...|\n",
      "|tt4424228|              Mahana|It is the 1960s. ...|[it, is, the, 196...|[1960s., two, mao...|\n",
      "|tt4520364|              Morgan|A corporate risk-...|[a, corporate, ri...|[corporate, risk-...|\n",
      "|tt4650738|Much Ado About No...|After a night of ...|[after, a, night,...|[night, partying,...|\n",
      "|tt5221584|            Aquarius|Clara, a 65-year-...|[clara,, a, 65-ye...|[clara,, 65-year-...|\n",
      "|tt5722234|       Chasing Great|Chasing Great is ...|[chasing, great, ...|[chasing, great, ...|\n",
      "|tt6001712|       Teli and Toli|This down-to-eart...|[this, down-to-ea...|[down-to-earth, s...|\n",
      "|tt6798722|Ashley Madison: S...|This film details...|[this, film, deta...|[film, details, h...|\n",
      "|tt4551314|             Odd Job|An unemployed fac...|[an, unemployed, ...|[unemployed, fact...|\n",
      "|tt4730986|             Divines|In a ghetto where...|[in, a, ghetto, w...|[ghetto, religion...|\n",
      "|tt4795546|           Nocturama|The new film by B...|[the, new, film, ...|[new, film, bertr...|\n",
      "|tt4895668|        Saint George|In 2011 Portugal ...|[in, 2011, portug...|[2011, portugal, ...|\n",
      "|tt5896146|Batman Unlimited:...|Mr. Freeze turns ...|[mr., freeze, tur...|[mr., freeze, tur...|\n",
      "|tt6020172|         Third Guest|Sci-fi end of the...|[sci-fi, end, of,...|[sci-fi, end, wor...|\n",
      "|tt2923088|The Windmill Mass...|Jennifer, an Aust...|[jennifer,, an, a...|[jennifer,, austr...|\n",
      "|tt6016776|           Team Thor|Discover what Tho...|[discover, what, ...|[discover, thor, ...|\n",
      "+---------+--------------------+--------------------+--------------------+--------------------+\n",
      "only showing top 20 rows\n",
      "\n"
     ]
    }
   ],
   "source": [
    "# Transform and show data\n",
    "tokenized = remover.transform(tokenized)\n",
    "tokenized_2 = remover.transform(tokenized_2)\n",
    "tokenized.show(truncate=True)"
   ]
  },
  {
   "cell_type": "code",
   "execution_count": 16,
   "metadata": {},
   "outputs": [
    {
     "name": "stdout",
     "output_type": "stream",
     "text": [
      "+---------+--------------------+--------------------+--------------------+--------------------+\n",
      "|  imdb_id|               title|            overview|               words|         nostopwords|\n",
      "+---------+--------------------+--------------------+--------------------+--------------------+\n",
      "|tt6029122|Siccin 3: C√ºrm√º...|After a terrible ...|[after, a, terrib...|[terrible, car, a...|\n",
      "|tt6032170|  American Anarchist|The story of one ...|[the, story, of, ...|[story, one, infa...|\n",
      "|tt3903852|   Vigilante Diaries|The Vigilante Dia...|[the, vigilante, ...|[vigilante, diari...|\n",
      "|tt3991412|The 9th Life of L...|A psychologist wh...|[a, psychologist,...|[psychologist, be...|\n",
      "|tt4102722|  The Night Watchmen|Three inept night...|[three, inept, ni...|[three, inept, ni...|\n",
      "|tt4424228|              Mahana|It is the 1960s. ...|[it, is, the, 196...|[1960s., two, mao...|\n",
      "|tt4520364|              Morgan|A corporate risk-...|[a, corporate, ri...|[corporate, risk-...|\n",
      "|tt4650738|Much Ado About No...|After a night of ...|[after, a, night,...|[night, partying,...|\n",
      "|tt5221584|            Aquarius|Clara, a 65-year-...|[clara,, a, 65-ye...|[clara,, 65-year-...|\n",
      "|tt5722234|       Chasing Great|Chasing Great is ...|[chasing, great, ...|[chasing, great, ...|\n",
      "|tt6001712|       Teli and Toli|This down-to-eart...|[this, down-to-ea...|[down-to-earth, s...|\n",
      "|tt6798722|Ashley Madison: S...|This film details...|[this, film, deta...|[film, details, h...|\n",
      "|tt4551314|             Odd Job|An unemployed fac...|[an, unemployed, ...|[unemployed, fact...|\n",
      "|tt4730986|             Divines|In a ghetto where...|[in, a, ghetto, w...|[ghetto, religion...|\n",
      "|tt4795546|           Nocturama|The new film by B...|[the, new, film, ...|[new, film, bertr...|\n",
      "|tt4895668|        Saint George|In 2011 Portugal ...|[in, 2011, portug...|[2011, portugal, ...|\n",
      "|tt5896146|Batman Unlimited:...|Mr. Freeze turns ...|[mr., freeze, tur...|[mr., freeze, tur...|\n",
      "|tt6020172|         Third Guest|Sci-fi end of the...|[sci-fi, end, of,...|[sci-fi, end, wor...|\n",
      "|tt2923088|The Windmill Mass...|Jennifer, an Aust...|[jennifer,, an, a...|[jennifer,, austr...|\n",
      "|tt6016776|           Team Thor|Discover what Tho...|[discover, what, ...|[discover, thor, ...|\n",
      "+---------+--------------------+--------------------+--------------------+--------------------+\n",
      "only showing top 20 rows\n",
      "\n"
     ]
    }
   ],
   "source": [
    "tokenized_2.show(truncate=True)"
   ]
  },
  {
   "cell_type": "markdown",
   "metadata": {},
   "source": [
    "# Starting Spacy Similarity code"
   ]
  },
  {
   "cell_type": "code",
   "execution_count": 17,
   "metadata": {},
   "outputs": [],
   "source": [
    "# Load English tokenizer, tagger, parser, NER and word vectors\n",
    "#MAKE SURE THIS IS LARGE LIBRARY\n",
    "\n",
    "nlp = spacy.load(\"en_core_web_lg\")\n",
    "\n"
   ]
  },
  {
   "cell_type": "markdown",
   "metadata": {},
   "source": [
    "## adding columns for similarities"
   ]
  },
  {
   "cell_type": "code",
   "execution_count": 18,
   "metadata": {},
   "outputs": [],
   "source": [
    "from pyspark.sql.functions import lit"
   ]
  },
  {
   "cell_type": "code",
   "execution_count": 19,
   "metadata": {},
   "outputs": [
    {
     "name": "stdout",
     "output_type": "stream",
     "text": [
      "+---------+--------------------+--------------------+--------------------+--------------------+\n",
      "|  imdb_id|               title|            overview|               words|         nostopwords|\n",
      "+---------+--------------------+--------------------+--------------------+--------------------+\n",
      "|tt6029122|Siccin 3: C√ºrm√º...|After a terrible ...|[after, a, terrib...|[terrible, car, a...|\n",
      "|tt6032170|  American Anarchist|The story of one ...|[the, story, of, ...|[story, one, infa...|\n",
      "|tt3903852|   Vigilante Diaries|The Vigilante Dia...|[the, vigilante, ...|[vigilante, diari...|\n",
      "|tt3991412|The 9th Life of L...|A psychologist wh...|[a, psychologist,...|[psychologist, be...|\n",
      "|tt4102722|  The Night Watchmen|Three inept night...|[three, inept, ni...|[three, inept, ni...|\n",
      "|tt4424228|              Mahana|It is the 1960s. ...|[it, is, the, 196...|[1960s., two, mao...|\n",
      "|tt4520364|              Morgan|A corporate risk-...|[a, corporate, ri...|[corporate, risk-...|\n",
      "|tt4650738|Much Ado About No...|After a night of ...|[after, a, night,...|[night, partying,...|\n",
      "|tt5221584|            Aquarius|Clara, a 65-year-...|[clara,, a, 65-ye...|[clara,, 65-year-...|\n",
      "|tt5722234|       Chasing Great|Chasing Great is ...|[chasing, great, ...|[chasing, great, ...|\n",
      "|tt6001712|       Teli and Toli|This down-to-eart...|[this, down-to-ea...|[down-to-earth, s...|\n",
      "|tt6798722|Ashley Madison: S...|This film details...|[this, film, deta...|[film, details, h...|\n",
      "|tt4551314|             Odd Job|An unemployed fac...|[an, unemployed, ...|[unemployed, fact...|\n",
      "|tt4730986|             Divines|In a ghetto where...|[in, a, ghetto, w...|[ghetto, religion...|\n",
      "|tt4795546|           Nocturama|The new film by B...|[the, new, film, ...|[new, film, bertr...|\n",
      "|tt4895668|        Saint George|In 2011 Portugal ...|[in, 2011, portug...|[2011, portugal, ...|\n",
      "|tt5896146|Batman Unlimited:...|Mr. Freeze turns ...|[mr., freeze, tur...|[mr., freeze, tur...|\n",
      "|tt6020172|         Third Guest|Sci-fi end of the...|[sci-fi, end, of,...|[sci-fi, end, wor...|\n",
      "|tt2923088|The Windmill Mass...|Jennifer, an Aust...|[jennifer,, an, a...|[jennifer,, austr...|\n",
      "|tt6016776|           Team Thor|Discover what Tho...|[discover, what, ...|[discover, thor, ...|\n",
      "+---------+--------------------+--------------------+--------------------+--------------------+\n",
      "only showing top 20 rows\n",
      "\n"
     ]
    }
   ],
   "source": [
    "tokenized.show()"
   ]
  },
  {
   "cell_type": "code",
   "execution_count": 20,
   "metadata": {},
   "outputs": [
    {
     "name": "stdout",
     "output_type": "stream",
     "text": [
      "+---------+--------------------+--------------------+--------------------+--------------------+\n",
      "|  imdb_id|               title|            overview|               words|         nostopwords|\n",
      "+---------+--------------------+--------------------+--------------------+--------------------+\n",
      "|tt6029122|Siccin 3: C√ºrm√º...|After a terrible ...|[after, a, terrib...|[terrible, car, a...|\n",
      "|tt6032170|  American Anarchist|The story of one ...|[the, story, of, ...|[story, one, infa...|\n",
      "|tt3903852|   Vigilante Diaries|The Vigilante Dia...|[the, vigilante, ...|[vigilante, diari...|\n",
      "|tt3991412|The 9th Life of L...|A psychologist wh...|[a, psychologist,...|[psychologist, be...|\n",
      "|tt4102722|  The Night Watchmen|Three inept night...|[three, inept, ni...|[three, inept, ni...|\n",
      "|tt4424228|              Mahana|It is the 1960s. ...|[it, is, the, 196...|[1960s., two, mao...|\n",
      "|tt4520364|              Morgan|A corporate risk-...|[a, corporate, ri...|[corporate, risk-...|\n",
      "|tt4650738|Much Ado About No...|After a night of ...|[after, a, night,...|[night, partying,...|\n",
      "|tt5221584|            Aquarius|Clara, a 65-year-...|[clara,, a, 65-ye...|[clara,, 65-year-...|\n",
      "|tt5722234|       Chasing Great|Chasing Great is ...|[chasing, great, ...|[chasing, great, ...|\n",
      "|tt6001712|       Teli and Toli|This down-to-eart...|[this, down-to-ea...|[down-to-earth, s...|\n",
      "|tt6798722|Ashley Madison: S...|This film details...|[this, film, deta...|[film, details, h...|\n",
      "|tt4551314|             Odd Job|An unemployed fac...|[an, unemployed, ...|[unemployed, fact...|\n",
      "|tt4730986|             Divines|In a ghetto where...|[in, a, ghetto, w...|[ghetto, religion...|\n",
      "|tt4795546|           Nocturama|The new film by B...|[the, new, film, ...|[new, film, bertr...|\n",
      "|tt4895668|        Saint George|In 2011 Portugal ...|[in, 2011, portug...|[2011, portugal, ...|\n",
      "|tt5896146|Batman Unlimited:...|Mr. Freeze turns ...|[mr., freeze, tur...|[mr., freeze, tur...|\n",
      "|tt6020172|         Third Guest|Sci-fi end of the...|[sci-fi, end, of,...|[sci-fi, end, wor...|\n",
      "|tt2923088|The Windmill Mass...|Jennifer, an Aust...|[jennifer,, an, a...|[jennifer,, austr...|\n",
      "|tt6016776|           Team Thor|Discover what Tho...|[discover, what, ...|[discover, thor, ...|\n",
      "+---------+--------------------+--------------------+--------------------+--------------------+\n",
      "only showing top 20 rows\n",
      "\n"
     ]
    }
   ],
   "source": [
    "tokenized_2.show()"
   ]
  },
  {
   "cell_type": "code",
   "execution_count": 21,
   "metadata": {},
   "outputs": [
    {
     "ename": "Py4JJavaError",
     "evalue": "An error occurred while calling o111.collectToPython.\n: org.apache.spark.SparkException: Job aborted due to stage failure: Task 0 in stage 6.0 failed 1 times, most recent failure: Lost task 0.0 in stage 6.0 (TID 6, localhost, executor driver): TaskResultLost (result lost from block manager)\nDriver stacktrace:\n\tat org.apache.spark.scheduler.DAGScheduler.org$apache$spark$scheduler$DAGScheduler$$failJobAndIndependentStages(DAGScheduler.scala:1889)\n\tat org.apache.spark.scheduler.DAGScheduler$$anonfun$abortStage$1.apply(DAGScheduler.scala:1877)\n\tat org.apache.spark.scheduler.DAGScheduler$$anonfun$abortStage$1.apply(DAGScheduler.scala:1876)\n\tat scala.collection.mutable.ResizableArray$class.foreach(ResizableArray.scala:59)\n\tat scala.collection.mutable.ArrayBuffer.foreach(ArrayBuffer.scala:48)\n\tat org.apache.spark.scheduler.DAGScheduler.abortStage(DAGScheduler.scala:1876)\n\tat org.apache.spark.scheduler.DAGScheduler$$anonfun$handleTaskSetFailed$1.apply(DAGScheduler.scala:926)\n\tat org.apache.spark.scheduler.DAGScheduler$$anonfun$handleTaskSetFailed$1.apply(DAGScheduler.scala:926)\n\tat scala.Option.foreach(Option.scala:257)\n\tat org.apache.spark.scheduler.DAGScheduler.handleTaskSetFailed(DAGScheduler.scala:926)\n\tat org.apache.spark.scheduler.DAGSchedulerEventProcessLoop.doOnReceive(DAGScheduler.scala:2110)\n\tat org.apache.spark.scheduler.DAGSchedulerEventProcessLoop.onReceive(DAGScheduler.scala:2059)\n\tat org.apache.spark.scheduler.DAGSchedulerEventProcessLoop.onReceive(DAGScheduler.scala:2048)\n\tat org.apache.spark.util.EventLoop$$anon$1.run(EventLoop.scala:49)\n\tat org.apache.spark.scheduler.DAGScheduler.runJob(DAGScheduler.scala:737)\n\tat org.apache.spark.SparkContext.runJob(SparkContext.scala:2061)\n\tat org.apache.spark.SparkContext.runJob(SparkContext.scala:2082)\n\tat org.apache.spark.SparkContext.runJob(SparkContext.scala:2101)\n\tat org.apache.spark.SparkContext.runJob(SparkContext.scala:2126)\n\tat org.apache.spark.rdd.RDD$$anonfun$collect$1.apply(RDD.scala:945)\n\tat org.apache.spark.rdd.RDDOperationScope$.withScope(RDDOperationScope.scala:151)\n\tat org.apache.spark.rdd.RDDOperationScope$.withScope(RDDOperationScope.scala:112)\n\tat org.apache.spark.rdd.RDD.withScope(RDD.scala:363)\n\tat org.apache.spark.rdd.RDD.collect(RDD.scala:944)\n\tat org.apache.spark.sql.execution.SparkPlan.executeCollect(SparkPlan.scala:299)\n\tat org.apache.spark.sql.Dataset$$anonfun$collectToPython$1.apply(Dataset.scala:3257)\n\tat org.apache.spark.sql.Dataset$$anonfun$collectToPython$1.apply(Dataset.scala:3254)\n\tat org.apache.spark.sql.Dataset$$anonfun$53.apply(Dataset.scala:3364)\n\tat org.apache.spark.sql.execution.SQLExecution$$anonfun$withNewExecutionId$1.apply(SQLExecution.scala:78)\n\tat org.apache.spark.sql.execution.SQLExecution$.withSQLConfPropagated(SQLExecution.scala:125)\n\tat org.apache.spark.sql.execution.SQLExecution$.withNewExecutionId(SQLExecution.scala:73)\n\tat org.apache.spark.sql.Dataset.withAction(Dataset.scala:3363)\n\tat org.apache.spark.sql.Dataset.collectToPython(Dataset.scala:3254)\n\tat sun.reflect.NativeMethodAccessorImpl.invoke0(Native Method)\n\tat sun.reflect.NativeMethodAccessorImpl.invoke(NativeMethodAccessorImpl.java:62)\n\tat sun.reflect.DelegatingMethodAccessorImpl.invoke(DelegatingMethodAccessorImpl.java:43)\n\tat java.lang.reflect.Method.invoke(Method.java:483)\n\tat py4j.reflection.MethodInvoker.invoke(MethodInvoker.java:244)\n\tat py4j.reflection.ReflectionEngine.invoke(ReflectionEngine.java:357)\n\tat py4j.Gateway.invoke(Gateway.java:282)\n\tat py4j.commands.AbstractCommand.invokeMethod(AbstractCommand.java:132)\n\tat py4j.commands.CallCommand.execute(CallCommand.java:79)\n\tat py4j.GatewayConnection.run(GatewayConnection.java:238)\n\tat java.lang.Thread.run(Thread.java:745)\n",
     "output_type": "error",
     "traceback": [
      "\u001b[0;31m---------------------------------------------------------------------------\u001b[0m",
      "\u001b[0;31mPy4JJavaError\u001b[0m                             Traceback (most recent call last)",
      "\u001b[0;32m<ipython-input-21-98000c4d3720>\u001b[0m in \u001b[0;36m<module>\u001b[0;34m\u001b[0m\n\u001b[1;32m      2\u001b[0m \u001b[0mll\u001b[0m \u001b[0;34m=\u001b[0m \u001b[0;34m[\u001b[0m\u001b[0;34m]\u001b[0m\u001b[0;34m\u001b[0m\u001b[0;34m\u001b[0m\u001b[0m\n\u001b[1;32m      3\u001b[0m \u001b[0mresult\u001b[0m \u001b[0;34m=\u001b[0m \u001b[0;34m[\u001b[0m\u001b[0;34m]\u001b[0m\u001b[0;34m\u001b[0m\u001b[0;34m\u001b[0m\u001b[0m\n\u001b[0;32m----> 4\u001b[0;31m \u001b[0;32mfor\u001b[0m \u001b[0mm\u001b[0m \u001b[0;32min\u001b[0m \u001b[0mtokenized_2\u001b[0m\u001b[0;34m.\u001b[0m\u001b[0mcollect\u001b[0m\u001b[0;34m(\u001b[0m\u001b[0;34m)\u001b[0m\u001b[0;34m:\u001b[0m\u001b[0;34m\u001b[0m\u001b[0;34m\u001b[0m\u001b[0m\n\u001b[0m\u001b[1;32m      5\u001b[0m     \u001b[0mmain_row\u001b[0m \u001b[0;34m=\u001b[0m \u001b[0mstr\u001b[0m\u001b[0;34m(\u001b[0m\u001b[0mm\u001b[0m\u001b[0;34m.\u001b[0m\u001b[0mnostopwords\u001b[0m\u001b[0;34m)\u001b[0m\u001b[0;34m\u001b[0m\u001b[0;34m\u001b[0m\u001b[0m\n\u001b[1;32m      6\u001b[0m     \u001b[0mdocA\u001b[0m \u001b[0;34m=\u001b[0m \u001b[0mnlp\u001b[0m\u001b[0;34m(\u001b[0m\u001b[0mmain_row\u001b[0m\u001b[0;34m)\u001b[0m\u001b[0;34m\u001b[0m\u001b[0;34m\u001b[0m\u001b[0m\n",
      "\u001b[0;32m~/anaconda3/lib/python3.7/site-packages/pyspark/sql/dataframe.py\u001b[0m in \u001b[0;36mcollect\u001b[0;34m(self)\u001b[0m\n\u001b[1;32m    531\u001b[0m         \"\"\"\n\u001b[1;32m    532\u001b[0m         \u001b[0;32mwith\u001b[0m \u001b[0mSCCallSiteSync\u001b[0m\u001b[0;34m(\u001b[0m\u001b[0mself\u001b[0m\u001b[0;34m.\u001b[0m\u001b[0m_sc\u001b[0m\u001b[0;34m)\u001b[0m \u001b[0;32mas\u001b[0m \u001b[0mcss\u001b[0m\u001b[0;34m:\u001b[0m\u001b[0;34m\u001b[0m\u001b[0;34m\u001b[0m\u001b[0m\n\u001b[0;32m--> 533\u001b[0;31m             \u001b[0msock_info\u001b[0m \u001b[0;34m=\u001b[0m \u001b[0mself\u001b[0m\u001b[0;34m.\u001b[0m\u001b[0m_jdf\u001b[0m\u001b[0;34m.\u001b[0m\u001b[0mcollectToPython\u001b[0m\u001b[0;34m(\u001b[0m\u001b[0;34m)\u001b[0m\u001b[0;34m\u001b[0m\u001b[0;34m\u001b[0m\u001b[0m\n\u001b[0m\u001b[1;32m    534\u001b[0m         \u001b[0;32mreturn\u001b[0m \u001b[0mlist\u001b[0m\u001b[0;34m(\u001b[0m\u001b[0m_load_from_socket\u001b[0m\u001b[0;34m(\u001b[0m\u001b[0msock_info\u001b[0m\u001b[0;34m,\u001b[0m \u001b[0mBatchedSerializer\u001b[0m\u001b[0;34m(\u001b[0m\u001b[0mPickleSerializer\u001b[0m\u001b[0;34m(\u001b[0m\u001b[0;34m)\u001b[0m\u001b[0;34m)\u001b[0m\u001b[0;34m)\u001b[0m\u001b[0;34m)\u001b[0m\u001b[0;34m\u001b[0m\u001b[0;34m\u001b[0m\u001b[0m\n\u001b[1;32m    535\u001b[0m \u001b[0;34m\u001b[0m\u001b[0m\n",
      "\u001b[0;32m~/anaconda3/lib/python3.7/site-packages/py4j/java_gateway.py\u001b[0m in \u001b[0;36m__call__\u001b[0;34m(self, *args)\u001b[0m\n\u001b[1;32m   1255\u001b[0m         \u001b[0manswer\u001b[0m \u001b[0;34m=\u001b[0m \u001b[0mself\u001b[0m\u001b[0;34m.\u001b[0m\u001b[0mgateway_client\u001b[0m\u001b[0;34m.\u001b[0m\u001b[0msend_command\u001b[0m\u001b[0;34m(\u001b[0m\u001b[0mcommand\u001b[0m\u001b[0;34m)\u001b[0m\u001b[0;34m\u001b[0m\u001b[0;34m\u001b[0m\u001b[0m\n\u001b[1;32m   1256\u001b[0m         return_value = get_return_value(\n\u001b[0;32m-> 1257\u001b[0;31m             answer, self.gateway_client, self.target_id, self.name)\n\u001b[0m\u001b[1;32m   1258\u001b[0m \u001b[0;34m\u001b[0m\u001b[0m\n\u001b[1;32m   1259\u001b[0m         \u001b[0;32mfor\u001b[0m \u001b[0mtemp_arg\u001b[0m \u001b[0;32min\u001b[0m \u001b[0mtemp_args\u001b[0m\u001b[0;34m:\u001b[0m\u001b[0;34m\u001b[0m\u001b[0;34m\u001b[0m\u001b[0m\n",
      "\u001b[0;32m~/anaconda3/lib/python3.7/site-packages/pyspark/sql/utils.py\u001b[0m in \u001b[0;36mdeco\u001b[0;34m(*a, **kw)\u001b[0m\n\u001b[1;32m     61\u001b[0m     \u001b[0;32mdef\u001b[0m \u001b[0mdeco\u001b[0m\u001b[0;34m(\u001b[0m\u001b[0;34m*\u001b[0m\u001b[0ma\u001b[0m\u001b[0;34m,\u001b[0m \u001b[0;34m**\u001b[0m\u001b[0mkw\u001b[0m\u001b[0;34m)\u001b[0m\u001b[0;34m:\u001b[0m\u001b[0;34m\u001b[0m\u001b[0;34m\u001b[0m\u001b[0m\n\u001b[1;32m     62\u001b[0m         \u001b[0;32mtry\u001b[0m\u001b[0;34m:\u001b[0m\u001b[0;34m\u001b[0m\u001b[0;34m\u001b[0m\u001b[0m\n\u001b[0;32m---> 63\u001b[0;31m             \u001b[0;32mreturn\u001b[0m \u001b[0mf\u001b[0m\u001b[0;34m(\u001b[0m\u001b[0;34m*\u001b[0m\u001b[0ma\u001b[0m\u001b[0;34m,\u001b[0m \u001b[0;34m**\u001b[0m\u001b[0mkw\u001b[0m\u001b[0;34m)\u001b[0m\u001b[0;34m\u001b[0m\u001b[0;34m\u001b[0m\u001b[0m\n\u001b[0m\u001b[1;32m     64\u001b[0m         \u001b[0;32mexcept\u001b[0m \u001b[0mpy4j\u001b[0m\u001b[0;34m.\u001b[0m\u001b[0mprotocol\u001b[0m\u001b[0;34m.\u001b[0m\u001b[0mPy4JJavaError\u001b[0m \u001b[0;32mas\u001b[0m \u001b[0me\u001b[0m\u001b[0;34m:\u001b[0m\u001b[0;34m\u001b[0m\u001b[0;34m\u001b[0m\u001b[0m\n\u001b[1;32m     65\u001b[0m             \u001b[0ms\u001b[0m \u001b[0;34m=\u001b[0m \u001b[0me\u001b[0m\u001b[0;34m.\u001b[0m\u001b[0mjava_exception\u001b[0m\u001b[0;34m.\u001b[0m\u001b[0mtoString\u001b[0m\u001b[0;34m(\u001b[0m\u001b[0;34m)\u001b[0m\u001b[0;34m\u001b[0m\u001b[0;34m\u001b[0m\u001b[0m\n",
      "\u001b[0;32m~/anaconda3/lib/python3.7/site-packages/py4j/protocol.py\u001b[0m in \u001b[0;36mget_return_value\u001b[0;34m(answer, gateway_client, target_id, name)\u001b[0m\n\u001b[1;32m    326\u001b[0m                 raise Py4JJavaError(\n\u001b[1;32m    327\u001b[0m                     \u001b[0;34m\"An error occurred while calling {0}{1}{2}.\\n\"\u001b[0m\u001b[0;34m.\u001b[0m\u001b[0;34m\u001b[0m\u001b[0;34m\u001b[0m\u001b[0m\n\u001b[0;32m--> 328\u001b[0;31m                     format(target_id, \".\", name), value)\n\u001b[0m\u001b[1;32m    329\u001b[0m             \u001b[0;32melse\u001b[0m\u001b[0;34m:\u001b[0m\u001b[0;34m\u001b[0m\u001b[0;34m\u001b[0m\u001b[0m\n\u001b[1;32m    330\u001b[0m                 raise Py4JError(\n",
      "\u001b[0;31mPy4JJavaError\u001b[0m: An error occurred while calling o111.collectToPython.\n: org.apache.spark.SparkException: Job aborted due to stage failure: Task 0 in stage 6.0 failed 1 times, most recent failure: Lost task 0.0 in stage 6.0 (TID 6, localhost, executor driver): TaskResultLost (result lost from block manager)\nDriver stacktrace:\n\tat org.apache.spark.scheduler.DAGScheduler.org$apache$spark$scheduler$DAGScheduler$$failJobAndIndependentStages(DAGScheduler.scala:1889)\n\tat org.apache.spark.scheduler.DAGScheduler$$anonfun$abortStage$1.apply(DAGScheduler.scala:1877)\n\tat org.apache.spark.scheduler.DAGScheduler$$anonfun$abortStage$1.apply(DAGScheduler.scala:1876)\n\tat scala.collection.mutable.ResizableArray$class.foreach(ResizableArray.scala:59)\n\tat scala.collection.mutable.ArrayBuffer.foreach(ArrayBuffer.scala:48)\n\tat org.apache.spark.scheduler.DAGScheduler.abortStage(DAGScheduler.scala:1876)\n\tat org.apache.spark.scheduler.DAGScheduler$$anonfun$handleTaskSetFailed$1.apply(DAGScheduler.scala:926)\n\tat org.apache.spark.scheduler.DAGScheduler$$anonfun$handleTaskSetFailed$1.apply(DAGScheduler.scala:926)\n\tat scala.Option.foreach(Option.scala:257)\n\tat org.apache.spark.scheduler.DAGScheduler.handleTaskSetFailed(DAGScheduler.scala:926)\n\tat org.apache.spark.scheduler.DAGSchedulerEventProcessLoop.doOnReceive(DAGScheduler.scala:2110)\n\tat org.apache.spark.scheduler.DAGSchedulerEventProcessLoop.onReceive(DAGScheduler.scala:2059)\n\tat org.apache.spark.scheduler.DAGSchedulerEventProcessLoop.onReceive(DAGScheduler.scala:2048)\n\tat org.apache.spark.util.EventLoop$$anon$1.run(EventLoop.scala:49)\n\tat org.apache.spark.scheduler.DAGScheduler.runJob(DAGScheduler.scala:737)\n\tat org.apache.spark.SparkContext.runJob(SparkContext.scala:2061)\n\tat org.apache.spark.SparkContext.runJob(SparkContext.scala:2082)\n\tat org.apache.spark.SparkContext.runJob(SparkContext.scala:2101)\n\tat org.apache.spark.SparkContext.runJob(SparkContext.scala:2126)\n\tat org.apache.spark.rdd.RDD$$anonfun$collect$1.apply(RDD.scala:945)\n\tat org.apache.spark.rdd.RDDOperationScope$.withScope(RDDOperationScope.scala:151)\n\tat org.apache.spark.rdd.RDDOperationScope$.withScope(RDDOperationScope.scala:112)\n\tat org.apache.spark.rdd.RDD.withScope(RDD.scala:363)\n\tat org.apache.spark.rdd.RDD.collect(RDD.scala:944)\n\tat org.apache.spark.sql.execution.SparkPlan.executeCollect(SparkPlan.scala:299)\n\tat org.apache.spark.sql.Dataset$$anonfun$collectToPython$1.apply(Dataset.scala:3257)\n\tat org.apache.spark.sql.Dataset$$anonfun$collectToPython$1.apply(Dataset.scala:3254)\n\tat org.apache.spark.sql.Dataset$$anonfun$53.apply(Dataset.scala:3364)\n\tat org.apache.spark.sql.execution.SQLExecution$$anonfun$withNewExecutionId$1.apply(SQLExecution.scala:78)\n\tat org.apache.spark.sql.execution.SQLExecution$.withSQLConfPropagated(SQLExecution.scala:125)\n\tat org.apache.spark.sql.execution.SQLExecution$.withNewExecutionId(SQLExecution.scala:73)\n\tat org.apache.spark.sql.Dataset.withAction(Dataset.scala:3363)\n\tat org.apache.spark.sql.Dataset.collectToPython(Dataset.scala:3254)\n\tat sun.reflect.NativeMethodAccessorImpl.invoke0(Native Method)\n\tat sun.reflect.NativeMethodAccessorImpl.invoke(NativeMethodAccessorImpl.java:62)\n\tat sun.reflect.DelegatingMethodAccessorImpl.invoke(DelegatingMethodAccessorImpl.java:43)\n\tat java.lang.reflect.Method.invoke(Method.java:483)\n\tat py4j.reflection.MethodInvoker.invoke(MethodInvoker.java:244)\n\tat py4j.reflection.ReflectionEngine.invoke(ReflectionEngine.java:357)\n\tat py4j.Gateway.invoke(Gateway.java:282)\n\tat py4j.commands.AbstractCommand.invokeMethod(AbstractCommand.java:132)\n\tat py4j.commands.CallCommand.execute(CallCommand.java:79)\n\tat py4j.GatewayConnection.run(GatewayConnection.java:238)\n\tat java.lang.Thread.run(Thread.java:745)\n"
     ]
    }
   ],
   "source": [
    "#Code to compare each movie to the all movie and recommend top 3\n",
    "ll = []\n",
    "result = []\n",
    "for m in tokenized_2.collect():\n",
    "    main_row = str(m.nostopwords)\n",
    "    docA = nlp(main_row)\n",
    "    for f in tokenized.collect():\n",
    "\n",
    "        overview_row = str(f.nostopwords)\n",
    "        #print(overview_row)\n",
    "        doc_row = nlp(overview_row)\n",
    "\n",
    "        compare = docA.similarity(doc_row)\n",
    "        ll.append({'imdb_id': f.imdb_id,'Title': f.title, 'Similarity': compare })\n",
    "# sample = tokenized.withColumn('similarity', lit(str(ll)))\n",
    "# ll   \n",
    "    df_simi = pd.DataFrame(ll)\n",
    "    df_simi.sort_values(by=['Similarity'], inplace=True, ascending=False)\n",
    "    df_simi.reset_index(drop=True)\n",
    "    top3_df = df_simi.iloc[1:4]\n",
    "    result.append({'imdb_id': m.imdb_id,'Title': m.title, 'Recom1': top3_df.iloc[0,2],\n",
    "                  'Recom2': top3_df.iloc[1,2], 'Recom3': top3_df.iloc[2,2]})\n",
    "    print(result)\n",
    "#     top3_df"
   ]
  },
  {
   "cell_type": "markdown",
   "metadata": {},
   "source": [
    "# Importing recommandation to csv"
   ]
  },
  {
   "cell_type": "code",
   "execution_count": null,
   "metadata": {},
   "outputs": [],
   "source": [
    "df_recomm = pd.DataFrame(result)\n",
    "df_recomm.count()"
   ]
  },
  {
   "cell_type": "code",
   "execution_count": null,
   "metadata": {},
   "outputs": [],
   "source": [
    "#Use this code for the first time to create the csv file\n",
    "# df_recomm.to_csv('/Users/ericH/Desktop/moviesDashboard/raw/recom.csv', index = None, header=True)"
   ]
  },
  {
   "cell_type": "code",
   "execution_count": null,
   "metadata": {},
   "outputs": [],
   "source": [
    "#Use this code to add to csv file\n",
    "# df_recomm.to_csv('/Users/ericH/Desktop/moviesDashboard/raw/recom.csv', mode='a', index = None, header=False)"
   ]
  },
  {
   "cell_type": "code",
   "execution_count": null,
   "metadata": {},
   "outputs": [],
   "source": [
    "file_path = '/Users/ericH/Desktop/moviesDashboard/raw/recom.csv'\n",
    "with open(file_path, mode='a', newline='\\n') as f:\n",
    "            df_recomm.to_csv(f, index = None, header=False)"
   ]
  },
  {
   "cell_type": "code",
   "execution_count": null,
   "metadata": {},
   "outputs": [],
   "source": []
  }
 ],
 "metadata": {
  "kernelspec": {
   "display_name": "Python 3",
   "language": "python",
   "name": "python3"
  },
  "language_info": {
   "codemirror_mode": {
    "name": "ipython",
    "version": 3
   },
   "file_extension": ".py",
   "mimetype": "text/x-python",
   "name": "python",
   "nbconvert_exporter": "python",
   "pygments_lexer": "ipython3",
   "version": "3.7.1"
  }
 },
 "nbformat": 4,
 "nbformat_minor": 2
}
